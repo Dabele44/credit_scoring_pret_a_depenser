{
 "cells": [
  {
   "cell_type": "code",
   "execution_count": 27,
   "metadata": {},
   "outputs": [],
   "source": [
    "import mlflow\n",
    "from PIL import Image\n",
    "import pandas as pd\n",
    "import numpy as np\n",
    "import matplotlib.pyplot as plt\n",
    "import seaborn as sns\n",
    "import time\n",
    "\n",
    "# File system manangement\n",
    "import os\n",
    "\n",
    "# Suppress warnings \n",
    "import warnings\n",
    "warnings.filterwarnings('ignore')\n",
    "\n",
    "# sklearn preprocessing for dealing with categorical variables\n",
    "from sklearn.preprocessing import LabelEncoder\n",
    "from sklearn.impute import SimpleImputer\n",
    "from sklearn.dummy import DummyClassifier\n",
    "from sklearn.metrics import classification_report, accuracy_score\n",
    "from sklearn.metrics import roc_curve\n",
    "from sklearn.metrics import auc\n",
    "from sklearn.metrics import confusion_matrix\n",
    "from sklearn.linear_model import LogisticRegression\n",
    "from sklearn.metrics import make_scorer, roc_auc_score, f1_score, fbeta_score, recall_score\n",
    "from sklearn.model_selection import GridSearchCV\n",
    "from sklearn.model_selection import train_test_split, RandomizedSearchCV\n",
    "from sklearn.ensemble import RandomForestClassifier\n",
    "\n",
    "from imblearn.pipeline import Pipeline\n",
    "from imblearn.over_sampling import SMOTE\n",
    "\n",
    "import lightgbm as lgb\n",
    "\n",
    "from mlflow.models import infer_signature\n",
    "\n",
    "import shap\n",
    "# Memory management\n",
    "import gc "
   ]
  },
  {
   "cell_type": "markdown",
   "metadata": {},
   "source": [
    "Pour cette partie, je me suis inspirée de ce NB : https://www.kaggle.com/code/willkoehrsen/introduction-to-feature-selection"
   ]
  },
  {
   "cell_type": "markdown",
   "metadata": {},
   "source": [
    "# 6 - Feature Selection\n",
    "-------------"
   ]
  },
  {
   "cell_type": "markdown",
   "metadata": {},
   "source": [
    "Nous avons à ce stade plus de 1300 features, ce qui est beaucoup trop. Les features non pertinentes, les features fortement corrélées et les valeurs manquantes peuvent empêcher le modèle d'apprendre et diminuer les performances de généralisation sur les données de test. C'est pourquoi nous procédons à une sélection des features afin de ne conserver que les variables les plus utiles.\n",
    "\n",
    "Nous commencerons la sélection des features en nous concentrant sur les variables colinéaires."
   ]
  },
  {
   "cell_type": "code",
   "execution_count": 28,
   "metadata": {},
   "outputs": [],
   "source": [
    "df_train=pd.read_csv('train_after_fe.csv')\n",
    "df_test=pd.read_csv('test_after_fe.csv')"
   ]
  },
  {
   "cell_type": "code",
   "execution_count": 29,
   "metadata": {},
   "outputs": [
    {
     "data": {
      "text/plain": [
       "((307511, 1329), (48744, 1328))"
      ]
     },
     "execution_count": 29,
     "metadata": {},
     "output_type": "execute_result"
    }
   ],
   "source": [
    "df_train.shape, df_test.shape"
   ]
  },
  {
   "cell_type": "code",
   "execution_count": 30,
   "metadata": {},
   "outputs": [
    {
     "data": {
      "text/plain": [
       "array(['Secondary / secondary special', 'Higher education',\n",
       "       'Incomplete higher', 'Lower secondary', 'Academic degree'],\n",
       "      dtype=object)"
      ]
     },
     "execution_count": 30,
     "metadata": {},
     "output_type": "execute_result"
    }
   ],
   "source": [
    "df_train['NAME_EDUCATION_TYPE'].unique()"
   ]
  },
  {
   "cell_type": "markdown",
   "metadata": {},
   "source": [
    "## 6.1 - Suppression des variables colinéaires"
   ]
  },
  {
   "cell_type": "markdown",
   "metadata": {},
   "source": [
    "Les variables colinéaires sont celles qui sont fortement corrélées entre elles. Elles peuvent diminuer la disponibilité du modèle pour l'apprentissage, diminuer l'interprétabilité du modèle et diminuer les performances de généralisation sur l'ensemble de test. Il est clair que ce sont là trois choses que nous voulons augmenter, et la suppression des variables colinéaires est donc une étape utile. Nous établirons un seuil arbitraire pour la suppression des variables colinéaires, puis nous enlèverons une des paires de variables qui se trouvent au-dessus de ce seuil.\n",
    "\n",
    "Le code ci-dessous identifie les variables fortement corrélées sur la base d'un coefficient de corrélation de Pearson > 0,9."
   ]
  },
  {
   "cell_type": "markdown",
   "metadata": {},
   "source": [
    "### 6.1.1 - Identification des variables corrélées"
   ]
  },
  {
   "cell_type": "markdown",
   "metadata": {},
   "source": [
    "Comme le dataframe est très gros, nous allons faire ce travail sur un échantillon de 1000 individus"
   ]
  },
  {
   "cell_type": "code",
   "execution_count": 31,
   "metadata": {},
   "outputs": [
    {
     "data": {
      "text/plain": [
       "(1000, 1329)"
      ]
     },
     "execution_count": 31,
     "metadata": {},
     "output_type": "execute_result"
    }
   ],
   "source": [
    "df_sample=df_train.sample(1000)\n",
    "df_sample.shape"
   ]
  },
  {
   "cell_type": "code",
   "execution_count": 32,
   "metadata": {},
   "outputs": [
    {
     "data": {
      "text/html": [
       "<div>\n",
       "<style scoped>\n",
       "    .dataframe tbody tr th:only-of-type {\n",
       "        vertical-align: middle;\n",
       "    }\n",
       "\n",
       "    .dataframe tbody tr th {\n",
       "        vertical-align: top;\n",
       "    }\n",
       "\n",
       "    .dataframe thead th {\n",
       "        text-align: right;\n",
       "    }\n",
       "</style>\n",
       "<table border=\"1\" class=\"dataframe\">\n",
       "  <thead>\n",
       "    <tr style=\"text-align: right;\">\n",
       "      <th></th>\n",
       "      <th>SK_ID_CURR</th>\n",
       "      <th>TARGET</th>\n",
       "      <th>CNT_CHILDREN</th>\n",
       "      <th>AMT_INCOME_TOTAL</th>\n",
       "      <th>AMT_CREDIT</th>\n",
       "      <th>AMT_ANNUITY</th>\n",
       "      <th>AMT_GOODS_PRICE</th>\n",
       "      <th>REGION_POPULATION_RELATIVE</th>\n",
       "      <th>DAYS_BIRTH</th>\n",
       "      <th>DAYS_EMPLOYED</th>\n",
       "      <th>...</th>\n",
       "      <th>client_installments_AMT_PAYMENT_min_sum</th>\n",
       "      <th>client_installments_AMT_INSTALMENT_min_sum</th>\n",
       "      <th>client_installments_AMT_PAYMENT_sum_max</th>\n",
       "      <th>client_installments_AMT_INSTALMENT_sum_max</th>\n",
       "      <th>client_installments_AMT_PAYMENT_mean_sum</th>\n",
       "      <th>client_installments_AMT_INSTALMENT_mean_sum</th>\n",
       "      <th>client_installments_AMT_INSTALMENT_max_sum</th>\n",
       "      <th>client_installments_AMT_PAYMENT_max_sum</th>\n",
       "      <th>client_installments_AMT_PAYMENT_sum_sum</th>\n",
       "      <th>client_installments_AMT_INSTALMENT_sum_sum</th>\n",
       "    </tr>\n",
       "  </thead>\n",
       "  <tbody>\n",
       "    <tr>\n",
       "      <th>SK_ID_CURR</th>\n",
       "      <td>1.000000</td>\n",
       "      <td>0.026512</td>\n",
       "      <td>0.027804</td>\n",
       "      <td>0.002194</td>\n",
       "      <td>0.062286</td>\n",
       "      <td>0.078166</td>\n",
       "      <td>0.063725</td>\n",
       "      <td>0.041570</td>\n",
       "      <td>0.019500</td>\n",
       "      <td>0.022662</td>\n",
       "      <td>...</td>\n",
       "      <td>0.026534</td>\n",
       "      <td>0.013872</td>\n",
       "      <td>0.034475</td>\n",
       "      <td>0.039252</td>\n",
       "      <td>0.023913</td>\n",
       "      <td>0.025015</td>\n",
       "      <td>0.019580</td>\n",
       "      <td>0.018982</td>\n",
       "      <td>0.048746</td>\n",
       "      <td>0.046594</td>\n",
       "    </tr>\n",
       "    <tr>\n",
       "      <th>TARGET</th>\n",
       "      <td>0.026512</td>\n",
       "      <td>1.000000</td>\n",
       "      <td>0.065469</td>\n",
       "      <td>0.002581</td>\n",
       "      <td>0.003464</td>\n",
       "      <td>0.013484</td>\n",
       "      <td>0.017590</td>\n",
       "      <td>0.061012</td>\n",
       "      <td>0.048565</td>\n",
       "      <td>0.071879</td>\n",
       "      <td>...</td>\n",
       "      <td>0.013818</td>\n",
       "      <td>0.020960</td>\n",
       "      <td>0.040727</td>\n",
       "      <td>0.043544</td>\n",
       "      <td>0.050715</td>\n",
       "      <td>0.053208</td>\n",
       "      <td>0.099309</td>\n",
       "      <td>0.097997</td>\n",
       "      <td>0.016085</td>\n",
       "      <td>0.016175</td>\n",
       "    </tr>\n",
       "    <tr>\n",
       "      <th>CNT_CHILDREN</th>\n",
       "      <td>0.027804</td>\n",
       "      <td>0.065469</td>\n",
       "      <td>1.000000</td>\n",
       "      <td>0.008540</td>\n",
       "      <td>0.017314</td>\n",
       "      <td>0.011509</td>\n",
       "      <td>0.022087</td>\n",
       "      <td>0.023668</td>\n",
       "      <td>0.346759</td>\n",
       "      <td>0.060849</td>\n",
       "      <td>...</td>\n",
       "      <td>0.051105</td>\n",
       "      <td>0.020432</td>\n",
       "      <td>0.018559</td>\n",
       "      <td>0.015364</td>\n",
       "      <td>0.031854</td>\n",
       "      <td>0.032057</td>\n",
       "      <td>0.005884</td>\n",
       "      <td>0.005890</td>\n",
       "      <td>0.015789</td>\n",
       "      <td>0.015280</td>\n",
       "    </tr>\n",
       "    <tr>\n",
       "      <th>AMT_INCOME_TOTAL</th>\n",
       "      <td>0.002194</td>\n",
       "      <td>0.002581</td>\n",
       "      <td>0.008540</td>\n",
       "      <td>1.000000</td>\n",
       "      <td>0.389673</td>\n",
       "      <td>0.457147</td>\n",
       "      <td>0.402857</td>\n",
       "      <td>0.203316</td>\n",
       "      <td>0.092222</td>\n",
       "      <td>0.000851</td>\n",
       "      <td>...</td>\n",
       "      <td>0.224462</td>\n",
       "      <td>0.217547</td>\n",
       "      <td>0.294669</td>\n",
       "      <td>0.293788</td>\n",
       "      <td>0.266818</td>\n",
       "      <td>0.257633</td>\n",
       "      <td>0.173033</td>\n",
       "      <td>0.173467</td>\n",
       "      <td>0.188712</td>\n",
       "      <td>0.181071</td>\n",
       "    </tr>\n",
       "    <tr>\n",
       "      <th>AMT_CREDIT</th>\n",
       "      <td>0.062286</td>\n",
       "      <td>0.003464</td>\n",
       "      <td>0.017314</td>\n",
       "      <td>0.389673</td>\n",
       "      <td>1.000000</td>\n",
       "      <td>0.781309</td>\n",
       "      <td>0.985193</td>\n",
       "      <td>0.119544</td>\n",
       "      <td>0.067982</td>\n",
       "      <td>0.058059</td>\n",
       "      <td>...</td>\n",
       "      <td>0.092499</td>\n",
       "      <td>0.056832</td>\n",
       "      <td>0.120489</td>\n",
       "      <td>0.093876</td>\n",
       "      <td>0.096595</td>\n",
       "      <td>0.079346</td>\n",
       "      <td>0.056264</td>\n",
       "      <td>0.057933</td>\n",
       "      <td>0.038090</td>\n",
       "      <td>0.030303</td>\n",
       "    </tr>\n",
       "  </tbody>\n",
       "</table>\n",
       "<p>5 rows × 1312 columns</p>\n",
       "</div>"
      ],
      "text/plain": [
       "                  SK_ID_CURR    TARGET  CNT_CHILDREN  AMT_INCOME_TOTAL  \\\n",
       "SK_ID_CURR          1.000000  0.026512      0.027804          0.002194   \n",
       "TARGET              0.026512  1.000000      0.065469          0.002581   \n",
       "CNT_CHILDREN        0.027804  0.065469      1.000000          0.008540   \n",
       "AMT_INCOME_TOTAL    0.002194  0.002581      0.008540          1.000000   \n",
       "AMT_CREDIT          0.062286  0.003464      0.017314          0.389673   \n",
       "\n",
       "                  AMT_CREDIT  AMT_ANNUITY  AMT_GOODS_PRICE  \\\n",
       "SK_ID_CURR          0.062286     0.078166         0.063725   \n",
       "TARGET              0.003464     0.013484         0.017590   \n",
       "CNT_CHILDREN        0.017314     0.011509         0.022087   \n",
       "AMT_INCOME_TOTAL    0.389673     0.457147         0.402857   \n",
       "AMT_CREDIT          1.000000     0.781309         0.985193   \n",
       "\n",
       "                  REGION_POPULATION_RELATIVE  DAYS_BIRTH  DAYS_EMPLOYED  ...  \\\n",
       "SK_ID_CURR                          0.041570    0.019500       0.022662  ...   \n",
       "TARGET                              0.061012    0.048565       0.071879  ...   \n",
       "CNT_CHILDREN                        0.023668    0.346759       0.060849  ...   \n",
       "AMT_INCOME_TOTAL                    0.203316    0.092222       0.000851  ...   \n",
       "AMT_CREDIT                          0.119544    0.067982       0.058059  ...   \n",
       "\n",
       "                  client_installments_AMT_PAYMENT_min_sum  \\\n",
       "SK_ID_CURR                                       0.026534   \n",
       "TARGET                                           0.013818   \n",
       "CNT_CHILDREN                                     0.051105   \n",
       "AMT_INCOME_TOTAL                                 0.224462   \n",
       "AMT_CREDIT                                       0.092499   \n",
       "\n",
       "                  client_installments_AMT_INSTALMENT_min_sum  \\\n",
       "SK_ID_CURR                                          0.013872   \n",
       "TARGET                                              0.020960   \n",
       "CNT_CHILDREN                                        0.020432   \n",
       "AMT_INCOME_TOTAL                                    0.217547   \n",
       "AMT_CREDIT                                          0.056832   \n",
       "\n",
       "                  client_installments_AMT_PAYMENT_sum_max  \\\n",
       "SK_ID_CURR                                       0.034475   \n",
       "TARGET                                           0.040727   \n",
       "CNT_CHILDREN                                     0.018559   \n",
       "AMT_INCOME_TOTAL                                 0.294669   \n",
       "AMT_CREDIT                                       0.120489   \n",
       "\n",
       "                  client_installments_AMT_INSTALMENT_sum_max  \\\n",
       "SK_ID_CURR                                          0.039252   \n",
       "TARGET                                              0.043544   \n",
       "CNT_CHILDREN                                        0.015364   \n",
       "AMT_INCOME_TOTAL                                    0.293788   \n",
       "AMT_CREDIT                                          0.093876   \n",
       "\n",
       "                  client_installments_AMT_PAYMENT_mean_sum  \\\n",
       "SK_ID_CURR                                        0.023913   \n",
       "TARGET                                            0.050715   \n",
       "CNT_CHILDREN                                      0.031854   \n",
       "AMT_INCOME_TOTAL                                  0.266818   \n",
       "AMT_CREDIT                                        0.096595   \n",
       "\n",
       "                  client_installments_AMT_INSTALMENT_mean_sum  \\\n",
       "SK_ID_CURR                                           0.025015   \n",
       "TARGET                                               0.053208   \n",
       "CNT_CHILDREN                                         0.032057   \n",
       "AMT_INCOME_TOTAL                                     0.257633   \n",
       "AMT_CREDIT                                           0.079346   \n",
       "\n",
       "                  client_installments_AMT_INSTALMENT_max_sum  \\\n",
       "SK_ID_CURR                                          0.019580   \n",
       "TARGET                                              0.099309   \n",
       "CNT_CHILDREN                                        0.005884   \n",
       "AMT_INCOME_TOTAL                                    0.173033   \n",
       "AMT_CREDIT                                          0.056264   \n",
       "\n",
       "                  client_installments_AMT_PAYMENT_max_sum  \\\n",
       "SK_ID_CURR                                       0.018982   \n",
       "TARGET                                           0.097997   \n",
       "CNT_CHILDREN                                     0.005890   \n",
       "AMT_INCOME_TOTAL                                 0.173467   \n",
       "AMT_CREDIT                                       0.057933   \n",
       "\n",
       "                  client_installments_AMT_PAYMENT_sum_sum  \\\n",
       "SK_ID_CURR                                       0.048746   \n",
       "TARGET                                           0.016085   \n",
       "CNT_CHILDREN                                     0.015789   \n",
       "AMT_INCOME_TOTAL                                 0.188712   \n",
       "AMT_CREDIT                                       0.038090   \n",
       "\n",
       "                  client_installments_AMT_INSTALMENT_sum_sum  \n",
       "SK_ID_CURR                                          0.046594  \n",
       "TARGET                                              0.016175  \n",
       "CNT_CHILDREN                                        0.015280  \n",
       "AMT_INCOME_TOTAL                                    0.181071  \n",
       "AMT_CREDIT                                          0.030303  \n",
       "\n",
       "[5 rows x 1312 columns]"
      ]
     },
     "execution_count": 32,
     "metadata": {},
     "output_type": "execute_result"
    }
   ],
   "source": [
    "# Threshold for removing correlated variables\n",
    "threshold = 0.9\n",
    "\n",
    "# Exclude non-numeric columns\n",
    "numeric_cols = df_sample.select_dtypes(include=[np.number])\n",
    "\n",
    "# Calculate the absolute value of the correlation matrix\n",
    "corr_matrix = numeric_cols.corr().abs()\n",
    "\n",
    "# Display the correlation matrix\n",
    "corr_matrix.head()\n"
   ]
  },
  {
   "cell_type": "code",
   "execution_count": 33,
   "metadata": {},
   "outputs": [
    {
     "data": {
      "text/html": [
       "<div>\n",
       "<style scoped>\n",
       "    .dataframe tbody tr th:only-of-type {\n",
       "        vertical-align: middle;\n",
       "    }\n",
       "\n",
       "    .dataframe tbody tr th {\n",
       "        vertical-align: top;\n",
       "    }\n",
       "\n",
       "    .dataframe thead th {\n",
       "        text-align: right;\n",
       "    }\n",
       "</style>\n",
       "<table border=\"1\" class=\"dataframe\">\n",
       "  <thead>\n",
       "    <tr style=\"text-align: right;\">\n",
       "      <th></th>\n",
       "      <th>SK_ID_CURR</th>\n",
       "      <th>TARGET</th>\n",
       "      <th>CNT_CHILDREN</th>\n",
       "      <th>AMT_INCOME_TOTAL</th>\n",
       "      <th>AMT_CREDIT</th>\n",
       "      <th>AMT_ANNUITY</th>\n",
       "      <th>AMT_GOODS_PRICE</th>\n",
       "      <th>REGION_POPULATION_RELATIVE</th>\n",
       "      <th>DAYS_BIRTH</th>\n",
       "      <th>DAYS_EMPLOYED</th>\n",
       "      <th>...</th>\n",
       "      <th>client_installments_AMT_PAYMENT_min_sum</th>\n",
       "      <th>client_installments_AMT_INSTALMENT_min_sum</th>\n",
       "      <th>client_installments_AMT_PAYMENT_sum_max</th>\n",
       "      <th>client_installments_AMT_INSTALMENT_sum_max</th>\n",
       "      <th>client_installments_AMT_PAYMENT_mean_sum</th>\n",
       "      <th>client_installments_AMT_INSTALMENT_mean_sum</th>\n",
       "      <th>client_installments_AMT_INSTALMENT_max_sum</th>\n",
       "      <th>client_installments_AMT_PAYMENT_max_sum</th>\n",
       "      <th>client_installments_AMT_PAYMENT_sum_sum</th>\n",
       "      <th>client_installments_AMT_INSTALMENT_sum_sum</th>\n",
       "    </tr>\n",
       "  </thead>\n",
       "  <tbody>\n",
       "    <tr>\n",
       "      <th>SK_ID_CURR</th>\n",
       "      <td>NaN</td>\n",
       "      <td>0.026512</td>\n",
       "      <td>0.027804</td>\n",
       "      <td>0.002194</td>\n",
       "      <td>0.062286</td>\n",
       "      <td>0.078166</td>\n",
       "      <td>0.063725</td>\n",
       "      <td>0.041570</td>\n",
       "      <td>0.019500</td>\n",
       "      <td>0.022662</td>\n",
       "      <td>...</td>\n",
       "      <td>0.026534</td>\n",
       "      <td>0.013872</td>\n",
       "      <td>0.034475</td>\n",
       "      <td>0.039252</td>\n",
       "      <td>0.023913</td>\n",
       "      <td>0.025015</td>\n",
       "      <td>0.019580</td>\n",
       "      <td>0.018982</td>\n",
       "      <td>0.048746</td>\n",
       "      <td>0.046594</td>\n",
       "    </tr>\n",
       "    <tr>\n",
       "      <th>TARGET</th>\n",
       "      <td>NaN</td>\n",
       "      <td>NaN</td>\n",
       "      <td>0.065469</td>\n",
       "      <td>0.002581</td>\n",
       "      <td>0.003464</td>\n",
       "      <td>0.013484</td>\n",
       "      <td>0.017590</td>\n",
       "      <td>0.061012</td>\n",
       "      <td>0.048565</td>\n",
       "      <td>0.071879</td>\n",
       "      <td>...</td>\n",
       "      <td>0.013818</td>\n",
       "      <td>0.020960</td>\n",
       "      <td>0.040727</td>\n",
       "      <td>0.043544</td>\n",
       "      <td>0.050715</td>\n",
       "      <td>0.053208</td>\n",
       "      <td>0.099309</td>\n",
       "      <td>0.097997</td>\n",
       "      <td>0.016085</td>\n",
       "      <td>0.016175</td>\n",
       "    </tr>\n",
       "    <tr>\n",
       "      <th>CNT_CHILDREN</th>\n",
       "      <td>NaN</td>\n",
       "      <td>NaN</td>\n",
       "      <td>NaN</td>\n",
       "      <td>0.008540</td>\n",
       "      <td>0.017314</td>\n",
       "      <td>0.011509</td>\n",
       "      <td>0.022087</td>\n",
       "      <td>0.023668</td>\n",
       "      <td>0.346759</td>\n",
       "      <td>0.060849</td>\n",
       "      <td>...</td>\n",
       "      <td>0.051105</td>\n",
       "      <td>0.020432</td>\n",
       "      <td>0.018559</td>\n",
       "      <td>0.015364</td>\n",
       "      <td>0.031854</td>\n",
       "      <td>0.032057</td>\n",
       "      <td>0.005884</td>\n",
       "      <td>0.005890</td>\n",
       "      <td>0.015789</td>\n",
       "      <td>0.015280</td>\n",
       "    </tr>\n",
       "    <tr>\n",
       "      <th>AMT_INCOME_TOTAL</th>\n",
       "      <td>NaN</td>\n",
       "      <td>NaN</td>\n",
       "      <td>NaN</td>\n",
       "      <td>NaN</td>\n",
       "      <td>0.389673</td>\n",
       "      <td>0.457147</td>\n",
       "      <td>0.402857</td>\n",
       "      <td>0.203316</td>\n",
       "      <td>0.092222</td>\n",
       "      <td>0.000851</td>\n",
       "      <td>...</td>\n",
       "      <td>0.224462</td>\n",
       "      <td>0.217547</td>\n",
       "      <td>0.294669</td>\n",
       "      <td>0.293788</td>\n",
       "      <td>0.266818</td>\n",
       "      <td>0.257633</td>\n",
       "      <td>0.173033</td>\n",
       "      <td>0.173467</td>\n",
       "      <td>0.188712</td>\n",
       "      <td>0.181071</td>\n",
       "    </tr>\n",
       "    <tr>\n",
       "      <th>AMT_CREDIT</th>\n",
       "      <td>NaN</td>\n",
       "      <td>NaN</td>\n",
       "      <td>NaN</td>\n",
       "      <td>NaN</td>\n",
       "      <td>NaN</td>\n",
       "      <td>0.781309</td>\n",
       "      <td>0.985193</td>\n",
       "      <td>0.119544</td>\n",
       "      <td>0.067982</td>\n",
       "      <td>0.058059</td>\n",
       "      <td>...</td>\n",
       "      <td>0.092499</td>\n",
       "      <td>0.056832</td>\n",
       "      <td>0.120489</td>\n",
       "      <td>0.093876</td>\n",
       "      <td>0.096595</td>\n",
       "      <td>0.079346</td>\n",
       "      <td>0.056264</td>\n",
       "      <td>0.057933</td>\n",
       "      <td>0.038090</td>\n",
       "      <td>0.030303</td>\n",
       "    </tr>\n",
       "  </tbody>\n",
       "</table>\n",
       "<p>5 rows × 1312 columns</p>\n",
       "</div>"
      ],
      "text/plain": [
       "                  SK_ID_CURR    TARGET  CNT_CHILDREN  AMT_INCOME_TOTAL  \\\n",
       "SK_ID_CURR               NaN  0.026512      0.027804          0.002194   \n",
       "TARGET                   NaN       NaN      0.065469          0.002581   \n",
       "CNT_CHILDREN             NaN       NaN           NaN          0.008540   \n",
       "AMT_INCOME_TOTAL         NaN       NaN           NaN               NaN   \n",
       "AMT_CREDIT               NaN       NaN           NaN               NaN   \n",
       "\n",
       "                  AMT_CREDIT  AMT_ANNUITY  AMT_GOODS_PRICE  \\\n",
       "SK_ID_CURR          0.062286     0.078166         0.063725   \n",
       "TARGET              0.003464     0.013484         0.017590   \n",
       "CNT_CHILDREN        0.017314     0.011509         0.022087   \n",
       "AMT_INCOME_TOTAL    0.389673     0.457147         0.402857   \n",
       "AMT_CREDIT               NaN     0.781309         0.985193   \n",
       "\n",
       "                  REGION_POPULATION_RELATIVE  DAYS_BIRTH  DAYS_EMPLOYED  ...  \\\n",
       "SK_ID_CURR                          0.041570    0.019500       0.022662  ...   \n",
       "TARGET                              0.061012    0.048565       0.071879  ...   \n",
       "CNT_CHILDREN                        0.023668    0.346759       0.060849  ...   \n",
       "AMT_INCOME_TOTAL                    0.203316    0.092222       0.000851  ...   \n",
       "AMT_CREDIT                          0.119544    0.067982       0.058059  ...   \n",
       "\n",
       "                  client_installments_AMT_PAYMENT_min_sum  \\\n",
       "SK_ID_CURR                                       0.026534   \n",
       "TARGET                                           0.013818   \n",
       "CNT_CHILDREN                                     0.051105   \n",
       "AMT_INCOME_TOTAL                                 0.224462   \n",
       "AMT_CREDIT                                       0.092499   \n",
       "\n",
       "                  client_installments_AMT_INSTALMENT_min_sum  \\\n",
       "SK_ID_CURR                                          0.013872   \n",
       "TARGET                                              0.020960   \n",
       "CNT_CHILDREN                                        0.020432   \n",
       "AMT_INCOME_TOTAL                                    0.217547   \n",
       "AMT_CREDIT                                          0.056832   \n",
       "\n",
       "                  client_installments_AMT_PAYMENT_sum_max  \\\n",
       "SK_ID_CURR                                       0.034475   \n",
       "TARGET                                           0.040727   \n",
       "CNT_CHILDREN                                     0.018559   \n",
       "AMT_INCOME_TOTAL                                 0.294669   \n",
       "AMT_CREDIT                                       0.120489   \n",
       "\n",
       "                  client_installments_AMT_INSTALMENT_sum_max  \\\n",
       "SK_ID_CURR                                          0.039252   \n",
       "TARGET                                              0.043544   \n",
       "CNT_CHILDREN                                        0.015364   \n",
       "AMT_INCOME_TOTAL                                    0.293788   \n",
       "AMT_CREDIT                                          0.093876   \n",
       "\n",
       "                  client_installments_AMT_PAYMENT_mean_sum  \\\n",
       "SK_ID_CURR                                        0.023913   \n",
       "TARGET                                            0.050715   \n",
       "CNT_CHILDREN                                      0.031854   \n",
       "AMT_INCOME_TOTAL                                  0.266818   \n",
       "AMT_CREDIT                                        0.096595   \n",
       "\n",
       "                  client_installments_AMT_INSTALMENT_mean_sum  \\\n",
       "SK_ID_CURR                                           0.025015   \n",
       "TARGET                                               0.053208   \n",
       "CNT_CHILDREN                                         0.032057   \n",
       "AMT_INCOME_TOTAL                                     0.257633   \n",
       "AMT_CREDIT                                           0.079346   \n",
       "\n",
       "                  client_installments_AMT_INSTALMENT_max_sum  \\\n",
       "SK_ID_CURR                                          0.019580   \n",
       "TARGET                                              0.099309   \n",
       "CNT_CHILDREN                                        0.005884   \n",
       "AMT_INCOME_TOTAL                                    0.173033   \n",
       "AMT_CREDIT                                          0.056264   \n",
       "\n",
       "                  client_installments_AMT_PAYMENT_max_sum  \\\n",
       "SK_ID_CURR                                       0.018982   \n",
       "TARGET                                           0.097997   \n",
       "CNT_CHILDREN                                     0.005890   \n",
       "AMT_INCOME_TOTAL                                 0.173467   \n",
       "AMT_CREDIT                                       0.057933   \n",
       "\n",
       "                  client_installments_AMT_PAYMENT_sum_sum  \\\n",
       "SK_ID_CURR                                       0.048746   \n",
       "TARGET                                           0.016085   \n",
       "CNT_CHILDREN                                     0.015789   \n",
       "AMT_INCOME_TOTAL                                 0.188712   \n",
       "AMT_CREDIT                                       0.038090   \n",
       "\n",
       "                  client_installments_AMT_INSTALMENT_sum_sum  \n",
       "SK_ID_CURR                                          0.046594  \n",
       "TARGET                                              0.016175  \n",
       "CNT_CHILDREN                                        0.015280  \n",
       "AMT_INCOME_TOTAL                                    0.181071  \n",
       "AMT_CREDIT                                          0.030303  \n",
       "\n",
       "[5 rows x 1312 columns]"
      ]
     },
     "execution_count": 33,
     "metadata": {},
     "output_type": "execute_result"
    }
   ],
   "source": [
    "# On ne récupère que la partie haute de la matrice\n",
    "upper = corr_matrix.where(np.triu(np.ones(corr_matrix.shape), k=1).astype(np.bool_))\n",
    "upper.head()"
   ]
  },
  {
   "cell_type": "code",
   "execution_count": 34,
   "metadata": {},
   "outputs": [
    {
     "name": "stdout",
     "output_type": "stream",
     "text": [
      "There are 627 columns to remove.\n"
     ]
    }
   ],
   "source": [
    "# Sélection des variables dont la corrélation dépasse le seuil de 0.9, pour pouvoir els supprimer\n",
    "to_drop = [column for column in upper.columns if any(upper[column] > threshold)]\n",
    "\n",
    "print('There are %d columns to remove.' % (len(to_drop)))"
   ]
  },
  {
   "cell_type": "markdown",
   "metadata": {},
   "source": [
    "### 6.1.2 - Suppression des variables corrélées"
   ]
  },
  {
   "cell_type": "code",
   "execution_count": 35,
   "metadata": {},
   "outputs": [
    {
     "name": "stdout",
     "output_type": "stream",
     "text": [
      "Training shape:  (307511, 702)\n",
      "Testing shape:  (48744, 701)\n"
     ]
    }
   ],
   "source": [
    "df_train_without_corr = df_train.drop(to_drop, axis=1)\n",
    "df_test_without_corr = df_test.drop(to_drop, axis=1)\n",
    "print('Training shape: ', df_train_without_corr.shape)\n",
    "print('Testing shape: ', df_test_without_corr.shape)\n"
   ]
  },
  {
   "cell_type": "markdown",
   "metadata": {},
   "source": [
    "L'application de cette méthode à l'ensemble du jeu de données permet de supprimer près de la moitié de features colinéaires.\n",
    "Le nombre de features a été réduit de manière significative, mais il est probablement encore trop élevé."
   ]
  },
  {
   "cell_type": "markdown",
   "metadata": {},
   "source": [
    "## 6.2 - Suppresion des MV et encodage des variables catégorielles"
   ]
  },
  {
   "cell_type": "markdown",
   "metadata": {},
   "source": [
    "Un choix relativement simple de sélection de features consiste à supprimer les valeurs manquantes. Cela semble simple, du moins jusqu'à ce que nous devions décider quel pourcentage de valeurs manquantes est le seuil minimum pour supprimer une colonne. Comme pour de nombreux choix en apprentissage automatique, il n'y a pas de bonne réponse, ni même de règle générale pour faire ce choix. Dans cette implémentation, si des colonnes ont plus de 75 % de valeurs manquantes, elles seront supprimées.\n",
    "\n",
    "Comme le LightGBM peut traiter les valeurs manquantes, nous n'allons pas faire d'imputation sur les variables restantes puisque nous avons vu précédemment que le LGBM était le modèle le plus performant de ceux que nous avons testés. "
   ]
  },
  {
   "cell_type": "code",
   "execution_count": 36,
   "metadata": {},
   "outputs": [
    {
     "data": {
      "text/plain": [
       "client_credit_CNT_DRAWINGS_OTHER_CURRENT_min_max      0.801178\n",
       "client_credit_AMT_DRAWINGS_ATM_CURRENT_max_min        0.801178\n",
       "client_credit_CNT_DRAWINGS_OTHER_CURRENT_min_mean     0.801178\n",
       "client_credit_CNT_DRAWINGS_OTHER_CURRENT_min_min      0.801178\n",
       "client_credit_AMT_DRAWINGS_OTHER_CURRENT_min_mean     0.801178\n",
       "client_credit_AMT_DRAWINGS_OTHER_CURRENT_min_max      0.801178\n",
       "client_credit_AMT_DRAWINGS_OTHER_CURRENT_min_min      0.801178\n",
       "client_credit_CNT_DRAWINGS_POS_CURRENT_min_min        0.801178\n",
       "client_credit_CNT_DRAWINGS_OTHER_CURRENT_mean_mean    0.801178\n",
       "client_credit_CNT_DRAWINGS_OTHER_CURRENT_max_min      0.801178\n",
       "client_credit_AMT_DRAWINGS_POS_CURRENT_mean_min       0.801178\n",
       "client_credit_CNT_DRAWINGS_ATM_CURRENT_max_min        0.801178\n",
       "client_credit_AMT_DRAWINGS_ATM_CURRENT_mean_mean      0.801178\n",
       "bureau_AMT_ANNUITY_max                                0.739817\n",
       "bureau_AMT_ANNUITY_min                                0.739817\n",
       "dtype: float64"
      ]
     },
     "execution_count": 36,
     "metadata": {},
     "output_type": "execute_result"
    }
   ],
   "source": [
    "train_missing = (df_train_without_corr.isnull().sum() / len(df_train_without_corr)).sort_values(ascending = False)\n",
    "train_missing.head(15)"
   ]
  },
  {
   "cell_type": "code",
   "execution_count": 37,
   "metadata": {},
   "outputs": [
    {
     "data": {
      "text/plain": [
       "client_credit_CNT_DRAWINGS_POS_CURRENT_min_min       0.773223\n",
       "client_credit_AMT_DRAWINGS_OTHER_CURRENT_min_mean    0.773223\n",
       "client_credit_AMT_DRAWINGS_ATM_CURRENT_max_min       0.773223\n",
       "client_credit_AMT_DRAWINGS_ATM_CURRENT_mean_mean     0.773223\n",
       "client_credit_CNT_DRAWINGS_OTHER_CURRENT_min_mean    0.773223\n",
       "dtype: float64"
      ]
     },
     "execution_count": 37,
     "metadata": {},
     "output_type": "execute_result"
    }
   ],
   "source": [
    "# Test missing values (in percent)\n",
    "test_missing = (df_test_without_corr.isnull().sum() / len(df_test_without_corr)).sort_values(ascending = False)\n",
    "test_missing.head()"
   ]
  },
  {
   "cell_type": "code",
   "execution_count": 38,
   "metadata": {},
   "outputs": [
    {
     "name": "stdout",
     "output_type": "stream",
     "text": [
      "There are 13 columns with more than 75% missing values\n"
     ]
    }
   ],
   "source": [
    "# Identification des MV au delà du seuil de 75%\n",
    "train_missing = train_missing.index[train_missing > 0.75]\n",
    "test_missing = test_missing.index[test_missing > 0.75]\n",
    "\n",
    "all_missing = list(set(set(train_missing) | set(test_missing)))\n",
    "print('There are %d columns with more than 75%% missing values' % len(all_missing))"
   ]
  },
  {
   "cell_type": "code",
   "execution_count": 39,
   "metadata": {},
   "outputs": [
    {
     "data": {
      "text/plain": [
       "['client_credit_CNT_DRAWINGS_OTHER_CURRENT_min_min',\n",
       " 'client_credit_CNT_DRAWINGS_OTHER_CURRENT_min_mean',\n",
       " 'client_credit_CNT_DRAWINGS_POS_CURRENT_min_min',\n",
       " 'client_credit_CNT_DRAWINGS_OTHER_CURRENT_min_max',\n",
       " 'client_credit_CNT_DRAWINGS_OTHER_CURRENT_mean_mean',\n",
       " 'client_credit_CNT_DRAWINGS_ATM_CURRENT_max_min',\n",
       " 'client_credit_AMT_DRAWINGS_OTHER_CURRENT_min_max',\n",
       " 'client_credit_AMT_DRAWINGS_POS_CURRENT_mean_min',\n",
       " 'client_credit_AMT_DRAWINGS_ATM_CURRENT_mean_mean',\n",
       " 'client_credit_AMT_DRAWINGS_ATM_CURRENT_max_min',\n",
       " 'client_credit_AMT_DRAWINGS_OTHER_CURRENT_min_min',\n",
       " 'client_credit_AMT_DRAWINGS_OTHER_CURRENT_min_mean',\n",
       " 'client_credit_CNT_DRAWINGS_OTHER_CURRENT_max_min']"
      ]
     },
     "execution_count": 39,
     "metadata": {},
     "output_type": "execute_result"
    }
   ],
   "source": [
    "all_missing"
   ]
  },
  {
   "cell_type": "markdown",
   "metadata": {},
   "source": [
    "Nous supprimons ces variables et encodons les variables restantes avec un One Hot Encosing"
   ]
  },
  {
   "cell_type": "code",
   "execution_count": 40,
   "metadata": {},
   "outputs": [],
   "source": [
    "# Sauvegarde des targets pq l'alignement va supprimer cette variable\n",
    "df_train_labels = df_train_without_corr[\"TARGET\"]\n",
    "\n",
    "# Sauvegarde des identifiants\n",
    "df_train_ids = df_train_without_corr['SK_ID_CURR']\n",
    "df_test_ids = df_test_without_corr['SK_ID_CURR']\n",
    "\n",
    "\n",
    "# get_dummies\n",
    "df_train_without_corr_mv = pd.get_dummies(df_train_without_corr.drop(all_missing, axis=1))\n",
    "df_test_without_corr_mv = pd.get_dummies(df_test_without_corr.drop(all_missing, axis=1))\n",
    "\n"
   ]
  },
  {
   "cell_type": "code",
   "execution_count": null,
   "metadata": {},
   "outputs": [],
   "source": []
  },
  {
   "cell_type": "code",
   "execution_count": null,
   "metadata": {},
   "outputs": [],
   "source": []
  },
  {
   "cell_type": "code",
   "execution_count": 41,
   "metadata": {},
   "outputs": [
    {
     "data": {
      "text/plain": [
       "((307511, 813), (48744, 809))"
      ]
     },
     "execution_count": 41,
     "metadata": {},
     "output_type": "execute_result"
    }
   ],
   "source": [
    "df_train_without_corr_mv.shape, df_test_without_corr_mv.shape"
   ]
  },
  {
   "cell_type": "code",
   "execution_count": 42,
   "metadata": {},
   "outputs": [
    {
     "name": "stdout",
     "output_type": "stream",
     "text": [
      "Training set full shape:  (307511, 809)\n",
      "Testing set full shape:  (48744, 809)\n"
     ]
    }
   ],
   "source": [
    "# Alignement\n",
    "df_train_without_corr_mv, df_test_without_corr_mv = df_train_without_corr_mv.align(df_test_without_corr_mv, join = 'inner', axis = 1)\n",
    "\n",
    "print('Training set full shape: ', df_train_without_corr_mv.shape)\n",
    "print('Testing set full shape: ', df_test_without_corr_mv.shape)\n"
   ]
  },
  {
   "cell_type": "code",
   "execution_count": 43,
   "metadata": {},
   "outputs": [],
   "source": [
    "# drop des ids pour pouvoir faire la feature selection avec modélisation\n",
    "df_train_without_corr_mv = df_train_without_corr_mv.drop(columns = ['SK_ID_CURR'])\n",
    "df_test_without_corr_mv = df_test_without_corr_mv.drop(columns = ['SK_ID_CURR'])"
   ]
  },
  {
   "cell_type": "code",
   "execution_count": 44,
   "metadata": {},
   "outputs": [
    {
     "name": "stdout",
     "output_type": "stream",
     "text": [
      "Training set full shape:  (307511, 808)\n",
      "Testing set full shape:  (48744, 808)\n"
     ]
    }
   ],
   "source": [
    "print('Training set full shape: ', df_train_without_corr_mv.shape)\n",
    "print('Testing set full shape: ', df_test_without_corr_mv.shape)"
   ]
  },
  {
   "cell_type": "markdown",
   "metadata": {},
   "source": [
    "## 6.3 - Feature selection avec la Feature Importance"
   ]
  },
  {
   "cell_type": "markdown",
   "metadata": {},
   "source": [
    "La méthode suivante que nous pouvons employer pour la sélection des features consiste à utiliser la feature importance d'un modèle.  \n",
    "Les modèles basés sur les arbres (et par conséquent les ensembles d'arbres) peuvent déterminer une \"importance\" pour chaque caractéristique en mesurant la réduction de l'impureté par l'inclusion de la caractéristique dans le modèle. La valeur relative des importances peut être utilisée comme une approximation de la \"pertinence\" des différentes caractéristiques dans un modèle. Nous pouvons donc l'utiliser pour supprimer les caractéristiques que le modèle ne considère pas comme importantes."
   ]
  },
  {
   "cell_type": "markdown",
   "metadata": {},
   "source": [
    "Dans un 1er temps, nous allons supprimer toutes les features d'importance nulle du modèle. S'il reste trop de features, nous pouvons envisager de supprimer celles qui ont le moins d'importance. "
   ]
  },
  {
   "cell_type": "markdown",
   "metadata": {},
   "source": [
    "Comme le modèle LightGBM ne nécessite pas l'imputation des valeurs manquantes, nous pouvons l'ajuster directement sur les données d'apprentissage. Nous utiliserons l'arrêt anticipé pour déterminer le nombre optimal d'itérations et exécuterons le modèle deux fois, en calculant la moyenne des importances des caractéristiques pour essayer d'éviter le surajustement à un certain ensemble de caractéristiques."
   ]
  },
  {
   "cell_type": "code",
   "execution_count": 45,
   "metadata": {},
   "outputs": [],
   "source": [
    "# Initialize an empty array to hold feature importances\n",
    "feature_importances = np.zeros(df_train_without_corr_mv.shape[1])\n",
    "\n",
    "# Create the model with several hyperparameters\n",
    "model = lgb.LGBMClassifier(objective='binary', \n",
    "                           boosting_type = 'goss', \n",
    "                           n_estimators = 10000,\n",
    "                           # learning_rate = 0.01, \n",
    "                           class_weight = 'balanced')"
   ]
  },
  {
   "cell_type": "markdown",
   "metadata": {},
   "source": [
    "Pour éviter le message d'erreur 'LightGBMError: Do not support special JSON characters in feature name', je remplace les caractères spéciaux dans les noms des features"
   ]
  },
  {
   "cell_type": "code",
   "execution_count": 46,
   "metadata": {},
   "outputs": [],
   "source": [
    "df_train_without_corr_mv.columns= [col.replace('{', '').replace('}', '').replace(':', '').replace('[', '').replace(']', '').replace(',', '').replace('\"', '').replace(\"'\", '') for col in df_train_without_corr_mv.columns]\n",
    "df_test_without_corr_mv.columns= [col.replace('{', '').replace('}', '').replace(':', '').replace('[', '').replace(']', '').replace(',', '').replace('\"', '').replace(\"'\", '') for col in df_test_without_corr_mv.columns]"
   ]
  },
  {
   "cell_type": "code",
   "execution_count": 47,
   "metadata": {},
   "outputs": [
    {
     "name": "stdout",
     "output_type": "stream",
     "text": [
      "[LightGBM] [Warning] Found boosting=goss. For backwards compatibility reasons, LightGBM interprets this as boosting=gbdt, data_sample_strategy=goss.To suppress this warning, set data_sample_strategy=goss instead.\n",
      "[LightGBM] [Warning] Found whitespace in feature_names, replace with underlines\n",
      "[LightGBM] [Warning] Found boosting=goss. For backwards compatibility reasons, LightGBM interprets this as boosting=gbdt, data_sample_strategy=goss.To suppress this warning, set data_sample_strategy=goss instead.\n",
      "[LightGBM] [Info] Number of positive: 18734, number of negative: 211899\n",
      "[LightGBM] [Info] Auto-choosing row-wise multi-threading, the overhead of testing was 1.068147 seconds.\n",
      "You can set `force_row_wise=true` to remove the overhead.\n",
      "And if memory is not enough, you can set `force_col_wise=true`.\n",
      "[LightGBM] [Info] Total Bins 75776\n",
      "[LightGBM] [Info] Number of data points in the train set: 230633, number of used features: 800\n",
      "[LightGBM] [Info] Using GOSS\n",
      "[LightGBM] [Warning] Found boosting=goss. For backwards compatibility reasons, LightGBM interprets this as boosting=gbdt, data_sample_strategy=goss.To suppress this warning, set data_sample_strategy=goss instead.\n",
      "[LightGBM] [Warning] Found whitespace in feature_names, replace with underlines\n",
      "[LightGBM] [Info] [binary:BoostFromScore]: pavg=0.500000 -> initscore=0.000000\n",
      "[LightGBM] [Info] Start training from score 0.000000\n",
      "Training until validation scores don't improve for 50 rounds\n",
      "Early stopping, best iteration is:\n",
      "[137]\tvalid_0's auc: 0.785036\tvalid_0's binary_logloss: 0.522175\n",
      "[LightGBM] [Warning] Found boosting=goss. For backwards compatibility reasons, LightGBM interprets this as boosting=gbdt, data_sample_strategy=goss.To suppress this warning, set data_sample_strategy=goss instead.\n",
      "[LightGBM] [Warning] Found whitespace in feature_names, replace with underlines\n",
      "[LightGBM] [Warning] Found boosting=goss. For backwards compatibility reasons, LightGBM interprets this as boosting=gbdt, data_sample_strategy=goss.To suppress this warning, set data_sample_strategy=goss instead.\n",
      "[LightGBM] [Info] Number of positive: 18565, number of negative: 212068\n",
      "[LightGBM] [Info] Auto-choosing row-wise multi-threading, the overhead of testing was 0.803901 seconds.\n",
      "You can set `force_row_wise=true` to remove the overhead.\n",
      "And if memory is not enough, you can set `force_col_wise=true`.\n",
      "[LightGBM] [Info] Total Bins 75812\n",
      "[LightGBM] [Info] Number of data points in the train set: 230633, number of used features: 799\n",
      "[LightGBM] [Info] Using GOSS\n",
      "[LightGBM] [Warning] Found boosting=goss. For backwards compatibility reasons, LightGBM interprets this as boosting=gbdt, data_sample_strategy=goss.To suppress this warning, set data_sample_strategy=goss instead.\n",
      "[LightGBM] [Warning] Found whitespace in feature_names, replace with underlines\n",
      "[LightGBM] [Info] [binary:BoostFromScore]: pavg=0.500000 -> initscore=0.000000\n",
      "[LightGBM] [Info] Start training from score 0.000000\n",
      "Training until validation scores don't improve for 50 rounds\n",
      "Early stopping, best iteration is:\n",
      "[123]\tvalid_0's auc: 0.785726\tvalid_0's binary_logloss: 0.526173\n"
     ]
    }
   ],
   "source": [
    "from lightgbm import early_stopping\n",
    "# Fit the model twice to avoid overfitting\n",
    "for i in range(2):\n",
    "    \n",
    "    # Split into training and validation set\n",
    "    train_features, valid_features, train_y, valid_y = train_test_split(df_train_without_corr_mv, \n",
    "                                                                        df_train_labels, \n",
    "                                                                        test_size = 0.25, \n",
    "                                                                        random_state = i)\n",
    "\n",
    "    model.fit(train_features, \n",
    "              train_y, \n",
    "              eval_set=[(valid_features, valid_y)],\n",
    "              eval_metric='auc',\n",
    "              callbacks=[early_stopping(stopping_rounds=50)])\n",
    "    \n",
    "    # Record the feature importances\n",
    "    feature_importances += model.feature_importances_"
   ]
  },
  {
   "cell_type": "code",
   "execution_count": 48,
   "metadata": {},
   "outputs": [
    {
     "data": {
      "text/html": [
       "<div>\n",
       "<style scoped>\n",
       "    .dataframe tbody tr th:only-of-type {\n",
       "        vertical-align: middle;\n",
       "    }\n",
       "\n",
       "    .dataframe tbody tr th {\n",
       "        vertical-align: top;\n",
       "    }\n",
       "\n",
       "    .dataframe thead th {\n",
       "        text-align: right;\n",
       "    }\n",
       "</style>\n",
       "<table border=\"1\" class=\"dataframe\">\n",
       "  <thead>\n",
       "    <tr style=\"text-align: right;\">\n",
       "      <th></th>\n",
       "      <th>feature</th>\n",
       "      <th>importance</th>\n",
       "    </tr>\n",
       "  </thead>\n",
       "  <tbody>\n",
       "    <tr>\n",
       "      <th>25</th>\n",
       "      <td>EXT_SOURCE_1</td>\n",
       "      <td>142.0</td>\n",
       "    </tr>\n",
       "    <tr>\n",
       "      <th>26</th>\n",
       "      <td>EXT_SOURCE_2</td>\n",
       "      <td>128.5</td>\n",
       "    </tr>\n",
       "    <tr>\n",
       "      <th>74</th>\n",
       "      <td>CREDIT_TERM</td>\n",
       "      <td>125.5</td>\n",
       "    </tr>\n",
       "    <tr>\n",
       "      <th>27</th>\n",
       "      <td>EXT_SOURCE_3</td>\n",
       "      <td>112.0</td>\n",
       "    </tr>\n",
       "    <tr>\n",
       "      <th>6</th>\n",
       "      <td>DAYS_EMPLOYED</td>\n",
       "      <td>79.5</td>\n",
       "    </tr>\n",
       "    <tr>\n",
       "      <th>5</th>\n",
       "      <td>DAYS_BIRTH</td>\n",
       "      <td>77.5</td>\n",
       "    </tr>\n",
       "    <tr>\n",
       "      <th>667</th>\n",
       "      <td>client_installments_AMT_PAYMENT_min_sum</td>\n",
       "      <td>72.0</td>\n",
       "    </tr>\n",
       "    <tr>\n",
       "      <th>3</th>\n",
       "      <td>AMT_ANNUITY</td>\n",
       "      <td>62.0</td>\n",
       "    </tr>\n",
       "    <tr>\n",
       "      <th>549</th>\n",
       "      <td>client_cash_CNT_INSTALMENT_FUTURE_mean_max</td>\n",
       "      <td>48.0</td>\n",
       "    </tr>\n",
       "    <tr>\n",
       "      <th>143</th>\n",
       "      <td>bureau_DAYS_CREDIT_ENDDATE_max</td>\n",
       "      <td>47.5</td>\n",
       "    </tr>\n",
       "    <tr>\n",
       "      <th>122</th>\n",
       "      <td>bureau_DAYS_CREDIT_max</td>\n",
       "      <td>43.0</td>\n",
       "    </tr>\n",
       "    <tr>\n",
       "      <th>9</th>\n",
       "      <td>OWN_CAR_AGE</td>\n",
       "      <td>39.5</td>\n",
       "    </tr>\n",
       "    <tr>\n",
       "      <th>657</th>\n",
       "      <td>client_installments_AMT_PAYMENT_min_mean</td>\n",
       "      <td>38.0</td>\n",
       "    </tr>\n",
       "    <tr>\n",
       "      <th>8</th>\n",
       "      <td>DAYS_ID_PUBLISH</td>\n",
       "      <td>37.5</td>\n",
       "    </tr>\n",
       "    <tr>\n",
       "      <th>147</th>\n",
       "      <td>bureau_AMT_CREDIT_SUM_DEBT_mean</td>\n",
       "      <td>36.0</td>\n",
       "    </tr>\n",
       "    <tr>\n",
       "      <th>615</th>\n",
       "      <td>client_credit_CNT_DRAWINGS_CURRENT_mean_min</td>\n",
       "      <td>35.0</td>\n",
       "    </tr>\n",
       "    <tr>\n",
       "      <th>137</th>\n",
       "      <td>bureau_AMT_CREDIT_MAX_OVERDUE_sum</td>\n",
       "      <td>32.5</td>\n",
       "    </tr>\n",
       "    <tr>\n",
       "      <th>2</th>\n",
       "      <td>AMT_CREDIT</td>\n",
       "      <td>31.5</td>\n",
       "    </tr>\n",
       "    <tr>\n",
       "      <th>119</th>\n",
       "      <td>bureau_DAYS_ENDDATE_FACT_max</td>\n",
       "      <td>31.0</td>\n",
       "    </tr>\n",
       "    <tr>\n",
       "      <th>547</th>\n",
       "      <td>client_cash_CNT_INSTALMENT_FUTURE_mean_mean</td>\n",
       "      <td>30.0</td>\n",
       "    </tr>\n",
       "  </tbody>\n",
       "</table>\n",
       "</div>"
      ],
      "text/plain": [
       "                                         feature  importance\n",
       "25                                  EXT_SOURCE_1       142.0\n",
       "26                                  EXT_SOURCE_2       128.5\n",
       "74                                   CREDIT_TERM       125.5\n",
       "27                                  EXT_SOURCE_3       112.0\n",
       "6                                  DAYS_EMPLOYED        79.5\n",
       "5                                     DAYS_BIRTH        77.5\n",
       "667      client_installments_AMT_PAYMENT_min_sum        72.0\n",
       "3                                    AMT_ANNUITY        62.0\n",
       "549   client_cash_CNT_INSTALMENT_FUTURE_mean_max        48.0\n",
       "143               bureau_DAYS_CREDIT_ENDDATE_max        47.5\n",
       "122                       bureau_DAYS_CREDIT_max        43.0\n",
       "9                                    OWN_CAR_AGE        39.5\n",
       "657     client_installments_AMT_PAYMENT_min_mean        38.0\n",
       "8                                DAYS_ID_PUBLISH        37.5\n",
       "147              bureau_AMT_CREDIT_SUM_DEBT_mean        36.0\n",
       "615  client_credit_CNT_DRAWINGS_CURRENT_mean_min        35.0\n",
       "137            bureau_AMT_CREDIT_MAX_OVERDUE_sum        32.5\n",
       "2                                     AMT_CREDIT        31.5\n",
       "119                 bureau_DAYS_ENDDATE_FACT_max        31.0\n",
       "547  client_cash_CNT_INSTALMENT_FUTURE_mean_mean        30.0"
      ]
     },
     "execution_count": 48,
     "metadata": {},
     "output_type": "execute_result"
    }
   ],
   "source": [
    "feature_importances = feature_importances / 2\n",
    "feature_importances = pd.DataFrame({'feature': list(df_train_without_corr_mv.columns), 'importance': feature_importances}).sort_values('importance', ascending = False)\n",
    "feature_importances.head(20)"
   ]
  },
  {
   "cell_type": "code",
   "execution_count": 49,
   "metadata": {},
   "outputs": [
    {
     "name": "stdout",
     "output_type": "stream",
     "text": [
      "There are 313 features with 0.0 importance\n"
     ]
    },
    {
     "data": {
      "text/html": [
       "<div>\n",
       "<style scoped>\n",
       "    .dataframe tbody tr th:only-of-type {\n",
       "        vertical-align: middle;\n",
       "    }\n",
       "\n",
       "    .dataframe tbody tr th {\n",
       "        vertical-align: top;\n",
       "    }\n",
       "\n",
       "    .dataframe thead th {\n",
       "        text-align: right;\n",
       "    }\n",
       "</style>\n",
       "<table border=\"1\" class=\"dataframe\">\n",
       "  <thead>\n",
       "    <tr style=\"text-align: right;\">\n",
       "      <th></th>\n",
       "      <th>feature</th>\n",
       "      <th>importance</th>\n",
       "    </tr>\n",
       "  </thead>\n",
       "  <tbody>\n",
       "    <tr>\n",
       "      <th>368</th>\n",
       "      <td>previous_PRODUCT_COMBINATION_POS mobile withou...</td>\n",
       "      <td>0.0</td>\n",
       "    </tr>\n",
       "    <tr>\n",
       "      <th>355</th>\n",
       "      <td>previous_PRODUCT_COMBINATION_Card X-Sell_sum</td>\n",
       "      <td>0.0</td>\n",
       "    </tr>\n",
       "    <tr>\n",
       "      <th>351</th>\n",
       "      <td>previous_NAME_GOODS_CATEGORY_Construction Mate...</td>\n",
       "      <td>0.0</td>\n",
       "    </tr>\n",
       "    <tr>\n",
       "      <th>349</th>\n",
       "      <td>previous_PRODUCT_COMBINATION_Card Street_sum</td>\n",
       "      <td>0.0</td>\n",
       "    </tr>\n",
       "    <tr>\n",
       "      <th>323</th>\n",
       "      <td>previous_NAME_GOODS_CATEGORY_Photo / Cinema Eq...</td>\n",
       "      <td>0.0</td>\n",
       "    </tr>\n",
       "    <tr>\n",
       "      <th>317</th>\n",
       "      <td>previous_PRODUCT_COMBINATION_POS industry with...</td>\n",
       "      <td>0.0</td>\n",
       "    </tr>\n",
       "    <tr>\n",
       "      <th>315</th>\n",
       "      <td>previous_NAME_GOODS_CATEGORY_Computers_sum</td>\n",
       "      <td>0.0</td>\n",
       "    </tr>\n",
       "    <tr>\n",
       "      <th>313</th>\n",
       "      <td>previous_NAME_TYPE_SUITE_Children_sum</td>\n",
       "      <td>0.0</td>\n",
       "    </tr>\n",
       "    <tr>\n",
       "      <th>306</th>\n",
       "      <td>previous_NAME_SELLER_INDUSTRY_Clothing_sum</td>\n",
       "      <td>0.0</td>\n",
       "    </tr>\n",
       "    <tr>\n",
       "      <th>807</th>\n",
       "      <td>EMERGENCYSTATE_MODE_Yes</td>\n",
       "      <td>0.0</td>\n",
       "    </tr>\n",
       "  </tbody>\n",
       "</table>\n",
       "</div>"
      ],
      "text/plain": [
       "                                               feature  importance\n",
       "368  previous_PRODUCT_COMBINATION_POS mobile withou...         0.0\n",
       "355       previous_PRODUCT_COMBINATION_Card X-Sell_sum         0.0\n",
       "351  previous_NAME_GOODS_CATEGORY_Construction Mate...         0.0\n",
       "349       previous_PRODUCT_COMBINATION_Card Street_sum         0.0\n",
       "323  previous_NAME_GOODS_CATEGORY_Photo / Cinema Eq...         0.0\n",
       "317  previous_PRODUCT_COMBINATION_POS industry with...         0.0\n",
       "315         previous_NAME_GOODS_CATEGORY_Computers_sum         0.0\n",
       "313              previous_NAME_TYPE_SUITE_Children_sum         0.0\n",
       "306         previous_NAME_SELLER_INDUSTRY_Clothing_sum         0.0\n",
       "807                            EMERGENCYSTATE_MODE_Yes         0.0"
      ]
     },
     "execution_count": 49,
     "metadata": {},
     "output_type": "execute_result"
    }
   ],
   "source": [
    "# Find the features with zero importance\n",
    "zero_features = list(feature_importances[feature_importances['importance'] == 0.0]['feature'])\n",
    "print('There are %d features with 0.0 importance' % len(zero_features))\n",
    "feature_importances.tail(10)"
   ]
  },
  {
   "cell_type": "markdown",
   "metadata": {},
   "source": [
    "Nous constatons que plusieurs des features créées manuellement sont entrées dans le top 20 des features les plus importantes. Il semble également que de nombreuses features que nous avons créées aient littéralement une importance nulle. Pour le gradient boosting machine, les features dont l'importance est nulle ne sont pas du tout utilisées pour effectuer des divisions. Par conséquent, nous pouvons supprimer ces features du modèle sans effet sur les performances (à l'exception d'un entraînement plus rapide)."
   ]
  },
  {
   "cell_type": "code",
   "execution_count": 50,
   "metadata": {},
   "outputs": [
    {
     "name": "stdout",
     "output_type": "stream",
     "text": [
      "Training shape:  (307511, 495)\n",
      "Testing shape:  (48744, 495)\n"
     ]
    }
   ],
   "source": [
    "df_train_without_corr_mv_zero = df_train_without_corr_mv.drop(columns = zero_features)\n",
    "df_test_without_corr_mv_zero = df_test_without_corr_mv.drop(columns = zero_features)\n",
    "\n",
    "print('Training shape: ', df_train_without_corr_mv_zero.shape)\n",
    "print('Testing shape: ', df_test_without_corr_mv_zero.shape)"
   ]
  },
  {
   "cell_type": "markdown",
   "metadata": {},
   "source": [
    "Refaisons tourner le process pour vérifier que toutes les variables d'importance nulles ont été éradiquées"
   ]
  },
  {
   "cell_type": "code",
   "execution_count": 51,
   "metadata": {},
   "outputs": [],
   "source": [
    "def identify_zero_importance_features(train, train_labels, iterations = 2):\n",
    "    \"\"\"\n",
    "    Identify zero importance features in a training dataset based on the \n",
    "    feature importances from a gradient boosting model. \n",
    "    \n",
    "    Parameters\n",
    "    --------\n",
    "    train : dataframe\n",
    "        Training features\n",
    "        \n",
    "    train_labels : np.array\n",
    "        Labels for training data\n",
    "        \n",
    "    iterations : integer, default = 2\n",
    "        Number of cross validation splits to use for determining feature importances\n",
    "    \"\"\"\n",
    "    \n",
    "    # Initialize an empty array to hold feature importances\n",
    "    feature_importances = np.zeros(train.shape[1])\n",
    "\n",
    "    # Create the model with several hyperparameters\n",
    "    model = lgb.LGBMClassifier(objective='binary', \n",
    "                           boosting_type = 'goss', \n",
    "                           n_estimators = 1000,\n",
    "                           # learning_rate = 0.01, \n",
    "                           class_weight = 'balanced')\n",
    "    \n",
    "    # Fit the model multiple times to avoid overfitting\n",
    "    for i in range(iterations):\n",
    "\n",
    "        # Split into training and validation set\n",
    "        train_features, valid_features, train_y, valid_y = train_test_split(train, train_labels, test_size = 0.25, random_state = i)\n",
    "\n",
    "        # Train using early stopping\n",
    "        model.fit(train_features, \n",
    "                  train_y, \n",
    "                  eval_set = [(valid_features, valid_y)], \n",
    "                  eval_metric = 'auc', \n",
    "                  callbacks = [early_stopping(stopping_rounds=50)])\n",
    "\n",
    "        # Record the feature importances\n",
    "        feature_importances += model.feature_importances_ / iterations\n",
    "    \n",
    "    feature_importances = pd.DataFrame({'feature': list(train.columns), 'importance': feature_importances}).sort_values('importance', ascending = False)\n",
    "    \n",
    "    # Find the features with zero importance\n",
    "    zero_features = list(feature_importances[feature_importances['importance'] ==0]['feature'])\n",
    "    print('\\nThere are %d features with 0.0 importance' % len(zero_features))\n",
    "    \n",
    "    return zero_features, feature_importances"
   ]
  },
  {
   "cell_type": "code",
   "execution_count": 52,
   "metadata": {},
   "outputs": [
    {
     "name": "stdout",
     "output_type": "stream",
     "text": [
      "[LightGBM] [Warning] Found boosting=goss. For backwards compatibility reasons, LightGBM interprets this as boosting=gbdt, data_sample_strategy=goss.To suppress this warning, set data_sample_strategy=goss instead.\n",
      "[LightGBM] [Warning] Found whitespace in feature_names, replace with underlines\n",
      "[LightGBM] [Warning] Found boosting=goss. For backwards compatibility reasons, LightGBM interprets this as boosting=gbdt, data_sample_strategy=goss.To suppress this warning, set data_sample_strategy=goss instead.\n",
      "[LightGBM] [Info] Number of positive: 18734, number of negative: 211899\n",
      "[LightGBM] [Info] Auto-choosing row-wise multi-threading, the overhead of testing was 0.657494 seconds.\n",
      "You can set `force_row_wise=true` to remove the overhead.\n",
      "And if memory is not enough, you can set `force_col_wise=true`.\n",
      "[LightGBM] [Info] Total Bins 69305\n",
      "[LightGBM] [Info] Number of data points in the train set: 230633, number of used features: 495\n",
      "[LightGBM] [Info] Using GOSS\n",
      "[LightGBM] [Warning] Found boosting=goss. For backwards compatibility reasons, LightGBM interprets this as boosting=gbdt, data_sample_strategy=goss.To suppress this warning, set data_sample_strategy=goss instead.\n",
      "[LightGBM] [Warning] Found whitespace in feature_names, replace with underlines\n",
      "[LightGBM] [Info] [binary:BoostFromScore]: pavg=0.500000 -> initscore=0.000000\n",
      "[LightGBM] [Info] Start training from score 0.000000\n",
      "Training until validation scores don't improve for 50 rounds\n",
      "Early stopping, best iteration is:\n",
      "[195]\tvalid_0's auc: 0.786359\tvalid_0's binary_logloss: 0.506403\n",
      "[LightGBM] [Warning] Found boosting=goss. For backwards compatibility reasons, LightGBM interprets this as boosting=gbdt, data_sample_strategy=goss.To suppress this warning, set data_sample_strategy=goss instead.\n",
      "[LightGBM] [Warning] Found whitespace in feature_names, replace with underlines\n",
      "[LightGBM] [Warning] Found boosting=goss. For backwards compatibility reasons, LightGBM interprets this as boosting=gbdt, data_sample_strategy=goss.To suppress this warning, set data_sample_strategy=goss instead.\n",
      "[LightGBM] [Info] Number of positive: 18565, number of negative: 212068\n",
      "[LightGBM] [Info] Auto-choosing row-wise multi-threading, the overhead of testing was 0.638903 seconds.\n",
      "You can set `force_row_wise=true` to remove the overhead.\n",
      "And if memory is not enough, you can set `force_col_wise=true`.\n",
      "[LightGBM] [Info] Total Bins 69360\n",
      "[LightGBM] [Info] Number of data points in the train set: 230633, number of used features: 495\n",
      "[LightGBM] [Info] Using GOSS\n",
      "[LightGBM] [Warning] Found boosting=goss. For backwards compatibility reasons, LightGBM interprets this as boosting=gbdt, data_sample_strategy=goss.To suppress this warning, set data_sample_strategy=goss instead.\n",
      "[LightGBM] [Warning] Found whitespace in feature_names, replace with underlines\n",
      "[LightGBM] [Info] [binary:BoostFromScore]: pavg=0.500000 -> initscore=0.000000\n",
      "[LightGBM] [Info] Start training from score 0.000000\n",
      "Training until validation scores don't improve for 50 rounds\n",
      "Early stopping, best iteration is:\n",
      "[129]\tvalid_0's auc: 0.785969\tvalid_0's binary_logloss: 0.524283\n",
      "\n",
      "There are 0 features with 0.0 importance\n"
     ]
    }
   ],
   "source": [
    "second_round_zero_features, feature_importances = identify_zero_importance_features(df_train_without_corr_mv_zero, df_train_labels)"
   ]
  },
  {
   "cell_type": "markdown",
   "metadata": {},
   "source": [
    "Il restait des features d'importance nulle. Nous les supprimons avant de faire tourner de nouveau le process pour une nouvelle vérification"
   ]
  },
  {
   "cell_type": "code",
   "execution_count": 53,
   "metadata": {},
   "outputs": [
    {
     "name": "stdout",
     "output_type": "stream",
     "text": [
      "Training shape:  (307511, 495)\n",
      "Testing shape:  (48744, 495)\n"
     ]
    }
   ],
   "source": [
    "df_train_without_corr_mv_zero_zero = df_train_without_corr_mv_zero.drop(columns = second_round_zero_features)\n",
    "df_test_without_corr_mv_zero_zero = df_test_without_corr_mv_zero.drop(columns = second_round_zero_features)\n",
    "\n",
    "print('Training shape: ', df_train_without_corr_mv_zero_zero.shape)\n",
    "print('Testing shape: ', df_test_without_corr_mv_zero_zero.shape)"
   ]
  },
  {
   "cell_type": "code",
   "execution_count": 54,
   "metadata": {},
   "outputs": [
    {
     "name": "stdout",
     "output_type": "stream",
     "text": [
      "[LightGBM] [Warning] Found boosting=goss. For backwards compatibility reasons, LightGBM interprets this as boosting=gbdt, data_sample_strategy=goss.To suppress this warning, set data_sample_strategy=goss instead.\n",
      "[LightGBM] [Warning] Found whitespace in feature_names, replace with underlines\n",
      "[LightGBM] [Warning] Found boosting=goss. For backwards compatibility reasons, LightGBM interprets this as boosting=gbdt, data_sample_strategy=goss.To suppress this warning, set data_sample_strategy=goss instead.\n",
      "[LightGBM] [Info] Number of positive: 18734, number of negative: 211899\n",
      "[LightGBM] [Info] Auto-choosing row-wise multi-threading, the overhead of testing was 0.329815 seconds.\n",
      "You can set `force_row_wise=true` to remove the overhead.\n",
      "And if memory is not enough, you can set `force_col_wise=true`.\n",
      "[LightGBM] [Info] Total Bins 69305\n",
      "[LightGBM] [Info] Number of data points in the train set: 230633, number of used features: 495\n",
      "[LightGBM] [Info] Using GOSS\n",
      "[LightGBM] [Warning] Found boosting=goss. For backwards compatibility reasons, LightGBM interprets this as boosting=gbdt, data_sample_strategy=goss.To suppress this warning, set data_sample_strategy=goss instead.\n",
      "[LightGBM] [Warning] Found whitespace in feature_names, replace with underlines\n",
      "[LightGBM] [Info] [binary:BoostFromScore]: pavg=0.500000 -> initscore=0.000000\n",
      "[LightGBM] [Info] Start training from score 0.000000\n",
      "Training until validation scores don't improve for 50 rounds\n",
      "Early stopping, best iteration is:\n",
      "[195]\tvalid_0's auc: 0.786359\tvalid_0's binary_logloss: 0.506403\n",
      "[LightGBM] [Warning] Found boosting=goss. For backwards compatibility reasons, LightGBM interprets this as boosting=gbdt, data_sample_strategy=goss.To suppress this warning, set data_sample_strategy=goss instead.\n",
      "[LightGBM] [Warning] Found whitespace in feature_names, replace with underlines\n",
      "[LightGBM] [Warning] Found boosting=goss. For backwards compatibility reasons, LightGBM interprets this as boosting=gbdt, data_sample_strategy=goss.To suppress this warning, set data_sample_strategy=goss instead.\n",
      "[LightGBM] [Info] Number of positive: 18565, number of negative: 212068\n",
      "[LightGBM] [Info] Auto-choosing row-wise multi-threading, the overhead of testing was 0.539827 seconds.\n",
      "You can set `force_row_wise=true` to remove the overhead.\n",
      "And if memory is not enough, you can set `force_col_wise=true`.\n",
      "[LightGBM] [Info] Total Bins 69360\n",
      "[LightGBM] [Info] Number of data points in the train set: 230633, number of used features: 495\n",
      "[LightGBM] [Info] Using GOSS\n",
      "[LightGBM] [Warning] Found boosting=goss. For backwards compatibility reasons, LightGBM interprets this as boosting=gbdt, data_sample_strategy=goss.To suppress this warning, set data_sample_strategy=goss instead.\n",
      "[LightGBM] [Warning] Found whitespace in feature_names, replace with underlines\n",
      "[LightGBM] [Info] [binary:BoostFromScore]: pavg=0.500000 -> initscore=0.000000\n",
      "[LightGBM] [Info] Start training from score 0.000000\n",
      "Training until validation scores don't improve for 50 rounds\n",
      "Early stopping, best iteration is:\n",
      "[129]\tvalid_0's auc: 0.785969\tvalid_0's binary_logloss: 0.524283\n",
      "\n",
      "There are 0 features with 0.0 importance\n"
     ]
    }
   ],
   "source": [
    "third_round_zero_features, feature_importances = identify_zero_importance_features(df_train_without_corr_mv_zero_zero, df_train_labels)"
   ]
  },
  {
   "cell_type": "markdown",
   "metadata": {},
   "source": [
    "Il ne reste plus d'éléments d'importance nulle. Si nous voulons supprimer davantage de caractéristiques, nous devrons commencer par des caractéristiques dont l'importance n'est pas nulle. Pour ce faire, nous pourrions conserver suffisamment d'éléments pour tenir compte d'un pourcentage seuil d'importance, par exemple 95 %. À ce stade, conservons suffisamment de caractéristiques pour qu'elles représentent 95 % de l'importance. Là encore, il s'agit d'une décision arbitraire."
   ]
  },
  {
   "cell_type": "code",
   "execution_count": 55,
   "metadata": {},
   "outputs": [],
   "source": [
    "def plot_feature_importances(df, threshold = 0.95):\n",
    "    \"\"\"\n",
    "    Plots 15 most important features and the cumulative importance of features.\n",
    "    Prints the number of features needed to reach threshold cumulative importance.\n",
    "    \n",
    "    Parameters\n",
    "    --------\n",
    "    df : dataframe\n",
    "        Dataframe of feature importances. Columns must be feature and importance\n",
    "    threshold : float, default = 0.9\n",
    "        Threshold for prining information about cumulative importances\n",
    "        \n",
    "    Return\n",
    "    --------\n",
    "    df : dataframe\n",
    "        Dataframe ordered by feature importances with a normalized column (sums to 1)\n",
    "        and a cumulative importance column\n",
    "    \n",
    "    \"\"\"\n",
    "    \n",
    "    plt.rcParams['font.size'] = 18\n",
    "    \n",
    "    # Sort features according to importance\n",
    "    df = df.sort_values('importance', ascending = False).reset_index()\n",
    "    \n",
    "    # Normalize the feature importances to add up to one\n",
    "    df['importance_normalized'] = df['importance'] / df['importance'].sum()\n",
    "    df['cumulative_importance'] = np.cumsum(df['importance_normalized'])\n",
    "\n",
    "    # Make a horizontal bar chart of feature importances\n",
    "    plt.figure(figsize = (10, 6))\n",
    "    ax = plt.subplot()\n",
    "    \n",
    "    # Need to reverse the index to plot most important on top\n",
    "    ax.barh(list(reversed(list(df.index[:15]))), \n",
    "            df['importance_normalized'].head(15), \n",
    "            align = 'center', edgecolor = 'k')\n",
    "    \n",
    "    # Set the yticks and labels\n",
    "    ax.set_yticks(list(reversed(list(df.index[:15]))))\n",
    "    ax.set_yticklabels(df['feature'].head(15))\n",
    "    \n",
    "    # Plot labeling\n",
    "    plt.xlabel('Normalized Importance'); plt.title('Feature Importances')\n",
    "    plt.show()\n",
    "    \n",
    "    # Cumulative importance plot\n",
    "    plt.figure(figsize = (8, 6))\n",
    "    plt.plot(list(range(len(df))), df['cumulative_importance'], 'r-')\n",
    "    plt.xlabel('Number of Features'); plt.ylabel('Cumulative Importance'); \n",
    "    plt.title('Cumulative Feature Importance');\n",
    "    plt.show();\n",
    "    \n",
    "    importance_index = np.min(np.where(df['cumulative_importance'] > threshold))\n",
    "    print('%d features required for %0.2f of cumulative importance' % (importance_index + 1, threshold))\n",
    "    \n",
    "    return df"
   ]
  },
  {
   "cell_type": "code",
   "execution_count": 56,
   "metadata": {},
   "outputs": [
    {
     "data": {
      "image/png": "[encoded data removed]",
      "text/plain": [
       "<Figure size 1000x600 with 1 Axes>"
      ]
     },
     "metadata": {},
     "output_type": "display_data"
    },
    {
     "data": {
      "image/png": "[encoded data removed]",
      "text/plain": [
       "<Figure size 800x600 with 1 Axes>"
      ]
     },
     "metadata": {},
     "output_type": "display_data"
    },
    {
     "name": "stdout",
     "output_type": "stream",
     "text": [
      "326 features required for 0.95 of cumulative importance\n"
     ]
    }
   ],
   "source": [
    "norm_feature_importances = plot_feature_importances(feature_importances)"
   ]
  },
  {
   "cell_type": "markdown",
   "metadata": {},
   "source": [
    "## 6.4 - Sauvegarde d'un dataframe avec une sélection de features représentant 95% de la feature importance cumulée"
   ]
  },
  {
   "cell_type": "code",
   "execution_count": 57,
   "metadata": {},
   "outputs": [],
   "source": [
    "# Threshold for cumulative importance\n",
    "threshold = 0.95\n",
    "\n",
    "# Extract the features to keep\n",
    "features_to_keep = list(norm_feature_importances[norm_feature_importances['cumulative_importance'] < threshold]['feature'])\n",
    "\n",
    "# Create new datasets with smaller features\n",
    "train_reduced = df_train_without_corr_mv_zero_zero[features_to_keep]\n",
    "test_reduced = df_test_without_corr_mv_zero_zero[features_to_keep]\n"
   ]
  },
  {
   "cell_type": "code",
   "execution_count": 58,
   "metadata": {},
   "outputs": [],
   "source": [
    "# Ajout de la target et des id clients\n",
    "train_reduced['TARGET'] = df_train_labels\n",
    "train_reduced['SK_ID_CURR'] = df_train_ids\n",
    "test_reduced['SK_ID_CURR'] = df_test_ids"
   ]
  },
  {
   "cell_type": "code",
   "execution_count": 59,
   "metadata": {},
   "outputs": [
    {
     "name": "stdout",
     "output_type": "stream",
     "text": [
      "Training shape:  (307511, 327)\n",
      "Testing shape:  (48744, 326)\n"
     ]
    }
   ],
   "source": [
    "print('Training shape: ', train_reduced.shape)\n",
    "print('Testing shape: ', test_reduced.shape)"
   ]
  },
  {
   "cell_type": "code",
   "execution_count": 62,
   "metadata": {},
   "outputs": [
    {
     "data": {
      "text/plain": [
       "array([False,  True])"
      ]
     },
     "execution_count": 62,
     "metadata": {},
     "output_type": "execute_result"
    }
   ],
   "source": [
    "train_reduced['NAME_EDUCATION_TYPE_Higher education'].unique()\n"
   ]
  },
  {
   "cell_type": "code",
   "execution_count": 63,
   "metadata": {},
   "outputs": [
    {
     "data": {
      "text/plain": [
       "array([ True, False])"
      ]
     },
     "execution_count": 63,
     "metadata": {},
     "output_type": "execute_result"
    }
   ],
   "source": [
    "test_reduced['NAME_EDUCATION_TYPE_Higher education'].unique()"
   ]
  },
  {
   "cell_type": "code",
   "execution_count": 57,
   "metadata": {},
   "outputs": [],
   "source": [
    "train_reduced.to_csv('train_reduced.csv', index=False)\n",
    "test_reduced.to_csv('test_reduced.csv', index=False)"
   ]
  }
 ],
 "metadata": {
  "kernelspec": {
   "display_name": "Python 3 (ipykernel)",
   "language": "python",
   "name": "python3"
  },
  "language_info": {
   "codemirror_mode": {
    "name": "ipython",
    "version": 3
   },
   "file_extension": ".py",
   "mimetype": "text/x-python",
   "name": "python",
   "nbconvert_exporter": "python",
   "pygments_lexer": "ipython3",
   "version": "3.11.7"
  }
 },
 "nbformat": 4,
 "nbformat_minor": 4
}
