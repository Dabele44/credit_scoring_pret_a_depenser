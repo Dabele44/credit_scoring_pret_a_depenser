{
 "cells": [
  {
   "cell_type": "code",
   "execution_count": 24,
   "metadata": {},
   "outputs": [],
   "source": [
    "import mlflow\n",
    "from PIL import Image\n",
    "import pandas as pd\n",
    "import numpy as np\n",
    "import matplotlib.pyplot as plt\n",
    "import seaborn as sns\n",
    "import time\n",
    "\n",
    "# File system manangement\n",
    "import os\n",
    "\n",
    "# Suppress warnings \n",
    "import warnings\n",
    "warnings.filterwarnings('ignore')\n",
    "\n",
    "# sklearn preprocessing for dealing with categorical variables\n",
    "from sklearn.preprocessing import LabelEncoder\n",
    "from sklearn.impute import SimpleImputer\n",
    "from sklearn.dummy import DummyClassifier\n",
    "from sklearn.metrics import classification_report, accuracy_score\n",
    "from sklearn.metrics import roc_curve\n",
    "from sklearn.metrics import auc\n",
    "from sklearn.metrics import confusion_matrix\n",
    "from sklearn.linear_model import LogisticRegression\n",
    "from sklearn.metrics import make_scorer, roc_auc_score, f1_score, fbeta_score, recall_score\n",
    "from sklearn.model_selection import GridSearchCV\n",
    "from sklearn.model_selection import train_test_split, RandomizedSearchCV\n",
    "from sklearn.ensemble import RandomForestClassifier\n",
    "\n",
    "from imblearn.pipeline import Pipeline\n",
    "from imblearn.over_sampling import SMOTE\n",
    "\n",
    "import lightgbm as lgb\n",
    "\n",
    "from mlflow.models import infer_signature\n",
    "\n",
    "import shap\n",
    "# Memory management\n",
    "import gc "
   ]
  },
  {
   "cell_type": "markdown",
   "metadata": {},
   "source": [
    "Pour cette partie, je me suis inspirée de ce NB : https://www.kaggle.com/code/willkoehrsen/introduction-to-feature-selection"
   ]
  },
  {
   "cell_type": "markdown",
   "metadata": {},
   "source": [
    "# 6 - Feature Selection\n",
    "-------------"
   ]
  },
  {
   "cell_type": "markdown",
   "metadata": {},
   "source": [
    "Nous avons à ce stade plus de 1300 features, ce qui est beaucoup trop. Les features non pertinentes, les features fortement corrélées et les valeurs manquantes peuvent empêcher le modèle d'apprendre et diminuer les performances de généralisation sur les données de test. C'est pourquoi nous procédons à une sélection des features afin de ne conserver que les variables les plus utiles.\n",
    "\n",
    "Nous commencerons la sélection des features en nous concentrant sur les variables colinéaires."
   ]
  },
  {
   "cell_type": "code",
   "execution_count": 25,
   "metadata": {},
   "outputs": [],
   "source": [
    "df_train=pd.read_csv('train_after_fe.csv')\n",
    "df_test=pd.read_csv('test_after_fe.csv')"
   ]
  },
  {
   "cell_type": "code",
   "execution_count": 26,
   "metadata": {},
   "outputs": [
    {
     "data": {
      "text/plain": [
       "((307511, 1329), (48744, 1328))"
      ]
     },
     "execution_count": 26,
     "metadata": {},
     "output_type": "execute_result"
    }
   ],
   "source": [
    "df_train.shape, df_test.shape"
   ]
  },
  {
   "cell_type": "markdown",
   "metadata": {},
   "source": [
    "## 6.1 - Suppression des variables colinéaires"
   ]
  },
  {
   "cell_type": "markdown",
   "metadata": {},
   "source": [
    "Les variables colinéaires sont celles qui sont fortement corrélées entre elles. Elles peuvent diminuer la disponibilité du modèle pour l'apprentissage, diminuer l'interprétabilité du modèle et diminuer les performances de généralisation sur l'ensemble de test. Il est clair que ce sont là trois choses que nous voulons augmenter, et la suppression des variables colinéaires est donc une étape utile. Nous établirons un seuil arbitraire pour la suppression des variables colinéaires, puis nous enlèverons une des paires de variables qui se trouvent au-dessus de ce seuil.\n",
    "\n",
    "Le code ci-dessous identifie les variables fortement corrélées sur la base d'un coefficient de corrélation de Pearson > 0,9."
   ]
  },
  {
   "cell_type": "markdown",
   "metadata": {},
   "source": [
    "### 6.1.1 - Identification des variables corrélées"
   ]
  },
  {
   "cell_type": "markdown",
   "metadata": {},
   "source": [
    "Comme le dataframe est très gros, nous allons faire ce travail sur un échantillon de 1000 individus"
   ]
  },
  {
   "cell_type": "code",
   "execution_count": 27,
   "metadata": {},
   "outputs": [
    {
     "data": {
      "text/plain": [
       "(1000, 1329)"
      ]
     },
     "execution_count": 27,
     "metadata": {},
     "output_type": "execute_result"
    }
   ],
   "source": [
    "df_sample=df_train.sample(1000)\n",
    "df_sample.shape"
   ]
  },
  {
   "cell_type": "code",
   "execution_count": 28,
   "metadata": {},
   "outputs": [
    {
     "data": {
      "text/html": [
       "<div>\n",
       "<style scoped>\n",
       "    .dataframe tbody tr th:only-of-type {\n",
       "        vertical-align: middle;\n",
       "    }\n",
       "\n",
       "    .dataframe tbody tr th {\n",
       "        vertical-align: top;\n",
       "    }\n",
       "\n",
       "    .dataframe thead th {\n",
       "        text-align: right;\n",
       "    }\n",
       "</style>\n",
       "<table border=\"1\" class=\"dataframe\">\n",
       "  <thead>\n",
       "    <tr style=\"text-align: right;\">\n",
       "      <th></th>\n",
       "      <th>SK_ID_CURR</th>\n",
       "      <th>TARGET</th>\n",
       "      <th>CNT_CHILDREN</th>\n",
       "      <th>AMT_INCOME_TOTAL</th>\n",
       "      <th>AMT_CREDIT</th>\n",
       "      <th>AMT_ANNUITY</th>\n",
       "      <th>AMT_GOODS_PRICE</th>\n",
       "      <th>REGION_POPULATION_RELATIVE</th>\n",
       "      <th>DAYS_BIRTH</th>\n",
       "      <th>DAYS_EMPLOYED</th>\n",
       "      <th>...</th>\n",
       "      <th>client_installments_AMT_PAYMENT_min_sum</th>\n",
       "      <th>client_installments_AMT_INSTALMENT_min_sum</th>\n",
       "      <th>client_installments_AMT_PAYMENT_sum_max</th>\n",
       "      <th>client_installments_AMT_INSTALMENT_sum_max</th>\n",
       "      <th>client_installments_AMT_PAYMENT_mean_sum</th>\n",
       "      <th>client_installments_AMT_INSTALMENT_mean_sum</th>\n",
       "      <th>client_installments_AMT_INSTALMENT_max_sum</th>\n",
       "      <th>client_installments_AMT_PAYMENT_max_sum</th>\n",
       "      <th>client_installments_AMT_PAYMENT_sum_sum</th>\n",
       "      <th>client_installments_AMT_INSTALMENT_sum_sum</th>\n",
       "    </tr>\n",
       "  </thead>\n",
       "  <tbody>\n",
       "    <tr>\n",
       "      <th>SK_ID_CURR</th>\n",
       "      <td>1.000000</td>\n",
       "      <td>0.000626</td>\n",
       "      <td>0.052808</td>\n",
       "      <td>0.010746</td>\n",
       "      <td>0.009987</td>\n",
       "      <td>0.027348</td>\n",
       "      <td>0.013407</td>\n",
       "      <td>0.007732</td>\n",
       "      <td>0.074817</td>\n",
       "      <td>0.036348</td>\n",
       "      <td>...</td>\n",
       "      <td>0.039771</td>\n",
       "      <td>0.032600</td>\n",
       "      <td>0.030745</td>\n",
       "      <td>0.031888</td>\n",
       "      <td>0.045044</td>\n",
       "      <td>0.040296</td>\n",
       "      <td>0.035573</td>\n",
       "      <td>0.036573</td>\n",
       "      <td>0.036901</td>\n",
       "      <td>0.031548</td>\n",
       "    </tr>\n",
       "    <tr>\n",
       "      <th>TARGET</th>\n",
       "      <td>0.000626</td>\n",
       "      <td>1.000000</td>\n",
       "      <td>0.040203</td>\n",
       "      <td>0.061833</td>\n",
       "      <td>0.003116</td>\n",
       "      <td>0.010961</td>\n",
       "      <td>0.012844</td>\n",
       "      <td>0.080728</td>\n",
       "      <td>0.133584</td>\n",
       "      <td>0.080492</td>\n",
       "      <td>...</td>\n",
       "      <td>0.107437</td>\n",
       "      <td>0.065860</td>\n",
       "      <td>0.065445</td>\n",
       "      <td>0.060598</td>\n",
       "      <td>0.075249</td>\n",
       "      <td>0.071714</td>\n",
       "      <td>0.049670</td>\n",
       "      <td>0.049807</td>\n",
       "      <td>0.059794</td>\n",
       "      <td>0.057503</td>\n",
       "    </tr>\n",
       "    <tr>\n",
       "      <th>CNT_CHILDREN</th>\n",
       "      <td>0.052808</td>\n",
       "      <td>0.040203</td>\n",
       "      <td>1.000000</td>\n",
       "      <td>0.065039</td>\n",
       "      <td>0.011359</td>\n",
       "      <td>0.033585</td>\n",
       "      <td>0.008351</td>\n",
       "      <td>0.002476</td>\n",
       "      <td>0.312737</td>\n",
       "      <td>0.084337</td>\n",
       "      <td>...</td>\n",
       "      <td>0.067284</td>\n",
       "      <td>0.049946</td>\n",
       "      <td>0.038157</td>\n",
       "      <td>0.034039</td>\n",
       "      <td>0.064815</td>\n",
       "      <td>0.060314</td>\n",
       "      <td>0.057997</td>\n",
       "      <td>0.057916</td>\n",
       "      <td>0.060430</td>\n",
       "      <td>0.058740</td>\n",
       "    </tr>\n",
       "    <tr>\n",
       "      <th>AMT_INCOME_TOTAL</th>\n",
       "      <td>0.010746</td>\n",
       "      <td>0.061833</td>\n",
       "      <td>0.065039</td>\n",
       "      <td>1.000000</td>\n",
       "      <td>0.368146</td>\n",
       "      <td>0.475279</td>\n",
       "      <td>0.382344</td>\n",
       "      <td>0.241577</td>\n",
       "      <td>0.037090</td>\n",
       "      <td>0.030917</td>\n",
       "      <td>...</td>\n",
       "      <td>0.118956</td>\n",
       "      <td>0.116377</td>\n",
       "      <td>0.177416</td>\n",
       "      <td>0.166929</td>\n",
       "      <td>0.144024</td>\n",
       "      <td>0.136269</td>\n",
       "      <td>0.081921</td>\n",
       "      <td>0.082959</td>\n",
       "      <td>0.081106</td>\n",
       "      <td>0.074178</td>\n",
       "    </tr>\n",
       "    <tr>\n",
       "      <th>AMT_CREDIT</th>\n",
       "      <td>0.009987</td>\n",
       "      <td>0.003116</td>\n",
       "      <td>0.011359</td>\n",
       "      <td>0.368146</td>\n",
       "      <td>1.000000</td>\n",
       "      <td>0.713330</td>\n",
       "      <td>0.986303</td>\n",
       "      <td>0.061841</td>\n",
       "      <td>0.066941</td>\n",
       "      <td>0.088422</td>\n",
       "      <td>...</td>\n",
       "      <td>0.095989</td>\n",
       "      <td>0.123014</td>\n",
       "      <td>0.188281</td>\n",
       "      <td>0.186875</td>\n",
       "      <td>0.155224</td>\n",
       "      <td>0.146785</td>\n",
       "      <td>0.128238</td>\n",
       "      <td>0.128821</td>\n",
       "      <td>0.095076</td>\n",
       "      <td>0.088496</td>\n",
       "    </tr>\n",
       "  </tbody>\n",
       "</table>\n",
       "<p>5 rows × 1312 columns</p>\n",
       "</div>"
      ],
      "text/plain": [
       "                  SK_ID_CURR    TARGET  CNT_CHILDREN  AMT_INCOME_TOTAL  \\\n",
       "SK_ID_CURR          1.000000  0.000626      0.052808          0.010746   \n",
       "TARGET              0.000626  1.000000      0.040203          0.061833   \n",
       "CNT_CHILDREN        0.052808  0.040203      1.000000          0.065039   \n",
       "AMT_INCOME_TOTAL    0.010746  0.061833      0.065039          1.000000   \n",
       "AMT_CREDIT          0.009987  0.003116      0.011359          0.368146   \n",
       "\n",
       "                  AMT_CREDIT  AMT_ANNUITY  AMT_GOODS_PRICE  \\\n",
       "SK_ID_CURR          0.009987     0.027348         0.013407   \n",
       "TARGET              0.003116     0.010961         0.012844   \n",
       "CNT_CHILDREN        0.011359     0.033585         0.008351   \n",
       "AMT_INCOME_TOTAL    0.368146     0.475279         0.382344   \n",
       "AMT_CREDIT          1.000000     0.713330         0.986303   \n",
       "\n",
       "                  REGION_POPULATION_RELATIVE  DAYS_BIRTH  DAYS_EMPLOYED  ...  \\\n",
       "SK_ID_CURR                          0.007732    0.074817       0.036348  ...   \n",
       "TARGET                              0.080728    0.133584       0.080492  ...   \n",
       "CNT_CHILDREN                        0.002476    0.312737       0.084337  ...   \n",
       "AMT_INCOME_TOTAL                    0.241577    0.037090       0.030917  ...   \n",
       "AMT_CREDIT                          0.061841    0.066941       0.088422  ...   \n",
       "\n",
       "                  client_installments_AMT_PAYMENT_min_sum  \\\n",
       "SK_ID_CURR                                       0.039771   \n",
       "TARGET                                           0.107437   \n",
       "CNT_CHILDREN                                     0.067284   \n",
       "AMT_INCOME_TOTAL                                 0.118956   \n",
       "AMT_CREDIT                                       0.095989   \n",
       "\n",
       "                  client_installments_AMT_INSTALMENT_min_sum  \\\n",
       "SK_ID_CURR                                          0.032600   \n",
       "TARGET                                              0.065860   \n",
       "CNT_CHILDREN                                        0.049946   \n",
       "AMT_INCOME_TOTAL                                    0.116377   \n",
       "AMT_CREDIT                                          0.123014   \n",
       "\n",
       "                  client_installments_AMT_PAYMENT_sum_max  \\\n",
       "SK_ID_CURR                                       0.030745   \n",
       "TARGET                                           0.065445   \n",
       "CNT_CHILDREN                                     0.038157   \n",
       "AMT_INCOME_TOTAL                                 0.177416   \n",
       "AMT_CREDIT                                       0.188281   \n",
       "\n",
       "                  client_installments_AMT_INSTALMENT_sum_max  \\\n",
       "SK_ID_CURR                                          0.031888   \n",
       "TARGET                                              0.060598   \n",
       "CNT_CHILDREN                                        0.034039   \n",
       "AMT_INCOME_TOTAL                                    0.166929   \n",
       "AMT_CREDIT                                          0.186875   \n",
       "\n",
       "                  client_installments_AMT_PAYMENT_mean_sum  \\\n",
       "SK_ID_CURR                                        0.045044   \n",
       "TARGET                                            0.075249   \n",
       "CNT_CHILDREN                                      0.064815   \n",
       "AMT_INCOME_TOTAL                                  0.144024   \n",
       "AMT_CREDIT                                        0.155224   \n",
       "\n",
       "                  client_installments_AMT_INSTALMENT_mean_sum  \\\n",
       "SK_ID_CURR                                           0.040296   \n",
       "TARGET                                               0.071714   \n",
       "CNT_CHILDREN                                         0.060314   \n",
       "AMT_INCOME_TOTAL                                     0.136269   \n",
       "AMT_CREDIT                                           0.146785   \n",
       "\n",
       "                  client_installments_AMT_INSTALMENT_max_sum  \\\n",
       "SK_ID_CURR                                          0.035573   \n",
       "TARGET                                              0.049670   \n",
       "CNT_CHILDREN                                        0.057997   \n",
       "AMT_INCOME_TOTAL                                    0.081921   \n",
       "AMT_CREDIT                                          0.128238   \n",
       "\n",
       "                  client_installments_AMT_PAYMENT_max_sum  \\\n",
       "SK_ID_CURR                                       0.036573   \n",
       "TARGET                                           0.049807   \n",
       "CNT_CHILDREN                                     0.057916   \n",
       "AMT_INCOME_TOTAL                                 0.082959   \n",
       "AMT_CREDIT                                       0.128821   \n",
       "\n",
       "                  client_installments_AMT_PAYMENT_sum_sum  \\\n",
       "SK_ID_CURR                                       0.036901   \n",
       "TARGET                                           0.059794   \n",
       "CNT_CHILDREN                                     0.060430   \n",
       "AMT_INCOME_TOTAL                                 0.081106   \n",
       "AMT_CREDIT                                       0.095076   \n",
       "\n",
       "                  client_installments_AMT_INSTALMENT_sum_sum  \n",
       "SK_ID_CURR                                          0.031548  \n",
       "TARGET                                              0.057503  \n",
       "CNT_CHILDREN                                        0.058740  \n",
       "AMT_INCOME_TOTAL                                    0.074178  \n",
       "AMT_CREDIT                                          0.088496  \n",
       "\n",
       "[5 rows x 1312 columns]"
      ]
     },
     "execution_count": 28,
     "metadata": {},
     "output_type": "execute_result"
    }
   ],
   "source": [
    "# Threshold for removing correlated variables\n",
    "threshold = 0.9\n",
    "\n",
    "# Exclude non-numeric columns\n",
    "numeric_cols = df_sample.select_dtypes(include=[np.number])\n",
    "\n",
    "# Calculate the absolute value of the correlation matrix\n",
    "corr_matrix = numeric_cols.corr().abs()\n",
    "\n",
    "# Display the correlation matrix\n",
    "corr_matrix.head()\n"
   ]
  },
  {
   "cell_type": "code",
   "execution_count": 29,
   "metadata": {},
   "outputs": [
    {
     "data": {
      "text/html": [
       "<div>\n",
       "<style scoped>\n",
       "    .dataframe tbody tr th:only-of-type {\n",
       "        vertical-align: middle;\n",
       "    }\n",
       "\n",
       "    .dataframe tbody tr th {\n",
       "        vertical-align: top;\n",
       "    }\n",
       "\n",
       "    .dataframe thead th {\n",
       "        text-align: right;\n",
       "    }\n",
       "</style>\n",
       "<table border=\"1\" class=\"dataframe\">\n",
       "  <thead>\n",
       "    <tr style=\"text-align: right;\">\n",
       "      <th></th>\n",
       "      <th>SK_ID_CURR</th>\n",
       "      <th>TARGET</th>\n",
       "      <th>CNT_CHILDREN</th>\n",
       "      <th>AMT_INCOME_TOTAL</th>\n",
       "      <th>AMT_CREDIT</th>\n",
       "      <th>AMT_ANNUITY</th>\n",
       "      <th>AMT_GOODS_PRICE</th>\n",
       "      <th>REGION_POPULATION_RELATIVE</th>\n",
       "      <th>DAYS_BIRTH</th>\n",
       "      <th>DAYS_EMPLOYED</th>\n",
       "      <th>...</th>\n",
       "      <th>client_installments_AMT_PAYMENT_min_sum</th>\n",
       "      <th>client_installments_AMT_INSTALMENT_min_sum</th>\n",
       "      <th>client_installments_AMT_PAYMENT_sum_max</th>\n",
       "      <th>client_installments_AMT_INSTALMENT_sum_max</th>\n",
       "      <th>client_installments_AMT_PAYMENT_mean_sum</th>\n",
       "      <th>client_installments_AMT_INSTALMENT_mean_sum</th>\n",
       "      <th>client_installments_AMT_INSTALMENT_max_sum</th>\n",
       "      <th>client_installments_AMT_PAYMENT_max_sum</th>\n",
       "      <th>client_installments_AMT_PAYMENT_sum_sum</th>\n",
       "      <th>client_installments_AMT_INSTALMENT_sum_sum</th>\n",
       "    </tr>\n",
       "  </thead>\n",
       "  <tbody>\n",
       "    <tr>\n",
       "      <th>SK_ID_CURR</th>\n",
       "      <td>NaN</td>\n",
       "      <td>0.000626</td>\n",
       "      <td>0.052808</td>\n",
       "      <td>0.010746</td>\n",
       "      <td>0.009987</td>\n",
       "      <td>0.027348</td>\n",
       "      <td>0.013407</td>\n",
       "      <td>0.007732</td>\n",
       "      <td>0.074817</td>\n",
       "      <td>0.036348</td>\n",
       "      <td>...</td>\n",
       "      <td>0.039771</td>\n",
       "      <td>0.032600</td>\n",
       "      <td>0.030745</td>\n",
       "      <td>0.031888</td>\n",
       "      <td>0.045044</td>\n",
       "      <td>0.040296</td>\n",
       "      <td>0.035573</td>\n",
       "      <td>0.036573</td>\n",
       "      <td>0.036901</td>\n",
       "      <td>0.031548</td>\n",
       "    </tr>\n",
       "    <tr>\n",
       "      <th>TARGET</th>\n",
       "      <td>NaN</td>\n",
       "      <td>NaN</td>\n",
       "      <td>0.040203</td>\n",
       "      <td>0.061833</td>\n",
       "      <td>0.003116</td>\n",
       "      <td>0.010961</td>\n",
       "      <td>0.012844</td>\n",
       "      <td>0.080728</td>\n",
       "      <td>0.133584</td>\n",
       "      <td>0.080492</td>\n",
       "      <td>...</td>\n",
       "      <td>0.107437</td>\n",
       "      <td>0.065860</td>\n",
       "      <td>0.065445</td>\n",
       "      <td>0.060598</td>\n",
       "      <td>0.075249</td>\n",
       "      <td>0.071714</td>\n",
       "      <td>0.049670</td>\n",
       "      <td>0.049807</td>\n",
       "      <td>0.059794</td>\n",
       "      <td>0.057503</td>\n",
       "    </tr>\n",
       "    <tr>\n",
       "      <th>CNT_CHILDREN</th>\n",
       "      <td>NaN</td>\n",
       "      <td>NaN</td>\n",
       "      <td>NaN</td>\n",
       "      <td>0.065039</td>\n",
       "      <td>0.011359</td>\n",
       "      <td>0.033585</td>\n",
       "      <td>0.008351</td>\n",
       "      <td>0.002476</td>\n",
       "      <td>0.312737</td>\n",
       "      <td>0.084337</td>\n",
       "      <td>...</td>\n",
       "      <td>0.067284</td>\n",
       "      <td>0.049946</td>\n",
       "      <td>0.038157</td>\n",
       "      <td>0.034039</td>\n",
       "      <td>0.064815</td>\n",
       "      <td>0.060314</td>\n",
       "      <td>0.057997</td>\n",
       "      <td>0.057916</td>\n",
       "      <td>0.060430</td>\n",
       "      <td>0.058740</td>\n",
       "    </tr>\n",
       "    <tr>\n",
       "      <th>AMT_INCOME_TOTAL</th>\n",
       "      <td>NaN</td>\n",
       "      <td>NaN</td>\n",
       "      <td>NaN</td>\n",
       "      <td>NaN</td>\n",
       "      <td>0.368146</td>\n",
       "      <td>0.475279</td>\n",
       "      <td>0.382344</td>\n",
       "      <td>0.241577</td>\n",
       "      <td>0.037090</td>\n",
       "      <td>0.030917</td>\n",
       "      <td>...</td>\n",
       "      <td>0.118956</td>\n",
       "      <td>0.116377</td>\n",
       "      <td>0.177416</td>\n",
       "      <td>0.166929</td>\n",
       "      <td>0.144024</td>\n",
       "      <td>0.136269</td>\n",
       "      <td>0.081921</td>\n",
       "      <td>0.082959</td>\n",
       "      <td>0.081106</td>\n",
       "      <td>0.074178</td>\n",
       "    </tr>\n",
       "    <tr>\n",
       "      <th>AMT_CREDIT</th>\n",
       "      <td>NaN</td>\n",
       "      <td>NaN</td>\n",
       "      <td>NaN</td>\n",
       "      <td>NaN</td>\n",
       "      <td>NaN</td>\n",
       "      <td>0.713330</td>\n",
       "      <td>0.986303</td>\n",
       "      <td>0.061841</td>\n",
       "      <td>0.066941</td>\n",
       "      <td>0.088422</td>\n",
       "      <td>...</td>\n",
       "      <td>0.095989</td>\n",
       "      <td>0.123014</td>\n",
       "      <td>0.188281</td>\n",
       "      <td>0.186875</td>\n",
       "      <td>0.155224</td>\n",
       "      <td>0.146785</td>\n",
       "      <td>0.128238</td>\n",
       "      <td>0.128821</td>\n",
       "      <td>0.095076</td>\n",
       "      <td>0.088496</td>\n",
       "    </tr>\n",
       "  </tbody>\n",
       "</table>\n",
       "<p>5 rows × 1312 columns</p>\n",
       "</div>"
      ],
      "text/plain": [
       "                  SK_ID_CURR    TARGET  CNT_CHILDREN  AMT_INCOME_TOTAL  \\\n",
       "SK_ID_CURR               NaN  0.000626      0.052808          0.010746   \n",
       "TARGET                   NaN       NaN      0.040203          0.061833   \n",
       "CNT_CHILDREN             NaN       NaN           NaN          0.065039   \n",
       "AMT_INCOME_TOTAL         NaN       NaN           NaN               NaN   \n",
       "AMT_CREDIT               NaN       NaN           NaN               NaN   \n",
       "\n",
       "                  AMT_CREDIT  AMT_ANNUITY  AMT_GOODS_PRICE  \\\n",
       "SK_ID_CURR          0.009987     0.027348         0.013407   \n",
       "TARGET              0.003116     0.010961         0.012844   \n",
       "CNT_CHILDREN        0.011359     0.033585         0.008351   \n",
       "AMT_INCOME_TOTAL    0.368146     0.475279         0.382344   \n",
       "AMT_CREDIT               NaN     0.713330         0.986303   \n",
       "\n",
       "                  REGION_POPULATION_RELATIVE  DAYS_BIRTH  DAYS_EMPLOYED  ...  \\\n",
       "SK_ID_CURR                          0.007732    0.074817       0.036348  ...   \n",
       "TARGET                              0.080728    0.133584       0.080492  ...   \n",
       "CNT_CHILDREN                        0.002476    0.312737       0.084337  ...   \n",
       "AMT_INCOME_TOTAL                    0.241577    0.037090       0.030917  ...   \n",
       "AMT_CREDIT                          0.061841    0.066941       0.088422  ...   \n",
       "\n",
       "                  client_installments_AMT_PAYMENT_min_sum  \\\n",
       "SK_ID_CURR                                       0.039771   \n",
       "TARGET                                           0.107437   \n",
       "CNT_CHILDREN                                     0.067284   \n",
       "AMT_INCOME_TOTAL                                 0.118956   \n",
       "AMT_CREDIT                                       0.095989   \n",
       "\n",
       "                  client_installments_AMT_INSTALMENT_min_sum  \\\n",
       "SK_ID_CURR                                          0.032600   \n",
       "TARGET                                              0.065860   \n",
       "CNT_CHILDREN                                        0.049946   \n",
       "AMT_INCOME_TOTAL                                    0.116377   \n",
       "AMT_CREDIT                                          0.123014   \n",
       "\n",
       "                  client_installments_AMT_PAYMENT_sum_max  \\\n",
       "SK_ID_CURR                                       0.030745   \n",
       "TARGET                                           0.065445   \n",
       "CNT_CHILDREN                                     0.038157   \n",
       "AMT_INCOME_TOTAL                                 0.177416   \n",
       "AMT_CREDIT                                       0.188281   \n",
       "\n",
       "                  client_installments_AMT_INSTALMENT_sum_max  \\\n",
       "SK_ID_CURR                                          0.031888   \n",
       "TARGET                                              0.060598   \n",
       "CNT_CHILDREN                                        0.034039   \n",
       "AMT_INCOME_TOTAL                                    0.166929   \n",
       "AMT_CREDIT                                          0.186875   \n",
       "\n",
       "                  client_installments_AMT_PAYMENT_mean_sum  \\\n",
       "SK_ID_CURR                                        0.045044   \n",
       "TARGET                                            0.075249   \n",
       "CNT_CHILDREN                                      0.064815   \n",
       "AMT_INCOME_TOTAL                                  0.144024   \n",
       "AMT_CREDIT                                        0.155224   \n",
       "\n",
       "                  client_installments_AMT_INSTALMENT_mean_sum  \\\n",
       "SK_ID_CURR                                           0.040296   \n",
       "TARGET                                               0.071714   \n",
       "CNT_CHILDREN                                         0.060314   \n",
       "AMT_INCOME_TOTAL                                     0.136269   \n",
       "AMT_CREDIT                                           0.146785   \n",
       "\n",
       "                  client_installments_AMT_INSTALMENT_max_sum  \\\n",
       "SK_ID_CURR                                          0.035573   \n",
       "TARGET                                              0.049670   \n",
       "CNT_CHILDREN                                        0.057997   \n",
       "AMT_INCOME_TOTAL                                    0.081921   \n",
       "AMT_CREDIT                                          0.128238   \n",
       "\n",
       "                  client_installments_AMT_PAYMENT_max_sum  \\\n",
       "SK_ID_CURR                                       0.036573   \n",
       "TARGET                                           0.049807   \n",
       "CNT_CHILDREN                                     0.057916   \n",
       "AMT_INCOME_TOTAL                                 0.082959   \n",
       "AMT_CREDIT                                       0.128821   \n",
       "\n",
       "                  client_installments_AMT_PAYMENT_sum_sum  \\\n",
       "SK_ID_CURR                                       0.036901   \n",
       "TARGET                                           0.059794   \n",
       "CNT_CHILDREN                                     0.060430   \n",
       "AMT_INCOME_TOTAL                                 0.081106   \n",
       "AMT_CREDIT                                       0.095076   \n",
       "\n",
       "                  client_installments_AMT_INSTALMENT_sum_sum  \n",
       "SK_ID_CURR                                          0.031548  \n",
       "TARGET                                              0.057503  \n",
       "CNT_CHILDREN                                        0.058740  \n",
       "AMT_INCOME_TOTAL                                    0.074178  \n",
       "AMT_CREDIT                                          0.088496  \n",
       "\n",
       "[5 rows x 1312 columns]"
      ]
     },
     "execution_count": 29,
     "metadata": {},
     "output_type": "execute_result"
    }
   ],
   "source": [
    "# On ne récupère que la partie haute de la matrice\n",
    "upper = corr_matrix.where(np.triu(np.ones(corr_matrix.shape), k=1).astype(np.bool_))\n",
    "upper.head()"
   ]
  },
  {
   "cell_type": "code",
   "execution_count": 30,
   "metadata": {},
   "outputs": [
    {
     "name": "stdout",
     "output_type": "stream",
     "text": [
      "There are 597 columns to remove.\n"
     ]
    }
   ],
   "source": [
    "# Sélection des variables dont la corrélation dépasse le seuil de 0.9, pour pouvoir els supprimer\n",
    "to_drop = [column for column in upper.columns if any(upper[column] > threshold)]\n",
    "\n",
    "print('There are %d columns to remove.' % (len(to_drop)))"
   ]
  },
  {
   "cell_type": "markdown",
   "metadata": {},
   "source": [
    "### 6.1.2 - Suppression des variables corrélées"
   ]
  },
  {
   "cell_type": "code",
   "execution_count": 31,
   "metadata": {},
   "outputs": [
    {
     "name": "stdout",
     "output_type": "stream",
     "text": [
      "Training shape:  (307511, 732)\n",
      "Testing shape:  (48744, 731)\n"
     ]
    }
   ],
   "source": [
    "df_train_without_corr = df_train.drop(to_drop, axis=1)\n",
    "df_test_without_corr = df_test.drop(to_drop, axis=1)\n",
    "print('Training shape: ', df_train_without_corr.shape)\n",
    "print('Testing shape: ', df_test_without_corr.shape)\n"
   ]
  },
  {
   "cell_type": "markdown",
   "metadata": {},
   "source": [
    "L'application de cette méthode à l'ensemble du jeu de données permet de supprimer près de la moitié de features colinéaires.\n",
    "Le nombre de features a été réduit de manière significative, mais il est probablement encore trop élevé."
   ]
  },
  {
   "cell_type": "markdown",
   "metadata": {},
   "source": [
    "## 6.2 - Suppresion des MV et encodage des variables catégorielles"
   ]
  },
  {
   "cell_type": "markdown",
   "metadata": {},
   "source": [
    "Un choix relativement simple de sélection de features consiste à supprimer les valeurs manquantes. Cela semble simple, du moins jusqu'à ce que nous devions décider quel pourcentage de valeurs manquantes est le seuil minimum pour supprimer une colonne. Comme pour de nombreux choix en apprentissage automatique, il n'y a pas de bonne réponse, ni même de règle générale pour faire ce choix. Dans cette implémentation, si des colonnes ont plus de 75 % de valeurs manquantes, elles seront supprimées.\n",
    "\n",
    "Comme le LightGBM peut traiter les valeurs manquantes, nous n'allons pas faire d'imputation sur les variables restantes puisque nous avons vu précédemment que le LGBM était le modèle le plus performant de ceux que nous avons testés. "
   ]
  },
  {
   "cell_type": "code",
   "execution_count": 32,
   "metadata": {},
   "outputs": [
    {
     "data": {
      "text/plain": [
       "previous_RATE_INTEREST_PRIVILEGED_min                 0.985012\n",
       "client_credit_AMT_PAYMENT_CURRENT_min_min             0.801438\n",
       "client_credit_CNT_DRAWINGS_OTHER_CURRENT_mean_mean    0.801178\n",
       "client_credit_AMT_DRAWINGS_ATM_CURRENT_mean_mean      0.801178\n",
       "client_credit_CNT_DRAWINGS_ATM_CURRENT_max_min        0.801178\n",
       "client_credit_CNT_DRAWINGS_ATM_CURRENT_mean_min       0.801178\n",
       "client_credit_AMT_DRAWINGS_POS_CURRENT_max_mean       0.801178\n",
       "client_credit_AMT_DRAWINGS_POS_CURRENT_mean_min       0.801178\n",
       "client_credit_AMT_DRAWINGS_OTHER_CURRENT_mean_min     0.801178\n",
       "client_credit_AMT_DRAWINGS_ATM_CURRENT_max_min        0.801178\n",
       "client_credit_AMT_DRAWINGS_OTHER_CURRENT_min_min      0.801178\n",
       "client_credit_AMT_DRAWINGS_OTHER_CURRENT_min_max      0.801178\n",
       "client_credit_AMT_DRAWINGS_OTHER_CURRENT_min_mean     0.801178\n",
       "client_credit_CNT_DRAWINGS_OTHER_CURRENT_min_min      0.801178\n",
       "client_credit_CNT_DRAWINGS_OTHER_CURRENT_min_max      0.801178\n",
       "dtype: float64"
      ]
     },
     "execution_count": 32,
     "metadata": {},
     "output_type": "execute_result"
    }
   ],
   "source": [
    "train_missing = (df_train_without_corr.isnull().sum() / len(df_train_without_corr)).sort_values(ascending = False)\n",
    "train_missing.head(15)"
   ]
  },
  {
   "cell_type": "code",
   "execution_count": 33,
   "metadata": {},
   "outputs": [
    {
     "data": {
      "text/plain": [
       "previous_RATE_INTEREST_PRIVILEGED_min                 0.977187\n",
       "client_credit_CNT_DRAWINGS_OTHER_CURRENT_mean_mean    0.773223\n",
       "client_credit_CNT_DRAWINGS_OTHER_CURRENT_min_mean     0.773223\n",
       "client_credit_AMT_DRAWINGS_OTHER_CURRENT_mean_min     0.773223\n",
       "client_credit_AMT_DRAWINGS_POS_CURRENT_mean_min       0.773223\n",
       "dtype: float64"
      ]
     },
     "execution_count": 33,
     "metadata": {},
     "output_type": "execute_result"
    }
   ],
   "source": [
    "# Test missing values (in percent)\n",
    "test_missing = (df_test_without_corr.isnull().sum() / len(df_test_without_corr)).sort_values(ascending = False)\n",
    "test_missing.head()"
   ]
  },
  {
   "cell_type": "code",
   "execution_count": 34,
   "metadata": {},
   "outputs": [
    {
     "name": "stdout",
     "output_type": "stream",
     "text": [
      "There are 16 columns with more than 75% missing values\n"
     ]
    }
   ],
   "source": [
    "# Identification des MV au delà du seuil de 75%\n",
    "train_missing = train_missing.index[train_missing > 0.75]\n",
    "test_missing = test_missing.index[test_missing > 0.75]\n",
    "\n",
    "all_missing = list(set(set(train_missing) | set(test_missing)))\n",
    "print('There are %d columns with more than 75%% missing values' % len(all_missing))"
   ]
  },
  {
   "cell_type": "code",
   "execution_count": 35,
   "metadata": {},
   "outputs": [
    {
     "data": {
      "text/plain": [
       "['client_credit_CNT_DRAWINGS_OTHER_CURRENT_min_mean',\n",
       " 'client_credit_CNT_DRAWINGS_ATM_CURRENT_mean_min',\n",
       " 'client_credit_AMT_DRAWINGS_OTHER_CURRENT_mean_min',\n",
       " 'client_credit_CNT_DRAWINGS_OTHER_CURRENT_mean_mean',\n",
       " 'previous_RATE_INTEREST_PRIVILEGED_min',\n",
       " 'client_credit_AMT_DRAWINGS_OTHER_CURRENT_min_min',\n",
       " 'client_credit_CNT_DRAWINGS_OTHER_CURRENT_min_min',\n",
       " 'client_credit_AMT_DRAWINGS_POS_CURRENT_max_mean',\n",
       " 'client_credit_AMT_PAYMENT_CURRENT_min_min',\n",
       " 'client_credit_AMT_DRAWINGS_OTHER_CURRENT_min_mean',\n",
       " 'client_credit_AMT_DRAWINGS_ATM_CURRENT_mean_mean',\n",
       " 'client_credit_CNT_DRAWINGS_ATM_CURRENT_max_min',\n",
       " 'client_credit_AMT_DRAWINGS_OTHER_CURRENT_min_max',\n",
       " 'client_credit_CNT_DRAWINGS_OTHER_CURRENT_min_max',\n",
       " 'client_credit_AMT_DRAWINGS_POS_CURRENT_mean_min',\n",
       " 'client_credit_AMT_DRAWINGS_ATM_CURRENT_max_min']"
      ]
     },
     "execution_count": 35,
     "metadata": {},
     "output_type": "execute_result"
    }
   ],
   "source": [
    "all_missing"
   ]
  },
  {
   "cell_type": "markdown",
   "metadata": {},
   "source": [
    "Nous supprimons ces variables et encodons les variables restantes avec un One Hot Encosing"
   ]
  },
  {
   "cell_type": "code",
   "execution_count": 36,
   "metadata": {},
   "outputs": [],
   "source": [
    "# Sauvegarde des targets pq l'alignement va supprimer cette variable\n",
    "df_train_labels = df_train_without_corr[\"TARGET\"]\n",
    "\n",
    "# Sauvegarde des identifiants\n",
    "df_train_ids = df_train_without_corr['SK_ID_CURR']\n",
    "df_test_ids = df_test_without_corr['SK_ID_CURR']\n",
    "\n",
    "\n",
    "# get_dummies\n",
    "df_train_without_corr_mv = pd.get_dummies(df_train_without_corr.drop(all_missing, axis=1))\n",
    "df_test_without_corr_mv = pd.get_dummies(df_test_without_corr.drop(all_missing, axis=1))\n",
    "\n"
   ]
  },
  {
   "cell_type": "code",
   "execution_count": 37,
   "metadata": {},
   "outputs": [
    {
     "data": {
      "text/plain": [
       "((307511, 840), (48744, 836))"
      ]
     },
     "execution_count": 37,
     "metadata": {},
     "output_type": "execute_result"
    }
   ],
   "source": [
    "df_train_without_corr_mv.shape, df_test_without_corr_mv.shape"
   ]
  },
  {
   "cell_type": "code",
   "execution_count": 38,
   "metadata": {},
   "outputs": [
    {
     "name": "stdout",
     "output_type": "stream",
     "text": [
      "Training set full shape:  (307511, 836)\n",
      "Testing set full shape:  (48744, 836)\n"
     ]
    }
   ],
   "source": [
    "# Alignement\n",
    "df_train_without_corr_mv, df_test_without_corr_mv = df_train_without_corr_mv.align(df_test_without_corr_mv, join = 'inner', axis = 1)\n",
    "\n",
    "print('Training set full shape: ', df_train_without_corr_mv.shape)\n",
    "print('Testing set full shape: ', df_test_without_corr_mv.shape)\n"
   ]
  },
  {
   "cell_type": "code",
   "execution_count": 39,
   "metadata": {},
   "outputs": [],
   "source": [
    "# drop des ids pour pouvoir faire la feature selection avec modélisation\n",
    "df_train_without_corr_mv = df_train_without_corr_mv.drop(columns = ['SK_ID_CURR'])\n",
    "df_test_without_corr_mv = df_test_without_corr_mv.drop(columns = ['SK_ID_CURR'])"
   ]
  },
  {
   "cell_type": "code",
   "execution_count": 40,
   "metadata": {},
   "outputs": [
    {
     "name": "stdout",
     "output_type": "stream",
     "text": [
      "Training set full shape:  (307511, 835)\n",
      "Testing set full shape:  (48744, 835)\n"
     ]
    }
   ],
   "source": [
    "print('Training set full shape: ', df_train_without_corr_mv.shape)\n",
    "print('Testing set full shape: ', df_test_without_corr_mv.shape)"
   ]
  },
  {
   "cell_type": "markdown",
   "metadata": {},
   "source": [
    "## 6.3 - Feature selection avec la Feature Importance"
   ]
  },
  {
   "cell_type": "markdown",
   "metadata": {},
   "source": [
    "La méthode suivante que nous pouvons employer pour la sélection des features consiste à utiliser la feature importance d'un modèle.  \n",
    "Les modèles basés sur les arbres (et par conséquent les ensembles d'arbres) peuvent déterminer une \"importance\" pour chaque caractéristique en mesurant la réduction de l'impureté par l'inclusion de la caractéristique dans le modèle. La valeur relative des importances peut être utilisée comme une approximation de la \"pertinence\" des différentes caractéristiques dans un modèle. Nous pouvons donc l'utiliser pour supprimer les caractéristiques que le modèle ne considère pas comme importantes."
   ]
  },
  {
   "cell_type": "markdown",
   "metadata": {},
   "source": [
    "Dans un 1er temps, nous allons supprimer toutes les features d'importance nulle du modèle. S'il reste trop de features, nous pouvons envisager de supprimer celles qui ont le moins d'importance. "
   ]
  },
  {
   "cell_type": "markdown",
   "metadata": {},
   "source": [
    "Comme le modèle LightGBM ne nécessite pas l'imputation des valeurs manquantes, nous pouvons l'ajuster directement sur les données d'apprentissage. Nous utiliserons l'arrêt anticipé pour déterminer le nombre optimal d'itérations et exécuterons le modèle deux fois, en calculant la moyenne des importances des caractéristiques pour essayer d'éviter le surajustement à un certain ensemble de caractéristiques."
   ]
  },
  {
   "cell_type": "code",
   "execution_count": 41,
   "metadata": {},
   "outputs": [],
   "source": [
    "# Initialize an empty array to hold feature importances\n",
    "feature_importances = np.zeros(df_train_without_corr_mv.shape[1])\n",
    "\n",
    "# Create the model with several hyperparameters\n",
    "model = lgb.LGBMClassifier(objective='binary', \n",
    "                           boosting_type = 'goss', \n",
    "                           n_estimators = 10000,\n",
    "                           # learning_rate = 0.01, \n",
    "                           class_weight = 'balanced')"
   ]
  },
  {
   "cell_type": "markdown",
   "metadata": {},
   "source": [
    "Pour éviter le message d'erreur 'LightGBMError: Do not support special JSON characters in feature name', je remplace les caractères spéciaux dans les noms des features"
   ]
  },
  {
   "cell_type": "code",
   "execution_count": 42,
   "metadata": {},
   "outputs": [],
   "source": [
    "df_train_without_corr_mv.columns= [col.replace('{', '').replace('}', '').replace(':', '').replace('[', '').replace(']', '').replace(',', '').replace('\"', '').replace(\"'\", '') for col in df_train_without_corr_mv.columns]\n",
    "df_test_without_corr_mv.columns= [col.replace('{', '').replace('}', '').replace(':', '').replace('[', '').replace(']', '').replace(',', '').replace('\"', '').replace(\"'\", '') for col in df_test_without_corr_mv.columns]"
   ]
  },
  {
   "cell_type": "code",
   "execution_count": 43,
   "metadata": {},
   "outputs": [
    {
     "name": "stdout",
     "output_type": "stream",
     "text": [
      "[LightGBM] [Warning] Found boosting=goss. For backwards compatibility reasons, LightGBM interprets this as boosting=gbdt, data_sample_strategy=goss.To suppress this warning, set data_sample_strategy=goss instead.\n",
      "[LightGBM] [Warning] Found whitespace in feature_names, replace with underlines\n",
      "[LightGBM] [Warning] Found boosting=goss. For backwards compatibility reasons, LightGBM interprets this as boosting=gbdt, data_sample_strategy=goss.To suppress this warning, set data_sample_strategy=goss instead.\n",
      "[LightGBM] [Info] Number of positive: 18734, number of negative: 211899\n",
      "[LightGBM] [Info] Auto-choosing col-wise multi-threading, the overhead of testing was 0.546332 seconds.\n",
      "You can set `force_col_wise=true` to remove the overhead.\n",
      "[LightGBM] [Info] Total Bins 78071\n",
      "[LightGBM] [Info] Number of data points in the train set: 230633, number of used features: 827\n",
      "[LightGBM] [Info] Using GOSS\n",
      "[LightGBM] [Warning] Found boosting=goss. For backwards compatibility reasons, LightGBM interprets this as boosting=gbdt, data_sample_strategy=goss.To suppress this warning, set data_sample_strategy=goss instead.\n",
      "[LightGBM] [Warning] Found whitespace in feature_names, replace with underlines\n",
      "[LightGBM] [Info] [binary:BoostFromScore]: pavg=0.500000 -> initscore=0.000000\n",
      "[LightGBM] [Info] Start training from score 0.000000\n",
      "Training until validation scores don't improve for 50 rounds\n",
      "Early stopping, best iteration is:\n",
      "[177]\tvalid_0's auc: 0.785476\tvalid_0's binary_logloss: 0.511226\n",
      "[LightGBM] [Warning] Found boosting=goss. For backwards compatibility reasons, LightGBM interprets this as boosting=gbdt, data_sample_strategy=goss.To suppress this warning, set data_sample_strategy=goss instead.\n",
      "[LightGBM] [Warning] Found whitespace in feature_names, replace with underlines\n",
      "[LightGBM] [Warning] Found boosting=goss. For backwards compatibility reasons, LightGBM interprets this as boosting=gbdt, data_sample_strategy=goss.To suppress this warning, set data_sample_strategy=goss instead.\n",
      "[LightGBM] [Info] Number of positive: 18565, number of negative: 212068\n",
      "[LightGBM] [Info] Auto-choosing col-wise multi-threading, the overhead of testing was 0.641642 seconds.\n",
      "You can set `force_col_wise=true` to remove the overhead.\n",
      "[LightGBM] [Info] Total Bins 78119\n",
      "[LightGBM] [Info] Number of data points in the train set: 230633, number of used features: 826\n",
      "[LightGBM] [Info] Using GOSS\n",
      "[LightGBM] [Warning] Found boosting=goss. For backwards compatibility reasons, LightGBM interprets this as boosting=gbdt, data_sample_strategy=goss.To suppress this warning, set data_sample_strategy=goss instead.\n",
      "[LightGBM] [Warning] Found whitespace in feature_names, replace with underlines\n",
      "[LightGBM] [Info] [binary:BoostFromScore]: pavg=0.500000 -> initscore=0.000000\n",
      "[LightGBM] [Info] Start training from score 0.000000\n",
      "Training until validation scores don't improve for 50 rounds\n",
      "Early stopping, best iteration is:\n",
      "[134]\tvalid_0's auc: 0.78664\tvalid_0's binary_logloss: 0.521997\n"
     ]
    }
   ],
   "source": [
    "from lightgbm import early_stopping\n",
    "# Fit the model twice to avoid overfitting\n",
    "for i in range(2):\n",
    "    \n",
    "    # Split into training and validation set\n",
    "    train_features, valid_features, train_y, valid_y = train_test_split(df_train_without_corr_mv, \n",
    "                                                                        df_train_labels, \n",
    "                                                                        test_size = 0.25, \n",
    "                                                                        random_state = i)\n",
    "\n",
    "    model.fit(train_features, \n",
    "              train_y, \n",
    "              eval_set=[(valid_features, valid_y)],\n",
    "              eval_metric='auc',\n",
    "              callbacks=[early_stopping(stopping_rounds=50)])\n",
    "    \n",
    "    # Record the feature importances\n",
    "    feature_importances += model.feature_importances_"
   ]
  },
  {
   "cell_type": "code",
   "execution_count": 44,
   "metadata": {},
   "outputs": [
    {
     "data": {
      "text/html": [
       "<div>\n",
       "<style scoped>\n",
       "    .dataframe tbody tr th:only-of-type {\n",
       "        vertical-align: middle;\n",
       "    }\n",
       "\n",
       "    .dataframe tbody tr th {\n",
       "        vertical-align: top;\n",
       "    }\n",
       "\n",
       "    .dataframe thead th {\n",
       "        text-align: right;\n",
       "    }\n",
       "</style>\n",
       "<table border=\"1\" class=\"dataframe\">\n",
       "  <thead>\n",
       "    <tr style=\"text-align: right;\">\n",
       "      <th></th>\n",
       "      <th>feature</th>\n",
       "      <th>importance</th>\n",
       "    </tr>\n",
       "  </thead>\n",
       "  <tbody>\n",
       "    <tr>\n",
       "      <th>25</th>\n",
       "      <td>EXT_SOURCE_1</td>\n",
       "      <td>151.0</td>\n",
       "    </tr>\n",
       "    <tr>\n",
       "      <th>76</th>\n",
       "      <td>CREDIT_TERM</td>\n",
       "      <td>137.5</td>\n",
       "    </tr>\n",
       "    <tr>\n",
       "      <th>26</th>\n",
       "      <td>EXT_SOURCE_2</td>\n",
       "      <td>135.5</td>\n",
       "    </tr>\n",
       "    <tr>\n",
       "      <th>27</th>\n",
       "      <td>EXT_SOURCE_3</td>\n",
       "      <td>116.5</td>\n",
       "    </tr>\n",
       "    <tr>\n",
       "      <th>6</th>\n",
       "      <td>DAYS_EMPLOYED</td>\n",
       "      <td>89.5</td>\n",
       "    </tr>\n",
       "    <tr>\n",
       "      <th>5</th>\n",
       "      <td>DAYS_BIRTH</td>\n",
       "      <td>80.5</td>\n",
       "    </tr>\n",
       "    <tr>\n",
       "      <th>693</th>\n",
       "      <td>client_installments_AMT_PAYMENT_min_sum</td>\n",
       "      <td>76.5</td>\n",
       "    </tr>\n",
       "    <tr>\n",
       "      <th>3</th>\n",
       "      <td>AMT_ANNUITY</td>\n",
       "      <td>67.0</td>\n",
       "    </tr>\n",
       "    <tr>\n",
       "      <th>124</th>\n",
       "      <td>bureau_DAYS_CREDIT_max</td>\n",
       "      <td>57.0</td>\n",
       "    </tr>\n",
       "    <tr>\n",
       "      <th>569</th>\n",
       "      <td>client_cash_CNT_INSTALMENT_FUTURE_mean_max</td>\n",
       "      <td>49.5</td>\n",
       "    </tr>\n",
       "    <tr>\n",
       "      <th>144</th>\n",
       "      <td>bureau_DAYS_CREDIT_ENDDATE_max</td>\n",
       "      <td>45.5</td>\n",
       "    </tr>\n",
       "    <tr>\n",
       "      <th>8</th>\n",
       "      <td>DAYS_ID_PUBLISH</td>\n",
       "      <td>45.0</td>\n",
       "    </tr>\n",
       "    <tr>\n",
       "      <th>146</th>\n",
       "      <td>bureau_AMT_CREDIT_SUM_DEBT_mean</td>\n",
       "      <td>44.0</td>\n",
       "    </tr>\n",
       "    <tr>\n",
       "      <th>9</th>\n",
       "      <td>OWN_CAR_AGE</td>\n",
       "      <td>42.0</td>\n",
       "    </tr>\n",
       "    <tr>\n",
       "      <th>2</th>\n",
       "      <td>AMT_CREDIT</td>\n",
       "      <td>39.5</td>\n",
       "    </tr>\n",
       "    <tr>\n",
       "      <th>121</th>\n",
       "      <td>bureau_DAYS_ENDDATE_FACT_max</td>\n",
       "      <td>37.0</td>\n",
       "    </tr>\n",
       "    <tr>\n",
       "      <th>683</th>\n",
       "      <td>client_installments_AMT_PAYMENT_min_mean</td>\n",
       "      <td>36.0</td>\n",
       "    </tr>\n",
       "    <tr>\n",
       "      <th>45</th>\n",
       "      <td>DAYS_LAST_PHONE_CHANGE</td>\n",
       "      <td>35.0</td>\n",
       "    </tr>\n",
       "    <tr>\n",
       "      <th>138</th>\n",
       "      <td>bureau_AMT_CREDIT_MAX_OVERDUE_sum</td>\n",
       "      <td>34.0</td>\n",
       "    </tr>\n",
       "    <tr>\n",
       "      <th>75</th>\n",
       "      <td>ANNUITY_INCOME_PERCENT</td>\n",
       "      <td>33.0</td>\n",
       "    </tr>\n",
       "  </tbody>\n",
       "</table>\n",
       "</div>"
      ],
      "text/plain": [
       "                                        feature  importance\n",
       "25                                 EXT_SOURCE_1       151.0\n",
       "76                                  CREDIT_TERM       137.5\n",
       "26                                 EXT_SOURCE_2       135.5\n",
       "27                                 EXT_SOURCE_3       116.5\n",
       "6                                 DAYS_EMPLOYED        89.5\n",
       "5                                    DAYS_BIRTH        80.5\n",
       "693     client_installments_AMT_PAYMENT_min_sum        76.5\n",
       "3                                   AMT_ANNUITY        67.0\n",
       "124                      bureau_DAYS_CREDIT_max        57.0\n",
       "569  client_cash_CNT_INSTALMENT_FUTURE_mean_max        49.5\n",
       "144              bureau_DAYS_CREDIT_ENDDATE_max        45.5\n",
       "8                               DAYS_ID_PUBLISH        45.0\n",
       "146             bureau_AMT_CREDIT_SUM_DEBT_mean        44.0\n",
       "9                                   OWN_CAR_AGE        42.0\n",
       "2                                    AMT_CREDIT        39.5\n",
       "121                bureau_DAYS_ENDDATE_FACT_max        37.0\n",
       "683    client_installments_AMT_PAYMENT_min_mean        36.0\n",
       "45                       DAYS_LAST_PHONE_CHANGE        35.0\n",
       "138           bureau_AMT_CREDIT_MAX_OVERDUE_sum        34.0\n",
       "75                       ANNUITY_INCOME_PERCENT        33.0"
      ]
     },
     "execution_count": 44,
     "metadata": {},
     "output_type": "execute_result"
    }
   ],
   "source": [
    "feature_importances = feature_importances / 2\n",
    "feature_importances = pd.DataFrame({'feature': list(df_train_without_corr_mv.columns), 'importance': feature_importances}).sort_values('importance', ascending = False)\n",
    "feature_importances.head(20)"
   ]
  },
  {
   "cell_type": "code",
   "execution_count": 45,
   "metadata": {},
   "outputs": [
    {
     "name": "stdout",
     "output_type": "stream",
     "text": [
      "There are 290 features with 0.0 importance\n"
     ]
    },
    {
     "data": {
      "text/html": [
       "<div>\n",
       "<style scoped>\n",
       "    .dataframe tbody tr th:only-of-type {\n",
       "        vertical-align: middle;\n",
       "    }\n",
       "\n",
       "    .dataframe tbody tr th {\n",
       "        vertical-align: top;\n",
       "    }\n",
       "\n",
       "    .dataframe thead th {\n",
       "        text-align: right;\n",
       "    }\n",
       "</style>\n",
       "<table border=\"1\" class=\"dataframe\">\n",
       "  <thead>\n",
       "    <tr style=\"text-align: right;\">\n",
       "      <th></th>\n",
       "      <th>feature</th>\n",
       "      <th>importance</th>\n",
       "    </tr>\n",
       "  </thead>\n",
       "  <tbody>\n",
       "    <tr>\n",
       "      <th>267</th>\n",
       "      <td>previous_NAME_CASH_LOAN_PURPOSE_Urgent needs_sum</td>\n",
       "      <td>0.0</td>\n",
       "    </tr>\n",
       "    <tr>\n",
       "      <th>269</th>\n",
       "      <td>previous_NAME_GOODS_CATEGORY_Auto Accessories_sum</td>\n",
       "      <td>0.0</td>\n",
       "    </tr>\n",
       "    <tr>\n",
       "      <th>272</th>\n",
       "      <td>previous_FLAG_LAST_APPL_PER_CONTRACT_N_sum</td>\n",
       "      <td>0.0</td>\n",
       "    </tr>\n",
       "    <tr>\n",
       "      <th>273</th>\n",
       "      <td>previous_CODE_REJECT_REASON_VERIF_sum</td>\n",
       "      <td>0.0</td>\n",
       "    </tr>\n",
       "    <tr>\n",
       "      <th>275</th>\n",
       "      <td>previous_CODE_REJECT_REASON_SCOFR_sum</td>\n",
       "      <td>0.0</td>\n",
       "    </tr>\n",
       "    <tr>\n",
       "      <th>277</th>\n",
       "      <td>previous_PRODUCT_COMBINATION_POS others withou...</td>\n",
       "      <td>0.0</td>\n",
       "    </tr>\n",
       "    <tr>\n",
       "      <th>278</th>\n",
       "      <td>previous_NAME_GOODS_CATEGORY_Medical Supplies_sum</td>\n",
       "      <td>0.0</td>\n",
       "    </tr>\n",
       "    <tr>\n",
       "      <th>279</th>\n",
       "      <td>previous_PRODUCT_COMBINATION_POS others withou...</td>\n",
       "      <td>0.0</td>\n",
       "    </tr>\n",
       "    <tr>\n",
       "      <th>281</th>\n",
       "      <td>previous_NAME_CASH_LOAN_PURPOSE_Repairs_sum</td>\n",
       "      <td>0.0</td>\n",
       "    </tr>\n",
       "    <tr>\n",
       "      <th>834</th>\n",
       "      <td>EMERGENCYSTATE_MODE_Yes</td>\n",
       "      <td>0.0</td>\n",
       "    </tr>\n",
       "  </tbody>\n",
       "</table>\n",
       "</div>"
      ],
      "text/plain": [
       "                                               feature  importance\n",
       "267   previous_NAME_CASH_LOAN_PURPOSE_Urgent needs_sum         0.0\n",
       "269  previous_NAME_GOODS_CATEGORY_Auto Accessories_sum         0.0\n",
       "272         previous_FLAG_LAST_APPL_PER_CONTRACT_N_sum         0.0\n",
       "273              previous_CODE_REJECT_REASON_VERIF_sum         0.0\n",
       "275              previous_CODE_REJECT_REASON_SCOFR_sum         0.0\n",
       "277  previous_PRODUCT_COMBINATION_POS others withou...         0.0\n",
       "278  previous_NAME_GOODS_CATEGORY_Medical Supplies_sum         0.0\n",
       "279  previous_PRODUCT_COMBINATION_POS others withou...         0.0\n",
       "281        previous_NAME_CASH_LOAN_PURPOSE_Repairs_sum         0.0\n",
       "834                            EMERGENCYSTATE_MODE_Yes         0.0"
      ]
     },
     "execution_count": 45,
     "metadata": {},
     "output_type": "execute_result"
    }
   ],
   "source": [
    "# Find the features with zero importance\n",
    "zero_features = list(feature_importances[feature_importances['importance'] == 0.0]['feature'])\n",
    "print('There are %d features with 0.0 importance' % len(zero_features))\n",
    "feature_importances.tail(10)"
   ]
  },
  {
   "cell_type": "markdown",
   "metadata": {},
   "source": [
    "Nous constatons que plusieurs des features créées manuellement sont entrées dans le top 20 des features les plus importantes. Il semble également que de nombreuses features que nous avons créées aient littéralement une importance nulle. Pour le gradient boosting machine, les features dont l'importance est nulle ne sont pas du tout utilisées pour effectuer des divisions. Par conséquent, nous pouvons supprimer ces features du modèle sans effet sur les performances (à l'exception d'un entraînement plus rapide)."
   ]
  },
  {
   "cell_type": "code",
   "execution_count": 46,
   "metadata": {},
   "outputs": [
    {
     "name": "stdout",
     "output_type": "stream",
     "text": [
      "Training shape:  (307511, 545)\n",
      "Testing shape:  (48744, 545)\n"
     ]
    }
   ],
   "source": [
    "df_train_without_corr_mv_zero = df_train_without_corr_mv.drop(columns = zero_features)\n",
    "df_test_without_corr_mv_zero = df_test_without_corr_mv.drop(columns = zero_features)\n",
    "\n",
    "print('Training shape: ', df_train_without_corr_mv_zero.shape)\n",
    "print('Testing shape: ', df_test_without_corr_mv_zero.shape)"
   ]
  },
  {
   "cell_type": "markdown",
   "metadata": {},
   "source": [
    "Refaisons tourner le process pour vérifier que toutes les variables d'importance nulles ont été éradiquées"
   ]
  },
  {
   "cell_type": "code",
   "execution_count": 47,
   "metadata": {},
   "outputs": [],
   "source": [
    "def identify_zero_importance_features(train, train_labels, iterations = 2):\n",
    "    \"\"\"\n",
    "    Identify zero importance features in a training dataset based on the \n",
    "    feature importances from a gradient boosting model. \n",
    "    \n",
    "    Parameters\n",
    "    --------\n",
    "    train : dataframe\n",
    "        Training features\n",
    "        \n",
    "    train_labels : np.array\n",
    "        Labels for training data\n",
    "        \n",
    "    iterations : integer, default = 2\n",
    "        Number of cross validation splits to use for determining feature importances\n",
    "    \"\"\"\n",
    "    \n",
    "    # Initialize an empty array to hold feature importances\n",
    "    feature_importances = np.zeros(train.shape[1])\n",
    "\n",
    "    # Create the model with several hyperparameters\n",
    "    model = lgb.LGBMClassifier(objective='binary', \n",
    "                           boosting_type = 'goss', \n",
    "                           n_estimators = 1000,\n",
    "                           # learning_rate = 0.01, \n",
    "                           class_weight = 'balanced')\n",
    "    \n",
    "    # Fit the model multiple times to avoid overfitting\n",
    "    for i in range(iterations):\n",
    "\n",
    "        # Split into training and validation set\n",
    "        train_features, valid_features, train_y, valid_y = train_test_split(train, train_labels, test_size = 0.25, random_state = i)\n",
    "\n",
    "        # Train using early stopping\n",
    "        model.fit(train_features, \n",
    "                  train_y, \n",
    "                  eval_set = [(valid_features, valid_y)], \n",
    "                  eval_metric = 'auc', \n",
    "                  callbacks = [early_stopping(stopping_rounds=50)])\n",
    "\n",
    "        # Record the feature importances\n",
    "        feature_importances += model.feature_importances_ / iterations\n",
    "    \n",
    "    feature_importances = pd.DataFrame({'feature': list(train.columns), 'importance': feature_importances}).sort_values('importance', ascending = False)\n",
    "    \n",
    "    # Find the features with zero importance\n",
    "    zero_features = list(feature_importances[feature_importances['importance'] ==0]['feature'])\n",
    "    print('\\nThere are %d features with 0.0 importance' % len(zero_features))\n",
    "    \n",
    "    return zero_features, feature_importances"
   ]
  },
  {
   "cell_type": "code",
   "execution_count": 48,
   "metadata": {},
   "outputs": [
    {
     "name": "stdout",
     "output_type": "stream",
     "text": [
      "[LightGBM] [Warning] Found boosting=goss. For backwards compatibility reasons, LightGBM interprets this as boosting=gbdt, data_sample_strategy=goss.To suppress this warning, set data_sample_strategy=goss instead.\n",
      "[LightGBM] [Warning] Found whitespace in feature_names, replace with underlines\n",
      "[LightGBM] [Warning] Found boosting=goss. For backwards compatibility reasons, LightGBM interprets this as boosting=gbdt, data_sample_strategy=goss.To suppress this warning, set data_sample_strategy=goss instead.\n",
      "[LightGBM] [Info] Number of positive: 18734, number of negative: 211899\n",
      "[LightGBM] [Info] Auto-choosing col-wise multi-threading, the overhead of testing was 0.406081 seconds.\n",
      "You can set `force_col_wise=true` to remove the overhead.\n",
      "[LightGBM] [Info] Total Bins 74272\n",
      "[LightGBM] [Info] Number of data points in the train set: 230633, number of used features: 545\n",
      "[LightGBM] [Info] Using GOSS\n",
      "[LightGBM] [Warning] Found boosting=goss. For backwards compatibility reasons, LightGBM interprets this as boosting=gbdt, data_sample_strategy=goss.To suppress this warning, set data_sample_strategy=goss instead.\n",
      "[LightGBM] [Warning] Found whitespace in feature_names, replace with underlines\n",
      "[LightGBM] [Info] [binary:BoostFromScore]: pavg=0.500000 -> initscore=0.000000\n",
      "[LightGBM] [Info] Start training from score 0.000000\n",
      "Training until validation scores don't improve for 50 rounds\n",
      "Early stopping, best iteration is:\n",
      "[184]\tvalid_0's auc: 0.785564\tvalid_0's binary_logloss: 0.509412\n",
      "[LightGBM] [Warning] Found boosting=goss. For backwards compatibility reasons, LightGBM interprets this as boosting=gbdt, data_sample_strategy=goss.To suppress this warning, set data_sample_strategy=goss instead.\n",
      "[LightGBM] [Warning] Found whitespace in feature_names, replace with underlines\n",
      "[LightGBM] [Warning] Found boosting=goss. For backwards compatibility reasons, LightGBM interprets this as boosting=gbdt, data_sample_strategy=goss.To suppress this warning, set data_sample_strategy=goss instead.\n",
      "[LightGBM] [Info] Number of positive: 18565, number of negative: 212068\n",
      "[LightGBM] [Info] Auto-choosing col-wise multi-threading, the overhead of testing was 0.413072 seconds.\n",
      "You can set `force_col_wise=true` to remove the overhead.\n",
      "[LightGBM] [Info] Total Bins 74333\n",
      "[LightGBM] [Info] Number of data points in the train set: 230633, number of used features: 545\n",
      "[LightGBM] [Info] Using GOSS\n",
      "[LightGBM] [Warning] Found boosting=goss. For backwards compatibility reasons, LightGBM interprets this as boosting=gbdt, data_sample_strategy=goss.To suppress this warning, set data_sample_strategy=goss instead.\n",
      "[LightGBM] [Warning] Found whitespace in feature_names, replace with underlines\n",
      "[LightGBM] [Info] [binary:BoostFromScore]: pavg=0.500000 -> initscore=0.000000\n",
      "[LightGBM] [Info] Start training from score 0.000000\n",
      "Training until validation scores don't improve for 50 rounds\n",
      "Early stopping, best iteration is:\n",
      "[161]\tvalid_0's auc: 0.786982\tvalid_0's binary_logloss: 0.514812\n",
      "\n",
      "There are 13 features with 0.0 importance\n"
     ]
    }
   ],
   "source": [
    "second_round_zero_features, feature_importances = identify_zero_importance_features(df_train_without_corr_mv_zero, df_train_labels)"
   ]
  },
  {
   "cell_type": "markdown",
   "metadata": {},
   "source": [
    "Il restait des features d'importance nulle. Nous les supprimons avant de faire tourner de nouveau le process pour une nouvelle vérification"
   ]
  },
  {
   "cell_type": "code",
   "execution_count": 49,
   "metadata": {},
   "outputs": [
    {
     "name": "stdout",
     "output_type": "stream",
     "text": [
      "Training shape:  (307511, 532)\n",
      "Testing shape:  (48744, 532)\n"
     ]
    }
   ],
   "source": [
    "df_train_without_corr_mv_zero_zero = df_train_without_corr_mv_zero.drop(columns = second_round_zero_features)\n",
    "df_test_without_corr_mv_zero_zero = df_test_without_corr_mv_zero.drop(columns = second_round_zero_features)\n",
    "\n",
    "print('Training shape: ', df_train_without_corr_mv_zero_zero.shape)\n",
    "print('Testing shape: ', df_test_without_corr_mv_zero_zero.shape)"
   ]
  },
  {
   "cell_type": "code",
   "execution_count": 50,
   "metadata": {},
   "outputs": [
    {
     "name": "stdout",
     "output_type": "stream",
     "text": [
      "[LightGBM] [Warning] Found boosting=goss. For backwards compatibility reasons, LightGBM interprets this as boosting=gbdt, data_sample_strategy=goss.To suppress this warning, set data_sample_strategy=goss instead.\n",
      "[LightGBM] [Warning] Found whitespace in feature_names, replace with underlines\n",
      "[LightGBM] [Warning] Found boosting=goss. For backwards compatibility reasons, LightGBM interprets this as boosting=gbdt, data_sample_strategy=goss.To suppress this warning, set data_sample_strategy=goss instead.\n",
      "[LightGBM] [Info] Number of positive: 18734, number of negative: 211899\n",
      "[LightGBM] [Info] Auto-choosing col-wise multi-threading, the overhead of testing was 0.468222 seconds.\n",
      "You can set `force_col_wise=true` to remove the overhead.\n",
      "[LightGBM] [Info] Total Bins 73801\n",
      "[LightGBM] [Info] Number of data points in the train set: 230633, number of used features: 532\n",
      "[LightGBM] [Info] Using GOSS\n",
      "[LightGBM] [Warning] Found boosting=goss. For backwards compatibility reasons, LightGBM interprets this as boosting=gbdt, data_sample_strategy=goss.To suppress this warning, set data_sample_strategy=goss instead.\n",
      "[LightGBM] [Warning] Found whitespace in feature_names, replace with underlines\n",
      "[LightGBM] [Info] [binary:BoostFromScore]: pavg=0.500000 -> initscore=0.000000\n",
      "[LightGBM] [Info] Start training from score 0.000000\n",
      "Training until validation scores don't improve for 50 rounds\n",
      "Early stopping, best iteration is:\n",
      "[184]\tvalid_0's auc: 0.785564\tvalid_0's binary_logloss: 0.509412\n",
      "[LightGBM] [Warning] Found boosting=goss. For backwards compatibility reasons, LightGBM interprets this as boosting=gbdt, data_sample_strategy=goss.To suppress this warning, set data_sample_strategy=goss instead.\n",
      "[LightGBM] [Warning] Found whitespace in feature_names, replace with underlines\n",
      "[LightGBM] [Warning] Found boosting=goss. For backwards compatibility reasons, LightGBM interprets this as boosting=gbdt, data_sample_strategy=goss.To suppress this warning, set data_sample_strategy=goss instead.\n",
      "[LightGBM] [Info] Number of positive: 18565, number of negative: 212068\n",
      "[LightGBM] [Info] Auto-choosing col-wise multi-threading, the overhead of testing was 0.507324 seconds.\n",
      "You can set `force_col_wise=true` to remove the overhead.\n",
      "[LightGBM] [Info] Total Bins 73858\n",
      "[LightGBM] [Info] Number of data points in the train set: 230633, number of used features: 532\n",
      "[LightGBM] [Info] Using GOSS\n",
      "[LightGBM] [Warning] Found boosting=goss. For backwards compatibility reasons, LightGBM interprets this as boosting=gbdt, data_sample_strategy=goss.To suppress this warning, set data_sample_strategy=goss instead.\n",
      "[LightGBM] [Warning] Found whitespace in feature_names, replace with underlines\n",
      "[LightGBM] [Info] [binary:BoostFromScore]: pavg=0.500000 -> initscore=0.000000\n",
      "[LightGBM] [Info] Start training from score 0.000000\n",
      "Training until validation scores don't improve for 50 rounds\n",
      "Early stopping, best iteration is:\n",
      "[174]\tvalid_0's auc: 0.787247\tvalid_0's binary_logloss: 0.511619\n",
      "\n",
      "There are 0 features with 0.0 importance\n"
     ]
    }
   ],
   "source": [
    "third_round_zero_features, feature_importances = identify_zero_importance_features(df_train_without_corr_mv_zero_zero, df_train_labels)"
   ]
  },
  {
   "cell_type": "markdown",
   "metadata": {},
   "source": [
    "Il ne reste plus d'éléments d'importance nulle. Si nous voulons supprimer davantage de caractéristiques, nous devrons commencer par des caractéristiques dont l'importance n'est pas nulle. Pour ce faire, nous pourrions conserver suffisamment d'éléments pour tenir compte d'un pourcentage seuil d'importance, par exemple 95 %. À ce stade, conservons suffisamment de caractéristiques pour qu'elles représentent 95 % de l'importance. Là encore, il s'agit d'une décision arbitraire."
   ]
  },
  {
   "cell_type": "code",
   "execution_count": 52,
   "metadata": {},
   "outputs": [],
   "source": [
    "def plot_feature_importances(df, threshold = 0.95):\n",
    "    \"\"\"\n",
    "    Plots 15 most important features and the cumulative importance of features.\n",
    "    Prints the number of features needed to reach threshold cumulative importance.\n",
    "    \n",
    "    Parameters\n",
    "    --------\n",
    "    df : dataframe\n",
    "        Dataframe of feature importances. Columns must be feature and importance\n",
    "    threshold : float, default = 0.9\n",
    "        Threshold for prining information about cumulative importances\n",
    "        \n",
    "    Return\n",
    "    --------\n",
    "    df : dataframe\n",
    "        Dataframe ordered by feature importances with a normalized column (sums to 1)\n",
    "        and a cumulative importance column\n",
    "    \n",
    "    \"\"\"\n",
    "    \n",
    "    plt.rcParams['font.size'] = 18\n",
    "    \n",
    "    # Sort features according to importance\n",
    "    df = df.sort_values('importance', ascending = False).reset_index()\n",
    "    \n",
    "    # Normalize the feature importances to add up to one\n",
    "    df['importance_normalized'] = df['importance'] / df['importance'].sum()\n",
    "    df['cumulative_importance'] = np.cumsum(df['importance_normalized'])\n",
    "\n",
    "    # Make a horizontal bar chart of feature importances\n",
    "    plt.figure(figsize = (10, 6))\n",
    "    ax = plt.subplot()\n",
    "    \n",
    "    # Need to reverse the index to plot most important on top\n",
    "    ax.barh(list(reversed(list(df.index[:15]))), \n",
    "            df['importance_normalized'].head(15), \n",
    "            align = 'center', edgecolor = 'k')\n",
    "    \n",
    "    # Set the yticks and labels\n",
    "    ax.set_yticks(list(reversed(list(df.index[:15]))))\n",
    "    ax.set_yticklabels(df['feature'].head(15))\n",
    "    \n",
    "    # Plot labeling\n",
    "    plt.xlabel('Normalized Importance'); plt.title('Feature Importances')\n",
    "    plt.show()\n",
    "    \n",
    "    # Cumulative importance plot\n",
    "    plt.figure(figsize = (8, 6))\n",
    "    plt.plot(list(range(len(df))), df['cumulative_importance'], 'r-')\n",
    "    plt.xlabel('Number of Features'); plt.ylabel('Cumulative Importance'); \n",
    "    plt.title('Cumulative Feature Importance');\n",
    "    plt.show();\n",
    "    \n",
    "    importance_index = np.min(np.where(df['cumulative_importance'] > threshold))\n",
    "    print('%d features required for %0.2f of cumulative importance' % (importance_index + 1, threshold))\n",
    "    \n",
    "    return df"
   ]
  },
  {
   "cell_type": "code",
   "execution_count": 53,
   "metadata": {},
   "outputs": [
    {
     "data": {
      "image/png": "[encoded data removed]",
      "text/plain": [
       "<Figure size 1000x600 with 1 Axes>"
      ]
     },
     "metadata": {},
     "output_type": "display_data"
    },
    {
     "data": {
      "image/png": "[encoded data removed]",
      "text/plain": [
       "<Figure size 800x600 with 1 Axes>"
      ]
     },
     "metadata": {},
     "output_type": "display_data"
    },
    {
     "name": "stdout",
     "output_type": "stream",
     "text": [
      "345 features required for 0.95 of cumulative importance\n"
     ]
    }
   ],
   "source": [
    "norm_feature_importances = plot_feature_importances(feature_importances)"
   ]
  },
  {
   "cell_type": "markdown",
   "metadata": {},
   "source": [
    "## 6.4 - Sauvegarde d'un dataframe avec une sélection de features représentant 95% de la feature importance cumulée"
   ]
  },
  {
   "cell_type": "code",
   "execution_count": 54,
   "metadata": {},
   "outputs": [],
   "source": [
    "# Threshold for cumulative importance\n",
    "threshold = 0.95\n",
    "\n",
    "# Extract the features to keep\n",
    "features_to_keep = list(norm_feature_importances[norm_feature_importances['cumulative_importance'] < threshold]['feature'])\n",
    "\n",
    "# Create new datasets with smaller features\n",
    "train_reduced = df_train_without_corr_mv_zero_zero[features_to_keep]\n",
    "test_reduced = df_test_without_corr_mv_zero_zero[features_to_keep]\n"
   ]
  },
  {
   "cell_type": "code",
   "execution_count": 55,
   "metadata": {},
   "outputs": [],
   "source": [
    "# Ajout de la target et des id clients\n",
    "train_reduced['TARGET'] = df_train_labels\n",
    "train_reduced['SK_ID_CURR'] = df_train_ids\n",
    "test_reduced['SK_ID_CURR'] = df_test_ids"
   ]
  },
  {
   "cell_type": "code",
   "execution_count": 56,
   "metadata": {},
   "outputs": [
    {
     "name": "stdout",
     "output_type": "stream",
     "text": [
      "Training shape:  (307511, 346)\n",
      "Testing shape:  (48744, 345)\n"
     ]
    }
   ],
   "source": [
    "print('Training shape: ', train_reduced.shape)\n",
    "print('Testing shape: ', test_reduced.shape)"
   ]
  },
  {
   "cell_type": "code",
   "execution_count": 57,
   "metadata": {},
   "outputs": [],
   "source": [
    "train_reduced.to_csv('train_reduced.csv', index=False)\n",
    "test_reduced.to_csv('test_reduced.csv', index=False)"
   ]
  }
 ],
 "metadata": {
  "kernelspec": {
   "display_name": "Python 3 (ipykernel)",
   "language": "python",
   "name": "python3"
  },
  "language_info": {
   "codemirror_mode": {
    "name": "ipython",
    "version": 3
   },
   "file_extension": ".py",
   "mimetype": "text/x-python",
   "name": "python",
   "nbconvert_exporter": "python",
   "pygments_lexer": "ipython3",
   "version": "3.11.7"
  }
 },
 "nbformat": 4,
 "nbformat_minor": 4
}
