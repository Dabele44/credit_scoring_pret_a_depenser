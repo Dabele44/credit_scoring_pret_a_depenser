{
 "cells": [
  {
   "cell_type": "markdown",
   "metadata": {},
   "source": [
    "Pour ce projet, nous avons suivi le schéma présenté dans cet article:\n",
    "https://towardsdatascience.com/a-complete-machine-learning-walk-through-in-python-part-one-c62152f39420"
   ]
  },
  {
   "cell_type": "markdown",
   "metadata": {
    "_cell_guid": "d632b08c-d252-4238-b496-e2c6edebec4b",
    "_uuid": "eb13bf76d4e1e60d0703856ec391cdc2c5bdf1fb"
   },
   "source": [
    "## 1.1 - Imports\n"
   ]
  },
  {
   "cell_type": "code",
   "execution_count": 1,
   "metadata": {},
   "outputs": [],
   "source": [
    "import mlflow\n",
    "from PIL import Image\n",
    "import pandas as pd\n",
    "import numpy as np\n",
    "import matplotlib.pyplot as plt\n",
    "import seaborn as sns\n",
    "import time\n",
    "\n",
    "# File system manangement\n",
    "import os\n",
    "\n",
    "# Suppress warnings \n",
    "import warnings\n",
    "warnings.filterwarnings('ignore')\n",
    "\n",
    "# sklearn preprocessing for dealing with categorical variables\n",
    "from sklearn.preprocessing import LabelEncoder\n",
    "from sklearn.impute import SimpleImputer\n",
    "from sklearn.dummy import DummyClassifier\n",
    "from sklearn.metrics import classification_report, accuracy_score\n",
    "from sklearn.metrics import roc_curve\n",
    "from sklearn.metrics import auc\n",
    "from sklearn.metrics import confusion_matrix\n",
    "from sklearn.linear_model import LogisticRegression\n",
    "from sklearn.metrics import make_scorer, roc_auc_score, f1_score, fbeta_score, recall_score\n",
    "from sklearn.model_selection import GridSearchCV\n",
    "from sklearn.model_selection import train_test_split, RandomizedSearchCV\n",
    "from sklearn.ensemble import RandomForestClassifier\n",
    "\n",
    "from imblearn.pipeline import Pipeline\n",
    "from imblearn.over_sampling import SMOTE\n",
    "\n",
    "import lightgbm as lgb\n",
    "\n",
    "from mlflow.models import infer_signature\n",
    "\n",
    "import shap\n",
    "# Memory management\n",
    "import gc "
   ]
  },
  {
   "cell_type": "markdown",
   "metadata": {},
   "source": [
    "# 4 - Feature Selection"
   ]
  },
  {
   "cell_type": "markdown",
   "metadata": {},
   "source": [
    "Un plus grand nombre de features peut sembler une bonne chose, et c'est le cas si elles aident notre modèle à apprendre. Cependant, les features non pertinentes, les features fortement corrélées et les valeurs manquantes peuvent empêcher le modèle d'apprendre et diminuer les performances de généralisation sur les données de test. C'est pourquoi nous procédons à une sélection des features afin de ne conserver que les variables les plus utiles.\n",
    "\n",
    "Nous commencerons la sélection des features en nous concentrant sur les variables colinéaires."
   ]
  },
  {
   "cell_type": "code",
   "execution_count": 2,
   "metadata": {},
   "outputs": [],
   "source": [
    "df_train=pd.read_csv('train_after_feature_en.csv')\n",
    "df_test=pd.read_csv('test_after_feature_en.csv')"
   ]
  },
  {
   "cell_type": "code",
   "execution_count": 3,
   "metadata": {},
   "outputs": [
    {
     "data": {
      "text/plain": [
       "((307511, 1347), (48744, 1346))"
      ]
     },
     "execution_count": 3,
     "metadata": {},
     "output_type": "execute_result"
    }
   ],
   "source": [
    "df_train.shape, df_test.shape"
   ]
  },
  {
   "cell_type": "markdown",
   "metadata": {},
   "source": [
    "## 4.1 - Suppression des variables colinéaires"
   ]
  },
  {
   "cell_type": "markdown",
   "metadata": {},
   "source": [
    "Les variables colinéaires sont celles qui sont fortement corrélées entre elles. Elles peuvent diminuer la disponibilité du modèle pour l'apprentissage, diminuer l'interprétabilité du modèle et diminuer les performances de généralisation sur l'ensemble de test. Il est clair que ce sont là trois choses que nous voulons augmenter, et la suppression des variables colinéaires est donc une étape utile. Nous établirons un seuil arbitraire pour la suppression des variables colinéaires, puis nous enlèverons une des paires de variables qui se trouvent au-dessus de ce seuil.\n",
    "\n",
    "Le code ci-dessous identifie les variables fortement corrélées sur la base de la magnitude absolue du coefficient de corrélation de Pearson, qui est supérieure à 0,9. Encore une fois, ce n'est pas tout à fait exact puisque nous traitons une partie limitée des données. Ce code est utilisé à des fins d'illustration, mais si nous lisions l'ensemble des données, il fonctionnerait (si les noyaux le permettaient)"
   ]
  },
  {
   "cell_type": "markdown",
   "metadata": {},
   "source": [
    "### 4.1.1 - Identification des variables corrélées"
   ]
  },
  {
   "cell_type": "markdown",
   "metadata": {},
   "source": [
    "Comme le dataframe est très gros, nous allons faire ce travail sur un échantillon de 1000 individus"
   ]
  },
  {
   "cell_type": "code",
   "execution_count": 4,
   "metadata": {},
   "outputs": [
    {
     "data": {
      "text/plain": [
       "(1000, 1347)"
      ]
     },
     "execution_count": 4,
     "metadata": {},
     "output_type": "execute_result"
    }
   ],
   "source": [
    "df_sample=df_train.sample(1000)\n",
    "df_sample.shape"
   ]
  },
  {
   "cell_type": "code",
   "execution_count": 5,
   "metadata": {},
   "outputs": [
    {
     "data": {
      "text/html": [
       "<div>\n",
       "<style scoped>\n",
       "    .dataframe tbody tr th:only-of-type {\n",
       "        vertical-align: middle;\n",
       "    }\n",
       "\n",
       "    .dataframe tbody tr th {\n",
       "        vertical-align: top;\n",
       "    }\n",
       "\n",
       "    .dataframe thead th {\n",
       "        text-align: right;\n",
       "    }\n",
       "</style>\n",
       "<table border=\"1\" class=\"dataframe\">\n",
       "  <thead>\n",
       "    <tr style=\"text-align: right;\">\n",
       "      <th></th>\n",
       "      <th>SK_ID_CURR</th>\n",
       "      <th>CNT_CHILDREN</th>\n",
       "      <th>AMT_INCOME_TOTAL</th>\n",
       "      <th>AMT_CREDIT</th>\n",
       "      <th>AMT_ANNUITY</th>\n",
       "      <th>AMT_GOODS_PRICE</th>\n",
       "      <th>REGION_POPULATION_RELATIVE</th>\n",
       "      <th>DAYS_BIRTH</th>\n",
       "      <th>DAYS_EMPLOYED</th>\n",
       "      <th>DAYS_REGISTRATION</th>\n",
       "      <th>...</th>\n",
       "      <th>client_installments_AMT_PAYMENT_min_sum</th>\n",
       "      <th>client_installments_AMT_INSTALMENT_min_sum</th>\n",
       "      <th>client_installments_AMT_PAYMENT_sum_max</th>\n",
       "      <th>client_installments_AMT_INSTALMENT_sum_max</th>\n",
       "      <th>client_installments_AMT_PAYMENT_mean_sum</th>\n",
       "      <th>client_installments_AMT_INSTALMENT_mean_sum</th>\n",
       "      <th>client_installments_AMT_INSTALMENT_max_sum</th>\n",
       "      <th>client_installments_AMT_PAYMENT_max_sum</th>\n",
       "      <th>client_installments_AMT_PAYMENT_sum_sum</th>\n",
       "      <th>client_installments_AMT_INSTALMENT_sum_sum</th>\n",
       "    </tr>\n",
       "  </thead>\n",
       "  <tbody>\n",
       "    <tr>\n",
       "      <th>SK_ID_CURR</th>\n",
       "      <td>1.000000</td>\n",
       "      <td>0.042446</td>\n",
       "      <td>0.029659</td>\n",
       "      <td>0.024334</td>\n",
       "      <td>0.016087</td>\n",
       "      <td>0.018501</td>\n",
       "      <td>0.031618</td>\n",
       "      <td>0.053366</td>\n",
       "      <td>0.007282</td>\n",
       "      <td>0.058115</td>\n",
       "      <td>...</td>\n",
       "      <td>0.029873</td>\n",
       "      <td>0.048315</td>\n",
       "      <td>0.039217</td>\n",
       "      <td>0.038595</td>\n",
       "      <td>0.052621</td>\n",
       "      <td>0.051793</td>\n",
       "      <td>0.041899</td>\n",
       "      <td>0.042562</td>\n",
       "      <td>0.027021</td>\n",
       "      <td>0.025789</td>\n",
       "    </tr>\n",
       "    <tr>\n",
       "      <th>CNT_CHILDREN</th>\n",
       "      <td>0.042446</td>\n",
       "      <td>1.000000</td>\n",
       "      <td>0.043046</td>\n",
       "      <td>0.031117</td>\n",
       "      <td>0.052085</td>\n",
       "      <td>0.027671</td>\n",
       "      <td>0.006089</td>\n",
       "      <td>0.324815</td>\n",
       "      <td>0.071572</td>\n",
       "      <td>0.201918</td>\n",
       "      <td>...</td>\n",
       "      <td>0.021164</td>\n",
       "      <td>0.012584</td>\n",
       "      <td>0.045878</td>\n",
       "      <td>0.042019</td>\n",
       "      <td>0.036173</td>\n",
       "      <td>0.031685</td>\n",
       "      <td>0.016970</td>\n",
       "      <td>0.017727</td>\n",
       "      <td>0.039552</td>\n",
       "      <td>0.038448</td>\n",
       "    </tr>\n",
       "    <tr>\n",
       "      <th>AMT_INCOME_TOTAL</th>\n",
       "      <td>0.029659</td>\n",
       "      <td>0.043046</td>\n",
       "      <td>1.000000</td>\n",
       "      <td>0.357608</td>\n",
       "      <td>0.464704</td>\n",
       "      <td>0.372622</td>\n",
       "      <td>0.221138</td>\n",
       "      <td>0.050363</td>\n",
       "      <td>0.042549</td>\n",
       "      <td>0.050044</td>\n",
       "      <td>...</td>\n",
       "      <td>0.174064</td>\n",
       "      <td>0.161119</td>\n",
       "      <td>0.192359</td>\n",
       "      <td>0.187633</td>\n",
       "      <td>0.164645</td>\n",
       "      <td>0.161034</td>\n",
       "      <td>0.120396</td>\n",
       "      <td>0.121329</td>\n",
       "      <td>0.075852</td>\n",
       "      <td>0.071743</td>\n",
       "    </tr>\n",
       "    <tr>\n",
       "      <th>AMT_CREDIT</th>\n",
       "      <td>0.024334</td>\n",
       "      <td>0.031117</td>\n",
       "      <td>0.357608</td>\n",
       "      <td>1.000000</td>\n",
       "      <td>0.751210</td>\n",
       "      <td>0.986700</td>\n",
       "      <td>0.116238</td>\n",
       "      <td>0.043710</td>\n",
       "      <td>0.093294</td>\n",
       "      <td>0.017218</td>\n",
       "      <td>...</td>\n",
       "      <td>0.158342</td>\n",
       "      <td>0.128061</td>\n",
       "      <td>0.184661</td>\n",
       "      <td>0.169078</td>\n",
       "      <td>0.169173</td>\n",
       "      <td>0.158022</td>\n",
       "      <td>0.146695</td>\n",
       "      <td>0.147971</td>\n",
       "      <td>0.095815</td>\n",
       "      <td>0.088984</td>\n",
       "    </tr>\n",
       "    <tr>\n",
       "      <th>AMT_ANNUITY</th>\n",
       "      <td>0.016087</td>\n",
       "      <td>0.052085</td>\n",
       "      <td>0.464704</td>\n",
       "      <td>0.751210</td>\n",
       "      <td>1.000000</td>\n",
       "      <td>0.760209</td>\n",
       "      <td>0.157449</td>\n",
       "      <td>0.003775</td>\n",
       "      <td>0.038108</td>\n",
       "      <td>0.036087</td>\n",
       "      <td>...</td>\n",
       "      <td>0.172138</td>\n",
       "      <td>0.138496</td>\n",
       "      <td>0.166393</td>\n",
       "      <td>0.142877</td>\n",
       "      <td>0.154573</td>\n",
       "      <td>0.137507</td>\n",
       "      <td>0.088039</td>\n",
       "      <td>0.091280</td>\n",
       "      <td>0.056509</td>\n",
       "      <td>0.047629</td>\n",
       "    </tr>\n",
       "  </tbody>\n",
       "</table>\n",
       "<p>5 rows × 1324 columns</p>\n",
       "</div>"
      ],
      "text/plain": [
       "                  SK_ID_CURR  CNT_CHILDREN  AMT_INCOME_TOTAL  AMT_CREDIT  \\\n",
       "SK_ID_CURR          1.000000      0.042446          0.029659    0.024334   \n",
       "CNT_CHILDREN        0.042446      1.000000          0.043046    0.031117   \n",
       "AMT_INCOME_TOTAL    0.029659      0.043046          1.000000    0.357608   \n",
       "AMT_CREDIT          0.024334      0.031117          0.357608    1.000000   \n",
       "AMT_ANNUITY         0.016087      0.052085          0.464704    0.751210   \n",
       "\n",
       "                  AMT_ANNUITY  AMT_GOODS_PRICE  REGION_POPULATION_RELATIVE  \\\n",
       "SK_ID_CURR           0.016087         0.018501                    0.031618   \n",
       "CNT_CHILDREN         0.052085         0.027671                    0.006089   \n",
       "AMT_INCOME_TOTAL     0.464704         0.372622                    0.221138   \n",
       "AMT_CREDIT           0.751210         0.986700                    0.116238   \n",
       "AMT_ANNUITY          1.000000         0.760209                    0.157449   \n",
       "\n",
       "                  DAYS_BIRTH  DAYS_EMPLOYED  DAYS_REGISTRATION  ...  \\\n",
       "SK_ID_CURR          0.053366       0.007282           0.058115  ...   \n",
       "CNT_CHILDREN        0.324815       0.071572           0.201918  ...   \n",
       "AMT_INCOME_TOTAL    0.050363       0.042549           0.050044  ...   \n",
       "AMT_CREDIT          0.043710       0.093294           0.017218  ...   \n",
       "AMT_ANNUITY         0.003775       0.038108           0.036087  ...   \n",
       "\n",
       "                  client_installments_AMT_PAYMENT_min_sum  \\\n",
       "SK_ID_CURR                                       0.029873   \n",
       "CNT_CHILDREN                                     0.021164   \n",
       "AMT_INCOME_TOTAL                                 0.174064   \n",
       "AMT_CREDIT                                       0.158342   \n",
       "AMT_ANNUITY                                      0.172138   \n",
       "\n",
       "                  client_installments_AMT_INSTALMENT_min_sum  \\\n",
       "SK_ID_CURR                                          0.048315   \n",
       "CNT_CHILDREN                                        0.012584   \n",
       "AMT_INCOME_TOTAL                                    0.161119   \n",
       "AMT_CREDIT                                          0.128061   \n",
       "AMT_ANNUITY                                         0.138496   \n",
       "\n",
       "                  client_installments_AMT_PAYMENT_sum_max  \\\n",
       "SK_ID_CURR                                       0.039217   \n",
       "CNT_CHILDREN                                     0.045878   \n",
       "AMT_INCOME_TOTAL                                 0.192359   \n",
       "AMT_CREDIT                                       0.184661   \n",
       "AMT_ANNUITY                                      0.166393   \n",
       "\n",
       "                  client_installments_AMT_INSTALMENT_sum_max  \\\n",
       "SK_ID_CURR                                          0.038595   \n",
       "CNT_CHILDREN                                        0.042019   \n",
       "AMT_INCOME_TOTAL                                    0.187633   \n",
       "AMT_CREDIT                                          0.169078   \n",
       "AMT_ANNUITY                                         0.142877   \n",
       "\n",
       "                  client_installments_AMT_PAYMENT_mean_sum  \\\n",
       "SK_ID_CURR                                        0.052621   \n",
       "CNT_CHILDREN                                      0.036173   \n",
       "AMT_INCOME_TOTAL                                  0.164645   \n",
       "AMT_CREDIT                                        0.169173   \n",
       "AMT_ANNUITY                                       0.154573   \n",
       "\n",
       "                  client_installments_AMT_INSTALMENT_mean_sum  \\\n",
       "SK_ID_CURR                                           0.051793   \n",
       "CNT_CHILDREN                                         0.031685   \n",
       "AMT_INCOME_TOTAL                                     0.161034   \n",
       "AMT_CREDIT                                           0.158022   \n",
       "AMT_ANNUITY                                          0.137507   \n",
       "\n",
       "                  client_installments_AMT_INSTALMENT_max_sum  \\\n",
       "SK_ID_CURR                                          0.041899   \n",
       "CNT_CHILDREN                                        0.016970   \n",
       "AMT_INCOME_TOTAL                                    0.120396   \n",
       "AMT_CREDIT                                          0.146695   \n",
       "AMT_ANNUITY                                         0.088039   \n",
       "\n",
       "                  client_installments_AMT_PAYMENT_max_sum  \\\n",
       "SK_ID_CURR                                       0.042562   \n",
       "CNT_CHILDREN                                     0.017727   \n",
       "AMT_INCOME_TOTAL                                 0.121329   \n",
       "AMT_CREDIT                                       0.147971   \n",
       "AMT_ANNUITY                                      0.091280   \n",
       "\n",
       "                  client_installments_AMT_PAYMENT_sum_sum  \\\n",
       "SK_ID_CURR                                       0.027021   \n",
       "CNT_CHILDREN                                     0.039552   \n",
       "AMT_INCOME_TOTAL                                 0.075852   \n",
       "AMT_CREDIT                                       0.095815   \n",
       "AMT_ANNUITY                                      0.056509   \n",
       "\n",
       "                  client_installments_AMT_INSTALMENT_sum_sum  \n",
       "SK_ID_CURR                                          0.025789  \n",
       "CNT_CHILDREN                                        0.038448  \n",
       "AMT_INCOME_TOTAL                                    0.071743  \n",
       "AMT_CREDIT                                          0.088984  \n",
       "AMT_ANNUITY                                         0.047629  \n",
       "\n",
       "[5 rows x 1324 columns]"
      ]
     },
     "execution_count": 5,
     "metadata": {},
     "output_type": "execute_result"
    }
   ],
   "source": [
    "# Threshold for removing correlated variables\n",
    "threshold = 0.9\n",
    "\n",
    "# Exclude non-numeric columns\n",
    "numeric_cols = df_sample.select_dtypes(include=[np.number])\n",
    "\n",
    "# Calculate the absolute value of the correlation matrix\n",
    "corr_matrix = numeric_cols.corr().abs()\n",
    "\n",
    "# Display the correlation matrix\n",
    "corr_matrix.head()\n"
   ]
  },
  {
   "cell_type": "code",
   "execution_count": 6,
   "metadata": {},
   "outputs": [
    {
     "data": {
      "text/html": [
       "<div>\n",
       "<style scoped>\n",
       "    .dataframe tbody tr th:only-of-type {\n",
       "        vertical-align: middle;\n",
       "    }\n",
       "\n",
       "    .dataframe tbody tr th {\n",
       "        vertical-align: top;\n",
       "    }\n",
       "\n",
       "    .dataframe thead th {\n",
       "        text-align: right;\n",
       "    }\n",
       "</style>\n",
       "<table border=\"1\" class=\"dataframe\">\n",
       "  <thead>\n",
       "    <tr style=\"text-align: right;\">\n",
       "      <th></th>\n",
       "      <th>SK_ID_CURR</th>\n",
       "      <th>CNT_CHILDREN</th>\n",
       "      <th>AMT_INCOME_TOTAL</th>\n",
       "      <th>AMT_CREDIT</th>\n",
       "      <th>AMT_ANNUITY</th>\n",
       "      <th>AMT_GOODS_PRICE</th>\n",
       "      <th>REGION_POPULATION_RELATIVE</th>\n",
       "      <th>DAYS_BIRTH</th>\n",
       "      <th>DAYS_EMPLOYED</th>\n",
       "      <th>DAYS_REGISTRATION</th>\n",
       "      <th>...</th>\n",
       "      <th>client_installments_AMT_PAYMENT_min_sum</th>\n",
       "      <th>client_installments_AMT_INSTALMENT_min_sum</th>\n",
       "      <th>client_installments_AMT_PAYMENT_sum_max</th>\n",
       "      <th>client_installments_AMT_INSTALMENT_sum_max</th>\n",
       "      <th>client_installments_AMT_PAYMENT_mean_sum</th>\n",
       "      <th>client_installments_AMT_INSTALMENT_mean_sum</th>\n",
       "      <th>client_installments_AMT_INSTALMENT_max_sum</th>\n",
       "      <th>client_installments_AMT_PAYMENT_max_sum</th>\n",
       "      <th>client_installments_AMT_PAYMENT_sum_sum</th>\n",
       "      <th>client_installments_AMT_INSTALMENT_sum_sum</th>\n",
       "    </tr>\n",
       "  </thead>\n",
       "  <tbody>\n",
       "    <tr>\n",
       "      <th>SK_ID_CURR</th>\n",
       "      <td>NaN</td>\n",
       "      <td>0.042446</td>\n",
       "      <td>0.029659</td>\n",
       "      <td>0.024334</td>\n",
       "      <td>0.016087</td>\n",
       "      <td>0.018501</td>\n",
       "      <td>0.031618</td>\n",
       "      <td>0.053366</td>\n",
       "      <td>0.007282</td>\n",
       "      <td>0.058115</td>\n",
       "      <td>...</td>\n",
       "      <td>0.029873</td>\n",
       "      <td>0.048315</td>\n",
       "      <td>0.039217</td>\n",
       "      <td>0.038595</td>\n",
       "      <td>0.052621</td>\n",
       "      <td>0.051793</td>\n",
       "      <td>0.041899</td>\n",
       "      <td>0.042562</td>\n",
       "      <td>0.027021</td>\n",
       "      <td>0.025789</td>\n",
       "    </tr>\n",
       "    <tr>\n",
       "      <th>CNT_CHILDREN</th>\n",
       "      <td>NaN</td>\n",
       "      <td>NaN</td>\n",
       "      <td>0.043046</td>\n",
       "      <td>0.031117</td>\n",
       "      <td>0.052085</td>\n",
       "      <td>0.027671</td>\n",
       "      <td>0.006089</td>\n",
       "      <td>0.324815</td>\n",
       "      <td>0.071572</td>\n",
       "      <td>0.201918</td>\n",
       "      <td>...</td>\n",
       "      <td>0.021164</td>\n",
       "      <td>0.012584</td>\n",
       "      <td>0.045878</td>\n",
       "      <td>0.042019</td>\n",
       "      <td>0.036173</td>\n",
       "      <td>0.031685</td>\n",
       "      <td>0.016970</td>\n",
       "      <td>0.017727</td>\n",
       "      <td>0.039552</td>\n",
       "      <td>0.038448</td>\n",
       "    </tr>\n",
       "    <tr>\n",
       "      <th>AMT_INCOME_TOTAL</th>\n",
       "      <td>NaN</td>\n",
       "      <td>NaN</td>\n",
       "      <td>NaN</td>\n",
       "      <td>0.357608</td>\n",
       "      <td>0.464704</td>\n",
       "      <td>0.372622</td>\n",
       "      <td>0.221138</td>\n",
       "      <td>0.050363</td>\n",
       "      <td>0.042549</td>\n",
       "      <td>0.050044</td>\n",
       "      <td>...</td>\n",
       "      <td>0.174064</td>\n",
       "      <td>0.161119</td>\n",
       "      <td>0.192359</td>\n",
       "      <td>0.187633</td>\n",
       "      <td>0.164645</td>\n",
       "      <td>0.161034</td>\n",
       "      <td>0.120396</td>\n",
       "      <td>0.121329</td>\n",
       "      <td>0.075852</td>\n",
       "      <td>0.071743</td>\n",
       "    </tr>\n",
       "    <tr>\n",
       "      <th>AMT_CREDIT</th>\n",
       "      <td>NaN</td>\n",
       "      <td>NaN</td>\n",
       "      <td>NaN</td>\n",
       "      <td>NaN</td>\n",
       "      <td>0.751210</td>\n",
       "      <td>0.986700</td>\n",
       "      <td>0.116238</td>\n",
       "      <td>0.043710</td>\n",
       "      <td>0.093294</td>\n",
       "      <td>0.017218</td>\n",
       "      <td>...</td>\n",
       "      <td>0.158342</td>\n",
       "      <td>0.128061</td>\n",
       "      <td>0.184661</td>\n",
       "      <td>0.169078</td>\n",
       "      <td>0.169173</td>\n",
       "      <td>0.158022</td>\n",
       "      <td>0.146695</td>\n",
       "      <td>0.147971</td>\n",
       "      <td>0.095815</td>\n",
       "      <td>0.088984</td>\n",
       "    </tr>\n",
       "    <tr>\n",
       "      <th>AMT_ANNUITY</th>\n",
       "      <td>NaN</td>\n",
       "      <td>NaN</td>\n",
       "      <td>NaN</td>\n",
       "      <td>NaN</td>\n",
       "      <td>NaN</td>\n",
       "      <td>0.760209</td>\n",
       "      <td>0.157449</td>\n",
       "      <td>0.003775</td>\n",
       "      <td>0.038108</td>\n",
       "      <td>0.036087</td>\n",
       "      <td>...</td>\n",
       "      <td>0.172138</td>\n",
       "      <td>0.138496</td>\n",
       "      <td>0.166393</td>\n",
       "      <td>0.142877</td>\n",
       "      <td>0.154573</td>\n",
       "      <td>0.137507</td>\n",
       "      <td>0.088039</td>\n",
       "      <td>0.091280</td>\n",
       "      <td>0.056509</td>\n",
       "      <td>0.047629</td>\n",
       "    </tr>\n",
       "  </tbody>\n",
       "</table>\n",
       "<p>5 rows × 1324 columns</p>\n",
       "</div>"
      ],
      "text/plain": [
       "                  SK_ID_CURR  CNT_CHILDREN  AMT_INCOME_TOTAL  AMT_CREDIT  \\\n",
       "SK_ID_CURR               NaN      0.042446          0.029659    0.024334   \n",
       "CNT_CHILDREN             NaN           NaN          0.043046    0.031117   \n",
       "AMT_INCOME_TOTAL         NaN           NaN               NaN    0.357608   \n",
       "AMT_CREDIT               NaN           NaN               NaN         NaN   \n",
       "AMT_ANNUITY              NaN           NaN               NaN         NaN   \n",
       "\n",
       "                  AMT_ANNUITY  AMT_GOODS_PRICE  REGION_POPULATION_RELATIVE  \\\n",
       "SK_ID_CURR           0.016087         0.018501                    0.031618   \n",
       "CNT_CHILDREN         0.052085         0.027671                    0.006089   \n",
       "AMT_INCOME_TOTAL     0.464704         0.372622                    0.221138   \n",
       "AMT_CREDIT           0.751210         0.986700                    0.116238   \n",
       "AMT_ANNUITY               NaN         0.760209                    0.157449   \n",
       "\n",
       "                  DAYS_BIRTH  DAYS_EMPLOYED  DAYS_REGISTRATION  ...  \\\n",
       "SK_ID_CURR          0.053366       0.007282           0.058115  ...   \n",
       "CNT_CHILDREN        0.324815       0.071572           0.201918  ...   \n",
       "AMT_INCOME_TOTAL    0.050363       0.042549           0.050044  ...   \n",
       "AMT_CREDIT          0.043710       0.093294           0.017218  ...   \n",
       "AMT_ANNUITY         0.003775       0.038108           0.036087  ...   \n",
       "\n",
       "                  client_installments_AMT_PAYMENT_min_sum  \\\n",
       "SK_ID_CURR                                       0.029873   \n",
       "CNT_CHILDREN                                     0.021164   \n",
       "AMT_INCOME_TOTAL                                 0.174064   \n",
       "AMT_CREDIT                                       0.158342   \n",
       "AMT_ANNUITY                                      0.172138   \n",
       "\n",
       "                  client_installments_AMT_INSTALMENT_min_sum  \\\n",
       "SK_ID_CURR                                          0.048315   \n",
       "CNT_CHILDREN                                        0.012584   \n",
       "AMT_INCOME_TOTAL                                    0.161119   \n",
       "AMT_CREDIT                                          0.128061   \n",
       "AMT_ANNUITY                                         0.138496   \n",
       "\n",
       "                  client_installments_AMT_PAYMENT_sum_max  \\\n",
       "SK_ID_CURR                                       0.039217   \n",
       "CNT_CHILDREN                                     0.045878   \n",
       "AMT_INCOME_TOTAL                                 0.192359   \n",
       "AMT_CREDIT                                       0.184661   \n",
       "AMT_ANNUITY                                      0.166393   \n",
       "\n",
       "                  client_installments_AMT_INSTALMENT_sum_max  \\\n",
       "SK_ID_CURR                                          0.038595   \n",
       "CNT_CHILDREN                                        0.042019   \n",
       "AMT_INCOME_TOTAL                                    0.187633   \n",
       "AMT_CREDIT                                          0.169078   \n",
       "AMT_ANNUITY                                         0.142877   \n",
       "\n",
       "                  client_installments_AMT_PAYMENT_mean_sum  \\\n",
       "SK_ID_CURR                                        0.052621   \n",
       "CNT_CHILDREN                                      0.036173   \n",
       "AMT_INCOME_TOTAL                                  0.164645   \n",
       "AMT_CREDIT                                        0.169173   \n",
       "AMT_ANNUITY                                       0.154573   \n",
       "\n",
       "                  client_installments_AMT_INSTALMENT_mean_sum  \\\n",
       "SK_ID_CURR                                           0.051793   \n",
       "CNT_CHILDREN                                         0.031685   \n",
       "AMT_INCOME_TOTAL                                     0.161034   \n",
       "AMT_CREDIT                                           0.158022   \n",
       "AMT_ANNUITY                                          0.137507   \n",
       "\n",
       "                  client_installments_AMT_INSTALMENT_max_sum  \\\n",
       "SK_ID_CURR                                          0.041899   \n",
       "CNT_CHILDREN                                        0.016970   \n",
       "AMT_INCOME_TOTAL                                    0.120396   \n",
       "AMT_CREDIT                                          0.146695   \n",
       "AMT_ANNUITY                                         0.088039   \n",
       "\n",
       "                  client_installments_AMT_PAYMENT_max_sum  \\\n",
       "SK_ID_CURR                                       0.042562   \n",
       "CNT_CHILDREN                                     0.017727   \n",
       "AMT_INCOME_TOTAL                                 0.121329   \n",
       "AMT_CREDIT                                       0.147971   \n",
       "AMT_ANNUITY                                      0.091280   \n",
       "\n",
       "                  client_installments_AMT_PAYMENT_sum_sum  \\\n",
       "SK_ID_CURR                                       0.027021   \n",
       "CNT_CHILDREN                                     0.039552   \n",
       "AMT_INCOME_TOTAL                                 0.075852   \n",
       "AMT_CREDIT                                       0.095815   \n",
       "AMT_ANNUITY                                      0.056509   \n",
       "\n",
       "                  client_installments_AMT_INSTALMENT_sum_sum  \n",
       "SK_ID_CURR                                          0.025789  \n",
       "CNT_CHILDREN                                        0.038448  \n",
       "AMT_INCOME_TOTAL                                    0.071743  \n",
       "AMT_CREDIT                                          0.088984  \n",
       "AMT_ANNUITY                                         0.047629  \n",
       "\n",
       "[5 rows x 1324 columns]"
      ]
     },
     "execution_count": 6,
     "metadata": {},
     "output_type": "execute_result"
    }
   ],
   "source": [
    "# On ne récupère que la partie haute de la matrice\n",
    "upper = corr_matrix.where(np.triu(np.ones(corr_matrix.shape), k=1).astype(np.bool_))\n",
    "upper.head()"
   ]
  },
  {
   "cell_type": "code",
   "execution_count": 7,
   "metadata": {},
   "outputs": [
    {
     "name": "stdout",
     "output_type": "stream",
     "text": [
      "There are 650 columns to remove.\n"
     ]
    }
   ],
   "source": [
    "# Sélection des variables dont la corrélation dépasse le seuil de 0.9, pour pouvoir els supprimer\n",
    "to_drop = [column for column in upper.columns if any(upper[column] > threshold)]\n",
    "\n",
    "print('There are %d columns to remove.' % (len(to_drop)))"
   ]
  },
  {
   "cell_type": "code",
   "execution_count": 8,
   "metadata": {
    "scrolled": true
   },
   "outputs": [],
   "source": [
    "# to_drop"
   ]
  },
  {
   "cell_type": "markdown",
   "metadata": {},
   "source": [
    "### 4.1.2 - Suppression des variables corrélées"
   ]
  },
  {
   "cell_type": "code",
   "execution_count": 9,
   "metadata": {},
   "outputs": [
    {
     "name": "stdout",
     "output_type": "stream",
     "text": [
      "Training shape:  (307511, 697)\n",
      "Testing shape:  (48744, 696)\n"
     ]
    }
   ],
   "source": [
    "df_train_without_corr = df_train.drop(to_drop, axis=1)\n",
    "df_test_without_corr = df_test.drop(to_drop, axis=1)\n",
    "print('Training shape: ', df_train_without_corr.shape)\n",
    "print('Testing shape: ', df_test_without_corr.shape)\n"
   ]
  },
  {
   "cell_type": "code",
   "execution_count": 10,
   "metadata": {},
   "outputs": [
    {
     "data": {
      "text/html": [
       "<div>\n",
       "<style scoped>\n",
       "    .dataframe tbody tr th:only-of-type {\n",
       "        vertical-align: middle;\n",
       "    }\n",
       "\n",
       "    .dataframe tbody tr th {\n",
       "        vertical-align: top;\n",
       "    }\n",
       "\n",
       "    .dataframe thead th {\n",
       "        text-align: right;\n",
       "    }\n",
       "</style>\n",
       "<table border=\"1\" class=\"dataframe\">\n",
       "  <thead>\n",
       "    <tr style=\"text-align: right;\">\n",
       "      <th></th>\n",
       "      <th>SK_ID_CURR</th>\n",
       "      <th>TARGET</th>\n",
       "      <th>NAME_CONTRACT_TYPE</th>\n",
       "      <th>CODE_GENDER</th>\n",
       "      <th>FLAG_OWN_CAR</th>\n",
       "      <th>FLAG_OWN_REALTY</th>\n",
       "      <th>CNT_CHILDREN</th>\n",
       "      <th>AMT_INCOME_TOTAL</th>\n",
       "      <th>AMT_CREDIT</th>\n",
       "      <th>AMT_ANNUITY</th>\n",
       "      <th>...</th>\n",
       "      <th>client_installments_AMT_PAYMENT_mean_mean</th>\n",
       "      <th>client_installments_AMT_PAYMENT_mean_max</th>\n",
       "      <th>client_installments_AMT_INSTALMENT_max_mean</th>\n",
       "      <th>client_installments_AMT_PAYMENT_sum_min</th>\n",
       "      <th>client_installments_AMT_INSTALMENT_max_max</th>\n",
       "      <th>client_installments_AMT_PAYMENT_sum_mean</th>\n",
       "      <th>client_installments_AMT_PAYMENT_min_sum</th>\n",
       "      <th>client_installments_AMT_INSTALMENT_min_sum</th>\n",
       "      <th>client_installments_AMT_PAYMENT_mean_sum</th>\n",
       "      <th>client_installments_AMT_INSTALMENT_max_sum</th>\n",
       "    </tr>\n",
       "  </thead>\n",
       "  <tbody>\n",
       "    <tr>\n",
       "      <th>0</th>\n",
       "      <td>100002</td>\n",
       "      <td>True</td>\n",
       "      <td>Cash loans</td>\n",
       "      <td>M</td>\n",
       "      <td>N</td>\n",
       "      <td>Y</td>\n",
       "      <td>0</td>\n",
       "      <td>202500.0</td>\n",
       "      <td>406597.5</td>\n",
       "      <td>24700.5</td>\n",
       "      <td>...</td>\n",
       "      <td>11559.247</td>\n",
       "      <td>11559.247</td>\n",
       "      <td>53093.746</td>\n",
       "      <td>219625.7</td>\n",
       "      <td>53093.746</td>\n",
       "      <td>219625.7</td>\n",
       "      <td>175783.73</td>\n",
       "      <td>175783.73</td>\n",
       "      <td>219625.69</td>\n",
       "      <td>1008781.2</td>\n",
       "    </tr>\n",
       "  </tbody>\n",
       "</table>\n",
       "<p>1 rows × 697 columns</p>\n",
       "</div>"
      ],
      "text/plain": [
       "   SK_ID_CURR  TARGET NAME_CONTRACT_TYPE CODE_GENDER FLAG_OWN_CAR  \\\n",
       "0      100002    True         Cash loans           M            N   \n",
       "\n",
       "  FLAG_OWN_REALTY  CNT_CHILDREN  AMT_INCOME_TOTAL  AMT_CREDIT  AMT_ANNUITY  \\\n",
       "0               Y             0          202500.0    406597.5      24700.5   \n",
       "\n",
       "   ... client_installments_AMT_PAYMENT_mean_mean  \\\n",
       "0  ...                                 11559.247   \n",
       "\n",
       "  client_installments_AMT_PAYMENT_mean_max  \\\n",
       "0                                11559.247   \n",
       "\n",
       "  client_installments_AMT_INSTALMENT_max_mean  \\\n",
       "0                                   53093.746   \n",
       "\n",
       "  client_installments_AMT_PAYMENT_sum_min  \\\n",
       "0                                219625.7   \n",
       "\n",
       "  client_installments_AMT_INSTALMENT_max_max  \\\n",
       "0                                  53093.746   \n",
       "\n",
       "   client_installments_AMT_PAYMENT_sum_mean  \\\n",
       "0                                  219625.7   \n",
       "\n",
       "   client_installments_AMT_PAYMENT_min_sum  \\\n",
       "0                                175783.73   \n",
       "\n",
       "   client_installments_AMT_INSTALMENT_min_sum  \\\n",
       "0                                   175783.73   \n",
       "\n",
       "   client_installments_AMT_PAYMENT_mean_sum  \\\n",
       "0                                 219625.69   \n",
       "\n",
       "   client_installments_AMT_INSTALMENT_max_sum  \n",
       "0                                   1008781.2  \n",
       "\n",
       "[1 rows x 697 columns]"
      ]
     },
     "execution_count": 10,
     "metadata": {},
     "output_type": "execute_result"
    }
   ],
   "source": [
    "df_train_without_corr[df_train_without_corr['SK_ID_CURR']==100002]"
   ]
  },
  {
   "cell_type": "markdown",
   "metadata": {},
   "source": [
    "L'application de cette méthode à l'ensemble du jeu de données permet de supprimer près de la moitié de features colinéaires.\n",
    "Le nombre de features a été réduit de manière significative, mais il est probablement encore trop élevé."
   ]
  },
  {
   "cell_type": "markdown",
   "metadata": {},
   "source": [
    "## 4.2 - Suppresion des MV et encodage des variables catégorielles"
   ]
  },
  {
   "cell_type": "markdown",
   "metadata": {},
   "source": [
    "Un choix relativement simple de sélection de features consiste à supprimer les valeurs manquantes. Cela semble simple, du moins jusqu'à ce que nous devions décider quel pourcentage de valeurs manquantes est le seuil minimum pour supprimer une colonne. Comme pour de nombreux choix en apprentissage automatique, il n'y a pas de bonne réponse, ni même de règle générale pour faire ce choix. Dans cette implémentation, si des colonnes ont plus de 75 % de valeurs manquantes, elles seront supprimées.\n",
    "\n",
    "La Gradient Boosting Machine (au moins dans LightGBM) peut traiter les valeurs manquantes, nous n'allons donc pas faire d'imputation sur les variables restantes puisque nous avons vu précédemment que le LGBM était le modèle le plus performant de ceux que nous avons testés. "
   ]
  },
  {
   "cell_type": "code",
   "execution_count": 11,
   "metadata": {},
   "outputs": [
    {
     "data": {
      "text/plain": [
       "client_credit_CNT_DRAWINGS_OTHER_CURRENT_min_max      0.801178\n",
       "client_credit_CNT_DRAWINGS_OTHER_CURRENT_max_min      0.801178\n",
       "client_credit_CNT_DRAWINGS_OTHER_CURRENT_min_mean     0.801178\n",
       "client_credit_CNT_DRAWINGS_OTHER_CURRENT_min_min      0.801178\n",
       "client_credit_AMT_DRAWINGS_OTHER_CURRENT_min_mean     0.801178\n",
       "client_credit_AMT_DRAWINGS_OTHER_CURRENT_min_max      0.801178\n",
       "client_credit_AMT_DRAWINGS_OTHER_CURRENT_min_min      0.801178\n",
       "client_credit_CNT_DRAWINGS_OTHER_CURRENT_mean_mean    0.801178\n",
       "bureau_AMT_ANNUITY_min                                0.739817\n",
       "bureau_AMT_ANNUITY_mean                               0.739817\n",
       "bureau_AMT_ANNUITY_max                                0.739817\n",
       "client_credit_CNT_DRAWINGS_OTHER_CURRENT_max_sum      0.717392\n",
       "client_credit_AMT_CREDIT_LIMIT_ACTUAL_max_sum         0.717392\n",
       "client_credit_AMT_PAYMENT_TOTAL_CURRENT_max_sum       0.717392\n",
       "client_credit_AMT_DRAWINGS_ATM_CURRENT_max_sum        0.717392\n",
       "dtype: float64"
      ]
     },
     "execution_count": 11,
     "metadata": {},
     "output_type": "execute_result"
    }
   ],
   "source": [
    "train_missing = (df_train_without_corr.isnull().sum() / len(df_train_without_corr)).sort_values(ascending = False)\n",
    "train_missing.head(15)"
   ]
  },
  {
   "cell_type": "code",
   "execution_count": 12,
   "metadata": {},
   "outputs": [
    {
     "data": {
      "text/plain": [
       "client_credit_CNT_DRAWINGS_OTHER_CURRENT_max_min      0.773223\n",
       "client_credit_CNT_DRAWINGS_OTHER_CURRENT_min_mean     0.773223\n",
       "client_credit_CNT_DRAWINGS_OTHER_CURRENT_mean_mean    0.773223\n",
       "client_credit_AMT_DRAWINGS_OTHER_CURRENT_min_min      0.773223\n",
       "client_credit_AMT_DRAWINGS_OTHER_CURRENT_min_max      0.773223\n",
       "dtype: float64"
      ]
     },
     "execution_count": 12,
     "metadata": {},
     "output_type": "execute_result"
    }
   ],
   "source": [
    "# Test missing values (in percent)\n",
    "test_missing = (df_test_without_corr.isnull().sum() / len(df_test_without_corr)).sort_values(ascending = False)\n",
    "test_missing.head()"
   ]
  },
  {
   "cell_type": "code",
   "execution_count": 13,
   "metadata": {},
   "outputs": [
    {
     "name": "stdout",
     "output_type": "stream",
     "text": [
      "There are 8 columns with more than 75% missing values\n"
     ]
    }
   ],
   "source": [
    "# Identification des MV au delà du seuil de 75%\n",
    "train_missing = train_missing.index[train_missing > 0.75]\n",
    "test_missing = test_missing.index[test_missing > 0.75]\n",
    "\n",
    "all_missing = list(set(set(train_missing) | set(test_missing)))\n",
    "print('There are %d columns with more than 75%% missing values' % len(all_missing))"
   ]
  },
  {
   "cell_type": "code",
   "execution_count": 14,
   "metadata": {},
   "outputs": [
    {
     "data": {
      "text/plain": [
       "['client_credit_CNT_DRAWINGS_OTHER_CURRENT_mean_mean',\n",
       " 'client_credit_AMT_DRAWINGS_OTHER_CURRENT_min_min',\n",
       " 'client_credit_CNT_DRAWINGS_OTHER_CURRENT_min_min',\n",
       " 'client_credit_CNT_DRAWINGS_OTHER_CURRENT_max_min',\n",
       " 'client_credit_CNT_DRAWINGS_OTHER_CURRENT_min_max',\n",
       " 'client_credit_AMT_DRAWINGS_OTHER_CURRENT_min_mean',\n",
       " 'client_credit_AMT_DRAWINGS_OTHER_CURRENT_min_max',\n",
       " 'client_credit_CNT_DRAWINGS_OTHER_CURRENT_min_mean']"
      ]
     },
     "execution_count": 14,
     "metadata": {},
     "output_type": "execute_result"
    }
   ],
   "source": [
    "all_missing"
   ]
  },
  {
   "cell_type": "markdown",
   "metadata": {},
   "source": [
    "Nous supprimons ces variables et encodons les variables restantes avec un One Hot Encosing"
   ]
  },
  {
   "cell_type": "code",
   "execution_count": 15,
   "metadata": {},
   "outputs": [],
   "source": [
    "# Sauvegarde des targets pq l'alignement va supprimer cette variable\n",
    "df_train_labels = df_train_without_corr[\"TARGET\"]\n",
    "\n",
    "# Sauvegarde des identifiants\n",
    "df_train_ids = df_train_without_corr['SK_ID_CURR']\n",
    "df_test_ids = df_test_without_corr['SK_ID_CURR']\n",
    "\n",
    "\n",
    "# get_dummies\n",
    "df_train_without_corr_mv = pd.get_dummies(df_train_without_corr.drop(all_missing, axis=1))\n",
    "df_test_without_corr_mv = pd.get_dummies(df_test_without_corr.drop(all_missing, axis=1))\n",
    "\n"
   ]
  },
  {
   "cell_type": "code",
   "execution_count": 16,
   "metadata": {},
   "outputs": [
    {
     "data": {
      "text/plain": [
       "((307511, 813), (48744, 809))"
      ]
     },
     "execution_count": 16,
     "metadata": {},
     "output_type": "execute_result"
    }
   ],
   "source": [
    "df_train_without_corr_mv.shape, df_test_without_corr_mv.shape"
   ]
  },
  {
   "cell_type": "code",
   "execution_count": 17,
   "metadata": {},
   "outputs": [
    {
     "name": "stdout",
     "output_type": "stream",
     "text": [
      "Training set full shape:  (307511, 809)\n",
      "Testing set full shape:  (48744, 809)\n"
     ]
    }
   ],
   "source": [
    "# Alignement\n",
    "df_train_without_corr_mv, df_test_without_corr_mv = df_train_without_corr_mv.align(df_test_without_corr_mv, join = 'inner', axis = 1)\n",
    "\n",
    "print('Training set full shape: ', df_train_without_corr_mv.shape)\n",
    "print('Testing set full shape: ', df_test_without_corr_mv.shape)\n"
   ]
  },
  {
   "cell_type": "code",
   "execution_count": 18,
   "metadata": {},
   "outputs": [],
   "source": [
    "# drop des ids pour pouvoir faire la feature selection avec mdoélisation\n",
    "df_train_without_corr_mv = df_train_without_corr_mv.drop(columns = ['SK_ID_CURR'])\n",
    "df_test_without_corr_mv = df_test_without_corr_mv.drop(columns = ['SK_ID_CURR'])"
   ]
  },
  {
   "cell_type": "code",
   "execution_count": 19,
   "metadata": {},
   "outputs": [
    {
     "name": "stdout",
     "output_type": "stream",
     "text": [
      "Training set full shape:  (307511, 808)\n",
      "Testing set full shape:  (48744, 808)\n"
     ]
    }
   ],
   "source": [
    "print('Training set full shape: ', df_train_without_corr_mv.shape)\n",
    "print('Testing set full shape: ', df_test_without_corr_mv.shape)"
   ]
  },
  {
   "cell_type": "markdown",
   "metadata": {},
   "source": [
    "## 4.3 - Feature selection avec la Feature Importance"
   ]
  },
  {
   "cell_type": "markdown",
   "metadata": {},
   "source": [
    "La méthode suivante que nous pouvons employer pour la sélection des features consiste à utiliser l'importance des caractéristiques d'un modèle. Les modèles basés sur les arbres (et par conséquent les ensembles d'arbres) peuvent déterminer une \"importance\" pour chaque caractéristique en mesurant la réduction de l'impureté par l'inclusion de la caractéristique dans le modèle. La valeur relative des importances peut être utilisée comme une approximation de la \"pertinence\" des différentes caractéristiques dans un modèle. En outre, nous pouvons utiliser les importances des caractéristiques pour supprimer les caractéristiques que le modèle ne considère pas comme importantes."
   ]
  },
  {
   "cell_type": "markdown",
   "metadata": {},
   "source": [
    "La méthode Recursive Feature Elimination de Scikit-Learn est une méthode qui permet d'effectuer cette opération automatiquement. Cette méthode accepte un estimateur (qui renvoie soit des poids de caractéristiques, comme une régression linéaire, soit des importances de caractéristiques, comme une forêt aléatoire) et un nombre souhaité de caractéristiques. Il ajuste ensuite le modèle de manière répétée sur les données et supprime itérativement les caractéristiques les moins importantes jusqu'à ce qu'il ne reste plus que le nombre souhaité de caractéristiques. Cela signifie que nous disposons d'un autre hyperparamètre arbitraire à utiliser dans notre pipeline : le nombre de caractéristiques à conserver !"
   ]
  },
  {
   "cell_type": "markdown",
   "metadata": {},
   "source": [
    "Au lieu de le faire automatiquement, nous pouvons effectuer notre propre suppression de features en supprimant d'abord toutes les features d'importance nulle du modèle. S'il reste trop de features, nous pouvons envisager de supprimer celles qui ont le moins d'importance. "
   ]
  },
  {
   "cell_type": "markdown",
   "metadata": {},
   "source": [
    "Comme le modèle LightGBM ne nécessite pas l'imputation des valeurs manquantes, nous pouvons l'ajuster directement sur les données d'apprentissage. Nous utiliserons l'arrêt anticipé pour déterminer le nombre optimal d'itérations et exécuterons le modèle deux fois, en calculant la moyenne des importances des caractéristiques pour essayer d'éviter le surajustement à un certain ensemble de caractéristiques."
   ]
  },
  {
   "cell_type": "code",
   "execution_count": 20,
   "metadata": {},
   "outputs": [],
   "source": [
    "# Initialize an empty array to hold feature importances\n",
    "feature_importances = np.zeros(df_train_without_corr_mv.shape[1])\n",
    "\n",
    "# Create the model with several hyperparameters\n",
    "model = lgb.LGBMClassifier(objective='binary', \n",
    "                           boosting_type = 'goss', \n",
    "                           n_estimators = 10000,\n",
    "                           # learning_rate = 0.01, \n",
    "                           class_weight = 'balanced')"
   ]
  },
  {
   "cell_type": "markdown",
   "metadata": {},
   "source": [
    "Pour éviter le message d'erreur 'LightGBMError: Do not support special JSON characters in feature name', je remplace les caractères spéciaux dans les noms des features"
   ]
  },
  {
   "cell_type": "code",
   "execution_count": 21,
   "metadata": {},
   "outputs": [],
   "source": [
    "df_train_without_corr_mv.columns= [col.replace('{', '').replace('}', '').replace(':', '').replace('[', '').replace(']', '').replace(',', '').replace('\"', '').replace(\"'\", '') for col in df_train_without_corr_mv.columns]\n",
    "df_test_without_corr_mv.columns= [col.replace('{', '').replace('}', '').replace(':', '').replace('[', '').replace(']', '').replace(',', '').replace('\"', '').replace(\"'\", '') for col in df_test_without_corr_mv.columns]"
   ]
  },
  {
   "cell_type": "code",
   "execution_count": 22,
   "metadata": {},
   "outputs": [
    {
     "name": "stdout",
     "output_type": "stream",
     "text": [
      "[LightGBM] [Warning] Found boosting=goss. For backwards compatibility reasons, LightGBM interprets this as boosting=gbdt, data_sample_strategy=goss.To suppress this warning, set data_sample_strategy=goss instead.\n",
      "[LightGBM] [Warning] Found whitespace in feature_names, replace with underlines\n",
      "[LightGBM] [Warning] Found boosting=goss. For backwards compatibility reasons, LightGBM interprets this as boosting=gbdt, data_sample_strategy=goss.To suppress this warning, set data_sample_strategy=goss instead.\n",
      "[LightGBM] [Info] Number of positive: 18734, number of negative: 211899\n",
      "[LightGBM] [Info] Auto-choosing col-wise multi-threading, the overhead of testing was 0.499497 seconds.\n",
      "You can set `force_col_wise=true` to remove the overhead.\n",
      "[LightGBM] [Info] Total Bins 72374\n",
      "[LightGBM] [Info] Number of data points in the train set: 230633, number of used features: 800\n",
      "[LightGBM] [Info] Using GOSS\n",
      "[LightGBM] [Warning] Found boosting=goss. For backwards compatibility reasons, LightGBM interprets this as boosting=gbdt, data_sample_strategy=goss.To suppress this warning, set data_sample_strategy=goss instead.\n",
      "[LightGBM] [Warning] Found whitespace in feature_names, replace with underlines\n",
      "[LightGBM] [Info] [binary:BoostFromScore]: pavg=0.500000 -> initscore=0.000000\n",
      "[LightGBM] [Info] Start training from score 0.000000\n",
      "Training until validation scores don't improve for 50 rounds\n",
      "Early stopping, best iteration is:\n",
      "[171]\tvalid_0's auc: 0.784292\tvalid_0's binary_logloss: 0.513555\n",
      "[LightGBM] [Warning] Found boosting=goss. For backwards compatibility reasons, LightGBM interprets this as boosting=gbdt, data_sample_strategy=goss.To suppress this warning, set data_sample_strategy=goss instead.\n",
      "[LightGBM] [Warning] Found whitespace in feature_names, replace with underlines\n",
      "[LightGBM] [Warning] Found boosting=goss. For backwards compatibility reasons, LightGBM interprets this as boosting=gbdt, data_sample_strategy=goss.To suppress this warning, set data_sample_strategy=goss instead.\n",
      "[LightGBM] [Info] Number of positive: 18565, number of negative: 212068\n",
      "[LightGBM] [Info] Auto-choosing col-wise multi-threading, the overhead of testing was 0.623750 seconds.\n",
      "You can set `force_col_wise=true` to remove the overhead.\n",
      "[LightGBM] [Info] Total Bins 72436\n",
      "[LightGBM] [Info] Number of data points in the train set: 230633, number of used features: 799\n",
      "[LightGBM] [Info] Using GOSS\n",
      "[LightGBM] [Warning] Found boosting=goss. For backwards compatibility reasons, LightGBM interprets this as boosting=gbdt, data_sample_strategy=goss.To suppress this warning, set data_sample_strategy=goss instead.\n",
      "[LightGBM] [Warning] Found whitespace in feature_names, replace with underlines\n",
      "[LightGBM] [Info] [binary:BoostFromScore]: pavg=0.500000 -> initscore=0.000000\n",
      "[LightGBM] [Info] Start training from score 0.000000\n",
      "Training until validation scores don't improve for 50 rounds\n",
      "Early stopping, best iteration is:\n",
      "[161]\tvalid_0's auc: 0.786852\tvalid_0's binary_logloss: 0.515398\n"
     ]
    }
   ],
   "source": [
    "from lightgbm import early_stopping\n",
    "# Fit the model twice to avoid overfitting\n",
    "for i in range(2):\n",
    "    \n",
    "    # Split into training and validation set\n",
    "    train_features, valid_features, train_y, valid_y = train_test_split(df_train_without_corr_mv, \n",
    "                                                                        df_train_labels, \n",
    "                                                                        test_size = 0.25, \n",
    "                                                                        random_state = i)\n",
    "\n",
    "    model.fit(train_features, \n",
    "              train_y, \n",
    "              eval_set=[(valid_features, valid_y)],\n",
    "              eval_metric='auc',\n",
    "              callbacks=[early_stopping(stopping_rounds=50)])\n",
    "    \n",
    "    # Record the feature importances\n",
    "    feature_importances += model.feature_importances_"
   ]
  },
  {
   "cell_type": "code",
   "execution_count": 23,
   "metadata": {},
   "outputs": [
    {
     "data": {
      "text/html": [
       "<div>\n",
       "<style scoped>\n",
       "    .dataframe tbody tr th:only-of-type {\n",
       "        vertical-align: middle;\n",
       "    }\n",
       "\n",
       "    .dataframe tbody tr th {\n",
       "        vertical-align: top;\n",
       "    }\n",
       "\n",
       "    .dataframe thead th {\n",
       "        text-align: right;\n",
       "    }\n",
       "</style>\n",
       "<table border=\"1\" class=\"dataframe\">\n",
       "  <thead>\n",
       "    <tr style=\"text-align: right;\">\n",
       "      <th></th>\n",
       "      <th>feature</th>\n",
       "      <th>importance</th>\n",
       "    </tr>\n",
       "  </thead>\n",
       "  <tbody>\n",
       "    <tr>\n",
       "      <th>73</th>\n",
       "      <td>CREDIT_TERM</td>\n",
       "      <td>152.0</td>\n",
       "    </tr>\n",
       "    <tr>\n",
       "      <th>25</th>\n",
       "      <td>EXT_SOURCE_1</td>\n",
       "      <td>148.5</td>\n",
       "    </tr>\n",
       "    <tr>\n",
       "      <th>26</th>\n",
       "      <td>EXT_SOURCE_2</td>\n",
       "      <td>138.5</td>\n",
       "    </tr>\n",
       "    <tr>\n",
       "      <th>27</th>\n",
       "      <td>EXT_SOURCE_3</td>\n",
       "      <td>126.5</td>\n",
       "    </tr>\n",
       "    <tr>\n",
       "      <th>6</th>\n",
       "      <td>DAYS_EMPLOYED</td>\n",
       "      <td>92.0</td>\n",
       "    </tr>\n",
       "    <tr>\n",
       "      <th>5</th>\n",
       "      <td>DAYS_BIRTH</td>\n",
       "      <td>88.5</td>\n",
       "    </tr>\n",
       "    <tr>\n",
       "      <th>667</th>\n",
       "      <td>client_installments_AMT_PAYMENT_min_sum</td>\n",
       "      <td>78.0</td>\n",
       "    </tr>\n",
       "    <tr>\n",
       "      <th>3</th>\n",
       "      <td>AMT_ANNUITY</td>\n",
       "      <td>69.0</td>\n",
       "    </tr>\n",
       "    <tr>\n",
       "      <th>113</th>\n",
       "      <td>bureau_DAYS_CREDIT_max</td>\n",
       "      <td>53.0</td>\n",
       "    </tr>\n",
       "    <tr>\n",
       "      <th>119</th>\n",
       "      <td>bureau_DAYS_CREDIT_ENDDATE_max</td>\n",
       "      <td>52.5</td>\n",
       "    </tr>\n",
       "  </tbody>\n",
       "</table>\n",
       "</div>"
      ],
      "text/plain": [
       "                                     feature  importance\n",
       "73                               CREDIT_TERM       152.0\n",
       "25                              EXT_SOURCE_1       148.5\n",
       "26                              EXT_SOURCE_2       138.5\n",
       "27                              EXT_SOURCE_3       126.5\n",
       "6                              DAYS_EMPLOYED        92.0\n",
       "5                                 DAYS_BIRTH        88.5\n",
       "667  client_installments_AMT_PAYMENT_min_sum        78.0\n",
       "3                                AMT_ANNUITY        69.0\n",
       "113                   bureau_DAYS_CREDIT_max        53.0\n",
       "119           bureau_DAYS_CREDIT_ENDDATE_max        52.5"
      ]
     },
     "execution_count": 23,
     "metadata": {},
     "output_type": "execute_result"
    }
   ],
   "source": [
    "feature_importances = feature_importances / 2\n",
    "feature_importances = pd.DataFrame({'feature': list(df_train_without_corr_mv.columns), 'importance': feature_importances}).sort_values('importance', ascending = False)\n",
    "feature_importances.head(10)"
   ]
  },
  {
   "cell_type": "code",
   "execution_count": 24,
   "metadata": {},
   "outputs": [
    {
     "name": "stdout",
     "output_type": "stream",
     "text": [
      "There are 283 features with 0.0 importance\n"
     ]
    },
    {
     "data": {
      "text/html": [
       "<div>\n",
       "<style scoped>\n",
       "    .dataframe tbody tr th:only-of-type {\n",
       "        vertical-align: middle;\n",
       "    }\n",
       "\n",
       "    .dataframe tbody tr th {\n",
       "        vertical-align: top;\n",
       "    }\n",
       "\n",
       "    .dataframe thead th {\n",
       "        text-align: right;\n",
       "    }\n",
       "</style>\n",
       "<table border=\"1\" class=\"dataframe\">\n",
       "  <thead>\n",
       "    <tr style=\"text-align: right;\">\n",
       "      <th></th>\n",
       "      <th>feature</th>\n",
       "      <th>importance</th>\n",
       "    </tr>\n",
       "  </thead>\n",
       "  <tbody>\n",
       "    <tr>\n",
       "      <th>328</th>\n",
       "      <td>previous_PRODUCT_COMBINATION_POS household wit...</td>\n",
       "      <td>0.0</td>\n",
       "    </tr>\n",
       "    <tr>\n",
       "      <th>326</th>\n",
       "      <td>previous_NAME_GOODS_CATEGORY_Photo / Cinema Eq...</td>\n",
       "      <td>0.0</td>\n",
       "    </tr>\n",
       "    <tr>\n",
       "      <th>320</th>\n",
       "      <td>previous_PRODUCT_COMBINATION_POS industry with...</td>\n",
       "      <td>0.0</td>\n",
       "    </tr>\n",
       "    <tr>\n",
       "      <th>318</th>\n",
       "      <td>previous_NAME_GOODS_CATEGORY_Computers_sum</td>\n",
       "      <td>0.0</td>\n",
       "    </tr>\n",
       "    <tr>\n",
       "      <th>316</th>\n",
       "      <td>previous_NAME_TYPE_SUITE_Children_sum</td>\n",
       "      <td>0.0</td>\n",
       "    </tr>\n",
       "    <tr>\n",
       "      <th>315</th>\n",
       "      <td>previous_PRODUCT_COMBINATION_Cash Street low_sum</td>\n",
       "      <td>0.0</td>\n",
       "    </tr>\n",
       "    <tr>\n",
       "      <th>306</th>\n",
       "      <td>previous_NAME_CLIENT_TYPE_XNA_sum</td>\n",
       "      <td>0.0</td>\n",
       "    </tr>\n",
       "    <tr>\n",
       "      <th>305</th>\n",
       "      <td>previous_NAME_CLIENT_TYPE_XNA_mean</td>\n",
       "      <td>0.0</td>\n",
       "    </tr>\n",
       "    <tr>\n",
       "      <th>304</th>\n",
       "      <td>previous_NAME_TYPE_SUITE_Other_B_sum</td>\n",
       "      <td>0.0</td>\n",
       "    </tr>\n",
       "    <tr>\n",
       "      <th>807</th>\n",
       "      <td>EMERGENCYSTATE_MODE_Yes</td>\n",
       "      <td>0.0</td>\n",
       "    </tr>\n",
       "  </tbody>\n",
       "</table>\n",
       "</div>"
      ],
      "text/plain": [
       "                                               feature  importance\n",
       "328  previous_PRODUCT_COMBINATION_POS household wit...         0.0\n",
       "326  previous_NAME_GOODS_CATEGORY_Photo / Cinema Eq...         0.0\n",
       "320  previous_PRODUCT_COMBINATION_POS industry with...         0.0\n",
       "318         previous_NAME_GOODS_CATEGORY_Computers_sum         0.0\n",
       "316              previous_NAME_TYPE_SUITE_Children_sum         0.0\n",
       "315   previous_PRODUCT_COMBINATION_Cash Street low_sum         0.0\n",
       "306                  previous_NAME_CLIENT_TYPE_XNA_sum         0.0\n",
       "305                 previous_NAME_CLIENT_TYPE_XNA_mean         0.0\n",
       "304               previous_NAME_TYPE_SUITE_Other_B_sum         0.0\n",
       "807                            EMERGENCYSTATE_MODE_Yes         0.0"
      ]
     },
     "execution_count": 24,
     "metadata": {},
     "output_type": "execute_result"
    }
   ],
   "source": [
    "# Find the features with zero importance\n",
    "zero_features = list(feature_importances[feature_importances['importance'] == 0.0]['feature'])\n",
    "print('There are %d features with 0.0 importance' % len(zero_features))\n",
    "feature_importances.tail(10)"
   ]
  },
  {
   "cell_type": "markdown",
   "metadata": {},
   "source": [
    "Nous constatons que plusieurs des features créées manuellement sont entrées dans le top 10 des features les plus importantes. Il semble également que de nombreuses features que nous avons créées aient littéralement une importance nulle. Pour le gradient boosting machine, les features dont l'importance est nulle ne sont pas du tout utilisées pour effectuer des divisions. Par conséquent, nous pouvons supprimer ces features du modèle sans effet sur les performances (à l'exception d'un entraînement plus rapide)."
   ]
  },
  {
   "cell_type": "code",
   "execution_count": 25,
   "metadata": {},
   "outputs": [
    {
     "name": "stdout",
     "output_type": "stream",
     "text": [
      "Training shape:  (307511, 525)\n",
      "Testing shape:  (48744, 525)\n"
     ]
    }
   ],
   "source": [
    "df_train_without_corr_mv_zero = df_train_without_corr_mv.drop(columns = zero_features)\n",
    "df_test_without_corr_mv_zero = df_test_without_corr_mv.drop(columns = zero_features)\n",
    "\n",
    "print('Training shape: ', df_train_without_corr_mv_zero.shape)\n",
    "print('Testing shape: ', df_test_without_corr_mv_zero.shape)"
   ]
  },
  {
   "cell_type": "code",
   "execution_count": 26,
   "metadata": {},
   "outputs": [],
   "source": [
    "def identify_zero_importance_features(train, train_labels, iterations = 2):\n",
    "    \"\"\"\n",
    "    Identify zero importance features in a training dataset based on the \n",
    "    feature importances from a gradient boosting model. \n",
    "    \n",
    "    Parameters\n",
    "    --------\n",
    "    train : dataframe\n",
    "        Training features\n",
    "        \n",
    "    train_labels : np.array\n",
    "        Labels for training data\n",
    "        \n",
    "    iterations : integer, default = 2\n",
    "        Number of cross validation splits to use for determining feature importances\n",
    "    \"\"\"\n",
    "    \n",
    "    # Initialize an empty array to hold feature importances\n",
    "    feature_importances = np.zeros(train.shape[1])\n",
    "\n",
    "    # Create the model with several hyperparameters\n",
    "    model = lgb.LGBMClassifier(objective='binary', \n",
    "                           boosting_type = 'goss', \n",
    "                           n_estimators = 1000,\n",
    "                           # learning_rate = 0.01, \n",
    "                           class_weight = 'balanced')\n",
    "    \n",
    "    # Fit the model multiple times to avoid overfitting\n",
    "    for i in range(iterations):\n",
    "\n",
    "        # Split into training and validation set\n",
    "        train_features, valid_features, train_y, valid_y = train_test_split(train, train_labels, test_size = 0.25, random_state = i)\n",
    "\n",
    "        # Train using early stopping\n",
    "        model.fit(train_features, \n",
    "                  train_y, \n",
    "                  eval_set = [(valid_features, valid_y)], \n",
    "                  eval_metric = 'auc', \n",
    "                  callbacks = [early_stopping(stopping_rounds=50)])\n",
    "\n",
    "        # Record the feature importances\n",
    "        feature_importances += model.feature_importances_ / iterations\n",
    "    \n",
    "    feature_importances = pd.DataFrame({'feature': list(train.columns), 'importance': feature_importances}).sort_values('importance', ascending = False)\n",
    "    \n",
    "    # Find the features with zero importance\n",
    "    zero_features = list(feature_importances[feature_importances['importance'] ==0]['feature'])\n",
    "    print('\\nThere are %d features with 0.0 importance' % len(zero_features))\n",
    "    \n",
    "    return zero_features, feature_importances"
   ]
  },
  {
   "cell_type": "code",
   "execution_count": 27,
   "metadata": {},
   "outputs": [
    {
     "name": "stdout",
     "output_type": "stream",
     "text": [
      "[LightGBM] [Warning] Found boosting=goss. For backwards compatibility reasons, LightGBM interprets this as boosting=gbdt, data_sample_strategy=goss.To suppress this warning, set data_sample_strategy=goss instead.\n",
      "[LightGBM] [Warning] Found whitespace in feature_names, replace with underlines\n",
      "[LightGBM] [Warning] Found boosting=goss. For backwards compatibility reasons, LightGBM interprets this as boosting=gbdt, data_sample_strategy=goss.To suppress this warning, set data_sample_strategy=goss instead.\n",
      "[LightGBM] [Info] Number of positive: 18734, number of negative: 211899\n",
      "[LightGBM] [Info] Auto-choosing col-wise multi-threading, the overhead of testing was 0.599690 seconds.\n",
      "You can set `force_col_wise=true` to remove the overhead.\n",
      "[LightGBM] [Info] Total Bins 68627\n",
      "[LightGBM] [Info] Number of data points in the train set: 230633, number of used features: 525\n",
      "[LightGBM] [Info] Using GOSS\n",
      "[LightGBM] [Warning] Found boosting=goss. For backwards compatibility reasons, LightGBM interprets this as boosting=gbdt, data_sample_strategy=goss.To suppress this warning, set data_sample_strategy=goss instead.\n",
      "[LightGBM] [Warning] Found whitespace in feature_names, replace with underlines\n",
      "[LightGBM] [Info] [binary:BoostFromScore]: pavg=0.500000 -> initscore=0.000000\n",
      "[LightGBM] [Info] Start training from score 0.000000\n",
      "Training until validation scores don't improve for 50 rounds\n",
      "Early stopping, best iteration is:\n",
      "[206]\tvalid_0's auc: 0.784364\tvalid_0's binary_logloss: 0.504421\n",
      "[LightGBM] [Warning] Found boosting=goss. For backwards compatibility reasons, LightGBM interprets this as boosting=gbdt, data_sample_strategy=goss.To suppress this warning, set data_sample_strategy=goss instead.\n",
      "[LightGBM] [Warning] Found whitespace in feature_names, replace with underlines\n",
      "[LightGBM] [Warning] Found boosting=goss. For backwards compatibility reasons, LightGBM interprets this as boosting=gbdt, data_sample_strategy=goss.To suppress this warning, set data_sample_strategy=goss instead.\n",
      "[LightGBM] [Info] Number of positive: 18565, number of negative: 212068\n",
      "[LightGBM] [Info] Auto-choosing col-wise multi-threading, the overhead of testing was 0.567850 seconds.\n",
      "You can set `force_col_wise=true` to remove the overhead.\n",
      "[LightGBM] [Info] Total Bins 68695\n",
      "[LightGBM] [Info] Number of data points in the train set: 230633, number of used features: 525\n",
      "[LightGBM] [Info] Using GOSS\n",
      "[LightGBM] [Warning] Found boosting=goss. For backwards compatibility reasons, LightGBM interprets this as boosting=gbdt, data_sample_strategy=goss.To suppress this warning, set data_sample_strategy=goss instead.\n",
      "[LightGBM] [Warning] Found whitespace in feature_names, replace with underlines\n",
      "[LightGBM] [Info] [binary:BoostFromScore]: pavg=0.500000 -> initscore=0.000000\n",
      "[LightGBM] [Info] Start training from score 0.000000\n",
      "Training until validation scores don't improve for 50 rounds\n",
      "Early stopping, best iteration is:\n",
      "[182]\tvalid_0's auc: 0.787222\tvalid_0's binary_logloss: 0.509763\n",
      "\n",
      "There are 0 features with 0.0 importance\n"
     ]
    }
   ],
   "source": [
    "second_round_zero_features, feature_importances = identify_zero_importance_features(df_train_without_corr_mv_zero, df_train_labels)"
   ]
  },
  {
   "cell_type": "code",
   "execution_count": 28,
   "metadata": {},
   "outputs": [
    {
     "name": "stdout",
     "output_type": "stream",
     "text": [
      "Training shape:  (307511, 525)\n",
      "Testing shape:  (48744, 525)\n"
     ]
    }
   ],
   "source": [
    "df_train_without_corr_mv_zero_zero = df_train_without_corr_mv_zero.drop(columns = second_round_zero_features)\n",
    "df_test_without_corr_mv_zero_zero = df_test_without_corr_mv_zero.drop(columns = second_round_zero_features)\n",
    "\n",
    "print('Training shape: ', df_train_without_corr_mv_zero_zero.shape)\n",
    "print('Testing shape: ', df_test_without_corr_mv_zero_zero.shape)"
   ]
  },
  {
   "cell_type": "code",
   "execution_count": 29,
   "metadata": {},
   "outputs": [
    {
     "name": "stdout",
     "output_type": "stream",
     "text": [
      "[LightGBM] [Warning] Found boosting=goss. For backwards compatibility reasons, LightGBM interprets this as boosting=gbdt, data_sample_strategy=goss.To suppress this warning, set data_sample_strategy=goss instead.\n",
      "[LightGBM] [Warning] Found whitespace in feature_names, replace with underlines\n",
      "[LightGBM] [Warning] Found boosting=goss. For backwards compatibility reasons, LightGBM interprets this as boosting=gbdt, data_sample_strategy=goss.To suppress this warning, set data_sample_strategy=goss instead.\n",
      "[LightGBM] [Info] Number of positive: 18734, number of negative: 211899\n",
      "[LightGBM] [Info] Auto-choosing col-wise multi-threading, the overhead of testing was 0.523178 seconds.\n",
      "You can set `force_col_wise=true` to remove the overhead.\n",
      "[LightGBM] [Info] Total Bins 68627\n",
      "[LightGBM] [Info] Number of data points in the train set: 230633, number of used features: 525\n",
      "[LightGBM] [Info] Using GOSS\n",
      "[LightGBM] [Warning] Found boosting=goss. For backwards compatibility reasons, LightGBM interprets this as boosting=gbdt, data_sample_strategy=goss.To suppress this warning, set data_sample_strategy=goss instead.\n",
      "[LightGBM] [Warning] Found whitespace in feature_names, replace with underlines\n",
      "[LightGBM] [Info] [binary:BoostFromScore]: pavg=0.500000 -> initscore=0.000000\n",
      "[LightGBM] [Info] Start training from score 0.000000\n",
      "Training until validation scores don't improve for 50 rounds\n",
      "Early stopping, best iteration is:\n",
      "[206]\tvalid_0's auc: 0.784364\tvalid_0's binary_logloss: 0.504421\n",
      "[LightGBM] [Warning] Found boosting=goss. For backwards compatibility reasons, LightGBM interprets this as boosting=gbdt, data_sample_strategy=goss.To suppress this warning, set data_sample_strategy=goss instead.\n",
      "[LightGBM] [Warning] Found whitespace in feature_names, replace with underlines\n",
      "[LightGBM] [Warning] Found boosting=goss. For backwards compatibility reasons, LightGBM interprets this as boosting=gbdt, data_sample_strategy=goss.To suppress this warning, set data_sample_strategy=goss instead.\n",
      "[LightGBM] [Info] Number of positive: 18565, number of negative: 212068\n",
      "[LightGBM] [Info] Auto-choosing col-wise multi-threading, the overhead of testing was 0.460811 seconds.\n",
      "You can set `force_col_wise=true` to remove the overhead.\n",
      "[LightGBM] [Info] Total Bins 68695\n",
      "[LightGBM] [Info] Number of data points in the train set: 230633, number of used features: 525\n",
      "[LightGBM] [Info] Using GOSS\n",
      "[LightGBM] [Warning] Found boosting=goss. For backwards compatibility reasons, LightGBM interprets this as boosting=gbdt, data_sample_strategy=goss.To suppress this warning, set data_sample_strategy=goss instead.\n",
      "[LightGBM] [Warning] Found whitespace in feature_names, replace with underlines\n",
      "[LightGBM] [Info] [binary:BoostFromScore]: pavg=0.500000 -> initscore=0.000000\n",
      "[LightGBM] [Info] Start training from score 0.000000\n",
      "Training until validation scores don't improve for 50 rounds\n",
      "Early stopping, best iteration is:\n",
      "[182]\tvalid_0's auc: 0.787222\tvalid_0's binary_logloss: 0.509763\n",
      "\n",
      "There are 0 features with 0.0 importance\n"
     ]
    }
   ],
   "source": [
    "third_round_zero_features, feature_importances = identify_zero_importance_features(df_train_without_corr_mv_zero_zero, df_train_labels)"
   ]
  },
  {
   "cell_type": "markdown",
   "metadata": {},
   "source": [
    "Il ne reste plus d'éléments d'importance nulle. Si nous voulons supprimer davantage de caractéristiques, nous devrons commencer par des caractéristiques dont l'importance n'est pas nulle. Pour ce faire, nous pourrions conserver suffisamment d'éléments pour tenir compte d'un pourcentage seuil d'importance, par exemple 95 %. À ce stade, conservons suffisamment de caractéristiques pour qu'elles représentent 95 % de l'importance. Là encore, il s'agit d'une décision arbitraire !"
   ]
  },
  {
   "cell_type": "markdown",
   "metadata": {},
   "source": [
    "Testons notre modèle en ne conservant que ces features."
   ]
  },
  {
   "cell_type": "code",
   "execution_count": 30,
   "metadata": {},
   "outputs": [
    {
     "data": {
      "text/html": [
       "<div>\n",
       "<style scoped>\n",
       "    .dataframe tbody tr th:only-of-type {\n",
       "        vertical-align: middle;\n",
       "    }\n",
       "\n",
       "    .dataframe tbody tr th {\n",
       "        vertical-align: top;\n",
       "    }\n",
       "\n",
       "    .dataframe thead th {\n",
       "        text-align: right;\n",
       "    }\n",
       "</style>\n",
       "<table border=\"1\" class=\"dataframe\">\n",
       "  <thead>\n",
       "    <tr style=\"text-align: right;\">\n",
       "      <th></th>\n",
       "      <th>feature</th>\n",
       "      <th>importance</th>\n",
       "    </tr>\n",
       "  </thead>\n",
       "  <tbody>\n",
       "    <tr>\n",
       "      <th>51</th>\n",
       "      <td>CREDIT_TERM</td>\n",
       "      <td>166.5</td>\n",
       "    </tr>\n",
       "    <tr>\n",
       "      <th>20</th>\n",
       "      <td>EXT_SOURCE_1</td>\n",
       "      <td>158.0</td>\n",
       "    </tr>\n",
       "    <tr>\n",
       "      <th>21</th>\n",
       "      <td>EXT_SOURCE_2</td>\n",
       "      <td>151.5</td>\n",
       "    </tr>\n",
       "    <tr>\n",
       "      <th>22</th>\n",
       "      <td>EXT_SOURCE_3</td>\n",
       "      <td>136.5</td>\n",
       "    </tr>\n",
       "    <tr>\n",
       "      <th>6</th>\n",
       "      <td>DAYS_EMPLOYED</td>\n",
       "      <td>103.0</td>\n",
       "    </tr>\n",
       "    <tr>\n",
       "      <th>5</th>\n",
       "      <td>DAYS_BIRTH</td>\n",
       "      <td>97.5</td>\n",
       "    </tr>\n",
       "    <tr>\n",
       "      <th>458</th>\n",
       "      <td>client_installments_AMT_PAYMENT_min_sum</td>\n",
       "      <td>84.0</td>\n",
       "    </tr>\n",
       "    <tr>\n",
       "      <th>3</th>\n",
       "      <td>AMT_ANNUITY</td>\n",
       "      <td>77.0</td>\n",
       "    </tr>\n",
       "    <tr>\n",
       "      <th>72</th>\n",
       "      <td>bureau_DAYS_CREDIT_ENDDATE_max</td>\n",
       "      <td>63.0</td>\n",
       "    </tr>\n",
       "    <tr>\n",
       "      <th>67</th>\n",
       "      <td>bureau_DAYS_CREDIT_max</td>\n",
       "      <td>60.5</td>\n",
       "    </tr>\n",
       "  </tbody>\n",
       "</table>\n",
       "</div>"
      ],
      "text/plain": [
       "                                     feature  importance\n",
       "51                               CREDIT_TERM       166.5\n",
       "20                              EXT_SOURCE_1       158.0\n",
       "21                              EXT_SOURCE_2       151.5\n",
       "22                              EXT_SOURCE_3       136.5\n",
       "6                              DAYS_EMPLOYED       103.0\n",
       "5                                 DAYS_BIRTH        97.5\n",
       "458  client_installments_AMT_PAYMENT_min_sum        84.0\n",
       "3                                AMT_ANNUITY        77.0\n",
       "72            bureau_DAYS_CREDIT_ENDDATE_max        63.0\n",
       "67                    bureau_DAYS_CREDIT_max        60.5"
      ]
     },
     "execution_count": 30,
     "metadata": {},
     "output_type": "execute_result"
    }
   ],
   "source": [
    "feature_importances.head(10)"
   ]
  },
  {
   "cell_type": "code",
   "execution_count": 34,
   "metadata": {},
   "outputs": [],
   "source": [
    "def plot_feature_importances(df, threshold = 0.95):\n",
    "    \"\"\"\n",
    "    Plots 15 most important features and the cumulative importance of features.\n",
    "    Prints the number of features needed to reach threshold cumulative importance.\n",
    "    \n",
    "    Parameters\n",
    "    --------\n",
    "    df : dataframe\n",
    "        Dataframe of feature importances. Columns must be feature and importance\n",
    "    threshold : float, default = 0.9\n",
    "        Threshold for prining information about cumulative importances\n",
    "        \n",
    "    Return\n",
    "    --------\n",
    "    df : dataframe\n",
    "        Dataframe ordered by feature importances with a normalized column (sums to 1)\n",
    "        and a cumulative importance column\n",
    "    \n",
    "    \"\"\"\n",
    "    \n",
    "    plt.rcParams['font.size'] = 18\n",
    "    \n",
    "    # Sort features according to importance\n",
    "    df = df.sort_values('importance', ascending = False).reset_index()\n",
    "    \n",
    "    # Normalize the feature importances to add up to one\n",
    "    df['importance_normalized'] = df['importance'] / df['importance'].sum()\n",
    "    df['cumulative_importance'] = np.cumsum(df['importance_normalized'])\n",
    "\n",
    "    # Make a horizontal bar chart of feature importances\n",
    "    plt.figure(figsize = (10, 6))\n",
    "    ax = plt.subplot()\n",
    "    \n",
    "    # Need to reverse the index to plot most important on top\n",
    "    ax.barh(list(reversed(list(df.index[:15]))), \n",
    "            df['importance_normalized'].head(15), \n",
    "            align = 'center', edgecolor = 'k')\n",
    "    \n",
    "    # Set the yticks and labels\n",
    "    ax.set_yticks(list(reversed(list(df.index[:15]))))\n",
    "    ax.set_yticklabels(df['feature'].head(15))\n",
    "    \n",
    "    # Plot labeling\n",
    "    plt.xlabel('Normalized Importance'); plt.title('Feature Importances')\n",
    "    plt.show()\n",
    "    \n",
    "    # Cumulative importance plot\n",
    "    plt.figure(figsize = (8, 6))\n",
    "    plt.plot(list(range(len(df))), df['cumulative_importance'], 'r-')\n",
    "    plt.xlabel('Number of Features'); plt.ylabel('Cumulative Importance'); \n",
    "    plt.title('Cumulative Feature Importance');\n",
    "    plt.show();\n",
    "    \n",
    "    importance_index = np.min(np.where(df['cumulative_importance'] > threshold))\n",
    "    print('%d features required for %0.2f of cumulative importance' % (importance_index + 1, threshold))\n",
    "    \n",
    "    return df"
   ]
  },
  {
   "cell_type": "code",
   "execution_count": 35,
   "metadata": {},
   "outputs": [
    {
     "data": {
      "image/png": "[encoded data removed]",
      "text/plain": [
       "<Figure size 1000x600 with 1 Axes>"
      ]
     },
     "metadata": {},
     "output_type": "display_data"
    },
    {
     "data": {
      "image/png": "[encoded data removed]",
      "text/plain": [
       "<Figure size 800x600 with 1 Axes>"
      ]
     },
     "metadata": {},
     "output_type": "display_data"
    },
    {
     "name": "stdout",
     "output_type": "stream",
     "text": [
      "338 features required for 0.95 of cumulative importance\n"
     ]
    }
   ],
   "source": [
    "norm_feature_importances = plot_feature_importances(feature_importances)"
   ]
  },
  {
   "cell_type": "markdown",
   "metadata": {},
   "source": [
    "## 4.4 - Sauvegarde d'un dataframe avec features représentant 95% de la feature importance cumulée"
   ]
  },
  {
   "cell_type": "code",
   "execution_count": 36,
   "metadata": {},
   "outputs": [],
   "source": [
    "# Threshold for cumulative importance\n",
    "threshold = 0.95\n",
    "\n",
    "# Extract the features to keep\n",
    "features_to_keep = list(norm_feature_importances[norm_feature_importances['cumulative_importance'] < threshold]['feature'])\n",
    "\n",
    "# Create new datasets with smaller features\n",
    "train_reduced = df_train_without_corr_mv_zero_zero[features_to_keep]\n",
    "test_reduced = df_test_without_corr_mv_zero_zero[features_to_keep]\n"
   ]
  },
  {
   "cell_type": "code",
   "execution_count": 37,
   "metadata": {},
   "outputs": [],
   "source": [
    "# Ajout de la target et des id clients\n",
    "train_reduced['TARGET'] = df_train_labels\n",
    "train_reduced['SK_ID_CURR'] = df_train_ids\n",
    "test_reduced['SK_ID_CURR'] = df_test_ids"
   ]
  },
  {
   "cell_type": "code",
   "execution_count": 38,
   "metadata": {},
   "outputs": [
    {
     "name": "stdout",
     "output_type": "stream",
     "text": [
      "Training shape:  (307511, 339)\n",
      "Testing shape:  (48744, 338)\n"
     ]
    }
   ],
   "source": [
    "print('Training shape: ', train_reduced.shape)\n",
    "print('Testing shape: ', test_reduced.shape)"
   ]
  },
  {
   "cell_type": "code",
   "execution_count": 39,
   "metadata": {},
   "outputs": [],
   "source": [
    "train_reduced.to_csv('train_reduced.csv', index=False)\n",
    "test_reduced.to_csv('test_reduced.csv', index=False)"
   ]
  },
  {
   "cell_type": "markdown",
   "metadata": {},
   "source": [
    "## 4.5 - Sauvegarde d'un dataframe avec les 30 premières features en terme d'importance"
   ]
  },
  {
   "cell_type": "code",
   "execution_count": 40,
   "metadata": {},
   "outputs": [
    {
     "data": {
      "text/html": [
       "<div>\n",
       "<style scoped>\n",
       "    .dataframe tbody tr th:only-of-type {\n",
       "        vertical-align: middle;\n",
       "    }\n",
       "\n",
       "    .dataframe tbody tr th {\n",
       "        vertical-align: top;\n",
       "    }\n",
       "\n",
       "    .dataframe thead th {\n",
       "        text-align: right;\n",
       "    }\n",
       "</style>\n",
       "<table border=\"1\" class=\"dataframe\">\n",
       "  <thead>\n",
       "    <tr style=\"text-align: right;\">\n",
       "      <th></th>\n",
       "      <th>feature</th>\n",
       "      <th>importance</th>\n",
       "    </tr>\n",
       "  </thead>\n",
       "  <tbody>\n",
       "    <tr>\n",
       "      <th>51</th>\n",
       "      <td>CREDIT_TERM</td>\n",
       "      <td>166.5</td>\n",
       "    </tr>\n",
       "    <tr>\n",
       "      <th>20</th>\n",
       "      <td>EXT_SOURCE_1</td>\n",
       "      <td>158.0</td>\n",
       "    </tr>\n",
       "    <tr>\n",
       "      <th>21</th>\n",
       "      <td>EXT_SOURCE_2</td>\n",
       "      <td>151.5</td>\n",
       "    </tr>\n",
       "    <tr>\n",
       "      <th>22</th>\n",
       "      <td>EXT_SOURCE_3</td>\n",
       "      <td>136.5</td>\n",
       "    </tr>\n",
       "    <tr>\n",
       "      <th>6</th>\n",
       "      <td>DAYS_EMPLOYED</td>\n",
       "      <td>103.0</td>\n",
       "    </tr>\n",
       "    <tr>\n",
       "      <th>5</th>\n",
       "      <td>DAYS_BIRTH</td>\n",
       "      <td>97.5</td>\n",
       "    </tr>\n",
       "    <tr>\n",
       "      <th>458</th>\n",
       "      <td>client_installments_AMT_PAYMENT_min_sum</td>\n",
       "      <td>84.0</td>\n",
       "    </tr>\n",
       "    <tr>\n",
       "      <th>3</th>\n",
       "      <td>AMT_ANNUITY</td>\n",
       "      <td>77.0</td>\n",
       "    </tr>\n",
       "    <tr>\n",
       "      <th>72</th>\n",
       "      <td>bureau_DAYS_CREDIT_ENDDATE_max</td>\n",
       "      <td>63.0</td>\n",
       "    </tr>\n",
       "    <tr>\n",
       "      <th>67</th>\n",
       "      <td>bureau_DAYS_CREDIT_max</td>\n",
       "      <td>60.5</td>\n",
       "    </tr>\n",
       "    <tr>\n",
       "      <th>87</th>\n",
       "      <td>bureau_AMT_CREDIT_SUM_DEBT_mean</td>\n",
       "      <td>53.0</td>\n",
       "    </tr>\n",
       "    <tr>\n",
       "      <th>447</th>\n",
       "      <td>client_installments_AMT_PAYMENT_min_mean</td>\n",
       "      <td>53.0</td>\n",
       "    </tr>\n",
       "    <tr>\n",
       "      <th>8</th>\n",
       "      <td>DAYS_ID_PUBLISH</td>\n",
       "      <td>53.0</td>\n",
       "    </tr>\n",
       "    <tr>\n",
       "      <th>370</th>\n",
       "      <td>client_cash_CNT_INSTALMENT_FUTURE_mean_max</td>\n",
       "      <td>49.5</td>\n",
       "    </tr>\n",
       "    <tr>\n",
       "      <th>9</th>\n",
       "      <td>OWN_CAR_AGE</td>\n",
       "      <td>48.0</td>\n",
       "    </tr>\n",
       "    <tr>\n",
       "      <th>76</th>\n",
       "      <td>bureau_DAYS_ENDDATE_FACT_max</td>\n",
       "      <td>46.5</td>\n",
       "    </tr>\n",
       "    <tr>\n",
       "      <th>2</th>\n",
       "      <td>AMT_CREDIT</td>\n",
       "      <td>45.0</td>\n",
       "    </tr>\n",
       "    <tr>\n",
       "      <th>79</th>\n",
       "      <td>bureau_AMT_CREDIT_MAX_OVERDUE_mean</td>\n",
       "      <td>43.5</td>\n",
       "    </tr>\n",
       "    <tr>\n",
       "      <th>7</th>\n",
       "      <td>DAYS_REGISTRATION</td>\n",
       "      <td>42.0</td>\n",
       "    </tr>\n",
       "    <tr>\n",
       "      <th>50</th>\n",
       "      <td>ANNUITY_INCOME_PERCENT</td>\n",
       "      <td>41.0</td>\n",
       "    </tr>\n",
       "    <tr>\n",
       "      <th>445</th>\n",
       "      <td>client_installments_AMT_PAYMENT_min_min</td>\n",
       "      <td>38.5</td>\n",
       "    </tr>\n",
       "    <tr>\n",
       "      <th>358</th>\n",
       "      <td>client_cash_CNT_INSTALMENT_FUTURE_min_max</td>\n",
       "      <td>37.0</td>\n",
       "    </tr>\n",
       "    <tr>\n",
       "      <th>49</th>\n",
       "      <td>CREDIT_INCOME_PERCENT</td>\n",
       "      <td>37.0</td>\n",
       "    </tr>\n",
       "    <tr>\n",
       "      <th>84</th>\n",
       "      <td>bureau_AMT_CREDIT_SUM_max</td>\n",
       "      <td>37.0</td>\n",
       "    </tr>\n",
       "    <tr>\n",
       "      <th>38</th>\n",
       "      <td>DAYS_LAST_PHONE_CHANGE</td>\n",
       "      <td>35.5</td>\n",
       "    </tr>\n",
       "    <tr>\n",
       "      <th>367</th>\n",
       "      <td>client_cash_CNT_INSTALMENT_FUTURE_mean_mean</td>\n",
       "      <td>35.0</td>\n",
       "    </tr>\n",
       "    <tr>\n",
       "      <th>4</th>\n",
       "      <td>REGION_POPULATION_RELATIVE</td>\n",
       "      <td>35.0</td>\n",
       "    </tr>\n",
       "    <tr>\n",
       "      <th>66</th>\n",
       "      <td>bureau_DAYS_CREDIT_mean</td>\n",
       "      <td>33.0</td>\n",
       "    </tr>\n",
       "    <tr>\n",
       "      <th>318</th>\n",
       "      <td>previous_HOUR_APPR_PROCESS_START_mean</td>\n",
       "      <td>32.0</td>\n",
       "    </tr>\n",
       "    <tr>\n",
       "      <th>314</th>\n",
       "      <td>previous_CNT_PAYMENT_mean</td>\n",
       "      <td>32.0</td>\n",
       "    </tr>\n",
       "  </tbody>\n",
       "</table>\n",
       "</div>"
      ],
      "text/plain": [
       "                                         feature  importance\n",
       "51                                   CREDIT_TERM       166.5\n",
       "20                                  EXT_SOURCE_1       158.0\n",
       "21                                  EXT_SOURCE_2       151.5\n",
       "22                                  EXT_SOURCE_3       136.5\n",
       "6                                  DAYS_EMPLOYED       103.0\n",
       "5                                     DAYS_BIRTH        97.5\n",
       "458      client_installments_AMT_PAYMENT_min_sum        84.0\n",
       "3                                    AMT_ANNUITY        77.0\n",
       "72                bureau_DAYS_CREDIT_ENDDATE_max        63.0\n",
       "67                        bureau_DAYS_CREDIT_max        60.5\n",
       "87               bureau_AMT_CREDIT_SUM_DEBT_mean        53.0\n",
       "447     client_installments_AMT_PAYMENT_min_mean        53.0\n",
       "8                                DAYS_ID_PUBLISH        53.0\n",
       "370   client_cash_CNT_INSTALMENT_FUTURE_mean_max        49.5\n",
       "9                                    OWN_CAR_AGE        48.0\n",
       "76                  bureau_DAYS_ENDDATE_FACT_max        46.5\n",
       "2                                     AMT_CREDIT        45.0\n",
       "79            bureau_AMT_CREDIT_MAX_OVERDUE_mean        43.5\n",
       "7                              DAYS_REGISTRATION        42.0\n",
       "50                        ANNUITY_INCOME_PERCENT        41.0\n",
       "445      client_installments_AMT_PAYMENT_min_min        38.5\n",
       "358    client_cash_CNT_INSTALMENT_FUTURE_min_max        37.0\n",
       "49                         CREDIT_INCOME_PERCENT        37.0\n",
       "84                     bureau_AMT_CREDIT_SUM_max        37.0\n",
       "38                        DAYS_LAST_PHONE_CHANGE        35.5\n",
       "367  client_cash_CNT_INSTALMENT_FUTURE_mean_mean        35.0\n",
       "4                     REGION_POPULATION_RELATIVE        35.0\n",
       "66                       bureau_DAYS_CREDIT_mean        33.0\n",
       "318        previous_HOUR_APPR_PROCESS_START_mean        32.0\n",
       "314                    previous_CNT_PAYMENT_mean        32.0"
      ]
     },
     "execution_count": 40,
     "metadata": {},
     "output_type": "execute_result"
    }
   ],
   "source": [
    "to_keep=feature_importances.sort_values(by='importance', ascending=False).iloc[:30]\n",
    "to_keep"
   ]
  },
  {
   "cell_type": "code",
   "execution_count": 41,
   "metadata": {},
   "outputs": [
    {
     "data": {
      "text/plain": [
       "['CREDIT_TERM',\n",
       " 'EXT_SOURCE_1',\n",
       " 'EXT_SOURCE_2',\n",
       " 'EXT_SOURCE_3',\n",
       " 'DAYS_EMPLOYED',\n",
       " 'DAYS_BIRTH',\n",
       " 'client_installments_AMT_PAYMENT_min_sum',\n",
       " 'AMT_ANNUITY',\n",
       " 'bureau_DAYS_CREDIT_ENDDATE_max',\n",
       " 'bureau_DAYS_CREDIT_max',\n",
       " 'bureau_AMT_CREDIT_SUM_DEBT_mean',\n",
       " 'client_installments_AMT_PAYMENT_min_mean',\n",
       " 'DAYS_ID_PUBLISH',\n",
       " 'client_cash_CNT_INSTALMENT_FUTURE_mean_max',\n",
       " 'OWN_CAR_AGE',\n",
       " 'bureau_DAYS_ENDDATE_FACT_max',\n",
       " 'AMT_CREDIT',\n",
       " 'bureau_AMT_CREDIT_MAX_OVERDUE_mean',\n",
       " 'DAYS_REGISTRATION',\n",
       " 'ANNUITY_INCOME_PERCENT',\n",
       " 'client_installments_AMT_PAYMENT_min_min',\n",
       " 'client_cash_CNT_INSTALMENT_FUTURE_min_max',\n",
       " 'CREDIT_INCOME_PERCENT',\n",
       " 'bureau_AMT_CREDIT_SUM_max',\n",
       " 'DAYS_LAST_PHONE_CHANGE',\n",
       " 'client_cash_CNT_INSTALMENT_FUTURE_mean_mean',\n",
       " 'REGION_POPULATION_RELATIVE',\n",
       " 'bureau_DAYS_CREDIT_mean',\n",
       " 'previous_HOUR_APPR_PROCESS_START_mean',\n",
       " 'previous_CNT_PAYMENT_mean']"
      ]
     },
     "execution_count": 41,
     "metadata": {},
     "output_type": "execute_result"
    }
   ],
   "source": [
    "features_to_keep_2=to_keep['feature'].tolist()\n",
    "features_to_keep_2"
   ]
  },
  {
   "cell_type": "code",
   "execution_count": 42,
   "metadata": {},
   "outputs": [],
   "source": [
    "# Create new datasets with smaller features\n",
    "train_small = df_train_without_corr_mv_zero_zero[features_to_keep_2]\n",
    "test_small = df_test_without_corr_mv_zero_zero[features_to_keep_2]\n"
   ]
  },
  {
   "cell_type": "code",
   "execution_count": 46,
   "metadata": {},
   "outputs": [],
   "source": [
    "train_small['TARGET'] = df_train_labels\n",
    "train_small['SK_ID_CURR'] = df_train_ids\n",
    "test_small['SK_ID_CURR'] = df_test_ids"
   ]
  },
  {
   "cell_type": "code",
   "execution_count": 47,
   "metadata": {},
   "outputs": [
    {
     "name": "stdout",
     "output_type": "stream",
     "text": [
      "Training shape:  (307511, 32)\n",
      "Testing shape:  (48744, 31)\n"
     ]
    }
   ],
   "source": [
    "print('Training shape: ', train_small.shape)\n",
    "print('Testing shape: ', test_small.shape)"
   ]
  },
  {
   "cell_type": "code",
   "execution_count": 48,
   "metadata": {},
   "outputs": [],
   "source": [
    "train_small.to_csv('train_small.csv', index = False)\n",
    "test_small.to_csv('test_small.csv', index = False)"
   ]
  }
 ],
 "metadata": {
  "kernelspec": {
   "display_name": "Python 3 (ipykernel)",
   "language": "python",
   "name": "python3"
  },
  "language_info": {
   "codemirror_mode": {
    "name": "ipython",
    "version": 3
   },
   "file_extension": ".py",
   "mimetype": "text/x-python",
   "name": "python",
   "nbconvert_exporter": "python",
   "pygments_lexer": "ipython3",
   "version": "3.11.7"
  }
 },
 "nbformat": 4,
 "nbformat_minor": 4
}
