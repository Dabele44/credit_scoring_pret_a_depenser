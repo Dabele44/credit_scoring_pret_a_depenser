{
 "cells": [
  {
   "cell_type": "markdown",
   "metadata": {},
   "source": [
    "Pour ce projet, nous avons suivi le schéma présenté dans cet article:\n",
    "https://towardsdatascience.com/a-complete-machine-learning-walk-through-in-python-part-one-c62152f39420"
   ]
  },
  {
   "cell_type": "markdown",
   "metadata": {
    "_cell_guid": "d632b08c-d252-4238-b496-e2c6edebec4b",
    "_uuid": "eb13bf76d4e1e60d0703856ec391cdc2c5bdf1fb"
   },
   "source": [
    "## 1.1 - Imports\n"
   ]
  },
  {
   "cell_type": "code",
   "execution_count": 1,
   "metadata": {},
   "outputs": [],
   "source": [
    "import mlflow\n",
    "from PIL import Image\n",
    "import pandas as pd\n",
    "import numpy as np\n",
    "import matplotlib.pyplot as plt\n",
    "import seaborn as sns\n",
    "import time\n",
    "\n",
    "# File system manangement\n",
    "import os\n",
    "\n",
    "# Suppress warnings \n",
    "import warnings\n",
    "warnings.filterwarnings('ignore')\n",
    "\n",
    "# sklearn preprocessing for dealing with categorical variables\n",
    "from sklearn.preprocessing import LabelEncoder\n",
    "from sklearn.impute import SimpleImputer\n",
    "from sklearn.dummy import DummyClassifier\n",
    "from sklearn.metrics import classification_report, accuracy_score\n",
    "from sklearn.metrics import roc_curve\n",
    "from sklearn.metrics import auc\n",
    "from sklearn.metrics import confusion_matrix\n",
    "from sklearn.linear_model import LogisticRegression\n",
    "from sklearn.metrics import make_scorer, roc_auc_score, f1_score, fbeta_score, recall_score\n",
    "from sklearn.model_selection import GridSearchCV\n",
    "from sklearn.model_selection import train_test_split, RandomizedSearchCV\n",
    "from sklearn.ensemble import RandomForestClassifier\n",
    "\n",
    "from imblearn.pipeline import Pipeline\n",
    "from imblearn.over_sampling import SMOTE\n",
    "\n",
    "import lightgbm as lgb\n",
    "\n",
    "from mlflow.models import infer_signature\n",
    "\n",
    "import shap\n",
    "# Memory management\n",
    "import gc "
   ]
  },
  {
   "cell_type": "markdown",
   "metadata": {},
   "source": [
    "# 4 - Feature Selection"
   ]
  },
  {
   "cell_type": "markdown",
   "metadata": {},
   "source": [
    "Un plus grand nombre de features peut sembler une bonne chose, et c'est le cas si elles aident notre modèle à apprendre. Cependant, les features non pertinentes, les features fortement corrélées et les valeurs manquantes peuvent empêcher le modèle d'apprendre et diminuer les performances de généralisation sur les données de test. C'est pourquoi nous procédons à une sélection des features afin de ne conserver que les variables les plus utiles.\n",
    "\n",
    "Nous commencerons la sélection des features en nous concentrant sur les variables colinéaires."
   ]
  },
  {
   "cell_type": "code",
   "execution_count": 2,
   "metadata": {},
   "outputs": [],
   "source": [
    "df_train=pd.read_csv('train_after_feature_en.csv')\n",
    "df_test=pd.read_csv('test_after_feature_en.csv')"
   ]
  },
  {
   "cell_type": "code",
   "execution_count": 3,
   "metadata": {},
   "outputs": [
    {
     "data": {
      "text/plain": [
       "((307511, 1347), (48744, 1346))"
      ]
     },
     "execution_count": 3,
     "metadata": {},
     "output_type": "execute_result"
    }
   ],
   "source": [
    "df_train.shape, df_test.shape"
   ]
  },
  {
   "cell_type": "markdown",
   "metadata": {},
   "source": [
    "## 4.1 - Suppression des variables colinéaires"
   ]
  },
  {
   "cell_type": "markdown",
   "metadata": {},
   "source": [
    "Les variables colinéaires sont celles qui sont fortement corrélées entre elles. Elles peuvent diminuer la disponibilité du modèle pour l'apprentissage, diminuer l'interprétabilité du modèle et diminuer les performances de généralisation sur l'ensemble de test. Il est clair que ce sont là trois choses que nous voulons augmenter, et la suppression des variables colinéaires est donc une étape utile. Nous établirons un seuil arbitraire pour la suppression des variables colinéaires, puis nous enlèverons une des paires de variables qui se trouvent au-dessus de ce seuil.\n",
    "\n",
    "Le code ci-dessous identifie les variables fortement corrélées sur la base de la magnitude absolue du coefficient de corrélation de Pearson, qui est supérieure à 0,9. Encore une fois, ce n'est pas tout à fait exact puisque nous traitons une partie limitée des données. Ce code est utilisé à des fins d'illustration, mais si nous lisions l'ensemble des données, il fonctionnerait (si les noyaux le permettaient)"
   ]
  },
  {
   "cell_type": "markdown",
   "metadata": {},
   "source": [
    "### 4.1.1 - Identification des variables corrélées"
   ]
  },
  {
   "cell_type": "markdown",
   "metadata": {},
   "source": [
    "Comme le dataframe est très gros, nous allons faire ce travail sur un échantillon de 1000 individus"
   ]
  },
  {
   "cell_type": "code",
   "execution_count": 4,
   "metadata": {},
   "outputs": [
    {
     "data": {
      "text/plain": [
       "(1000, 1347)"
      ]
     },
     "execution_count": 4,
     "metadata": {},
     "output_type": "execute_result"
    }
   ],
   "source": [
    "df_sample=df_train.sample(1000)\n",
    "df_sample.shape"
   ]
  },
  {
   "cell_type": "code",
   "execution_count": 5,
   "metadata": {},
   "outputs": [
    {
     "data": {
      "text/html": [
       "<div>\n",
       "<style scoped>\n",
       "    .dataframe tbody tr th:only-of-type {\n",
       "        vertical-align: middle;\n",
       "    }\n",
       "\n",
       "    .dataframe tbody tr th {\n",
       "        vertical-align: top;\n",
       "    }\n",
       "\n",
       "    .dataframe thead th {\n",
       "        text-align: right;\n",
       "    }\n",
       "</style>\n",
       "<table border=\"1\" class=\"dataframe\">\n",
       "  <thead>\n",
       "    <tr style=\"text-align: right;\">\n",
       "      <th></th>\n",
       "      <th>SK_ID_CURR</th>\n",
       "      <th>CNT_CHILDREN</th>\n",
       "      <th>AMT_INCOME_TOTAL</th>\n",
       "      <th>AMT_CREDIT</th>\n",
       "      <th>AMT_ANNUITY</th>\n",
       "      <th>AMT_GOODS_PRICE</th>\n",
       "      <th>REGION_POPULATION_RELATIVE</th>\n",
       "      <th>DAYS_BIRTH</th>\n",
       "      <th>DAYS_EMPLOYED</th>\n",
       "      <th>DAYS_REGISTRATION</th>\n",
       "      <th>...</th>\n",
       "      <th>client_installments_AMT_PAYMENT_min_sum</th>\n",
       "      <th>client_installments_AMT_INSTALMENT_min_sum</th>\n",
       "      <th>client_installments_AMT_PAYMENT_sum_max</th>\n",
       "      <th>client_installments_AMT_INSTALMENT_sum_max</th>\n",
       "      <th>client_installments_AMT_PAYMENT_mean_sum</th>\n",
       "      <th>client_installments_AMT_INSTALMENT_mean_sum</th>\n",
       "      <th>client_installments_AMT_INSTALMENT_max_sum</th>\n",
       "      <th>client_installments_AMT_PAYMENT_max_sum</th>\n",
       "      <th>client_installments_AMT_PAYMENT_sum_sum</th>\n",
       "      <th>client_installments_AMT_INSTALMENT_sum_sum</th>\n",
       "    </tr>\n",
       "  </thead>\n",
       "  <tbody>\n",
       "    <tr>\n",
       "      <th>SK_ID_CURR</th>\n",
       "      <td>1.000000</td>\n",
       "      <td>0.051129</td>\n",
       "      <td>0.001720</td>\n",
       "      <td>0.024396</td>\n",
       "      <td>0.024885</td>\n",
       "      <td>0.032548</td>\n",
       "      <td>0.007701</td>\n",
       "      <td>0.022706</td>\n",
       "      <td>0.020018</td>\n",
       "      <td>0.046110</td>\n",
       "      <td>...</td>\n",
       "      <td>0.037406</td>\n",
       "      <td>0.035162</td>\n",
       "      <td>0.033862</td>\n",
       "      <td>0.031786</td>\n",
       "      <td>0.031099</td>\n",
       "      <td>0.026682</td>\n",
       "      <td>0.030349</td>\n",
       "      <td>0.031079</td>\n",
       "      <td>0.005506</td>\n",
       "      <td>0.006804</td>\n",
       "    </tr>\n",
       "    <tr>\n",
       "      <th>CNT_CHILDREN</th>\n",
       "      <td>0.051129</td>\n",
       "      <td>1.000000</td>\n",
       "      <td>0.021335</td>\n",
       "      <td>0.004594</td>\n",
       "      <td>0.038535</td>\n",
       "      <td>0.011219</td>\n",
       "      <td>0.014446</td>\n",
       "      <td>0.348066</td>\n",
       "      <td>0.145901</td>\n",
       "      <td>0.220532</td>\n",
       "      <td>...</td>\n",
       "      <td>0.089899</td>\n",
       "      <td>0.063474</td>\n",
       "      <td>0.062478</td>\n",
       "      <td>0.047321</td>\n",
       "      <td>0.056227</td>\n",
       "      <td>0.043932</td>\n",
       "      <td>0.009720</td>\n",
       "      <td>0.011862</td>\n",
       "      <td>0.038219</td>\n",
       "      <td>0.033211</td>\n",
       "    </tr>\n",
       "    <tr>\n",
       "      <th>AMT_INCOME_TOTAL</th>\n",
       "      <td>0.001720</td>\n",
       "      <td>0.021335</td>\n",
       "      <td>1.000000</td>\n",
       "      <td>0.360610</td>\n",
       "      <td>0.454363</td>\n",
       "      <td>0.372218</td>\n",
       "      <td>0.209073</td>\n",
       "      <td>0.074670</td>\n",
       "      <td>0.088857</td>\n",
       "      <td>0.018988</td>\n",
       "      <td>...</td>\n",
       "      <td>0.189993</td>\n",
       "      <td>0.182610</td>\n",
       "      <td>0.200552</td>\n",
       "      <td>0.207429</td>\n",
       "      <td>0.186640</td>\n",
       "      <td>0.195564</td>\n",
       "      <td>0.118529</td>\n",
       "      <td>0.119158</td>\n",
       "      <td>0.146014</td>\n",
       "      <td>0.149266</td>\n",
       "    </tr>\n",
       "    <tr>\n",
       "      <th>AMT_CREDIT</th>\n",
       "      <td>0.024396</td>\n",
       "      <td>0.004594</td>\n",
       "      <td>0.360610</td>\n",
       "      <td>1.000000</td>\n",
       "      <td>0.749229</td>\n",
       "      <td>0.986196</td>\n",
       "      <td>0.146900</td>\n",
       "      <td>0.091190</td>\n",
       "      <td>0.149502</td>\n",
       "      <td>0.071100</td>\n",
       "      <td>...</td>\n",
       "      <td>0.110192</td>\n",
       "      <td>0.120427</td>\n",
       "      <td>0.175336</td>\n",
       "      <td>0.166648</td>\n",
       "      <td>0.150984</td>\n",
       "      <td>0.149223</td>\n",
       "      <td>0.132949</td>\n",
       "      <td>0.134044</td>\n",
       "      <td>0.150508</td>\n",
       "      <td>0.147602</td>\n",
       "    </tr>\n",
       "    <tr>\n",
       "      <th>AMT_ANNUITY</th>\n",
       "      <td>0.024885</td>\n",
       "      <td>0.038535</td>\n",
       "      <td>0.454363</td>\n",
       "      <td>0.749229</td>\n",
       "      <td>1.000000</td>\n",
       "      <td>0.758832</td>\n",
       "      <td>0.139396</td>\n",
       "      <td>0.008062</td>\n",
       "      <td>0.099084</td>\n",
       "      <td>0.039654</td>\n",
       "      <td>...</td>\n",
       "      <td>0.163327</td>\n",
       "      <td>0.140649</td>\n",
       "      <td>0.164509</td>\n",
       "      <td>0.176268</td>\n",
       "      <td>0.147451</td>\n",
       "      <td>0.155185</td>\n",
       "      <td>0.093856</td>\n",
       "      <td>0.093854</td>\n",
       "      <td>0.117513</td>\n",
       "      <td>0.118562</td>\n",
       "    </tr>\n",
       "  </tbody>\n",
       "</table>\n",
       "<p>5 rows × 1324 columns</p>\n",
       "</div>"
      ],
      "text/plain": [
       "                  SK_ID_CURR  CNT_CHILDREN  AMT_INCOME_TOTAL  AMT_CREDIT  \\\n",
       "SK_ID_CURR          1.000000      0.051129          0.001720    0.024396   \n",
       "CNT_CHILDREN        0.051129      1.000000          0.021335    0.004594   \n",
       "AMT_INCOME_TOTAL    0.001720      0.021335          1.000000    0.360610   \n",
       "AMT_CREDIT          0.024396      0.004594          0.360610    1.000000   \n",
       "AMT_ANNUITY         0.024885      0.038535          0.454363    0.749229   \n",
       "\n",
       "                  AMT_ANNUITY  AMT_GOODS_PRICE  REGION_POPULATION_RELATIVE  \\\n",
       "SK_ID_CURR           0.024885         0.032548                    0.007701   \n",
       "CNT_CHILDREN         0.038535         0.011219                    0.014446   \n",
       "AMT_INCOME_TOTAL     0.454363         0.372218                    0.209073   \n",
       "AMT_CREDIT           0.749229         0.986196                    0.146900   \n",
       "AMT_ANNUITY          1.000000         0.758832                    0.139396   \n",
       "\n",
       "                  DAYS_BIRTH  DAYS_EMPLOYED  DAYS_REGISTRATION  ...  \\\n",
       "SK_ID_CURR          0.022706       0.020018           0.046110  ...   \n",
       "CNT_CHILDREN        0.348066       0.145901           0.220532  ...   \n",
       "AMT_INCOME_TOTAL    0.074670       0.088857           0.018988  ...   \n",
       "AMT_CREDIT          0.091190       0.149502           0.071100  ...   \n",
       "AMT_ANNUITY         0.008062       0.099084           0.039654  ...   \n",
       "\n",
       "                  client_installments_AMT_PAYMENT_min_sum  \\\n",
       "SK_ID_CURR                                       0.037406   \n",
       "CNT_CHILDREN                                     0.089899   \n",
       "AMT_INCOME_TOTAL                                 0.189993   \n",
       "AMT_CREDIT                                       0.110192   \n",
       "AMT_ANNUITY                                      0.163327   \n",
       "\n",
       "                  client_installments_AMT_INSTALMENT_min_sum  \\\n",
       "SK_ID_CURR                                          0.035162   \n",
       "CNT_CHILDREN                                        0.063474   \n",
       "AMT_INCOME_TOTAL                                    0.182610   \n",
       "AMT_CREDIT                                          0.120427   \n",
       "AMT_ANNUITY                                         0.140649   \n",
       "\n",
       "                  client_installments_AMT_PAYMENT_sum_max  \\\n",
       "SK_ID_CURR                                       0.033862   \n",
       "CNT_CHILDREN                                     0.062478   \n",
       "AMT_INCOME_TOTAL                                 0.200552   \n",
       "AMT_CREDIT                                       0.175336   \n",
       "AMT_ANNUITY                                      0.164509   \n",
       "\n",
       "                  client_installments_AMT_INSTALMENT_sum_max  \\\n",
       "SK_ID_CURR                                          0.031786   \n",
       "CNT_CHILDREN                                        0.047321   \n",
       "AMT_INCOME_TOTAL                                    0.207429   \n",
       "AMT_CREDIT                                          0.166648   \n",
       "AMT_ANNUITY                                         0.176268   \n",
       "\n",
       "                  client_installments_AMT_PAYMENT_mean_sum  \\\n",
       "SK_ID_CURR                                        0.031099   \n",
       "CNT_CHILDREN                                      0.056227   \n",
       "AMT_INCOME_TOTAL                                  0.186640   \n",
       "AMT_CREDIT                                        0.150984   \n",
       "AMT_ANNUITY                                       0.147451   \n",
       "\n",
       "                  client_installments_AMT_INSTALMENT_mean_sum  \\\n",
       "SK_ID_CURR                                           0.026682   \n",
       "CNT_CHILDREN                                         0.043932   \n",
       "AMT_INCOME_TOTAL                                     0.195564   \n",
       "AMT_CREDIT                                           0.149223   \n",
       "AMT_ANNUITY                                          0.155185   \n",
       "\n",
       "                  client_installments_AMT_INSTALMENT_max_sum  \\\n",
       "SK_ID_CURR                                          0.030349   \n",
       "CNT_CHILDREN                                        0.009720   \n",
       "AMT_INCOME_TOTAL                                    0.118529   \n",
       "AMT_CREDIT                                          0.132949   \n",
       "AMT_ANNUITY                                         0.093856   \n",
       "\n",
       "                  client_installments_AMT_PAYMENT_max_sum  \\\n",
       "SK_ID_CURR                                       0.031079   \n",
       "CNT_CHILDREN                                     0.011862   \n",
       "AMT_INCOME_TOTAL                                 0.119158   \n",
       "AMT_CREDIT                                       0.134044   \n",
       "AMT_ANNUITY                                      0.093854   \n",
       "\n",
       "                  client_installments_AMT_PAYMENT_sum_sum  \\\n",
       "SK_ID_CURR                                       0.005506   \n",
       "CNT_CHILDREN                                     0.038219   \n",
       "AMT_INCOME_TOTAL                                 0.146014   \n",
       "AMT_CREDIT                                       0.150508   \n",
       "AMT_ANNUITY                                      0.117513   \n",
       "\n",
       "                  client_installments_AMT_INSTALMENT_sum_sum  \n",
       "SK_ID_CURR                                          0.006804  \n",
       "CNT_CHILDREN                                        0.033211  \n",
       "AMT_INCOME_TOTAL                                    0.149266  \n",
       "AMT_CREDIT                                          0.147602  \n",
       "AMT_ANNUITY                                         0.118562  \n",
       "\n",
       "[5 rows x 1324 columns]"
      ]
     },
     "execution_count": 5,
     "metadata": {},
     "output_type": "execute_result"
    }
   ],
   "source": [
    "# Threshold for removing correlated variables\n",
    "threshold = 0.9\n",
    "\n",
    "# Exclude non-numeric columns\n",
    "numeric_cols = df_sample.select_dtypes(include=[np.number])\n",
    "\n",
    "# Calculate the absolute value of the correlation matrix\n",
    "corr_matrix = numeric_cols.corr().abs()\n",
    "\n",
    "# Display the correlation matrix\n",
    "corr_matrix.head()\n"
   ]
  },
  {
   "cell_type": "code",
   "execution_count": 6,
   "metadata": {},
   "outputs": [
    {
     "data": {
      "text/html": [
       "<div>\n",
       "<style scoped>\n",
       "    .dataframe tbody tr th:only-of-type {\n",
       "        vertical-align: middle;\n",
       "    }\n",
       "\n",
       "    .dataframe tbody tr th {\n",
       "        vertical-align: top;\n",
       "    }\n",
       "\n",
       "    .dataframe thead th {\n",
       "        text-align: right;\n",
       "    }\n",
       "</style>\n",
       "<table border=\"1\" class=\"dataframe\">\n",
       "  <thead>\n",
       "    <tr style=\"text-align: right;\">\n",
       "      <th></th>\n",
       "      <th>SK_ID_CURR</th>\n",
       "      <th>CNT_CHILDREN</th>\n",
       "      <th>AMT_INCOME_TOTAL</th>\n",
       "      <th>AMT_CREDIT</th>\n",
       "      <th>AMT_ANNUITY</th>\n",
       "      <th>AMT_GOODS_PRICE</th>\n",
       "      <th>REGION_POPULATION_RELATIVE</th>\n",
       "      <th>DAYS_BIRTH</th>\n",
       "      <th>DAYS_EMPLOYED</th>\n",
       "      <th>DAYS_REGISTRATION</th>\n",
       "      <th>...</th>\n",
       "      <th>client_installments_AMT_PAYMENT_min_sum</th>\n",
       "      <th>client_installments_AMT_INSTALMENT_min_sum</th>\n",
       "      <th>client_installments_AMT_PAYMENT_sum_max</th>\n",
       "      <th>client_installments_AMT_INSTALMENT_sum_max</th>\n",
       "      <th>client_installments_AMT_PAYMENT_mean_sum</th>\n",
       "      <th>client_installments_AMT_INSTALMENT_mean_sum</th>\n",
       "      <th>client_installments_AMT_INSTALMENT_max_sum</th>\n",
       "      <th>client_installments_AMT_PAYMENT_max_sum</th>\n",
       "      <th>client_installments_AMT_PAYMENT_sum_sum</th>\n",
       "      <th>client_installments_AMT_INSTALMENT_sum_sum</th>\n",
       "    </tr>\n",
       "  </thead>\n",
       "  <tbody>\n",
       "    <tr>\n",
       "      <th>SK_ID_CURR</th>\n",
       "      <td>NaN</td>\n",
       "      <td>0.051129</td>\n",
       "      <td>0.001720</td>\n",
       "      <td>0.024396</td>\n",
       "      <td>0.024885</td>\n",
       "      <td>0.032548</td>\n",
       "      <td>0.007701</td>\n",
       "      <td>0.022706</td>\n",
       "      <td>0.020018</td>\n",
       "      <td>0.046110</td>\n",
       "      <td>...</td>\n",
       "      <td>0.037406</td>\n",
       "      <td>0.035162</td>\n",
       "      <td>0.033862</td>\n",
       "      <td>0.031786</td>\n",
       "      <td>0.031099</td>\n",
       "      <td>0.026682</td>\n",
       "      <td>0.030349</td>\n",
       "      <td>0.031079</td>\n",
       "      <td>0.005506</td>\n",
       "      <td>0.006804</td>\n",
       "    </tr>\n",
       "    <tr>\n",
       "      <th>CNT_CHILDREN</th>\n",
       "      <td>NaN</td>\n",
       "      <td>NaN</td>\n",
       "      <td>0.021335</td>\n",
       "      <td>0.004594</td>\n",
       "      <td>0.038535</td>\n",
       "      <td>0.011219</td>\n",
       "      <td>0.014446</td>\n",
       "      <td>0.348066</td>\n",
       "      <td>0.145901</td>\n",
       "      <td>0.220532</td>\n",
       "      <td>...</td>\n",
       "      <td>0.089899</td>\n",
       "      <td>0.063474</td>\n",
       "      <td>0.062478</td>\n",
       "      <td>0.047321</td>\n",
       "      <td>0.056227</td>\n",
       "      <td>0.043932</td>\n",
       "      <td>0.009720</td>\n",
       "      <td>0.011862</td>\n",
       "      <td>0.038219</td>\n",
       "      <td>0.033211</td>\n",
       "    </tr>\n",
       "    <tr>\n",
       "      <th>AMT_INCOME_TOTAL</th>\n",
       "      <td>NaN</td>\n",
       "      <td>NaN</td>\n",
       "      <td>NaN</td>\n",
       "      <td>0.360610</td>\n",
       "      <td>0.454363</td>\n",
       "      <td>0.372218</td>\n",
       "      <td>0.209073</td>\n",
       "      <td>0.074670</td>\n",
       "      <td>0.088857</td>\n",
       "      <td>0.018988</td>\n",
       "      <td>...</td>\n",
       "      <td>0.189993</td>\n",
       "      <td>0.182610</td>\n",
       "      <td>0.200552</td>\n",
       "      <td>0.207429</td>\n",
       "      <td>0.186640</td>\n",
       "      <td>0.195564</td>\n",
       "      <td>0.118529</td>\n",
       "      <td>0.119158</td>\n",
       "      <td>0.146014</td>\n",
       "      <td>0.149266</td>\n",
       "    </tr>\n",
       "    <tr>\n",
       "      <th>AMT_CREDIT</th>\n",
       "      <td>NaN</td>\n",
       "      <td>NaN</td>\n",
       "      <td>NaN</td>\n",
       "      <td>NaN</td>\n",
       "      <td>0.749229</td>\n",
       "      <td>0.986196</td>\n",
       "      <td>0.146900</td>\n",
       "      <td>0.091190</td>\n",
       "      <td>0.149502</td>\n",
       "      <td>0.071100</td>\n",
       "      <td>...</td>\n",
       "      <td>0.110192</td>\n",
       "      <td>0.120427</td>\n",
       "      <td>0.175336</td>\n",
       "      <td>0.166648</td>\n",
       "      <td>0.150984</td>\n",
       "      <td>0.149223</td>\n",
       "      <td>0.132949</td>\n",
       "      <td>0.134044</td>\n",
       "      <td>0.150508</td>\n",
       "      <td>0.147602</td>\n",
       "    </tr>\n",
       "    <tr>\n",
       "      <th>AMT_ANNUITY</th>\n",
       "      <td>NaN</td>\n",
       "      <td>NaN</td>\n",
       "      <td>NaN</td>\n",
       "      <td>NaN</td>\n",
       "      <td>NaN</td>\n",
       "      <td>0.758832</td>\n",
       "      <td>0.139396</td>\n",
       "      <td>0.008062</td>\n",
       "      <td>0.099084</td>\n",
       "      <td>0.039654</td>\n",
       "      <td>...</td>\n",
       "      <td>0.163327</td>\n",
       "      <td>0.140649</td>\n",
       "      <td>0.164509</td>\n",
       "      <td>0.176268</td>\n",
       "      <td>0.147451</td>\n",
       "      <td>0.155185</td>\n",
       "      <td>0.093856</td>\n",
       "      <td>0.093854</td>\n",
       "      <td>0.117513</td>\n",
       "      <td>0.118562</td>\n",
       "    </tr>\n",
       "  </tbody>\n",
       "</table>\n",
       "<p>5 rows × 1324 columns</p>\n",
       "</div>"
      ],
      "text/plain": [
       "                  SK_ID_CURR  CNT_CHILDREN  AMT_INCOME_TOTAL  AMT_CREDIT  \\\n",
       "SK_ID_CURR               NaN      0.051129          0.001720    0.024396   \n",
       "CNT_CHILDREN             NaN           NaN          0.021335    0.004594   \n",
       "AMT_INCOME_TOTAL         NaN           NaN               NaN    0.360610   \n",
       "AMT_CREDIT               NaN           NaN               NaN         NaN   \n",
       "AMT_ANNUITY              NaN           NaN               NaN         NaN   \n",
       "\n",
       "                  AMT_ANNUITY  AMT_GOODS_PRICE  REGION_POPULATION_RELATIVE  \\\n",
       "SK_ID_CURR           0.024885         0.032548                    0.007701   \n",
       "CNT_CHILDREN         0.038535         0.011219                    0.014446   \n",
       "AMT_INCOME_TOTAL     0.454363         0.372218                    0.209073   \n",
       "AMT_CREDIT           0.749229         0.986196                    0.146900   \n",
       "AMT_ANNUITY               NaN         0.758832                    0.139396   \n",
       "\n",
       "                  DAYS_BIRTH  DAYS_EMPLOYED  DAYS_REGISTRATION  ...  \\\n",
       "SK_ID_CURR          0.022706       0.020018           0.046110  ...   \n",
       "CNT_CHILDREN        0.348066       0.145901           0.220532  ...   \n",
       "AMT_INCOME_TOTAL    0.074670       0.088857           0.018988  ...   \n",
       "AMT_CREDIT          0.091190       0.149502           0.071100  ...   \n",
       "AMT_ANNUITY         0.008062       0.099084           0.039654  ...   \n",
       "\n",
       "                  client_installments_AMT_PAYMENT_min_sum  \\\n",
       "SK_ID_CURR                                       0.037406   \n",
       "CNT_CHILDREN                                     0.089899   \n",
       "AMT_INCOME_TOTAL                                 0.189993   \n",
       "AMT_CREDIT                                       0.110192   \n",
       "AMT_ANNUITY                                      0.163327   \n",
       "\n",
       "                  client_installments_AMT_INSTALMENT_min_sum  \\\n",
       "SK_ID_CURR                                          0.035162   \n",
       "CNT_CHILDREN                                        0.063474   \n",
       "AMT_INCOME_TOTAL                                    0.182610   \n",
       "AMT_CREDIT                                          0.120427   \n",
       "AMT_ANNUITY                                         0.140649   \n",
       "\n",
       "                  client_installments_AMT_PAYMENT_sum_max  \\\n",
       "SK_ID_CURR                                       0.033862   \n",
       "CNT_CHILDREN                                     0.062478   \n",
       "AMT_INCOME_TOTAL                                 0.200552   \n",
       "AMT_CREDIT                                       0.175336   \n",
       "AMT_ANNUITY                                      0.164509   \n",
       "\n",
       "                  client_installments_AMT_INSTALMENT_sum_max  \\\n",
       "SK_ID_CURR                                          0.031786   \n",
       "CNT_CHILDREN                                        0.047321   \n",
       "AMT_INCOME_TOTAL                                    0.207429   \n",
       "AMT_CREDIT                                          0.166648   \n",
       "AMT_ANNUITY                                         0.176268   \n",
       "\n",
       "                  client_installments_AMT_PAYMENT_mean_sum  \\\n",
       "SK_ID_CURR                                        0.031099   \n",
       "CNT_CHILDREN                                      0.056227   \n",
       "AMT_INCOME_TOTAL                                  0.186640   \n",
       "AMT_CREDIT                                        0.150984   \n",
       "AMT_ANNUITY                                       0.147451   \n",
       "\n",
       "                  client_installments_AMT_INSTALMENT_mean_sum  \\\n",
       "SK_ID_CURR                                           0.026682   \n",
       "CNT_CHILDREN                                         0.043932   \n",
       "AMT_INCOME_TOTAL                                     0.195564   \n",
       "AMT_CREDIT                                           0.149223   \n",
       "AMT_ANNUITY                                          0.155185   \n",
       "\n",
       "                  client_installments_AMT_INSTALMENT_max_sum  \\\n",
       "SK_ID_CURR                                          0.030349   \n",
       "CNT_CHILDREN                                        0.009720   \n",
       "AMT_INCOME_TOTAL                                    0.118529   \n",
       "AMT_CREDIT                                          0.132949   \n",
       "AMT_ANNUITY                                         0.093856   \n",
       "\n",
       "                  client_installments_AMT_PAYMENT_max_sum  \\\n",
       "SK_ID_CURR                                       0.031079   \n",
       "CNT_CHILDREN                                     0.011862   \n",
       "AMT_INCOME_TOTAL                                 0.119158   \n",
       "AMT_CREDIT                                       0.134044   \n",
       "AMT_ANNUITY                                      0.093854   \n",
       "\n",
       "                  client_installments_AMT_PAYMENT_sum_sum  \\\n",
       "SK_ID_CURR                                       0.005506   \n",
       "CNT_CHILDREN                                     0.038219   \n",
       "AMT_INCOME_TOTAL                                 0.146014   \n",
       "AMT_CREDIT                                       0.150508   \n",
       "AMT_ANNUITY                                      0.117513   \n",
       "\n",
       "                  client_installments_AMT_INSTALMENT_sum_sum  \n",
       "SK_ID_CURR                                          0.006804  \n",
       "CNT_CHILDREN                                        0.033211  \n",
       "AMT_INCOME_TOTAL                                    0.149266  \n",
       "AMT_CREDIT                                          0.147602  \n",
       "AMT_ANNUITY                                         0.118562  \n",
       "\n",
       "[5 rows x 1324 columns]"
      ]
     },
     "execution_count": 6,
     "metadata": {},
     "output_type": "execute_result"
    }
   ],
   "source": [
    "# On ne récupère que la partie haute de la matrice\n",
    "upper = corr_matrix.where(np.triu(np.ones(corr_matrix.shape), k=1).astype(np.bool_))\n",
    "upper.head()"
   ]
  },
  {
   "cell_type": "code",
   "execution_count": 7,
   "metadata": {},
   "outputs": [
    {
     "name": "stdout",
     "output_type": "stream",
     "text": [
      "There are 646 columns to remove.\n"
     ]
    }
   ],
   "source": [
    "# Sélection des variables dont la corrélation dépasse le seuil de 0.9, pour pouvoir els supprimer\n",
    "to_drop = [column for column in upper.columns if any(upper[column] > threshold)]\n",
    "\n",
    "print('There are %d columns to remove.' % (len(to_drop)))"
   ]
  },
  {
   "cell_type": "code",
   "execution_count": 8,
   "metadata": {
    "scrolled": true
   },
   "outputs": [],
   "source": [
    "# to_drop"
   ]
  },
  {
   "cell_type": "markdown",
   "metadata": {},
   "source": [
    "### 4.1.2 - Suppression des variables corrélées"
   ]
  },
  {
   "cell_type": "code",
   "execution_count": 9,
   "metadata": {},
   "outputs": [
    {
     "name": "stdout",
     "output_type": "stream",
     "text": [
      "Training shape:  (307511, 701)\n",
      "Testing shape:  (48744, 700)\n"
     ]
    }
   ],
   "source": [
    "df_train_without_corr = df_train.drop(to_drop, axis=1)\n",
    "df_test_without_corr = df_test.drop(to_drop, axis=1)\n",
    "print('Training shape: ', df_train_without_corr.shape)\n",
    "print('Testing shape: ', df_test_without_corr.shape)\n"
   ]
  },
  {
   "cell_type": "code",
   "execution_count": 10,
   "metadata": {},
   "outputs": [
    {
     "data": {
      "text/html": [
       "<div>\n",
       "<style scoped>\n",
       "    .dataframe tbody tr th:only-of-type {\n",
       "        vertical-align: middle;\n",
       "    }\n",
       "\n",
       "    .dataframe tbody tr th {\n",
       "        vertical-align: top;\n",
       "    }\n",
       "\n",
       "    .dataframe thead th {\n",
       "        text-align: right;\n",
       "    }\n",
       "</style>\n",
       "<table border=\"1\" class=\"dataframe\">\n",
       "  <thead>\n",
       "    <tr style=\"text-align: right;\">\n",
       "      <th></th>\n",
       "      <th>SK_ID_CURR</th>\n",
       "      <th>TARGET</th>\n",
       "      <th>NAME_CONTRACT_TYPE</th>\n",
       "      <th>CODE_GENDER</th>\n",
       "      <th>FLAG_OWN_CAR</th>\n",
       "      <th>FLAG_OWN_REALTY</th>\n",
       "      <th>CNT_CHILDREN</th>\n",
       "      <th>AMT_INCOME_TOTAL</th>\n",
       "      <th>AMT_CREDIT</th>\n",
       "      <th>AMT_ANNUITY</th>\n",
       "      <th>...</th>\n",
       "      <th>client_installments_AMT_PAYMENT_mean_mean</th>\n",
       "      <th>client_installments_AMT_PAYMENT_mean_max</th>\n",
       "      <th>client_installments_AMT_INSTALMENT_max_mean</th>\n",
       "      <th>client_installments_AMT_PAYMENT_sum_min</th>\n",
       "      <th>client_installments_AMT_INSTALMENT_max_max</th>\n",
       "      <th>client_installments_AMT_PAYMENT_sum_mean</th>\n",
       "      <th>client_installments_AMT_PAYMENT_min_sum</th>\n",
       "      <th>client_installments_AMT_INSTALMENT_min_sum</th>\n",
       "      <th>client_installments_AMT_PAYMENT_sum_max</th>\n",
       "      <th>client_installments_AMT_INSTALMENT_max_sum</th>\n",
       "    </tr>\n",
       "  </thead>\n",
       "  <tbody>\n",
       "    <tr>\n",
       "      <th>0</th>\n",
       "      <td>100002</td>\n",
       "      <td>True</td>\n",
       "      <td>Cash loans</td>\n",
       "      <td>M</td>\n",
       "      <td>N</td>\n",
       "      <td>Y</td>\n",
       "      <td>0</td>\n",
       "      <td>202500.0</td>\n",
       "      <td>406597.5</td>\n",
       "      <td>24700.5</td>\n",
       "      <td>...</td>\n",
       "      <td>11559.247</td>\n",
       "      <td>11559.247</td>\n",
       "      <td>53093.746</td>\n",
       "      <td>219625.7</td>\n",
       "      <td>53093.746</td>\n",
       "      <td>219625.7</td>\n",
       "      <td>175783.73</td>\n",
       "      <td>175783.73</td>\n",
       "      <td>219625.7</td>\n",
       "      <td>1008781.2</td>\n",
       "    </tr>\n",
       "  </tbody>\n",
       "</table>\n",
       "<p>1 rows × 701 columns</p>\n",
       "</div>"
      ],
      "text/plain": [
       "   SK_ID_CURR  TARGET NAME_CONTRACT_TYPE CODE_GENDER FLAG_OWN_CAR  \\\n",
       "0      100002    True         Cash loans           M            N   \n",
       "\n",
       "  FLAG_OWN_REALTY  CNT_CHILDREN  AMT_INCOME_TOTAL  AMT_CREDIT  AMT_ANNUITY  \\\n",
       "0               Y             0          202500.0    406597.5      24700.5   \n",
       "\n",
       "   ... client_installments_AMT_PAYMENT_mean_mean  \\\n",
       "0  ...                                 11559.247   \n",
       "\n",
       "  client_installments_AMT_PAYMENT_mean_max  \\\n",
       "0                                11559.247   \n",
       "\n",
       "  client_installments_AMT_INSTALMENT_max_mean  \\\n",
       "0                                   53093.746   \n",
       "\n",
       "  client_installments_AMT_PAYMENT_sum_min  \\\n",
       "0                                219625.7   \n",
       "\n",
       "  client_installments_AMT_INSTALMENT_max_max  \\\n",
       "0                                  53093.746   \n",
       "\n",
       "   client_installments_AMT_PAYMENT_sum_mean  \\\n",
       "0                                  219625.7   \n",
       "\n",
       "   client_installments_AMT_PAYMENT_min_sum  \\\n",
       "0                                175783.73   \n",
       "\n",
       "   client_installments_AMT_INSTALMENT_min_sum  \\\n",
       "0                                   175783.73   \n",
       "\n",
       "   client_installments_AMT_PAYMENT_sum_max  \\\n",
       "0                                 219625.7   \n",
       "\n",
       "   client_installments_AMT_INSTALMENT_max_sum  \n",
       "0                                   1008781.2  \n",
       "\n",
       "[1 rows x 701 columns]"
      ]
     },
     "execution_count": 10,
     "metadata": {},
     "output_type": "execute_result"
    }
   ],
   "source": [
    "df_train_without_corr[df_train_without_corr['SK_ID_CURR']==100002]"
   ]
  },
  {
   "cell_type": "markdown",
   "metadata": {},
   "source": [
    "L'application de cette méthode à l'ensemble du jeu de données permet de supprimer près de la moitié de features colinéaires.\n",
    "Le nombre de features a été réduit de manière significative, mais il est probablement encore trop élevé."
   ]
  },
  {
   "cell_type": "markdown",
   "metadata": {},
   "source": [
    "## 4.2 - Suppresion des MV et encodage des variables catégorielles"
   ]
  },
  {
   "cell_type": "markdown",
   "metadata": {},
   "source": [
    "Un choix relativement simple de sélection de features consiste à supprimer les valeurs manquantes. Cela semble simple, du moins jusqu'à ce que nous devions décider quel pourcentage de valeurs manquantes est le seuil minimum pour supprimer une colonne. Comme pour de nombreux choix en apprentissage automatique, il n'y a pas de bonne réponse, ni même de règle générale pour faire ce choix. Dans cette implémentation, si des colonnes ont plus de 75 % de valeurs manquantes, elles seront supprimées.\n",
    "\n",
    "La Gradient Boosting Machine (au moins dans LightGBM) peut traiter les valeurs manquantes, nous n'allons donc pas faire d'imputation sur les variables restantes puisque nous avons vu précédemment que le LGBM était le modèle le plus performant de ceux que nous avons testés. "
   ]
  },
  {
   "cell_type": "code",
   "execution_count": 11,
   "metadata": {},
   "outputs": [
    {
     "data": {
      "text/plain": [
       "client_credit_AMT_PAYMENT_CURRENT_min_min             0.801438\n",
       "client_credit_AMT_DRAWINGS_OTHER_CURRENT_min_min      0.801178\n",
       "client_credit_CNT_DRAWINGS_OTHER_CURRENT_min_max      0.801178\n",
       "client_credit_CNT_DRAWINGS_OTHER_CURRENT_mean_mean    0.801178\n",
       "client_credit_CNT_DRAWINGS_ATM_CURRENT_max_min        0.801178\n",
       "client_credit_AMT_DRAWINGS_ATM_CURRENT_mean_mean      0.801178\n",
       "client_credit_AMT_DRAWINGS_ATM_CURRENT_max_min        0.801178\n",
       "client_credit_CNT_DRAWINGS_OTHER_CURRENT_max_min      0.801178\n",
       "client_credit_CNT_DRAWINGS_OTHER_CURRENT_min_mean     0.801178\n",
       "client_credit_CNT_DRAWINGS_OTHER_CURRENT_min_min      0.801178\n",
       "client_credit_AMT_DRAWINGS_OTHER_CURRENT_min_mean     0.801178\n",
       "client_credit_AMT_DRAWINGS_OTHER_CURRENT_min_max      0.801178\n",
       "client_credit_CNT_DRAWINGS_ATM_CURRENT_mean_min       0.801178\n",
       "bureau_AMT_ANNUITY_mean                               0.739817\n",
       "bureau_AMT_ANNUITY_max                                0.739817\n",
       "dtype: float64"
      ]
     },
     "execution_count": 11,
     "metadata": {},
     "output_type": "execute_result"
    }
   ],
   "source": [
    "train_missing = (df_train_without_corr.isnull().sum() / len(df_train_without_corr)).sort_values(ascending = False)\n",
    "train_missing.head(15)"
   ]
  },
  {
   "cell_type": "code",
   "execution_count": 12,
   "metadata": {},
   "outputs": [
    {
     "data": {
      "text/plain": [
       "client_credit_CNT_DRAWINGS_OTHER_CURRENT_mean_mean    0.773223\n",
       "client_credit_AMT_DRAWINGS_OTHER_CURRENT_min_mean     0.773223\n",
       "client_credit_AMT_DRAWINGS_ATM_CURRENT_max_min        0.773223\n",
       "client_credit_AMT_DRAWINGS_ATM_CURRENT_mean_mean      0.773223\n",
       "client_credit_CNT_DRAWINGS_ATM_CURRENT_max_min        0.773223\n",
       "dtype: float64"
      ]
     },
     "execution_count": 12,
     "metadata": {},
     "output_type": "execute_result"
    }
   ],
   "source": [
    "# Test missing values (in percent)\n",
    "test_missing = (df_test_without_corr.isnull().sum() / len(df_test_without_corr)).sort_values(ascending = False)\n",
    "test_missing.head()"
   ]
  },
  {
   "cell_type": "code",
   "execution_count": 13,
   "metadata": {},
   "outputs": [
    {
     "name": "stdout",
     "output_type": "stream",
     "text": [
      "There are 13 columns with more than 75% missing values\n"
     ]
    }
   ],
   "source": [
    "# Identification des MV au delà du seuil de 75%\n",
    "train_missing = train_missing.index[train_missing > 0.75]\n",
    "test_missing = test_missing.index[test_missing > 0.75]\n",
    "\n",
    "all_missing = list(set(set(train_missing) | set(test_missing)))\n",
    "print('There are %d columns with more than 75%% missing values' % len(all_missing))"
   ]
  },
  {
   "cell_type": "code",
   "execution_count": 14,
   "metadata": {},
   "outputs": [
    {
     "data": {
      "text/plain": [
       "['client_credit_AMT_DRAWINGS_OTHER_CURRENT_min_mean',\n",
       " 'client_credit_CNT_DRAWINGS_ATM_CURRENT_mean_min',\n",
       " 'client_credit_CNT_DRAWINGS_OTHER_CURRENT_min_min',\n",
       " 'client_credit_CNT_DRAWINGS_OTHER_CURRENT_max_min',\n",
       " 'client_credit_AMT_DRAWINGS_OTHER_CURRENT_min_min',\n",
       " 'client_credit_CNT_DRAWINGS_ATM_CURRENT_max_min',\n",
       " 'client_credit_CNT_DRAWINGS_OTHER_CURRENT_min_mean',\n",
       " 'client_credit_CNT_DRAWINGS_OTHER_CURRENT_mean_mean',\n",
       " 'client_credit_AMT_DRAWINGS_ATM_CURRENT_max_min',\n",
       " 'client_credit_AMT_DRAWINGS_OTHER_CURRENT_min_max',\n",
       " 'client_credit_AMT_PAYMENT_CURRENT_min_min',\n",
       " 'client_credit_AMT_DRAWINGS_ATM_CURRENT_mean_mean',\n",
       " 'client_credit_CNT_DRAWINGS_OTHER_CURRENT_min_max']"
      ]
     },
     "execution_count": 14,
     "metadata": {},
     "output_type": "execute_result"
    }
   ],
   "source": [
    "all_missing"
   ]
  },
  {
   "cell_type": "markdown",
   "metadata": {},
   "source": [
    "Nous supprimons ces variables et encodons les variables restantes avec un One Hot Encosing"
   ]
  },
  {
   "cell_type": "code",
   "execution_count": 15,
   "metadata": {},
   "outputs": [],
   "source": [
    "# Sauvegarde des targets pq l'alignement va supprimer cette variable\n",
    "df_train_labels = df_train_without_corr[\"TARGET\"]\n",
    "\n",
    "# Sauvegarde des identifiants\n",
    "df_train_ids = df_train_without_corr['SK_ID_CURR']\n",
    "df_test_ids = df_test_without_corr['SK_ID_CURR']\n",
    "\n",
    "\n",
    "# get_dummies\n",
    "df_train_without_corr_mv = pd.get_dummies(df_train_without_corr.drop(all_missing, axis=1))\n",
    "df_test_without_corr_mv = pd.get_dummies(df_test_without_corr.drop(all_missing, axis=1))\n",
    "\n"
   ]
  },
  {
   "cell_type": "code",
   "execution_count": 16,
   "metadata": {},
   "outputs": [
    {
     "data": {
      "text/plain": [
       "((307511, 812), (48744, 808))"
      ]
     },
     "execution_count": 16,
     "metadata": {},
     "output_type": "execute_result"
    }
   ],
   "source": [
    "df_train_without_corr_mv.shape, df_test_without_corr_mv.shape"
   ]
  },
  {
   "cell_type": "code",
   "execution_count": 17,
   "metadata": {},
   "outputs": [
    {
     "name": "stdout",
     "output_type": "stream",
     "text": [
      "Training set full shape:  (307511, 808)\n",
      "Testing set full shape:  (48744, 808)\n"
     ]
    }
   ],
   "source": [
    "# Alignement\n",
    "df_train_without_corr_mv, df_test_without_corr_mv = df_train_without_corr_mv.align(df_test_without_corr_mv, join = 'inner', axis = 1)\n",
    "\n",
    "print('Training set full shape: ', df_train_without_corr_mv.shape)\n",
    "print('Testing set full shape: ', df_test_without_corr_mv.shape)\n"
   ]
  },
  {
   "cell_type": "code",
   "execution_count": 18,
   "metadata": {},
   "outputs": [],
   "source": [
    "# drop des ids pour pouvoir faire la feature selection avec mdoélisation\n",
    "df_train_without_corr_mv = df_train_without_corr_mv.drop(columns = ['SK_ID_CURR'])\n",
    "df_test_without_corr_mv = df_test_without_corr_mv.drop(columns = ['SK_ID_CURR'])"
   ]
  },
  {
   "cell_type": "code",
   "execution_count": 19,
   "metadata": {},
   "outputs": [
    {
     "name": "stdout",
     "output_type": "stream",
     "text": [
      "Training set full shape:  (307511, 807)\n",
      "Testing set full shape:  (48744, 807)\n"
     ]
    }
   ],
   "source": [
    "print('Training set full shape: ', df_train_without_corr_mv.shape)\n",
    "print('Testing set full shape: ', df_test_without_corr_mv.shape)"
   ]
  },
  {
   "cell_type": "markdown",
   "metadata": {},
   "source": [
    "## 4.3 - Feature selection avec la Feature Importance"
   ]
  },
  {
   "cell_type": "markdown",
   "metadata": {},
   "source": [
    "La méthode suivante que nous pouvons employer pour la sélection des features consiste à utiliser l'importance des caractéristiques d'un modèle. Les modèles basés sur les arbres (et par conséquent les ensembles d'arbres) peuvent déterminer une \"importance\" pour chaque caractéristique en mesurant la réduction de l'impureté par l'inclusion de la caractéristique dans le modèle. La valeur relative des importances peut être utilisée comme une approximation de la \"pertinence\" des différentes caractéristiques dans un modèle. En outre, nous pouvons utiliser les importances des caractéristiques pour supprimer les caractéristiques que le modèle ne considère pas comme importantes."
   ]
  },
  {
   "cell_type": "markdown",
   "metadata": {},
   "source": [
    "La méthode Recursive Feature Elimination de Scikit-Learn est une méthode qui permet d'effectuer cette opération automatiquement. Cette méthode accepte un estimateur (qui renvoie soit des poids de caractéristiques, comme une régression linéaire, soit des importances de caractéristiques, comme une forêt aléatoire) et un nombre souhaité de caractéristiques. Il ajuste ensuite le modèle de manière répétée sur les données et supprime itérativement les caractéristiques les moins importantes jusqu'à ce qu'il ne reste plus que le nombre souhaité de caractéristiques. Cela signifie que nous disposons d'un autre hyperparamètre arbitraire à utiliser dans notre pipeline : le nombre de caractéristiques à conserver !"
   ]
  },
  {
   "cell_type": "markdown",
   "metadata": {},
   "source": [
    "Au lieu de le faire automatiquement, nous pouvons effectuer notre propre suppression de features en supprimant d'abord toutes les features d'importance nulle du modèle. S'il reste trop de features, nous pouvons envisager de supprimer celles qui ont le moins d'importance. "
   ]
  },
  {
   "cell_type": "markdown",
   "metadata": {},
   "source": [
    "Comme le modèle LightGBM ne nécessite pas l'imputation des valeurs manquantes, nous pouvons l'ajuster directement sur les données d'apprentissage. Nous utiliserons l'arrêt anticipé pour déterminer le nombre optimal d'itérations et exécuterons le modèle deux fois, en calculant la moyenne des importances des caractéristiques pour essayer d'éviter le surajustement à un certain ensemble de caractéristiques."
   ]
  },
  {
   "cell_type": "code",
   "execution_count": 20,
   "metadata": {},
   "outputs": [],
   "source": [
    "# Initialize an empty array to hold feature importances\n",
    "feature_importances = np.zeros(df_train_without_corr_mv.shape[1])\n",
    "\n",
    "# Create the model with several hyperparameters\n",
    "model = lgb.LGBMClassifier(objective='binary', \n",
    "                           boosting_type = 'goss', \n",
    "                           n_estimators = 10000,\n",
    "                           # learning_rate = 0.01, \n",
    "                           class_weight = 'balanced')"
   ]
  },
  {
   "cell_type": "markdown",
   "metadata": {},
   "source": [
    "Pour éviter le message d'erreur 'LightGBMError: Do not support special JSON characters in feature name', je remplace les caractères spéciaux dans les noms des features"
   ]
  },
  {
   "cell_type": "code",
   "execution_count": 21,
   "metadata": {},
   "outputs": [],
   "source": [
    "df_train_without_corr_mv.columns= [col.replace('{', '').replace('}', '').replace(':', '').replace('[', '').replace(']', '').replace(',', '').replace('\"', '').replace(\"'\", '') for col in df_train_without_corr_mv.columns]\n",
    "df_test_without_corr_mv.columns= [col.replace('{', '').replace('}', '').replace(':', '').replace('[', '').replace(']', '').replace(',', '').replace('\"', '').replace(\"'\", '') for col in df_test_without_corr_mv.columns]"
   ]
  },
  {
   "cell_type": "code",
   "execution_count": 22,
   "metadata": {},
   "outputs": [
    {
     "name": "stdout",
     "output_type": "stream",
     "text": [
      "[LightGBM] [Warning] Found boosting=goss. For backwards compatibility reasons, LightGBM interprets this as boosting=gbdt, data_sample_strategy=goss.To suppress this warning, set data_sample_strategy=goss instead.\n",
      "[LightGBM] [Warning] Found whitespace in feature_names, replace with underlines\n",
      "[LightGBM] [Warning] Found boosting=goss. For backwards compatibility reasons, LightGBM interprets this as boosting=gbdt, data_sample_strategy=goss.To suppress this warning, set data_sample_strategy=goss instead.\n",
      "[LightGBM] [Info] Number of positive: 18734, number of negative: 211899\n",
      "[LightGBM] [Info] Auto-choosing col-wise multi-threading, the overhead of testing was 0.830368 seconds.\n",
      "You can set `force_col_wise=true` to remove the overhead.\n",
      "[LightGBM] [Info] Total Bins 74554\n",
      "[LightGBM] [Info] Number of data points in the train set: 230633, number of used features: 799\n",
      "[LightGBM] [Info] Using GOSS\n",
      "[LightGBM] [Warning] Found boosting=goss. For backwards compatibility reasons, LightGBM interprets this as boosting=gbdt, data_sample_strategy=goss.To suppress this warning, set data_sample_strategy=goss instead.\n",
      "[LightGBM] [Warning] Found whitespace in feature_names, replace with underlines\n",
      "[LightGBM] [Info] [binary:BoostFromScore]: pavg=0.500000 -> initscore=0.000000\n",
      "[LightGBM] [Info] Start training from score 0.000000\n",
      "Training until validation scores don't improve for 50 rounds\n",
      "Early stopping, best iteration is:\n",
      "[171]\tvalid_0's auc: 0.785045\tvalid_0's binary_logloss: 0.513528\n",
      "[LightGBM] [Warning] Found boosting=goss. For backwards compatibility reasons, LightGBM interprets this as boosting=gbdt, data_sample_strategy=goss.To suppress this warning, set data_sample_strategy=goss instead.\n",
      "[LightGBM] [Warning] Found whitespace in feature_names, replace with underlines\n",
      "[LightGBM] [Warning] Found boosting=goss. For backwards compatibility reasons, LightGBM interprets this as boosting=gbdt, data_sample_strategy=goss.To suppress this warning, set data_sample_strategy=goss instead.\n",
      "[LightGBM] [Info] Number of positive: 18565, number of negative: 212068\n",
      "[LightGBM] [Info] Auto-choosing col-wise multi-threading, the overhead of testing was 0.649191 seconds.\n",
      "You can set `force_col_wise=true` to remove the overhead.\n",
      "[LightGBM] [Info] Total Bins 74618\n",
      "[LightGBM] [Info] Number of data points in the train set: 230633, number of used features: 798\n",
      "[LightGBM] [Info] Using GOSS\n",
      "[LightGBM] [Warning] Found boosting=goss. For backwards compatibility reasons, LightGBM interprets this as boosting=gbdt, data_sample_strategy=goss.To suppress this warning, set data_sample_strategy=goss instead.\n",
      "[LightGBM] [Warning] Found whitespace in feature_names, replace with underlines\n",
      "[LightGBM] [Info] [binary:BoostFromScore]: pavg=0.500000 -> initscore=0.000000\n",
      "[LightGBM] [Info] Start training from score 0.000000\n",
      "Training until validation scores don't improve for 50 rounds\n",
      "Early stopping, best iteration is:\n",
      "[146]\tvalid_0's auc: 0.786255\tvalid_0's binary_logloss: 0.519405\n"
     ]
    }
   ],
   "source": [
    "from lightgbm import early_stopping\n",
    "# Fit the model twice to avoid overfitting\n",
    "for i in range(2):\n",
    "    \n",
    "    # Split into training and validation set\n",
    "    train_features, valid_features, train_y, valid_y = train_test_split(df_train_without_corr_mv, \n",
    "                                                                        df_train_labels, \n",
    "                                                                        test_size = 0.25, \n",
    "                                                                        random_state = i)\n",
    "\n",
    "    model.fit(train_features, \n",
    "              train_y, \n",
    "              eval_set=[(valid_features, valid_y)],\n",
    "              eval_metric='auc',\n",
    "              callbacks=[early_stopping(stopping_rounds=50)])\n",
    "    \n",
    "    # Record the feature importances\n",
    "    feature_importances += model.feature_importances_"
   ]
  },
  {
   "cell_type": "code",
   "execution_count": 23,
   "metadata": {},
   "outputs": [
    {
     "data": {
      "text/html": [
       "<div>\n",
       "<style scoped>\n",
       "    .dataframe tbody tr th:only-of-type {\n",
       "        vertical-align: middle;\n",
       "    }\n",
       "\n",
       "    .dataframe tbody tr th {\n",
       "        vertical-align: top;\n",
       "    }\n",
       "\n",
       "    .dataframe thead th {\n",
       "        text-align: right;\n",
       "    }\n",
       "</style>\n",
       "<table border=\"1\" class=\"dataframe\">\n",
       "  <thead>\n",
       "    <tr style=\"text-align: right;\">\n",
       "      <th></th>\n",
       "      <th>feature</th>\n",
       "      <th>importance</th>\n",
       "    </tr>\n",
       "  </thead>\n",
       "  <tbody>\n",
       "    <tr>\n",
       "      <th>25</th>\n",
       "      <td>EXT_SOURCE_1</td>\n",
       "      <td>155.5</td>\n",
       "    </tr>\n",
       "    <tr>\n",
       "      <th>74</th>\n",
       "      <td>CREDIT_TERM</td>\n",
       "      <td>134.0</td>\n",
       "    </tr>\n",
       "    <tr>\n",
       "      <th>26</th>\n",
       "      <td>EXT_SOURCE_2</td>\n",
       "      <td>130.5</td>\n",
       "    </tr>\n",
       "    <tr>\n",
       "      <th>27</th>\n",
       "      <td>EXT_SOURCE_3</td>\n",
       "      <td>121.5</td>\n",
       "    </tr>\n",
       "    <tr>\n",
       "      <th>6</th>\n",
       "      <td>DAYS_EMPLOYED</td>\n",
       "      <td>99.0</td>\n",
       "    </tr>\n",
       "    <tr>\n",
       "      <th>666</th>\n",
       "      <td>client_installments_AMT_PAYMENT_min_sum</td>\n",
       "      <td>78.5</td>\n",
       "    </tr>\n",
       "    <tr>\n",
       "      <th>5</th>\n",
       "      <td>DAYS_BIRTH</td>\n",
       "      <td>77.5</td>\n",
       "    </tr>\n",
       "    <tr>\n",
       "      <th>3</th>\n",
       "      <td>AMT_ANNUITY</td>\n",
       "      <td>70.5</td>\n",
       "    </tr>\n",
       "    <tr>\n",
       "      <th>115</th>\n",
       "      <td>bureau_DAYS_CREDIT_max</td>\n",
       "      <td>53.5</td>\n",
       "    </tr>\n",
       "    <tr>\n",
       "      <th>559</th>\n",
       "      <td>client_cash_CNT_INSTALMENT_FUTURE_mean_max</td>\n",
       "      <td>51.5</td>\n",
       "    </tr>\n",
       "  </tbody>\n",
       "</table>\n",
       "</div>"
      ],
      "text/plain": [
       "                                        feature  importance\n",
       "25                                 EXT_SOURCE_1       155.5\n",
       "74                                  CREDIT_TERM       134.0\n",
       "26                                 EXT_SOURCE_2       130.5\n",
       "27                                 EXT_SOURCE_3       121.5\n",
       "6                                 DAYS_EMPLOYED        99.0\n",
       "666     client_installments_AMT_PAYMENT_min_sum        78.5\n",
       "5                                    DAYS_BIRTH        77.5\n",
       "3                                   AMT_ANNUITY        70.5\n",
       "115                      bureau_DAYS_CREDIT_max        53.5\n",
       "559  client_cash_CNT_INSTALMENT_FUTURE_mean_max        51.5"
      ]
     },
     "execution_count": 23,
     "metadata": {},
     "output_type": "execute_result"
    }
   ],
   "source": [
    "feature_importances = feature_importances / 2\n",
    "feature_importances = pd.DataFrame({'feature': list(df_train_without_corr_mv.columns), 'importance': feature_importances}).sort_values('importance', ascending = False)\n",
    "feature_importances.head(10)"
   ]
  },
  {
   "cell_type": "code",
   "execution_count": 24,
   "metadata": {},
   "outputs": [
    {
     "name": "stdout",
     "output_type": "stream",
     "text": [
      "There are 279 features with 0.0 importance\n"
     ]
    },
    {
     "data": {
      "text/html": [
       "<div>\n",
       "<style scoped>\n",
       "    .dataframe tbody tr th:only-of-type {\n",
       "        vertical-align: middle;\n",
       "    }\n",
       "\n",
       "    .dataframe tbody tr th {\n",
       "        vertical-align: top;\n",
       "    }\n",
       "\n",
       "    .dataframe thead th {\n",
       "        text-align: right;\n",
       "    }\n",
       "</style>\n",
       "<table border=\"1\" class=\"dataframe\">\n",
       "  <thead>\n",
       "    <tr style=\"text-align: right;\">\n",
       "      <th></th>\n",
       "      <th>feature</th>\n",
       "      <th>importance</th>\n",
       "    </tr>\n",
       "  </thead>\n",
       "  <tbody>\n",
       "    <tr>\n",
       "      <th>583</th>\n",
       "      <td>client_credit_NAME_CONTRACT_STATUS_Approved_me...</td>\n",
       "      <td>0.0</td>\n",
       "    </tr>\n",
       "    <tr>\n",
       "      <th>582</th>\n",
       "      <td>client_credit_NAME_CONTRACT_STATUS_Approved_me...</td>\n",
       "      <td>0.0</td>\n",
       "    </tr>\n",
       "    <tr>\n",
       "      <th>581</th>\n",
       "      <td>client_credit_NAME_CONTRACT_STATUS_Demand_mean...</td>\n",
       "      <td>0.0</td>\n",
       "    </tr>\n",
       "    <tr>\n",
       "      <th>580</th>\n",
       "      <td>client_credit_AMT_DRAWINGS_OTHER_CURRENT_min_sum</td>\n",
       "      <td>0.0</td>\n",
       "    </tr>\n",
       "    <tr>\n",
       "      <th>579</th>\n",
       "      <td>client_credit_CNT_DRAWINGS_OTHER_CURRENT_min_sum</td>\n",
       "      <td>0.0</td>\n",
       "    </tr>\n",
       "    <tr>\n",
       "      <th>578</th>\n",
       "      <td>client_credit_SK_DPD_min_sum</td>\n",
       "      <td>0.0</td>\n",
       "    </tr>\n",
       "    <tr>\n",
       "      <th>577</th>\n",
       "      <td>client_credit_SK_DPD_min_mean</td>\n",
       "      <td>0.0</td>\n",
       "    </tr>\n",
       "    <tr>\n",
       "      <th>231</th>\n",
       "      <td>previous_NAME_SELLER_INDUSTRY_MLM partners_sum</td>\n",
       "      <td>0.0</td>\n",
       "    </tr>\n",
       "    <tr>\n",
       "      <th>232</th>\n",
       "      <td>previous_NAME_GOODS_CATEGORY_Direct Sales_mean</td>\n",
       "      <td>0.0</td>\n",
       "    </tr>\n",
       "    <tr>\n",
       "      <th>806</th>\n",
       "      <td>EMERGENCYSTATE_MODE_Yes</td>\n",
       "      <td>0.0</td>\n",
       "    </tr>\n",
       "  </tbody>\n",
       "</table>\n",
       "</div>"
      ],
      "text/plain": [
       "                                               feature  importance\n",
       "583  client_credit_NAME_CONTRACT_STATUS_Approved_me...         0.0\n",
       "582  client_credit_NAME_CONTRACT_STATUS_Approved_me...         0.0\n",
       "581  client_credit_NAME_CONTRACT_STATUS_Demand_mean...         0.0\n",
       "580   client_credit_AMT_DRAWINGS_OTHER_CURRENT_min_sum         0.0\n",
       "579   client_credit_CNT_DRAWINGS_OTHER_CURRENT_min_sum         0.0\n",
       "578                       client_credit_SK_DPD_min_sum         0.0\n",
       "577                      client_credit_SK_DPD_min_mean         0.0\n",
       "231     previous_NAME_SELLER_INDUSTRY_MLM partners_sum         0.0\n",
       "232     previous_NAME_GOODS_CATEGORY_Direct Sales_mean         0.0\n",
       "806                            EMERGENCYSTATE_MODE_Yes         0.0"
      ]
     },
     "execution_count": 24,
     "metadata": {},
     "output_type": "execute_result"
    }
   ],
   "source": [
    "# Find the features with zero importance\n",
    "zero_features = list(feature_importances[feature_importances['importance'] == 0.0]['feature'])\n",
    "print('There are %d features with 0.0 importance' % len(zero_features))\n",
    "feature_importances.tail(10)"
   ]
  },
  {
   "cell_type": "markdown",
   "metadata": {},
   "source": [
    "Nous constatons que plusieurs des features créées manuellement sont entrées dans le top 10 des features les plus importantes. Il semble également que de nombreuses features que nous avons créées aient littéralement une importance nulle. Pour le gradient boosting machine, les features dont l'importance est nulle ne sont pas du tout utilisées pour effectuer des divisions. Par conséquent, nous pouvons supprimer ces features du modèle sans effet sur les performances (à l'exception d'un entraînement plus rapide)."
   ]
  },
  {
   "cell_type": "code",
   "execution_count": 25,
   "metadata": {},
   "outputs": [
    {
     "name": "stdout",
     "output_type": "stream",
     "text": [
      "Training shape:  (307511, 528)\n",
      "Testing shape:  (48744, 528)\n"
     ]
    }
   ],
   "source": [
    "df_train_without_corr_mv_zero = df_train_without_corr_mv.drop(columns = zero_features)\n",
    "df_test_without_corr_mv_zero = df_test_without_corr_mv.drop(columns = zero_features)\n",
    "\n",
    "print('Training shape: ', df_train_without_corr_mv_zero.shape)\n",
    "print('Testing shape: ', df_test_without_corr_mv_zero.shape)"
   ]
  },
  {
   "cell_type": "code",
   "execution_count": 26,
   "metadata": {},
   "outputs": [],
   "source": [
    "def identify_zero_importance_features(train, train_labels, iterations = 2):\n",
    "    \"\"\"\n",
    "    Identify zero importance features in a training dataset based on the \n",
    "    feature importances from a gradient boosting model. \n",
    "    \n",
    "    Parameters\n",
    "    --------\n",
    "    train : dataframe\n",
    "        Training features\n",
    "        \n",
    "    train_labels : np.array\n",
    "        Labels for training data\n",
    "        \n",
    "    iterations : integer, default = 2\n",
    "        Number of cross validation splits to use for determining feature importances\n",
    "    \"\"\"\n",
    "    \n",
    "    # Initialize an empty array to hold feature importances\n",
    "    feature_importances = np.zeros(train.shape[1])\n",
    "\n",
    "    # Create the model with several hyperparameters\n",
    "    model = lgb.LGBMClassifier(objective='binary', \n",
    "                           boosting_type = 'goss', \n",
    "                           n_estimators = 1000,\n",
    "                           # learning_rate = 0.01, \n",
    "                           class_weight = 'balanced')\n",
    "    \n",
    "    # Fit the model multiple times to avoid overfitting\n",
    "    for i in range(iterations):\n",
    "\n",
    "        # Split into training and validation set\n",
    "        train_features, valid_features, train_y, valid_y = train_test_split(train, train_labels, test_size = 0.25, random_state = i)\n",
    "\n",
    "        # Train using early stopping\n",
    "        model.fit(train_features, \n",
    "                  train_y, \n",
    "                  eval_set = [(valid_features, valid_y)], \n",
    "                  eval_metric = 'auc', \n",
    "                  callbacks = [early_stopping(stopping_rounds=50)])\n",
    "\n",
    "        # Record the feature importances\n",
    "        feature_importances += model.feature_importances_ / iterations\n",
    "    \n",
    "    feature_importances = pd.DataFrame({'feature': list(train.columns), 'importance': feature_importances}).sort_values('importance', ascending = False)\n",
    "    \n",
    "    # Find the features with zero importance\n",
    "    zero_features = list(feature_importances[feature_importances['importance'] ==0]['feature'])\n",
    "    print('\\nThere are %d features with 0.0 importance' % len(zero_features))\n",
    "    \n",
    "    return zero_features, feature_importances"
   ]
  },
  {
   "cell_type": "code",
   "execution_count": 27,
   "metadata": {},
   "outputs": [
    {
     "name": "stdout",
     "output_type": "stream",
     "text": [
      "[LightGBM] [Warning] Found boosting=goss. For backwards compatibility reasons, LightGBM interprets this as boosting=gbdt, data_sample_strategy=goss.To suppress this warning, set data_sample_strategy=goss instead.\n",
      "[LightGBM] [Warning] Found whitespace in feature_names, replace with underlines\n",
      "[LightGBM] [Warning] Found boosting=goss. For backwards compatibility reasons, LightGBM interprets this as boosting=gbdt, data_sample_strategy=goss.To suppress this warning, set data_sample_strategy=goss instead.\n",
      "[LightGBM] [Info] Number of positive: 18734, number of negative: 211899\n",
      "[LightGBM] [Info] Auto-choosing col-wise multi-threading, the overhead of testing was 0.582342 seconds.\n",
      "You can set `force_col_wise=true` to remove the overhead.\n",
      "[LightGBM] [Info] Total Bins 71144\n",
      "[LightGBM] [Info] Number of data points in the train set: 230633, number of used features: 528\n",
      "[LightGBM] [Info] Using GOSS\n",
      "[LightGBM] [Warning] Found boosting=goss. For backwards compatibility reasons, LightGBM interprets this as boosting=gbdt, data_sample_strategy=goss.To suppress this warning, set data_sample_strategy=goss instead.\n",
      "[LightGBM] [Warning] Found whitespace in feature_names, replace with underlines\n",
      "[LightGBM] [Info] [binary:BoostFromScore]: pavg=0.500000 -> initscore=0.000000\n",
      "[LightGBM] [Info] Start training from score 0.000000\n",
      "Training until validation scores don't improve for 50 rounds\n",
      "Early stopping, best iteration is:\n",
      "[184]\tvalid_0's auc: 0.785047\tvalid_0's binary_logloss: 0.510358\n",
      "[LightGBM] [Warning] Found boosting=goss. For backwards compatibility reasons, LightGBM interprets this as boosting=gbdt, data_sample_strategy=goss.To suppress this warning, set data_sample_strategy=goss instead.\n",
      "[LightGBM] [Warning] Found whitespace in feature_names, replace with underlines\n",
      "[LightGBM] [Warning] Found boosting=goss. For backwards compatibility reasons, LightGBM interprets this as boosting=gbdt, data_sample_strategy=goss.To suppress this warning, set data_sample_strategy=goss instead.\n",
      "[LightGBM] [Info] Number of positive: 18565, number of negative: 212068\n",
      "[LightGBM] [Info] Auto-choosing col-wise multi-threading, the overhead of testing was 0.538690 seconds.\n",
      "You can set `force_col_wise=true` to remove the overhead.\n",
      "[LightGBM] [Info] Total Bins 71191\n",
      "[LightGBM] [Info] Number of data points in the train set: 230633, number of used features: 528\n",
      "[LightGBM] [Info] Using GOSS\n",
      "[LightGBM] [Warning] Found boosting=goss. For backwards compatibility reasons, LightGBM interprets this as boosting=gbdt, data_sample_strategy=goss.To suppress this warning, set data_sample_strategy=goss instead.\n",
      "[LightGBM] [Warning] Found whitespace in feature_names, replace with underlines\n",
      "[LightGBM] [Info] [binary:BoostFromScore]: pavg=0.500000 -> initscore=0.000000\n",
      "[LightGBM] [Info] Start training from score 0.000000\n",
      "Training until validation scores don't improve for 50 rounds\n",
      "Early stopping, best iteration is:\n",
      "[146]\tvalid_0's auc: 0.786255\tvalid_0's binary_logloss: 0.519405\n",
      "\n",
      "There are 0 features with 0.0 importance\n"
     ]
    }
   ],
   "source": [
    "second_round_zero_features, feature_importances = identify_zero_importance_features(df_train_without_corr_mv_zero, df_train_labels)"
   ]
  },
  {
   "cell_type": "code",
   "execution_count": 28,
   "metadata": {},
   "outputs": [
    {
     "name": "stdout",
     "output_type": "stream",
     "text": [
      "Training shape:  (307511, 528)\n",
      "Testing shape:  (48744, 528)\n"
     ]
    }
   ],
   "source": [
    "df_train_without_corr_mv_zero_zero = df_train_without_corr_mv_zero.drop(columns = second_round_zero_features)\n",
    "df_test_without_corr_mv_zero_zero = df_test_without_corr_mv_zero.drop(columns = second_round_zero_features)\n",
    "\n",
    "print('Training shape: ', df_train_without_corr_mv_zero_zero.shape)\n",
    "print('Testing shape: ', df_test_without_corr_mv_zero_zero.shape)"
   ]
  },
  {
   "cell_type": "code",
   "execution_count": 29,
   "metadata": {},
   "outputs": [
    {
     "name": "stdout",
     "output_type": "stream",
     "text": [
      "[LightGBM] [Warning] Found boosting=goss. For backwards compatibility reasons, LightGBM interprets this as boosting=gbdt, data_sample_strategy=goss.To suppress this warning, set data_sample_strategy=goss instead.\n",
      "[LightGBM] [Warning] Found whitespace in feature_names, replace with underlines\n",
      "[LightGBM] [Warning] Found boosting=goss. For backwards compatibility reasons, LightGBM interprets this as boosting=gbdt, data_sample_strategy=goss.To suppress this warning, set data_sample_strategy=goss instead.\n",
      "[LightGBM] [Info] Number of positive: 18734, number of negative: 211899\n",
      "[LightGBM] [Info] Auto-choosing col-wise multi-threading, the overhead of testing was 0.580252 seconds.\n",
      "You can set `force_col_wise=true` to remove the overhead.\n",
      "[LightGBM] [Info] Total Bins 71144\n",
      "[LightGBM] [Info] Number of data points in the train set: 230633, number of used features: 528\n",
      "[LightGBM] [Info] Using GOSS\n",
      "[LightGBM] [Warning] Found boosting=goss. For backwards compatibility reasons, LightGBM interprets this as boosting=gbdt, data_sample_strategy=goss.To suppress this warning, set data_sample_strategy=goss instead.\n",
      "[LightGBM] [Warning] Found whitespace in feature_names, replace with underlines\n",
      "[LightGBM] [Info] [binary:BoostFromScore]: pavg=0.500000 -> initscore=0.000000\n",
      "[LightGBM] [Info] Start training from score 0.000000\n",
      "Training until validation scores don't improve for 50 rounds\n",
      "Early stopping, best iteration is:\n",
      "[184]\tvalid_0's auc: 0.785047\tvalid_0's binary_logloss: 0.510358\n",
      "[LightGBM] [Warning] Found boosting=goss. For backwards compatibility reasons, LightGBM interprets this as boosting=gbdt, data_sample_strategy=goss.To suppress this warning, set data_sample_strategy=goss instead.\n",
      "[LightGBM] [Warning] Found whitespace in feature_names, replace with underlines\n",
      "[LightGBM] [Warning] Found boosting=goss. For backwards compatibility reasons, LightGBM interprets this as boosting=gbdt, data_sample_strategy=goss.To suppress this warning, set data_sample_strategy=goss instead.\n",
      "[LightGBM] [Info] Number of positive: 18565, number of negative: 212068\n",
      "[LightGBM] [Info] Auto-choosing col-wise multi-threading, the overhead of testing was 0.559852 seconds.\n",
      "You can set `force_col_wise=true` to remove the overhead.\n",
      "[LightGBM] [Info] Total Bins 71191\n",
      "[LightGBM] [Info] Number of data points in the train set: 230633, number of used features: 528\n",
      "[LightGBM] [Info] Using GOSS\n",
      "[LightGBM] [Warning] Found boosting=goss. For backwards compatibility reasons, LightGBM interprets this as boosting=gbdt, data_sample_strategy=goss.To suppress this warning, set data_sample_strategy=goss instead.\n",
      "[LightGBM] [Warning] Found whitespace in feature_names, replace with underlines\n",
      "[LightGBM] [Info] [binary:BoostFromScore]: pavg=0.500000 -> initscore=0.000000\n",
      "[LightGBM] [Info] Start training from score 0.000000\n",
      "Training until validation scores don't improve for 50 rounds\n",
      "Early stopping, best iteration is:\n",
      "[146]\tvalid_0's auc: 0.786255\tvalid_0's binary_logloss: 0.519405\n",
      "\n",
      "There are 0 features with 0.0 importance\n"
     ]
    }
   ],
   "source": [
    "third_round_zero_features, feature_importances = identify_zero_importance_features(df_train_without_corr_mv_zero_zero, df_train_labels)"
   ]
  },
  {
   "cell_type": "markdown",
   "metadata": {},
   "source": [
    "Il ne reste plus d'éléments d'importance nulle. Si nous voulons supprimer davantage de caractéristiques, nous devrons commencer par des caractéristiques dont l'importance n'est pas nulle. Pour ce faire, nous pourrions conserver suffisamment d'éléments pour tenir compte d'un pourcentage seuil d'importance, par exemple 95 %. À ce stade, conservons suffisamment de caractéristiques pour qu'elles représentent 95 % de l'importance. Là encore, il s'agit d'une décision arbitraire !"
   ]
  },
  {
   "cell_type": "markdown",
   "metadata": {},
   "source": [
    "Testons notre modèle en ne conservant que ces features."
   ]
  },
  {
   "cell_type": "code",
   "execution_count": 30,
   "metadata": {},
   "outputs": [
    {
     "data": {
      "text/html": [
       "<div>\n",
       "<style scoped>\n",
       "    .dataframe tbody tr th:only-of-type {\n",
       "        vertical-align: middle;\n",
       "    }\n",
       "\n",
       "    .dataframe tbody tr th {\n",
       "        vertical-align: top;\n",
       "    }\n",
       "\n",
       "    .dataframe thead th {\n",
       "        text-align: right;\n",
       "    }\n",
       "</style>\n",
       "<table border=\"1\" class=\"dataframe\">\n",
       "  <thead>\n",
       "    <tr style=\"text-align: right;\">\n",
       "      <th></th>\n",
       "      <th>feature</th>\n",
       "      <th>importance</th>\n",
       "    </tr>\n",
       "  </thead>\n",
       "  <tbody>\n",
       "    <tr>\n",
       "      <th>22</th>\n",
       "      <td>EXT_SOURCE_1</td>\n",
       "      <td>158.0</td>\n",
       "    </tr>\n",
       "    <tr>\n",
       "      <th>53</th>\n",
       "      <td>CREDIT_TERM</td>\n",
       "      <td>137.5</td>\n",
       "    </tr>\n",
       "    <tr>\n",
       "      <th>23</th>\n",
       "      <td>EXT_SOURCE_2</td>\n",
       "      <td>133.0</td>\n",
       "    </tr>\n",
       "    <tr>\n",
       "      <th>24</th>\n",
       "      <td>EXT_SOURCE_3</td>\n",
       "      <td>122.5</td>\n",
       "    </tr>\n",
       "    <tr>\n",
       "      <th>6</th>\n",
       "      <td>DAYS_EMPLOYED</td>\n",
       "      <td>100.0</td>\n",
       "    </tr>\n",
       "    <tr>\n",
       "      <th>5</th>\n",
       "      <td>DAYS_BIRTH</td>\n",
       "      <td>82.0</td>\n",
       "    </tr>\n",
       "    <tr>\n",
       "      <th>460</th>\n",
       "      <td>client_installments_AMT_PAYMENT_min_sum</td>\n",
       "      <td>79.0</td>\n",
       "    </tr>\n",
       "    <tr>\n",
       "      <th>3</th>\n",
       "      <td>AMT_ANNUITY</td>\n",
       "      <td>73.0</td>\n",
       "    </tr>\n",
       "    <tr>\n",
       "      <th>68</th>\n",
       "      <td>bureau_DAYS_CREDIT_max</td>\n",
       "      <td>55.0</td>\n",
       "    </tr>\n",
       "    <tr>\n",
       "      <th>72</th>\n",
       "      <td>bureau_DAYS_CREDIT_ENDDATE_max</td>\n",
       "      <td>52.5</td>\n",
       "    </tr>\n",
       "  </tbody>\n",
       "</table>\n",
       "</div>"
      ],
      "text/plain": [
       "                                     feature  importance\n",
       "22                              EXT_SOURCE_1       158.0\n",
       "53                               CREDIT_TERM       137.5\n",
       "23                              EXT_SOURCE_2       133.0\n",
       "24                              EXT_SOURCE_3       122.5\n",
       "6                              DAYS_EMPLOYED       100.0\n",
       "5                                 DAYS_BIRTH        82.0\n",
       "460  client_installments_AMT_PAYMENT_min_sum        79.0\n",
       "3                                AMT_ANNUITY        73.0\n",
       "68                    bureau_DAYS_CREDIT_max        55.0\n",
       "72            bureau_DAYS_CREDIT_ENDDATE_max        52.5"
      ]
     },
     "execution_count": 30,
     "metadata": {},
     "output_type": "execute_result"
    }
   ],
   "source": [
    "feature_importances.head(10)"
   ]
  },
  {
   "cell_type": "code",
   "execution_count": 31,
   "metadata": {},
   "outputs": [],
   "source": [
    "def plot_feature_importances(df, threshold = 0.95):\n",
    "    \"\"\"\n",
    "    Plots 15 most important features and the cumulative importance of features.\n",
    "    Prints the number of features needed to reach threshold cumulative importance.\n",
    "    \n",
    "    Parameters\n",
    "    --------\n",
    "    df : dataframe\n",
    "        Dataframe of feature importances. Columns must be feature and importance\n",
    "    threshold : float, default = 0.9\n",
    "        Threshold for prining information about cumulative importances\n",
    "        \n",
    "    Return\n",
    "    --------\n",
    "    df : dataframe\n",
    "        Dataframe ordered by feature importances with a normalized column (sums to 1)\n",
    "        and a cumulative importance column\n",
    "    \n",
    "    \"\"\"\n",
    "    \n",
    "    plt.rcParams['font.size'] = 18\n",
    "    \n",
    "    # Sort features according to importance\n",
    "    df = df.sort_values('importance', ascending = False).reset_index()\n",
    "    \n",
    "    # Normalize the feature importances to add up to one\n",
    "    df['importance_normalized'] = df['importance'] / df['importance'].sum()\n",
    "    df['cumulative_importance'] = np.cumsum(df['importance_normalized'])\n",
    "\n",
    "    # Make a horizontal bar chart of feature importances\n",
    "    plt.figure(figsize = (10, 6))\n",
    "    ax = plt.subplot()\n",
    "    \n",
    "    # Need to reverse the index to plot most important on top\n",
    "    ax.barh(list(reversed(list(df.index[:15]))), \n",
    "            df['importance_normalized'].head(15), \n",
    "            align = 'center', edgecolor = 'k')\n",
    "    \n",
    "    # Set the yticks and labels\n",
    "    ax.set_yticks(list(reversed(list(df.index[:15]))))\n",
    "    ax.set_yticklabels(df['feature'].head(15))\n",
    "    \n",
    "    # Plot labeling\n",
    "    plt.xlabel('Normalized Importance'); plt.title('Feature Importances')\n",
    "    plt.show()\n",
    "    \n",
    "    # Cumulative importance plot\n",
    "    plt.figure(figsize = (8, 6))\n",
    "    plt.plot(list(range(len(df))), df['cumulative_importance'], 'r-')\n",
    "    plt.xlabel('Number of Features'); plt.ylabel('Cumulative Importance'); \n",
    "    plt.title('Cumulative Feature Importance');\n",
    "    plt.show();\n",
    "    \n",
    "    importance_index = np.min(np.where(df['cumulative_importance'] > threshold))\n",
    "    print('%d features required for %0.2f of cumulative importance' % (importance_index + 1, threshold))\n",
    "    \n",
    "    return df"
   ]
  },
  {
   "cell_type": "code",
   "execution_count": 32,
   "metadata": {},
   "outputs": [
    {
     "data": {
      "image/png": "[encoded data removed]",
      "text/plain": [
       "<Figure size 1000x600 with 1 Axes>"
      ]
     },
     "metadata": {},
     "output_type": "display_data"
    },
    {
     "data": {
      "image/png": "[encoded data removed]",
      "text/plain": [
       "<Figure size 800x600 with 1 Axes>"
      ]
     },
     "metadata": {},
     "output_type": "display_data"
    },
    {
     "name": "stdout",
     "output_type": "stream",
     "text": [
      "348 features required for 0.95 of cumulative importance\n"
     ]
    }
   ],
   "source": [
    "norm_feature_importances = plot_feature_importances(feature_importances)"
   ]
  },
  {
   "cell_type": "markdown",
   "metadata": {},
   "source": [
    "## 4.4 - Sauvegarde d'un dataframe avec features représentant 95% de la feature importance cumulée"
   ]
  },
  {
   "cell_type": "code",
   "execution_count": 33,
   "metadata": {},
   "outputs": [],
   "source": [
    "# Threshold for cumulative importance\n",
    "threshold = 0.95\n",
    "\n",
    "# Extract the features to keep\n",
    "features_to_keep = list(norm_feature_importances[norm_feature_importances['cumulative_importance'] < threshold]['feature'])\n",
    "\n",
    "# Create new datasets with smaller features\n",
    "train_reduced = df_train_without_corr_mv_zero_zero[features_to_keep]\n",
    "test_reduced = df_test_without_corr_mv_zero_zero[features_to_keep]\n"
   ]
  },
  {
   "cell_type": "code",
   "execution_count": 34,
   "metadata": {},
   "outputs": [],
   "source": [
    "# Ajout de la target et des id clients\n",
    "train_reduced['TARGET'] = df_train_labels\n",
    "train_reduced['SK_ID_CURR'] = df_train_ids\n",
    "test_reduced['SK_ID_CURR'] = df_test_ids"
   ]
  },
  {
   "cell_type": "code",
   "execution_count": 35,
   "metadata": {},
   "outputs": [
    {
     "name": "stdout",
     "output_type": "stream",
     "text": [
      "Training shape:  (307511, 349)\n",
      "Testing shape:  (48744, 348)\n"
     ]
    }
   ],
   "source": [
    "print('Training shape: ', train_reduced.shape)\n",
    "print('Testing shape: ', test_reduced.shape)"
   ]
  },
  {
   "cell_type": "code",
   "execution_count": 36,
   "metadata": {},
   "outputs": [],
   "source": [
    "train_reduced.to_csv('train_reduced.csv', index=False)\n",
    "test_reduced.to_csv('test_reduced.csv', index=False)"
   ]
  },
  {
   "cell_type": "markdown",
   "metadata": {},
   "source": [
    "## 4.5 - Sauvegarde d'un dataframe avec les 15 premières features en terme d'importance"
   ]
  },
  {
   "cell_type": "code",
   "execution_count": 37,
   "metadata": {},
   "outputs": [
    {
     "data": {
      "text/html": [
       "<div>\n",
       "<style scoped>\n",
       "    .dataframe tbody tr th:only-of-type {\n",
       "        vertical-align: middle;\n",
       "    }\n",
       "\n",
       "    .dataframe tbody tr th {\n",
       "        vertical-align: top;\n",
       "    }\n",
       "\n",
       "    .dataframe thead th {\n",
       "        text-align: right;\n",
       "    }\n",
       "</style>\n",
       "<table border=\"1\" class=\"dataframe\">\n",
       "  <thead>\n",
       "    <tr style=\"text-align: right;\">\n",
       "      <th></th>\n",
       "      <th>feature</th>\n",
       "      <th>importance</th>\n",
       "    </tr>\n",
       "  </thead>\n",
       "  <tbody>\n",
       "    <tr>\n",
       "      <th>22</th>\n",
       "      <td>EXT_SOURCE_1</td>\n",
       "      <td>158.0</td>\n",
       "    </tr>\n",
       "    <tr>\n",
       "      <th>53</th>\n",
       "      <td>CREDIT_TERM</td>\n",
       "      <td>137.5</td>\n",
       "    </tr>\n",
       "    <tr>\n",
       "      <th>23</th>\n",
       "      <td>EXT_SOURCE_2</td>\n",
       "      <td>133.0</td>\n",
       "    </tr>\n",
       "    <tr>\n",
       "      <th>24</th>\n",
       "      <td>EXT_SOURCE_3</td>\n",
       "      <td>122.5</td>\n",
       "    </tr>\n",
       "    <tr>\n",
       "      <th>6</th>\n",
       "      <td>DAYS_EMPLOYED</td>\n",
       "      <td>100.0</td>\n",
       "    </tr>\n",
       "    <tr>\n",
       "      <th>5</th>\n",
       "      <td>DAYS_BIRTH</td>\n",
       "      <td>82.0</td>\n",
       "    </tr>\n",
       "    <tr>\n",
       "      <th>460</th>\n",
       "      <td>client_installments_AMT_PAYMENT_min_sum</td>\n",
       "      <td>79.0</td>\n",
       "    </tr>\n",
       "    <tr>\n",
       "      <th>3</th>\n",
       "      <td>AMT_ANNUITY</td>\n",
       "      <td>73.0</td>\n",
       "    </tr>\n",
       "    <tr>\n",
       "      <th>68</th>\n",
       "      <td>bureau_DAYS_CREDIT_max</td>\n",
       "      <td>55.0</td>\n",
       "    </tr>\n",
       "    <tr>\n",
       "      <th>72</th>\n",
       "      <td>bureau_DAYS_CREDIT_ENDDATE_max</td>\n",
       "      <td>52.5</td>\n",
       "    </tr>\n",
       "    <tr>\n",
       "      <th>369</th>\n",
       "      <td>client_cash_CNT_INSTALMENT_FUTURE_mean_max</td>\n",
       "      <td>51.5</td>\n",
       "    </tr>\n",
       "    <tr>\n",
       "      <th>9</th>\n",
       "      <td>OWN_CAR_AGE</td>\n",
       "      <td>48.0</td>\n",
       "    </tr>\n",
       "    <tr>\n",
       "      <th>88</th>\n",
       "      <td>bureau_AMT_CREDIT_SUM_DEBT_mean</td>\n",
       "      <td>45.0</td>\n",
       "    </tr>\n",
       "    <tr>\n",
       "      <th>2</th>\n",
       "      <td>AMT_CREDIT</td>\n",
       "      <td>42.5</td>\n",
       "    </tr>\n",
       "    <tr>\n",
       "      <th>8</th>\n",
       "      <td>DAYS_ID_PUBLISH</td>\n",
       "      <td>42.5</td>\n",
       "    </tr>\n",
       "  </tbody>\n",
       "</table>\n",
       "</div>"
      ],
      "text/plain": [
       "                                        feature  importance\n",
       "22                                 EXT_SOURCE_1       158.0\n",
       "53                                  CREDIT_TERM       137.5\n",
       "23                                 EXT_SOURCE_2       133.0\n",
       "24                                 EXT_SOURCE_3       122.5\n",
       "6                                 DAYS_EMPLOYED       100.0\n",
       "5                                    DAYS_BIRTH        82.0\n",
       "460     client_installments_AMT_PAYMENT_min_sum        79.0\n",
       "3                                   AMT_ANNUITY        73.0\n",
       "68                       bureau_DAYS_CREDIT_max        55.0\n",
       "72               bureau_DAYS_CREDIT_ENDDATE_max        52.5\n",
       "369  client_cash_CNT_INSTALMENT_FUTURE_mean_max        51.5\n",
       "9                                   OWN_CAR_AGE        48.0\n",
       "88              bureau_AMT_CREDIT_SUM_DEBT_mean        45.0\n",
       "2                                    AMT_CREDIT        42.5\n",
       "8                               DAYS_ID_PUBLISH        42.5"
      ]
     },
     "execution_count": 37,
     "metadata": {},
     "output_type": "execute_result"
    }
   ],
   "source": [
    "to_keep=feature_importances.sort_values(by='importance', ascending=False).iloc[:15]\n",
    "to_keep"
   ]
  },
  {
   "cell_type": "code",
   "execution_count": 38,
   "metadata": {},
   "outputs": [
    {
     "data": {
      "text/plain": [
       "['EXT_SOURCE_1',\n",
       " 'CREDIT_TERM',\n",
       " 'EXT_SOURCE_2',\n",
       " 'EXT_SOURCE_3',\n",
       " 'DAYS_EMPLOYED',\n",
       " 'DAYS_BIRTH',\n",
       " 'client_installments_AMT_PAYMENT_min_sum',\n",
       " 'AMT_ANNUITY',\n",
       " 'bureau_DAYS_CREDIT_max',\n",
       " 'bureau_DAYS_CREDIT_ENDDATE_max',\n",
       " 'client_cash_CNT_INSTALMENT_FUTURE_mean_max',\n",
       " 'OWN_CAR_AGE',\n",
       " 'bureau_AMT_CREDIT_SUM_DEBT_mean',\n",
       " 'AMT_CREDIT',\n",
       " 'DAYS_ID_PUBLISH']"
      ]
     },
     "execution_count": 38,
     "metadata": {},
     "output_type": "execute_result"
    }
   ],
   "source": [
    "features_to_keep_2=to_keep['feature'].tolist()\n",
    "features_to_keep_2"
   ]
  },
  {
   "cell_type": "code",
   "execution_count": 39,
   "metadata": {},
   "outputs": [],
   "source": [
    "# Create new datasets with smaller features\n",
    "train_small = df_train_without_corr_mv_zero_zero[features_to_keep_2]\n",
    "test_small = df_test_without_corr_mv_zero_zero[features_to_keep_2]\n"
   ]
  },
  {
   "cell_type": "code",
   "execution_count": 40,
   "metadata": {},
   "outputs": [],
   "source": [
    "train_small['TARGET'] = df_train_labels\n",
    "train_small['SK_ID_CURR'] = df_train_ids\n",
    "test_small['SK_ID_CURR'] = df_test_ids"
   ]
  },
  {
   "cell_type": "code",
   "execution_count": 41,
   "metadata": {},
   "outputs": [
    {
     "name": "stdout",
     "output_type": "stream",
     "text": [
      "Training shape:  (307511, 17)\n",
      "Testing shape:  (48744, 16)\n"
     ]
    }
   ],
   "source": [
    "print('Training shape: ', train_small.shape)\n",
    "print('Testing shape: ', test_small.shape)"
   ]
  },
  {
   "cell_type": "code",
   "execution_count": 42,
   "metadata": {},
   "outputs": [],
   "source": [
    "train_small.to_csv('train_small.csv', index = False)\n",
    "test_small.to_csv('test_small.csv', index = False)"
   ]
  }
 ],
 "metadata": {
  "kernelspec": {
   "display_name": "Python 3 (ipykernel)",
   "language": "python",
   "name": "python3"
  },
  "language_info": {
   "codemirror_mode": {
    "name": "ipython",
    "version": 3
   },
   "file_extension": ".py",
   "mimetype": "text/x-python",
   "name": "python",
   "nbconvert_exporter": "python",
   "pygments_lexer": "ipython3",
   "version": "3.11.7"
  }
 },
 "nbformat": 4,
 "nbformat_minor": 4
}
