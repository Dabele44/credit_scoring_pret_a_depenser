{
 "cells": [
  {
   "cell_type": "code",
   "execution_count": 2,
   "id": "142c8ac0-faa4-4a9a-bf4a-4d2d60c4dda4",
   "metadata": {
    "tags": []
   },
   "outputs": [
    {
     "name": "stdout",
     "output_type": "stream",
     "text": [
      "Requirement already satisfied: imbalanced-learn in /opt/conda/lib/python3.10/site-packages (0.11.0)\n",
      "Requirement already satisfied: numpy>=1.17.3 in /opt/conda/lib/python3.10/site-packages (from imbalanced-learn) (1.26.2)\n",
      "Requirement already satisfied: scipy>=1.5.0 in /opt/conda/lib/python3.10/site-packages (from imbalanced-learn) (1.11.4)\n",
      "Requirement already satisfied: scikit-learn>=1.0.2 in /opt/conda/lib/python3.10/site-packages (from imbalanced-learn) (1.3.2)\n",
      "Requirement already satisfied: joblib>=1.1.1 in /opt/conda/lib/python3.10/site-packages (from imbalanced-learn) (1.3.2)\n",
      "Requirement already satisfied: threadpoolctl>=2.0.0 in /opt/conda/lib/python3.10/site-packages (from imbalanced-learn) (2.2.0)\n",
      "\u001b[33mWARNING: Running pip as the 'root' user can result in broken permissions and conflicting behaviour with the system package manager. It is recommended to use a virtual environment instead: https://pip.pypa.io/warnings/venv\u001b[0m\u001b[33m\n",
      "\u001b[0m\n",
      "\u001b[1m[\u001b[0m\u001b[34;49mnotice\u001b[0m\u001b[1;39;49m]\u001b[0m\u001b[39;49m A new release of pip is available: \u001b[0m\u001b[31;49m23.3.1\u001b[0m\u001b[39;49m -> \u001b[0m\u001b[32;49m23.3.2\u001b[0m\n",
      "\u001b[1m[\u001b[0m\u001b[34;49mnotice\u001b[0m\u001b[1;39;49m]\u001b[0m\u001b[39;49m To update, run: \u001b[0m\u001b[32;49mpip install --upgrade pip\u001b[0m\n",
      "Note: you may need to restart the kernel to use updated packages.\n"
     ]
    }
   ],
   "source": [
    "pip install -U imbalanced-learn"
   ]
  },
  {
   "cell_type": "code",
   "execution_count": 3,
   "id": "c873c0f8-0103-4bd0-91f6-0e6ccc445333",
   "metadata": {
    "tags": []
   },
   "outputs": [],
   "source": [
    "import pandas as pd\n",
    "import numpy as np\n",
    "\n",
    "from sklearn.model_selection import train_test_split\n",
    "from sklearn.preprocessing import StandardScaler\n",
    "from sklearn.preprocessing import LabelEncoder\n",
    "from imblearn.over_sampling import RandomOverSampler, SMOTE\n",
    "from imblearn.under_sampling import RandomUnderSampler,  ClusterCentroids\n",
    "\n",
    "from imblearn.metrics import classification_report_imbalanced, geometric_mean_score\n",
    "from sklearn.metrics import f1_score\n",
    "from sklearn.svm import SVC\n",
    "from imblearn.combine import SMOTETomek\n",
    "from sklearn import metrics\n",
    "import warnings\n",
    "warnings.filterwarnings(\"ignore\")"
   ]
  },
  {
   "cell_type": "markdown",
   "id": "cb352aa8-3ef9-4b4e-8f7d-90482ac8fc26",
   "metadata": {},
   "source": [
    "Dans cet exercice nous utiliserons le jeu de données DCS de CBS"
   ]
  },
  {
   "cell_type": "code",
   "execution_count": 4,
   "id": "cbc88424-90a8-4f29-a854-b1484070f58a",
   "metadata": {
    "tags": []
   },
   "outputs": [
    {
     "data": {
      "text/html": [
       "<div>\n",
       "<style scoped>\n",
       "    .dataframe tbody tr th:only-of-type {\n",
       "        vertical-align: middle;\n",
       "    }\n",
       "\n",
       "    .dataframe tbody tr th {\n",
       "        vertical-align: top;\n",
       "    }\n",
       "\n",
       "    .dataframe thead th {\n",
       "        text-align: right;\n",
       "    }\n",
       "</style>\n",
       "<table border=\"1\" class=\"dataframe\">\n",
       "  <thead>\n",
       "    <tr style=\"text-align: right;\">\n",
       "      <th></th>\n",
       "      <th>Unnamed: 0</th>\n",
       "      <th>sold_inc_cta_mt</th>\n",
       "      <th>total_amount_spa_failed_12M</th>\n",
       "      <th>curr_reindex_property_val_amt</th>\n",
       "      <th>nb_total_refunding_12M</th>\n",
       "      <th>crd_mt_cum_curr_reindex_property_val_amt</th>\n",
       "      <th>Overdue_3_plus_within_12_month</th>\n",
       "    </tr>\n",
       "  </thead>\n",
       "  <tbody>\n",
       "    <tr>\n",
       "      <th>0</th>\n",
       "      <td>0</td>\n",
       "      <td>0</td>\n",
       "      <td>0</td>\n",
       "      <td>3</td>\n",
       "      <td>0</td>\n",
       "      <td>2</td>\n",
       "      <td>0</td>\n",
       "    </tr>\n",
       "    <tr>\n",
       "      <th>1</th>\n",
       "      <td>1</td>\n",
       "      <td>0</td>\n",
       "      <td>0</td>\n",
       "      <td>3</td>\n",
       "      <td>0</td>\n",
       "      <td>2</td>\n",
       "      <td>0</td>\n",
       "    </tr>\n",
       "    <tr>\n",
       "      <th>2</th>\n",
       "      <td>2</td>\n",
       "      <td>0</td>\n",
       "      <td>0</td>\n",
       "      <td>3</td>\n",
       "      <td>0</td>\n",
       "      <td>2</td>\n",
       "      <td>0</td>\n",
       "    </tr>\n",
       "    <tr>\n",
       "      <th>3</th>\n",
       "      <td>3</td>\n",
       "      <td>0</td>\n",
       "      <td>0</td>\n",
       "      <td>1</td>\n",
       "      <td>0</td>\n",
       "      <td>3</td>\n",
       "      <td>0</td>\n",
       "    </tr>\n",
       "    <tr>\n",
       "      <th>4</th>\n",
       "      <td>4</td>\n",
       "      <td>0</td>\n",
       "      <td>0</td>\n",
       "      <td>2</td>\n",
       "      <td>0</td>\n",
       "      <td>3</td>\n",
       "      <td>0</td>\n",
       "    </tr>\n",
       "  </tbody>\n",
       "</table>\n",
       "</div>"
      ],
      "text/plain": [
       "   Unnamed: 0  sold_inc_cta_mt  total_amount_spa_failed_12M  \\\n",
       "0           0                0                            0   \n",
       "1           1                0                            0   \n",
       "2           2                0                            0   \n",
       "3           3                0                            0   \n",
       "4           4                0                            0   \n",
       "\n",
       "   curr_reindex_property_val_amt  nb_total_refunding_12M  \\\n",
       "0                              3                       0   \n",
       "1                              3                       0   \n",
       "2                              3                       0   \n",
       "3                              1                       0   \n",
       "4                              2                       0   \n",
       "\n",
       "   crd_mt_cum_curr_reindex_property_val_amt  Overdue_3_plus_within_12_month  \n",
       "0                                         2                               0  \n",
       "1                                         2                               0  \n",
       "2                                         2                               0  \n",
       "3                                         3                               0  \n",
       "4                                         3                               0  "
      ]
     },
     "execution_count": 4,
     "metadata": {},
     "output_type": "execute_result"
    }
   ],
   "source": [
    "df = pd.read_csv('train_dcs.csv')\n",
    "df.head()\n"
   ]
  },
  {
   "cell_type": "code",
   "execution_count": 5,
   "id": "10d6b3de-cd97-4334-a67a-a658155da4ef",
   "metadata": {
    "tags": []
   },
   "outputs": [],
   "source": [
    "df=df.drop('Unnamed: 0', axis=1)"
   ]
  },
  {
   "cell_type": "code",
   "execution_count": 6,
   "id": "c7323565-6d38-4f61-9f89-d758d88c83e0",
   "metadata": {
    "tags": []
   },
   "outputs": [
    {
     "name": "stdout",
     "output_type": "stream",
     "text": [
      "<class 'pandas.core.frame.DataFrame'>\n",
      "RangeIndex: 24168 entries, 0 to 24167\n",
      "Data columns (total 6 columns):\n",
      " #   Column                                    Non-Null Count  Dtype\n",
      "---  ------                                    --------------  -----\n",
      " 0   sold_inc_cta_mt                           24168 non-null  int64\n",
      " 1   total_amount_spa_failed_12M               24168 non-null  int64\n",
      " 2   curr_reindex_property_val_amt             24168 non-null  int64\n",
      " 3   nb_total_refunding_12M                    24168 non-null  int64\n",
      " 4   crd_mt_cum_curr_reindex_property_val_amt  24168 non-null  int64\n",
      " 5   Overdue_3_plus_within_12_month            24168 non-null  int64\n",
      "dtypes: int64(6)\n",
      "memory usage: 1.1 MB\n"
     ]
    }
   ],
   "source": [
    "df.info()"
   ]
  },
  {
   "cell_type": "code",
   "execution_count": 7,
   "id": "2cebcb58-6159-4e7c-a2ce-d4a0c013fe67",
   "metadata": {
    "tags": []
   },
   "outputs": [
    {
     "data": {
      "text/plain": [
       "(24168, 6)"
      ]
     },
     "execution_count": 7,
     "metadata": {},
     "output_type": "execute_result"
    }
   ],
   "source": [
    "df.shape"
   ]
  },
  {
   "cell_type": "code",
   "execution_count": 8,
   "id": "312a90f1-b298-4b11-9251-8c8941088ce9",
   "metadata": {
    "tags": []
   },
   "outputs": [
    {
     "name": "stdout",
     "output_type": "stream",
     "text": [
      "**sold_inc_cta_mt** : \n",
      " 2 [0 1]\n",
      "**total_amount_spa_failed_12M** : \n",
      " 2 [0 1]\n",
      "**curr_reindex_property_val_amt** : \n",
      " 3 [3 1 2]\n",
      "**nb_total_refunding_12M** : \n",
      " 2 [0 1]\n",
      "**crd_mt_cum_curr_reindex_property_val_amt** : \n",
      " 3 [2 3 1]\n",
      "**Overdue_3_plus_within_12_month** : \n",
      " 2 [0 1]\n"
     ]
    }
   ],
   "source": [
    "for col in df.columns:\n",
    "    print(f\"**{col}** : \\n\", df[col].nunique(), df[col].unique())\n",
    " "
   ]
  },
  {
   "cell_type": "code",
   "execution_count": 9,
   "id": "d7af8fb7-462f-4bbc-995a-0322145303a6",
   "metadata": {
    "tags": []
   },
   "outputs": [],
   "source": [
    "X=df.drop('Overdue_3_plus_within_12_month', axis=1)\n",
    "y=df['Overdue_3_plus_within_12_month']"
   ]
  },
  {
   "cell_type": "code",
   "execution_count": 10,
   "id": "8eecbfb1-73fd-474e-bfd8-22edb06fa001",
   "metadata": {
    "tags": []
   },
   "outputs": [
    {
     "data": {
      "text/plain": [
       "((24168, 5), (24168,))"
      ]
     },
     "execution_count": 10,
     "metadata": {},
     "output_type": "execute_result"
    }
   ],
   "source": [
    "X.shape, y.shape"
   ]
  },
  {
   "cell_type": "code",
   "execution_count": 11,
   "id": "1a9b604f-1f56-4c39-b52a-8e1d9e3e332c",
   "metadata": {},
   "outputs": [],
   "source": [
    "X_train, X_test, y_train, y_test = train_test_split(X, y, test_size=0.30, random_state=42)"
   ]
  },
  {
   "cell_type": "code",
   "execution_count": 12,
   "id": "7a83a072-d70b-420e-9d9a-9e567c8045f1",
   "metadata": {},
   "outputs": [],
   "source": [
    "X_train=pd.get_dummies(X_train)\n",
    "X_test=pd.get_dummies(X_test)"
   ]
  },
  {
   "cell_type": "code",
   "execution_count": 13,
   "id": "a7a9716e-7b7c-4c3b-a6e9-32043df29852",
   "metadata": {
    "tags": []
   },
   "outputs": [],
   "source": [
    "from sklearn.preprocessing import RobustScaler\n",
    "scaler = RobustScaler()\n",
    "X_train = scaler.fit_transform(X_train)\n",
    "X_test = scaler.transform(X_test)\n"
   ]
  },
  {
   "cell_type": "code",
   "execution_count": 14,
   "id": "c284e946-d5dc-46f2-9e52-e247fef6e1de",
   "metadata": {
    "tags": []
   },
   "outputs": [
    {
     "data": {
      "text/plain": [
       "Overdue_3_plus_within_12_month\n",
       "0    0.985642\n",
       "1    0.014358\n",
       "Name: proportion, dtype: float64"
      ]
     },
     "execution_count": 14,
     "metadata": {},
     "output_type": "execute_result"
    }
   ],
   "source": [
    "# Distribution de la target\n",
    "y.value_counts(normalize=True)\n"
   ]
  },
  {
   "cell_type": "markdown",
   "id": "531e59d2-5a66-4eb9-a497-94dc93376b48",
   "metadata": {},
   "source": [
    "Dans notre base clients, 1.4% des clients sont défaillants, ce qui signifie qu'un modèle naïf qui prédit que tous les clients ne sont pas défaillants, obtiendrait déjà un score de 98.6 % d'accuracy."
   ]
  },
  {
   "cell_type": "markdown",
   "id": "d5b8b6f6-3a7d-456c-90d0-7f1a804df85e",
   "metadata": {},
   "source": [
    "# 1 - 1er modèle : Régression Logistique"
   ]
  },
  {
   "cell_type": "code",
   "execution_count": 15,
   "id": "bdb9e15a-fca1-453d-8b20-674da026ee18",
   "metadata": {
    "tags": []
   },
   "outputs": [],
   "source": [
    "from sklearn.linear_model import LogisticRegression\n",
    "lr = LogisticRegression()"
   ]
  },
  {
   "cell_type": "code",
   "execution_count": 16,
   "id": "447fdd20-dcec-4b52-a7f0-04b9b60c4248",
   "metadata": {
    "tags": []
   },
   "outputs": [
    {
     "data": {
      "text/plain": [
       "0.9840022065921942"
      ]
     },
     "execution_count": 16,
     "metadata": {},
     "output_type": "execute_result"
    }
   ],
   "source": [
    "lr.fit(X_train, y_train)\n",
    "lr.score(X_test, y_test)"
   ]
  },
  {
   "cell_type": "markdown",
   "id": "91491345-ee2c-47b9-9db8-f0c7f6df5a33",
   "metadata": {},
   "source": [
    "Notre premier modèle, très simple, obtient 98.4% de bonnes prédictions sur le test.\n",
    "Ce qui ne signifie pas que sur 100 clients défaillants, 98 seront identifiés comme tels par le modèle."
   ]
  },
  {
   "cell_type": "code",
   "execution_count": 17,
   "id": "b5c204c2-c3c9-4052-a404-21b3cd91beae",
   "metadata": {
    "tags": []
   },
   "outputs": [
    {
     "data": {
      "text/html": [
       "<div>\n",
       "<style scoped>\n",
       "    .dataframe tbody tr th:only-of-type {\n",
       "        vertical-align: middle;\n",
       "    }\n",
       "\n",
       "    .dataframe tbody tr th {\n",
       "        vertical-align: top;\n",
       "    }\n",
       "\n",
       "    .dataframe thead th {\n",
       "        text-align: right;\n",
       "    }\n",
       "</style>\n",
       "<table border=\"1\" class=\"dataframe\">\n",
       "  <thead>\n",
       "    <tr style=\"text-align: right;\">\n",
       "      <th>Classe prédite</th>\n",
       "      <th>0</th>\n",
       "      <th>1</th>\n",
       "    </tr>\n",
       "    <tr>\n",
       "      <th>Classe réelle</th>\n",
       "      <th></th>\n",
       "      <th></th>\n",
       "    </tr>\n",
       "  </thead>\n",
       "  <tbody>\n",
       "    <tr>\n",
       "      <th>0</th>\n",
       "      <td>7127</td>\n",
       "      <td>6</td>\n",
       "    </tr>\n",
       "    <tr>\n",
       "      <th>1</th>\n",
       "      <td>110</td>\n",
       "      <td>8</td>\n",
       "    </tr>\n",
       "  </tbody>\n",
       "</table>\n",
       "</div>"
      ],
      "text/plain": [
       "Classe prédite     0  1\n",
       "Classe réelle          \n",
       "0               7127  6\n",
       "1                110  8"
      ]
     },
     "execution_count": 17,
     "metadata": {},
     "output_type": "execute_result"
    }
   ],
   "source": [
    "y_pred_lr = lr.predict(X_test)\n",
    "cm = pd.crosstab(y_test, y_pred_lr, rownames=['Classe réelle'], colnames=['Classe prédite'])\n",
    "cm\n"
   ]
  },
  {
   "cell_type": "markdown",
   "id": "a0b9c091-0ba2-440e-a0ae-b41dc438bb6c",
   "metadata": {},
   "source": [
    "La LR n'a détecté que 8 clients défaillants sur les 118 que contient l'échantillon de test"
   ]
  },
  {
   "cell_type": "code",
   "execution_count": 18,
   "id": "9a51d8da-42d2-431b-bb0c-6f0aa4e7c60e",
   "metadata": {
    "tags": []
   },
   "outputs": [
    {
     "name": "stdout",
     "output_type": "stream",
     "text": [
      "              precision    recall  f1-score   support\n",
      "\n",
      "           0       0.98      1.00      0.99      7133\n",
      "           1       0.57      0.07      0.12       118\n",
      "\n",
      "    accuracy                           0.98      7251\n",
      "   macro avg       0.78      0.53      0.56      7251\n",
      "weighted avg       0.98      0.98      0.98      7251\n",
      "\n"
     ]
    }
   ],
   "source": [
    "from sklearn.metrics import classification_report\n",
    "print(classification_report(y_test, y_pred_lr))"
   ]
  },
  {
   "cell_type": "markdown",
   "id": "721a7662-5199-48cb-8452-2f9ef83c6782",
   "metadata": {},
   "source": [
    "- La précision mesure la proportion d'exemples positifs parmi les exemples que le modèle a prédits comme positifs.\n",
    "La formule de la précision est donnée par : Precision=TP/TP+FP\n",
    "La précision est importante lorsque les faux positifs sont coûteux. Par exemple, dans un test médical, où un faux positif peut entraîner des traitements inutiles.\n",
    "\n",
    "- Le rappel mesure la proportion d'exemples positifs que le modèle a correctement prédits parmi tous les exemples positifs réels.\n",
    "La formule du rappel est donnée par : Rappel= TP/TP+FN\n",
    "Le rappel est important lorsque les faux négatifs sont coûteux. Par exemple, dans un test médical, où un faux négatif peut signifier qu'une maladie est manquée.\n"
   ]
  },
  {
   "cell_type": "markdown",
   "id": "c5633ca0-d2fc-464b-bdba-8004ffa52c03",
   "metadata": {},
   "source": [
    "Dans notre cas, le rappel de la classe 1 est de 7% ce qui indique que le modèle n'a prédit que 7% des défaillants et 100% de ceux qui ne le sont pas"
   ]
  },
  {
   "cell_type": "markdown",
   "id": "3f283e21-b3a7-49b7-8093-9b5c8e7af49a",
   "metadata": {
    "tags": []
   },
   "source": [
    "## AUC et courbe ROC"
   ]
  },
  {
   "cell_type": "code",
   "execution_count": 19,
   "id": "9a161976-f44d-464b-b4a6-646114d77b8e",
   "metadata": {},
   "outputs": [
    {
     "data": {
      "text/plain": [
       "array([[0.99361611, 0.00638389],\n",
       "       [0.99361611, 0.00638389],\n",
       "       [0.99217947, 0.00782053],\n",
       "       ...,\n",
       "       [0.99217947, 0.00782053],\n",
       "       [0.99361611, 0.00638389],\n",
       "       [0.99361611, 0.00638389]])"
      ]
     },
     "execution_count": 19,
     "metadata": {},
     "output_type": "execute_result"
    }
   ],
   "source": [
    "# Créer un tableau probs contenant les probabilités pour les individus de X_test d'appartenir à la classe 0 ou la classe 1.\n",
    "probs_lr=lr.predict_proba(X_test)\n",
    "probs_lr"
   ]
  },
  {
   "cell_type": "code",
   "execution_count": 20,
   "id": "e66577b4-8ce2-4ea2-9927-be4574dfbfc0",
   "metadata": {},
   "outputs": [],
   "source": [
    "from sklearn.metrics import roc_curve\n",
    "fpr_lr, tpr_lr, seuils=roc_curve(y_test, probs_lr[:,1], pos_label=1)"
   ]
  },
  {
   "cell_type": "code",
   "execution_count": 21,
   "id": "79ff2506-010d-4fd6-ad09-de6f7c31d58c",
   "metadata": {
    "tags": []
   },
   "outputs": [
    {
     "data": {
      "text/plain": [
       "0.7905984835343962"
      ]
     },
     "execution_count": 21,
     "metadata": {},
     "output_type": "execute_result"
    }
   ],
   "source": [
    "from sklearn.metrics import auc\n",
    "roc_auc_lr=auc(fpr_lr, tpr_lr)\n",
    "roc_auc_lr"
   ]
  },
  {
   "cell_type": "code",
   "execution_count": 22,
   "id": "9a071333-684a-4e51-a54b-415e597953dc",
   "metadata": {
    "tags": []
   },
   "outputs": [
    {
     "data": {
      "image/png": "[encoded data removed]",
      "text/plain": [
       "<Figure size 500x500 with 1 Axes>"
      ]
     },
     "metadata": {},
     "output_type": "display_data"
    }
   ],
   "source": [
    "import matplotlib.pyplot as plt\n",
    "\n",
    "plt.figure(figsize=(5,5))\n",
    "\n",
    "plt.plot(fpr_lr, tpr_lr, color='orange', lw=2, label='final_model (auc = %0.2f)' % roc_auc_lr)\n",
    "plt.plot([0, 1], [0, 1], color='navy', lw=2, linestyle='--', label='Aléatoire (auc = 0.5)')\n",
    "\n",
    "plt.xlim([0.0, 1.0])\n",
    "plt.ylim([0.0, 1.05])\n",
    "\n",
    "plt.xlabel('Taux faux positifs')\n",
    "plt.ylabel('Taux vrais positifs')\n",
    "\n",
    "plt.title('Courbe ROC sur le test')\n",
    "plt.legend(loc=\"lower right\")\n",
    "plt.show();"
   ]
  },
  {
   "cell_type": "markdown",
   "id": "6a59632c-0502-4a80-ac6f-e165a9ee6a28",
   "metadata": {},
   "source": [
    "Le modèle parvient à distinguer les classes dans 79% des cas "
   ]
  },
  {
   "cell_type": "markdown",
   "id": "db0a8395-cad7-45f6-9261-6bcae78ec518",
   "metadata": {},
   "source": [
    "La courbe ROC est utile pour évaluer la capacité du modèle à discriminer entre les classes, mais elle ne prend pas en compte la distribution des classes dans l'ensemble de données. "
   ]
  },
  {
   "cell_type": "markdown",
   "id": "c8930374-0c91-4002-942a-0f090708f8a0",
   "metadata": {},
   "source": [
    "Des méthodes dites de rééchantillonnage permettent de modifier les données avant d'entraîner le modèle dessus.\n",
    "Ces méthodes se divisent en 2 groupes principaux : les méthodes de sur-échantillonnage (Oversampling) et de sous-échantillonnage (Undersampling)."
   ]
  },
  {
   "cell_type": "markdown",
   "id": "5f2b7a66-bdef-45cb-aede-ea73e518d362",
   "metadata": {},
   "source": [
    "# A - Méthodes Data Level"
   ]
  },
  {
   "cell_type": "markdown",
   "id": "cdf97100-7d51-40ba-99b6-950d2d8171ec",
   "metadata": {},
   "source": [
    "## A1 - L'oversampling"
   ]
  },
  {
   "cell_type": "markdown",
   "id": "b9ed1ef4-955e-4581-aa49-c405c1af6d97",
   "metadata": {},
   "source": [
    "### A1.1 - RandomOverSampler"
   ]
  },
  {
   "cell_type": "code",
   "execution_count": 23,
   "id": "391bb9fe-cd34-4d04-8fc2-4bfbeb390050",
   "metadata": {
    "tags": []
   },
   "outputs": [
    {
     "name": "stdout",
     "output_type": "stream",
     "text": [
      "Overdue_3_plus_within_12_month\n",
      "0    16688\n",
      "1    16688\n",
      "Name: count, dtype: int64\n"
     ]
    }
   ],
   "source": [
    "\n",
    "ros = RandomOverSampler()\n",
    "X_ro, y_ro = ros.fit_resample(X_train, y_train)\n",
    "print(y_ro.value_counts())\n"
   ]
  },
  {
   "cell_type": "code",
   "execution_count": 24,
   "id": "5f6c9191-019e-4dd6-bd0f-cddd50950716",
   "metadata": {},
   "outputs": [
    {
     "data": {
      "text/html": [
       "<div>\n",
       "<style scoped>\n",
       "    .dataframe tbody tr th:only-of-type {\n",
       "        vertical-align: middle;\n",
       "    }\n",
       "\n",
       "    .dataframe tbody tr th {\n",
       "        vertical-align: top;\n",
       "    }\n",
       "\n",
       "    .dataframe thead th {\n",
       "        text-align: right;\n",
       "    }\n",
       "</style>\n",
       "<table border=\"1\" class=\"dataframe\">\n",
       "  <thead>\n",
       "    <tr style=\"text-align: right;\">\n",
       "      <th>Classe prédite</th>\n",
       "      <th>0</th>\n",
       "      <th>1</th>\n",
       "    </tr>\n",
       "    <tr>\n",
       "      <th>Classe réelle</th>\n",
       "      <th></th>\n",
       "      <th></th>\n",
       "    </tr>\n",
       "  </thead>\n",
       "  <tbody>\n",
       "    <tr>\n",
       "      <th>0</th>\n",
       "      <td>6927</td>\n",
       "      <td>206</td>\n",
       "    </tr>\n",
       "    <tr>\n",
       "      <th>1</th>\n",
       "      <td>62</td>\n",
       "      <td>56</td>\n",
       "    </tr>\n",
       "  </tbody>\n",
       "</table>\n",
       "</div>"
      ],
      "text/plain": [
       "Classe prédite     0    1\n",
       "Classe réelle            \n",
       "0               6927  206\n",
       "1                 62   56"
      ]
     },
     "execution_count": 24,
     "metadata": {},
     "output_type": "execute_result"
    }
   ],
   "source": [
    "lr.fit(X_ro, y_ro)\n",
    "y_pred_ros = lr.predict(X_test)\n",
    "cm = pd.crosstab(y_test, y_pred_ros, rownames=['Classe réelle'], colnames=['Classe prédite'])\n",
    "cm"
   ]
  },
  {
   "cell_type": "markdown",
   "id": "d0e3cc75-4552-4608-b7f5-a8082c93eecb",
   "metadata": {},
   "source": [
    "La LR a détecté 56 des 118 clients défaillants que contient l'échantillon de test. C'est mieux"
   ]
  },
  {
   "cell_type": "code",
   "execution_count": 25,
   "id": "97bc1972-a44e-40df-8b1c-93530c85dfe0",
   "metadata": {
    "tags": []
   },
   "outputs": [
    {
     "name": "stdout",
     "output_type": "stream",
     "text": [
      "              precision    recall  f1-score   support\n",
      "\n",
      "           0       0.99      0.97      0.98      7133\n",
      "           1       0.21      0.47      0.29       118\n",
      "\n",
      "    accuracy                           0.96      7251\n",
      "   macro avg       0.60      0.72      0.64      7251\n",
      "weighted avg       0.98      0.96      0.97      7251\n",
      "\n"
     ]
    }
   ],
   "source": [
    "print(classification_report(y_test, y_pred_ros))"
   ]
  },
  {
   "cell_type": "markdown",
   "id": "b933cefb-2fd1-48a1-abcd-f876220ce237",
   "metadata": {},
   "source": [
    "L'accuracy descend à 96% mais le modèle parvient maintenant à détecter 47% des défaillants"
   ]
  },
  {
   "cell_type": "code",
   "execution_count": 26,
   "id": "269a7395-1c8f-49b2-8e9d-8d341c113418",
   "metadata": {},
   "outputs": [
    {
     "data": {
      "text/plain": [
       "0.7906293736203418"
      ]
     },
     "execution_count": 26,
     "metadata": {},
     "output_type": "execute_result"
    }
   ],
   "source": [
    "probs_ros=lr.predict_proba(X_test)\n",
    "fpr_ros, tpr_ros, seuils=roc_curve(y_test, probs_ros[:,1], pos_label=1)\n",
    "roc_auc_ros=auc(fpr_ros, tpr_ros)\n",
    "roc_auc_ros"
   ]
  },
  {
   "cell_type": "markdown",
   "id": "d464e895-73d2-43aa-8126-2a3d2e500f28",
   "metadata": {},
   "source": [
    "### A1.2 - SMOTE"
   ]
  },
  {
   "cell_type": "code",
   "execution_count": 27,
   "id": "f06c06a6-a5b0-4231-b55c-586eff65ff98",
   "metadata": {},
   "outputs": [
    {
     "name": "stdout",
     "output_type": "stream",
     "text": [
      "Overdue_3_plus_within_12_month\n",
      "0    16688\n",
      "1    16688\n",
      "Name: count, dtype: int64\n"
     ]
    }
   ],
   "source": [
    "sm = SMOTE()\n",
    "X_sm, y_sm = sm.fit_resample(X_train, y_train)\n",
    "print(y_sm.value_counts())"
   ]
  },
  {
   "cell_type": "code",
   "execution_count": 28,
   "id": "b8d9686e-0325-4257-8656-8c58bbad2ff1",
   "metadata": {
    "tags": []
   },
   "outputs": [
    {
     "data": {
      "text/html": [
       "<div>\n",
       "<style scoped>\n",
       "    .dataframe tbody tr th:only-of-type {\n",
       "        vertical-align: middle;\n",
       "    }\n",
       "\n",
       "    .dataframe tbody tr th {\n",
       "        vertical-align: top;\n",
       "    }\n",
       "\n",
       "    .dataframe thead th {\n",
       "        text-align: right;\n",
       "    }\n",
       "</style>\n",
       "<table border=\"1\" class=\"dataframe\">\n",
       "  <thead>\n",
       "    <tr style=\"text-align: right;\">\n",
       "      <th>Classe prédite</th>\n",
       "      <th>0</th>\n",
       "      <th>1</th>\n",
       "    </tr>\n",
       "    <tr>\n",
       "      <th>Classe réelle</th>\n",
       "      <th></th>\n",
       "      <th></th>\n",
       "    </tr>\n",
       "  </thead>\n",
       "  <tbody>\n",
       "    <tr>\n",
       "      <th>0</th>\n",
       "      <td>6927</td>\n",
       "      <td>206</td>\n",
       "    </tr>\n",
       "    <tr>\n",
       "      <th>1</th>\n",
       "      <td>62</td>\n",
       "      <td>56</td>\n",
       "    </tr>\n",
       "  </tbody>\n",
       "</table>\n",
       "</div>"
      ],
      "text/plain": [
       "Classe prédite     0    1\n",
       "Classe réelle            \n",
       "0               6927  206\n",
       "1                 62   56"
      ]
     },
     "execution_count": 28,
     "metadata": {},
     "output_type": "execute_result"
    }
   ],
   "source": [
    "lr.fit(X_sm, y_sm)\n",
    "y_pred_smote = lr.predict(X_test)\n",
    "cm = pd.crosstab(y_test, y_pred_smote, rownames=['Classe réelle'], colnames=['Classe prédite'])\n",
    "cm\n"
   ]
  },
  {
   "cell_type": "code",
   "execution_count": 29,
   "id": "096a02ee-0e89-4a90-a783-a54537f14e12",
   "metadata": {
    "tags": []
   },
   "outputs": [
    {
     "name": "stdout",
     "output_type": "stream",
     "text": [
      "              precision    recall  f1-score   support\n",
      "\n",
      "           0       0.99      0.97      0.98      7133\n",
      "           1       0.21      0.47      0.29       118\n",
      "\n",
      "    accuracy                           0.96      7251\n",
      "   macro avg       0.60      0.72      0.64      7251\n",
      "weighted avg       0.98      0.96      0.97      7251\n",
      "\n"
     ]
    }
   ],
   "source": [
    "print(classification_report(y_test, y_pred_smote))"
   ]
  },
  {
   "cell_type": "code",
   "execution_count": 30,
   "id": "d9c6c861-0df0-49e6-95cc-bccb8fe50e55",
   "metadata": {},
   "outputs": [
    {
     "data": {
      "text/plain": [
       "0.790561653047307"
      ]
     },
     "execution_count": 30,
     "metadata": {},
     "output_type": "execute_result"
    }
   ],
   "source": [
    "probs_smote=lr.predict_proba(X_test)\n",
    "fpr_smote, tpr_smote, seuils=roc_curve(y_test, probs_smote[:,1], pos_label=1)\n",
    "roc_auc_smote=auc(fpr_smote, tpr_smote)\n",
    "roc_auc_smote"
   ]
  },
  {
   "cell_type": "markdown",
   "id": "e22f18ef-ad95-4e0b-a39b-3a312090e9f3",
   "metadata": {},
   "source": [
    "## A2 - L'Undersampling"
   ]
  },
  {
   "cell_type": "markdown",
   "id": "5ca3f90d-c9d1-4288-a70b-3c3dad43ea42",
   "metadata": {},
   "source": [
    "### A2.1 - RandomUnderSampler"
   ]
  },
  {
   "cell_type": "code",
   "execution_count": 31,
   "id": "26e7d7bb-1995-46ab-94e0-ea5070cb9c31",
   "metadata": {},
   "outputs": [
    {
     "name": "stdout",
     "output_type": "stream",
     "text": [
      "Overdue_3_plus_within_12_month\n",
      "0    229\n",
      "1    229\n",
      "Name: count, dtype: int64\n"
     ]
    }
   ],
   "source": [
    "RUS=RandomUnderSampler()\n",
    "X_ru, y_ru=RUS.fit_resample(X_train, y_train)\n",
    "print(y_ru.value_counts())"
   ]
  },
  {
   "cell_type": "code",
   "execution_count": 32,
   "id": "83f746be-daf7-48ca-9c2d-21bb9a62d23a",
   "metadata": {
    "tags": []
   },
   "outputs": [
    {
     "data": {
      "text/html": [
       "<div>\n",
       "<style scoped>\n",
       "    .dataframe tbody tr th:only-of-type {\n",
       "        vertical-align: middle;\n",
       "    }\n",
       "\n",
       "    .dataframe tbody tr th {\n",
       "        vertical-align: top;\n",
       "    }\n",
       "\n",
       "    .dataframe thead th {\n",
       "        text-align: right;\n",
       "    }\n",
       "</style>\n",
       "<table border=\"1\" class=\"dataframe\">\n",
       "  <thead>\n",
       "    <tr style=\"text-align: right;\">\n",
       "      <th>Classe prédite</th>\n",
       "      <th>0</th>\n",
       "      <th>1</th>\n",
       "    </tr>\n",
       "    <tr>\n",
       "      <th>Classe réelle</th>\n",
       "      <th></th>\n",
       "      <th></th>\n",
       "    </tr>\n",
       "  </thead>\n",
       "  <tbody>\n",
       "    <tr>\n",
       "      <th>0</th>\n",
       "      <td>6927</td>\n",
       "      <td>206</td>\n",
       "    </tr>\n",
       "    <tr>\n",
       "      <th>1</th>\n",
       "      <td>62</td>\n",
       "      <td>56</td>\n",
       "    </tr>\n",
       "  </tbody>\n",
       "</table>\n",
       "</div>"
      ],
      "text/plain": [
       "Classe prédite     0    1\n",
       "Classe réelle            \n",
       "0               6927  206\n",
       "1                 62   56"
      ]
     },
     "execution_count": 32,
     "metadata": {},
     "output_type": "execute_result"
    }
   ],
   "source": [
    "lr.fit(X_ru, y_ru)\n",
    "y_pred_rus = lr.predict(X_test)\n",
    "cm = pd.crosstab(y_test, y_pred_rus, rownames=['Classe réelle'], colnames=['Classe prédite'])\n",
    "cm\n"
   ]
  },
  {
   "cell_type": "code",
   "execution_count": 33,
   "id": "f8006531-723f-4fc4-a479-c130ed430d88",
   "metadata": {
    "tags": []
   },
   "outputs": [
    {
     "name": "stdout",
     "output_type": "stream",
     "text": [
      "              precision    recall  f1-score   support\n",
      "\n",
      "           0       0.99      0.97      0.98      7133\n",
      "           1       0.21      0.47      0.29       118\n",
      "\n",
      "    accuracy                           0.96      7251\n",
      "   macro avg       0.60      0.72      0.64      7251\n",
      "weighted avg       0.98      0.96      0.97      7251\n",
      "\n"
     ]
    }
   ],
   "source": [
    "print(classification_report(y_test, y_pred_rus))"
   ]
  },
  {
   "cell_type": "code",
   "execution_count": 34,
   "id": "edd9a998-12dd-4b7b-bb75-01aa4cead328",
   "metadata": {},
   "outputs": [
    {
     "data": {
      "text/plain": [
       "0.7892191223888967"
      ]
     },
     "execution_count": 34,
     "metadata": {},
     "output_type": "execute_result"
    }
   ],
   "source": [
    "probs_rus=lr.predict_proba(X_test)\n",
    "fpr_rus, tpr_rus, seuils=roc_curve(y_test, probs_rus[:,1], pos_label=1)\n",
    "roc_auc_rus=auc(fpr_rus, tpr_rus)\n",
    "roc_auc_rus"
   ]
  },
  {
   "cell_type": "markdown",
   "id": "fa79d876-9f09-44d5-8c82-f842167c3c0c",
   "metadata": {},
   "source": [
    "### A2.2 - ClusterCentroids"
   ]
  },
  {
   "cell_type": "code",
   "execution_count": 35,
   "id": "1bf2c577-8017-401a-8589-dc72e16176ba",
   "metadata": {},
   "outputs": [
    {
     "name": "stderr",
     "output_type": "stream",
     "text": [
      "Exception ignored on calling ctypes callback function: <function _ThreadpoolInfo._find_modules_with_dl_iterate_phdr.<locals>.match_module_callback at 0x7f6ce92797e0>\n",
      "Traceback (most recent call last):\n",
      "  File \"/opt/conda/lib/python3.10/site-packages/threadpoolctl.py\", line 400, in match_module_callback\n",
      "    self._make_module_from_path(filepath)\n",
      "  File \"/opt/conda/lib/python3.10/site-packages/threadpoolctl.py\", line 515, in _make_module_from_path\n",
      "    module = module_class(filepath, prefix, user_api, internal_api)\n",
      "  File \"/opt/conda/lib/python3.10/site-packages/threadpoolctl.py\", line 606, in __init__\n",
      "    self.version = self.get_version()\n",
      "  File \"/opt/conda/lib/python3.10/site-packages/threadpoolctl.py\", line 646, in get_version\n",
      "    config = get_config().split()\n",
      "AttributeError: 'NoneType' object has no attribute 'split'\n",
      "Exception ignored on calling ctypes callback function: <function _ThreadpoolInfo._find_modules_with_dl_iterate_phdr.<locals>.match_module_callback at 0x7f6c9e409240>\n",
      "Traceback (most recent call last):\n",
      "  File \"/opt/conda/lib/python3.10/site-packages/threadpoolctl.py\", line 400, in match_module_callback\n",
      "    self._make_module_from_path(filepath)\n",
      "  File \"/opt/conda/lib/python3.10/site-packages/threadpoolctl.py\", line 515, in _make_module_from_path\n",
      "    module = module_class(filepath, prefix, user_api, internal_api)\n",
      "  File \"/opt/conda/lib/python3.10/site-packages/threadpoolctl.py\", line 606, in __init__\n",
      "    self.version = self.get_version()\n",
      "  File \"/opt/conda/lib/python3.10/site-packages/threadpoolctl.py\", line 646, in get_version\n",
      "    config = get_config().split()\n",
      "AttributeError: 'NoneType' object has no attribute 'split'\n",
      "Exception ignored on calling ctypes callback function: <function _ThreadpoolInfo._find_modules_with_dl_iterate_phdr.<locals>.match_module_callback at 0x7f6c9e409240>\n",
      "Traceback (most recent call last):\n",
      "  File \"/opt/conda/lib/python3.10/site-packages/threadpoolctl.py\", line 400, in match_module_callback\n",
      "    self._make_module_from_path(filepath)\n",
      "  File \"/opt/conda/lib/python3.10/site-packages/threadpoolctl.py\", line 515, in _make_module_from_path\n",
      "    module = module_class(filepath, prefix, user_api, internal_api)\n",
      "  File \"/opt/conda/lib/python3.10/site-packages/threadpoolctl.py\", line 606, in __init__\n",
      "    self.version = self.get_version()\n",
      "  File \"/opt/conda/lib/python3.10/site-packages/threadpoolctl.py\", line 646, in get_version\n",
      "    config = get_config().split()\n",
      "AttributeError: 'NoneType' object has no attribute 'split'\n",
      "Exception ignored on calling ctypes callback function: <function _ThreadpoolInfo._find_modules_with_dl_iterate_phdr.<locals>.match_module_callback at 0x7f6c9e409240>\n",
      "Traceback (most recent call last):\n",
      "  File \"/opt/conda/lib/python3.10/site-packages/threadpoolctl.py\", line 400, in match_module_callback\n",
      "    self._make_module_from_path(filepath)\n",
      "  File \"/opt/conda/lib/python3.10/site-packages/threadpoolctl.py\", line 515, in _make_module_from_path\n",
      "    module = module_class(filepath, prefix, user_api, internal_api)\n",
      "  File \"/opt/conda/lib/python3.10/site-packages/threadpoolctl.py\", line 606, in __init__\n",
      "    self.version = self.get_version()\n",
      "  File \"/opt/conda/lib/python3.10/site-packages/threadpoolctl.py\", line 646, in get_version\n",
      "    config = get_config().split()\n",
      "AttributeError: 'NoneType' object has no attribute 'split'\n",
      "Exception ignored on calling ctypes callback function: <function _ThreadpoolInfo._find_modules_with_dl_iterate_phdr.<locals>.match_module_callback at 0x7f6ce92797e0>\n",
      "Traceback (most recent call last):\n",
      "  File \"/opt/conda/lib/python3.10/site-packages/threadpoolctl.py\", line 400, in match_module_callback\n",
      "    self._make_module_from_path(filepath)\n",
      "  File \"/opt/conda/lib/python3.10/site-packages/threadpoolctl.py\", line 515, in _make_module_from_path\n",
      "    module = module_class(filepath, prefix, user_api, internal_api)\n",
      "  File \"/opt/conda/lib/python3.10/site-packages/threadpoolctl.py\", line 606, in __init__\n",
      "    self.version = self.get_version()\n",
      "  File \"/opt/conda/lib/python3.10/site-packages/threadpoolctl.py\", line 646, in get_version\n",
      "    config = get_config().split()\n",
      "AttributeError: 'NoneType' object has no attribute 'split'\n",
      "Exception ignored on calling ctypes callback function: <function _ThreadpoolInfo._find_modules_with_dl_iterate_phdr.<locals>.match_module_callback at 0x7f6ce92797e0>\n",
      "Traceback (most recent call last):\n",
      "  File \"/opt/conda/lib/python3.10/site-packages/threadpoolctl.py\", line 400, in match_module_callback\n",
      "    self._make_module_from_path(filepath)\n",
      "  File \"/opt/conda/lib/python3.10/site-packages/threadpoolctl.py\", line 515, in _make_module_from_path\n",
      "    module = module_class(filepath, prefix, user_api, internal_api)\n",
      "  File \"/opt/conda/lib/python3.10/site-packages/threadpoolctl.py\", line 606, in __init__\n",
      "    self.version = self.get_version()\n",
      "  File \"/opt/conda/lib/python3.10/site-packages/threadpoolctl.py\", line 646, in get_version\n",
      "    config = get_config().split()\n",
      "AttributeError: 'NoneType' object has no attribute 'split'\n",
      "Exception ignored on calling ctypes callback function: <function _ThreadpoolInfo._find_modules_with_dl_iterate_phdr.<locals>.match_module_callback at 0x7f6ce92797e0>\n",
      "Traceback (most recent call last):\n",
      "  File \"/opt/conda/lib/python3.10/site-packages/threadpoolctl.py\", line 400, in match_module_callback\n",
      "    self._make_module_from_path(filepath)\n",
      "  File \"/opt/conda/lib/python3.10/site-packages/threadpoolctl.py\", line 515, in _make_module_from_path\n",
      "    module = module_class(filepath, prefix, user_api, internal_api)\n",
      "  File \"/opt/conda/lib/python3.10/site-packages/threadpoolctl.py\", line 606, in __init__\n",
      "    self.version = self.get_version()\n",
      "  File \"/opt/conda/lib/python3.10/site-packages/threadpoolctl.py\", line 646, in get_version\n",
      "    config = get_config().split()\n",
      "AttributeError: 'NoneType' object has no attribute 'split'\n",
      "Exception ignored on calling ctypes callback function: <function _ThreadpoolInfo._find_modules_with_dl_iterate_phdr.<locals>.match_module_callback at 0x7f6ce92797e0>\n",
      "Traceback (most recent call last):\n",
      "  File \"/opt/conda/lib/python3.10/site-packages/threadpoolctl.py\", line 400, in match_module_callback\n",
      "    self._make_module_from_path(filepath)\n",
      "  File \"/opt/conda/lib/python3.10/site-packages/threadpoolctl.py\", line 515, in _make_module_from_path\n",
      "    module = module_class(filepath, prefix, user_api, internal_api)\n",
      "  File \"/opt/conda/lib/python3.10/site-packages/threadpoolctl.py\", line 606, in __init__\n",
      "    self.version = self.get_version()\n",
      "  File \"/opt/conda/lib/python3.10/site-packages/threadpoolctl.py\", line 646, in get_version\n",
      "    config = get_config().split()\n",
      "AttributeError: 'NoneType' object has no attribute 'split'\n",
      "Exception ignored on calling ctypes callback function: <function _ThreadpoolInfo._find_modules_with_dl_iterate_phdr.<locals>.match_module_callback at 0x7f6ce92797e0>\n",
      "Traceback (most recent call last):\n",
      "  File \"/opt/conda/lib/python3.10/site-packages/threadpoolctl.py\", line 400, in match_module_callback\n",
      "    self._make_module_from_path(filepath)\n",
      "  File \"/opt/conda/lib/python3.10/site-packages/threadpoolctl.py\", line 515, in _make_module_from_path\n",
      "    module = module_class(filepath, prefix, user_api, internal_api)\n",
      "  File \"/opt/conda/lib/python3.10/site-packages/threadpoolctl.py\", line 606, in __init__\n",
      "    self.version = self.get_version()\n",
      "  File \"/opt/conda/lib/python3.10/site-packages/threadpoolctl.py\", line 646, in get_version\n",
      "    config = get_config().split()\n",
      "AttributeError: 'NoneType' object has no attribute 'split'\n",
      "Exception ignored on calling ctypes callback function: <function _ThreadpoolInfo._find_modules_with_dl_iterate_phdr.<locals>.match_module_callback at 0x7f6ce92797e0>\n",
      "Traceback (most recent call last):\n",
      "  File \"/opt/conda/lib/python3.10/site-packages/threadpoolctl.py\", line 400, in match_module_callback\n",
      "    self._make_module_from_path(filepath)\n",
      "  File \"/opt/conda/lib/python3.10/site-packages/threadpoolctl.py\", line 515, in _make_module_from_path\n",
      "    module = module_class(filepath, prefix, user_api, internal_api)\n",
      "  File \"/opt/conda/lib/python3.10/site-packages/threadpoolctl.py\", line 606, in __init__\n",
      "    self.version = self.get_version()\n",
      "  File \"/opt/conda/lib/python3.10/site-packages/threadpoolctl.py\", line 646, in get_version\n",
      "    config = get_config().split()\n",
      "AttributeError: 'NoneType' object has no attribute 'split'\n"
     ]
    },
    {
     "name": "stdout",
     "output_type": "stream",
     "text": [
      "Overdue_3_plus_within_12_month\n",
      "0    229\n",
      "1    229\n",
      "Name: count, dtype: int64\n"
     ]
    }
   ],
   "source": [
    "CC = ClusterCentroids()\n",
    "X_cc, y_cc = CC.fit_resample(X_train, y_train)\n",
    "print(y_cc.value_counts())"
   ]
  },
  {
   "cell_type": "code",
   "execution_count": 36,
   "id": "3c53b72c-e619-4169-841e-1e9083df7b89",
   "metadata": {
    "tags": []
   },
   "outputs": [
    {
     "data": {
      "text/html": [
       "<div>\n",
       "<style scoped>\n",
       "    .dataframe tbody tr th:only-of-type {\n",
       "        vertical-align: middle;\n",
       "    }\n",
       "\n",
       "    .dataframe tbody tr th {\n",
       "        vertical-align: top;\n",
       "    }\n",
       "\n",
       "    .dataframe thead th {\n",
       "        text-align: right;\n",
       "    }\n",
       "</style>\n",
       "<table border=\"1\" class=\"dataframe\">\n",
       "  <thead>\n",
       "    <tr style=\"text-align: right;\">\n",
       "      <th>Classe prédite</th>\n",
       "      <th>0</th>\n",
       "      <th>1</th>\n",
       "    </tr>\n",
       "    <tr>\n",
       "      <th>Classe réelle</th>\n",
       "      <th></th>\n",
       "      <th></th>\n",
       "    </tr>\n",
       "  </thead>\n",
       "  <tbody>\n",
       "    <tr>\n",
       "      <th>0</th>\n",
       "      <td>3396</td>\n",
       "      <td>3737</td>\n",
       "    </tr>\n",
       "    <tr>\n",
       "      <th>1</th>\n",
       "      <td>26</td>\n",
       "      <td>92</td>\n",
       "    </tr>\n",
       "  </tbody>\n",
       "</table>\n",
       "</div>"
      ],
      "text/plain": [
       "Classe prédite     0     1\n",
       "Classe réelle             \n",
       "0               3396  3737\n",
       "1                 26    92"
      ]
     },
     "execution_count": 36,
     "metadata": {},
     "output_type": "execute_result"
    }
   ],
   "source": [
    "lr.fit(X_cc, y_cc)\n",
    "\n",
    "y_pred_cc = lr.predict(X_test)\n",
    "cm = pd.crosstab(y_test, y_pred_cc, rownames=['Classe réelle'], colnames=['Classe prédite'])\n",
    "cm\n"
   ]
  },
  {
   "cell_type": "code",
   "execution_count": 37,
   "id": "5fc12e17-4018-4c62-8a58-676f0e3a9d68",
   "metadata": {
    "tags": []
   },
   "outputs": [
    {
     "name": "stdout",
     "output_type": "stream",
     "text": [
      "              precision    recall  f1-score   support\n",
      "\n",
      "           0       0.99      0.48      0.64      7133\n",
      "           1       0.02      0.78      0.05       118\n",
      "\n",
      "    accuracy                           0.48      7251\n",
      "   macro avg       0.51      0.63      0.35      7251\n",
      "weighted avg       0.98      0.48      0.63      7251\n",
      "\n"
     ]
    }
   ],
   "source": [
    "print(classification_report(y_test, y_pred_cc))"
   ]
  },
  {
   "cell_type": "code",
   "execution_count": 38,
   "id": "9fabb0a4-d55b-4c97-9bdf-c15f3cb4add9",
   "metadata": {},
   "outputs": [
    {
     "data": {
      "text/plain": [
       "0.7027542075861298"
      ]
     },
     "execution_count": 38,
     "metadata": {},
     "output_type": "execute_result"
    }
   ],
   "source": [
    "probs_cc=lr.predict_proba(X_test)\n",
    "fpr_cc, tpr_cc, seuils=roc_curve(y_test, probs_cc[:,1], pos_label=1)\n",
    "roc_auc_cc=auc(fpr_cc, tpr_cc)\n",
    "roc_auc_cc"
   ]
  },
  {
   "cell_type": "markdown",
   "id": "4f2e177c-1d37-4bb8-aba3-164f8bdefda3",
   "metadata": {},
   "source": [
    "### A2.3 - Tomek Link"
   ]
  },
  {
   "cell_type": "code",
   "execution_count": 39,
   "id": "0034f657-f3a8-4766-aa74-323da4ce8889",
   "metadata": {},
   "outputs": [],
   "source": [
    "from imblearn.under_sampling import TomekLinks\n",
    "trans = TomekLinks()\n",
    "X_resampled, y_resampled = trans.fit_resample(X_train, y_train)\n"
   ]
  },
  {
   "cell_type": "code",
   "execution_count": 40,
   "id": "d6f784ca-2b1f-4360-99cd-4373eaf49612",
   "metadata": {},
   "outputs": [
    {
     "data": {
      "text/html": [
       "<div>\n",
       "<style scoped>\n",
       "    .dataframe tbody tr th:only-of-type {\n",
       "        vertical-align: middle;\n",
       "    }\n",
       "\n",
       "    .dataframe tbody tr th {\n",
       "        vertical-align: top;\n",
       "    }\n",
       "\n",
       "    .dataframe thead th {\n",
       "        text-align: right;\n",
       "    }\n",
       "</style>\n",
       "<table border=\"1\" class=\"dataframe\">\n",
       "  <thead>\n",
       "    <tr style=\"text-align: right;\">\n",
       "      <th>Classe prédite</th>\n",
       "      <th>0</th>\n",
       "      <th>1</th>\n",
       "    </tr>\n",
       "    <tr>\n",
       "      <th>Classe réelle</th>\n",
       "      <th></th>\n",
       "      <th></th>\n",
       "    </tr>\n",
       "  </thead>\n",
       "  <tbody>\n",
       "    <tr>\n",
       "      <th>0</th>\n",
       "      <td>7127</td>\n",
       "      <td>6</td>\n",
       "    </tr>\n",
       "    <tr>\n",
       "      <th>1</th>\n",
       "      <td>110</td>\n",
       "      <td>8</td>\n",
       "    </tr>\n",
       "  </tbody>\n",
       "</table>\n",
       "</div>"
      ],
      "text/plain": [
       "Classe prédite     0  1\n",
       "Classe réelle          \n",
       "0               7127  6\n",
       "1                110  8"
      ]
     },
     "execution_count": 40,
     "metadata": {},
     "output_type": "execute_result"
    }
   ],
   "source": [
    "lr.fit(X_resampled, y_resampled)\n",
    "y_pred_tl = lr.predict(X_test)\n",
    "cm = pd.crosstab(y_test, y_pred_tl, rownames=['Classe réelle'], colnames=['Classe prédite'])\n",
    "cm"
   ]
  },
  {
   "cell_type": "code",
   "execution_count": 41,
   "id": "d66be137-0970-4a45-ba56-cb77cc026de4",
   "metadata": {},
   "outputs": [
    {
     "name": "stdout",
     "output_type": "stream",
     "text": [
      "              precision    recall  f1-score   support\n",
      "\n",
      "           0       0.98      1.00      0.99      7133\n",
      "           1       0.57      0.07      0.12       118\n",
      "\n",
      "    accuracy                           0.98      7251\n",
      "   macro avg       0.78      0.53      0.56      7251\n",
      "weighted avg       0.98      0.98      0.98      7251\n",
      "\n"
     ]
    }
   ],
   "source": [
    "print(classification_report(y_test, y_pred_tl))"
   ]
  },
  {
   "cell_type": "code",
   "execution_count": 42,
   "id": "667042d6-962f-4792-bbea-174348ec4f6d",
   "metadata": {},
   "outputs": [
    {
     "data": {
      "text/plain": [
       "0.7906388782621714"
      ]
     },
     "execution_count": 42,
     "metadata": {},
     "output_type": "execute_result"
    }
   ],
   "source": [
    "probs_tl=lr.predict_proba(X_test)\n",
    "fpr_tl, tpr_tl, seuils=roc_curve(y_test, probs_tl[:,1], pos_label=1)\n",
    "roc_auc_tl=auc(fpr_tl, tpr_tl)\n",
    "roc_auc_tl"
   ]
  },
  {
   "cell_type": "markdown",
   "id": "f9af6845-2a77-48e8-a0cf-a38b5a85e676",
   "metadata": {},
   "source": [
    "## A3 - Combinaison de Smote et Tomek"
   ]
  },
  {
   "cell_type": "code",
   "execution_count": 43,
   "id": "a6859a98-ee88-4219-9f35-69b7d825a57c",
   "metadata": {},
   "outputs": [
    {
     "name": "stdout",
     "output_type": "stream",
     "text": [
      "Overdue_3_plus_within_12_month\n",
      "0    16688\n",
      "1    16688\n",
      "Name: count, dtype: int64\n"
     ]
    }
   ],
   "source": [
    "SMT= SMOTETomek()\n",
    "X_SMT, y_SMT=SMT.fit_resample(X_train, y_train)\n",
    "print(y_SMT.value_counts())"
   ]
  },
  {
   "cell_type": "code",
   "execution_count": 44,
   "id": "53493b58-30ab-4cdb-8970-7d52061027a5",
   "metadata": {},
   "outputs": [
    {
     "data": {
      "text/html": [
       "<div>\n",
       "<style scoped>\n",
       "    .dataframe tbody tr th:only-of-type {\n",
       "        vertical-align: middle;\n",
       "    }\n",
       "\n",
       "    .dataframe tbody tr th {\n",
       "        vertical-align: top;\n",
       "    }\n",
       "\n",
       "    .dataframe thead th {\n",
       "        text-align: right;\n",
       "    }\n",
       "</style>\n",
       "<table border=\"1\" class=\"dataframe\">\n",
       "  <thead>\n",
       "    <tr style=\"text-align: right;\">\n",
       "      <th>Classe prédite</th>\n",
       "      <th>0</th>\n",
       "      <th>1</th>\n",
       "    </tr>\n",
       "    <tr>\n",
       "      <th>Classe réelle</th>\n",
       "      <th></th>\n",
       "      <th></th>\n",
       "    </tr>\n",
       "  </thead>\n",
       "  <tbody>\n",
       "    <tr>\n",
       "      <th>0</th>\n",
       "      <td>6927</td>\n",
       "      <td>206</td>\n",
       "    </tr>\n",
       "    <tr>\n",
       "      <th>1</th>\n",
       "      <td>62</td>\n",
       "      <td>56</td>\n",
       "    </tr>\n",
       "  </tbody>\n",
       "</table>\n",
       "</div>"
      ],
      "text/plain": [
       "Classe prédite     0    1\n",
       "Classe réelle            \n",
       "0               6927  206\n",
       "1                 62   56"
      ]
     },
     "execution_count": 44,
     "metadata": {},
     "output_type": "execute_result"
    }
   ],
   "source": [
    "lr.fit(X_SMT, y_SMT)\n",
    "y_pred_smtk = lr.predict(X_test)\n",
    "cm = pd.crosstab(y_test, y_pred_smtk, rownames=['Classe réelle'], colnames=['Classe prédite'])\n",
    "cm"
   ]
  },
  {
   "cell_type": "code",
   "execution_count": 45,
   "id": "089889fd-42bf-4230-85ff-1ce2cb47d335",
   "metadata": {},
   "outputs": [
    {
     "name": "stdout",
     "output_type": "stream",
     "text": [
      "              precision    recall  f1-score   support\n",
      "\n",
      "           0       0.99      0.97      0.98      7133\n",
      "           1       0.21      0.47      0.29       118\n",
      "\n",
      "    accuracy                           0.96      7251\n",
      "   macro avg       0.60      0.72      0.64      7251\n",
      "weighted avg       0.98      0.96      0.97      7251\n",
      "\n"
     ]
    }
   ],
   "source": [
    "print(classification_report(y_test, y_pred_smtk))"
   ]
  },
  {
   "cell_type": "code",
   "execution_count": 46,
   "id": "48c0fb17-5e48-445d-b739-7718aa66ce6f",
   "metadata": {},
   "outputs": [
    {
     "data": {
      "text/plain": [
       "0.7906293736203418"
      ]
     },
     "execution_count": 46,
     "metadata": {},
     "output_type": "execute_result"
    }
   ],
   "source": [
    "probs_smtk=lr.predict_proba(X_test)\n",
    "fpr_smtk, tpr_smtk, seuils=roc_curve(y_test, probs_smtk[:,1], pos_label=1)\n",
    "roc_auc_smtk=auc(fpr_smtk, tpr_smtk)\n",
    "roc_auc_smtk"
   ]
  },
  {
   "cell_type": "markdown",
   "id": "950f804d-4200-4e98-892e-6addddbf7588",
   "metadata": {},
   "source": [
    "# B - Méthodes Algorithme Level"
   ]
  },
  {
   "cell_type": "markdown",
   "id": "cc4e064d-1864-41b2-aac6-7cfd08b566a2",
   "metadata": {},
   "source": [
    "## B1 - Apprentissage sensible aux coûts"
   ]
  },
  {
   "cell_type": "code",
   "execution_count": 47,
   "id": "b26a7531-2fe8-44df-906b-da036ac2c6cf",
   "metadata": {
    "tags": []
   },
   "outputs": [],
   "source": [
    "lr=LogisticRegression(class_weight='balanced')\n",
    "lr.fit(X_train, y_train)\n",
    "y_pred_cw=lr.predict(X_test)"
   ]
  },
  {
   "cell_type": "code",
   "execution_count": 48,
   "id": "11f37d33-e3fb-4e75-b933-90ba00aebddc",
   "metadata": {
    "tags": []
   },
   "outputs": [
    {
     "data": {
      "text/html": [
       "<div>\n",
       "<style scoped>\n",
       "    .dataframe tbody tr th:only-of-type {\n",
       "        vertical-align: middle;\n",
       "    }\n",
       "\n",
       "    .dataframe tbody tr th {\n",
       "        vertical-align: top;\n",
       "    }\n",
       "\n",
       "    .dataframe thead th {\n",
       "        text-align: right;\n",
       "    }\n",
       "</style>\n",
       "<table border=\"1\" class=\"dataframe\">\n",
       "  <thead>\n",
       "    <tr style=\"text-align: right;\">\n",
       "      <th>Classe prédite</th>\n",
       "      <th>0</th>\n",
       "      <th>1</th>\n",
       "    </tr>\n",
       "    <tr>\n",
       "      <th>Classe réelle</th>\n",
       "      <th></th>\n",
       "      <th></th>\n",
       "    </tr>\n",
       "  </thead>\n",
       "  <tbody>\n",
       "    <tr>\n",
       "      <th>0</th>\n",
       "      <td>6927</td>\n",
       "      <td>206</td>\n",
       "    </tr>\n",
       "    <tr>\n",
       "      <th>1</th>\n",
       "      <td>62</td>\n",
       "      <td>56</td>\n",
       "    </tr>\n",
       "  </tbody>\n",
       "</table>\n",
       "</div>"
      ],
      "text/plain": [
       "Classe prédite     0    1\n",
       "Classe réelle            \n",
       "0               6927  206\n",
       "1                 62   56"
      ]
     },
     "execution_count": 48,
     "metadata": {},
     "output_type": "execute_result"
    }
   ],
   "source": [
    "cm = pd.crosstab(y_test, y_pred_cw, rownames=['Classe réelle'], colnames=['Classe prédite'])\n",
    "cm\n"
   ]
  },
  {
   "cell_type": "code",
   "execution_count": 49,
   "id": "ffda7781-4c49-4790-9678-e003c6c5f5e8",
   "metadata": {},
   "outputs": [
    {
     "name": "stdout",
     "output_type": "stream",
     "text": [
      "              precision    recall  f1-score   support\n",
      "\n",
      "           0       0.99      0.97      0.98      7133\n",
      "           1       0.21      0.47      0.29       118\n",
      "\n",
      "    accuracy                           0.96      7251\n",
      "   macro avg       0.60      0.72      0.64      7251\n",
      "weighted avg       0.98      0.96      0.97      7251\n",
      "\n"
     ]
    }
   ],
   "source": [
    "print(classification_report(y_test, y_pred_cw))"
   ]
  },
  {
   "cell_type": "code",
   "execution_count": 50,
   "id": "399cd52f-3720-4c93-b372-512be7ab6bed",
   "metadata": {},
   "outputs": [
    {
     "data": {
      "text/plain": [
       "0.7906174928180549"
      ]
     },
     "execution_count": 50,
     "metadata": {},
     "output_type": "execute_result"
    }
   ],
   "source": [
    "probs_cw=lr.predict_proba(X_test)\n",
    "fpr_cw, tpr_cw, seuils=roc_curve(y_test, probs_cw[:,1], pos_label=1)\n",
    "roc_auc_cw=auc(fpr_cw, tpr_cw)\n",
    "roc_auc_cw"
   ]
  },
  {
   "cell_type": "markdown",
   "id": "40a6a16a-b2da-48a8-b44d-1da00e39430d",
   "metadata": {},
   "source": [
    "Cette méthode permet de prédire 47% des défaillants et 97% des non-défaillants"
   ]
  },
  {
   "cell_type": "markdown",
   "id": "d662361e-c4ff-4afe-bf32-c13bd80e5688",
   "metadata": {},
   "source": [
    "## B2 - BalancedClassifier"
   ]
  },
  {
   "cell_type": "markdown",
   "id": "ce076871-2dcf-47aa-bb0b-fe67704ef635",
   "metadata": {},
   "source": [
    "### B2.1 - BalancedRandomForestClassifier"
   ]
  },
  {
   "cell_type": "code",
   "execution_count": 51,
   "id": "2b456a6e-dba2-432e-816d-b34d97fbe286",
   "metadata": {
    "tags": []
   },
   "outputs": [
    {
     "data": {
      "text/html": [
       "<div>\n",
       "<style scoped>\n",
       "    .dataframe tbody tr th:only-of-type {\n",
       "        vertical-align: middle;\n",
       "    }\n",
       "\n",
       "    .dataframe tbody tr th {\n",
       "        vertical-align: top;\n",
       "    }\n",
       "\n",
       "    .dataframe thead th {\n",
       "        text-align: right;\n",
       "    }\n",
       "</style>\n",
       "<table border=\"1\" class=\"dataframe\">\n",
       "  <thead>\n",
       "    <tr style=\"text-align: right;\">\n",
       "      <th>Classe prédite</th>\n",
       "      <th>0</th>\n",
       "      <th>1</th>\n",
       "    </tr>\n",
       "    <tr>\n",
       "      <th>Classe réelle</th>\n",
       "      <th></th>\n",
       "      <th></th>\n",
       "    </tr>\n",
       "  </thead>\n",
       "  <tbody>\n",
       "    <tr>\n",
       "      <th>0</th>\n",
       "      <td>6268</td>\n",
       "      <td>865</td>\n",
       "    </tr>\n",
       "    <tr>\n",
       "      <th>1</th>\n",
       "      <td>48</td>\n",
       "      <td>70</td>\n",
       "    </tr>\n",
       "  </tbody>\n",
       "</table>\n",
       "</div>"
      ],
      "text/plain": [
       "Classe prédite     0    1\n",
       "Classe réelle            \n",
       "0               6268  865\n",
       "1                 48   70"
      ]
     },
     "execution_count": 51,
     "metadata": {},
     "output_type": "execute_result"
    }
   ],
   "source": [
    "from imblearn.ensemble import BalancedRandomForestClassifier\n",
    "BRFC=BalancedRandomForestClassifier()\n",
    "BRFC.fit(X_train, y_train)\n",
    "y_pred_BRFC=BRFC.predict(X_test)\n",
    "cm=pd.crosstab(y_test, y_pred_BRFC, rownames=[\"Classe réelle\"], colnames=[\"Classe prédite\"])\n",
    "cm"
   ]
  },
  {
   "cell_type": "code",
   "execution_count": 52,
   "id": "8b887a62-b9e4-4426-b7a8-e79dc47257a9",
   "metadata": {
    "tags": []
   },
   "outputs": [
    {
     "name": "stdout",
     "output_type": "stream",
     "text": [
      "              precision    recall  f1-score   support\n",
      "\n",
      "           0       0.99      0.88      0.93      7133\n",
      "           1       0.07      0.59      0.13       118\n",
      "\n",
      "    accuracy                           0.87      7251\n",
      "   macro avg       0.53      0.74      0.53      7251\n",
      "weighted avg       0.98      0.87      0.92      7251\n",
      "\n"
     ]
    }
   ],
   "source": [
    "print(classification_report(y_test, y_pred_BRFC))"
   ]
  },
  {
   "cell_type": "code",
   "execution_count": 53,
   "id": "6bd13dad-4f93-4b32-887f-fdadb5a5197a",
   "metadata": {},
   "outputs": [
    {
     "data": {
      "text/plain": [
       "0.7809607767193303"
      ]
     },
     "execution_count": 53,
     "metadata": {},
     "output_type": "execute_result"
    }
   ],
   "source": [
    "probs_BRFC=BRFC.predict_proba(X_test)\n",
    "fpr_BRFC, tpr_BRFC, seuils=roc_curve(y_test, probs_BRFC[:,1], pos_label=1)\n",
    "roc_auc_BRFC=auc(fpr_BRFC, tpr_BRFC)\n",
    "roc_auc_BRFC"
   ]
  },
  {
   "cell_type": "markdown",
   "id": "21105be4-9023-4046-96a1-a47f6151eead",
   "metadata": {},
   "source": [
    "### B2.2 - RUSBoostClassifier"
   ]
  },
  {
   "cell_type": "code",
   "execution_count": 54,
   "id": "6c7192a6-ca66-49a2-b5ff-b177c3504971",
   "metadata": {},
   "outputs": [
    {
     "data": {
      "text/html": [
       "<div>\n",
       "<style scoped>\n",
       "    .dataframe tbody tr th:only-of-type {\n",
       "        vertical-align: middle;\n",
       "    }\n",
       "\n",
       "    .dataframe tbody tr th {\n",
       "        vertical-align: top;\n",
       "    }\n",
       "\n",
       "    .dataframe thead th {\n",
       "        text-align: right;\n",
       "    }\n",
       "</style>\n",
       "<table border=\"1\" class=\"dataframe\">\n",
       "  <thead>\n",
       "    <tr style=\"text-align: right;\">\n",
       "      <th>Classe prédite</th>\n",
       "      <th>0</th>\n",
       "      <th>1</th>\n",
       "    </tr>\n",
       "    <tr>\n",
       "      <th>Classe réelle</th>\n",
       "      <th></th>\n",
       "      <th></th>\n",
       "    </tr>\n",
       "  </thead>\n",
       "  <tbody>\n",
       "    <tr>\n",
       "      <th>0</th>\n",
       "      <td>6927</td>\n",
       "      <td>206</td>\n",
       "    </tr>\n",
       "    <tr>\n",
       "      <th>1</th>\n",
       "      <td>62</td>\n",
       "      <td>56</td>\n",
       "    </tr>\n",
       "  </tbody>\n",
       "</table>\n",
       "</div>"
      ],
      "text/plain": [
       "Classe prédite     0    1\n",
       "Classe réelle            \n",
       "0               6927  206\n",
       "1                 62   56"
      ]
     },
     "execution_count": 54,
     "metadata": {},
     "output_type": "execute_result"
    }
   ],
   "source": [
    "from imblearn.ensemble import RUSBoostClassifier\n",
    "rusbc = RUSBoostClassifier()\n",
    "rusbc.fit(X_train, y_train)\n",
    "y_pred_rusbc=rusbc.predict(X_test)\n",
    "cm=pd.crosstab(y_test, y_pred_rusbc, rownames=[\"Classe réelle\"], colnames=[\"Classe prédite\"])\n",
    "cm"
   ]
  },
  {
   "cell_type": "code",
   "execution_count": 55,
   "id": "e836e0fd-82c8-4344-9ae9-7c5bf86c7eec",
   "metadata": {},
   "outputs": [
    {
     "name": "stdout",
     "output_type": "stream",
     "text": [
      "              precision    recall  f1-score   support\n",
      "\n",
      "           0       0.99      0.97      0.98      7133\n",
      "           1       0.21      0.47      0.29       118\n",
      "\n",
      "    accuracy                           0.96      7251\n",
      "   macro avg       0.60      0.72      0.64      7251\n",
      "weighted avg       0.98      0.96      0.97      7251\n",
      "\n"
     ]
    }
   ],
   "source": [
    "print(classification_report(y_test, y_pred_rusbc))"
   ]
  },
  {
   "cell_type": "code",
   "execution_count": 56,
   "id": "3f7c9629-704e-43f7-9998-bb4af24c0946",
   "metadata": {},
   "outputs": [
    {
     "data": {
      "text/plain": [
       "0.7523322014889022"
      ]
     },
     "execution_count": 56,
     "metadata": {},
     "output_type": "execute_result"
    }
   ],
   "source": [
    "probs_rusbc=rusbc.predict_proba(X_test)\n",
    "fpr_rusbc, tpr_rusbc, seuils=roc_curve(y_test, probs_rusbc[:,1], pos_label=1)\n",
    "roc_auc_rusbc=auc(fpr_rusbc, tpr_rusbc)\n",
    "roc_auc_rusbc"
   ]
  },
  {
   "cell_type": "markdown",
   "id": "54aa9ba7-e338-423a-bc64-c48f700243f8",
   "metadata": {},
   "source": [
    "# C - Test sur des échantillons bootstrappés"
   ]
  },
  {
   "cell_type": "code",
   "execution_count": 57,
   "id": "c790851a-f5fd-4fe1-9840-66f4449e46a8",
   "metadata": {
    "tags": []
   },
   "outputs": [],
   "source": [
    "def boostrap(lr):\n",
    "    sample_total=pd.concat([y,X],axis=1)\n",
    "    results = pd.DataFrame()\n",
    "    percentage_to_drop=0.2\n",
    "    # Split the data into two groups based on the target variable\n",
    "    group0 = sample_total[sample_total['Overdue_3_plus_within_12_month'] == 0]\n",
    "    group1 = sample_total[sample_total['Overdue_3_plus_within_12_month'] == 1]\n",
    "    vol_init_0=len(group0)\n",
    "    vol_init_1=len(group1)\n",
    "    # Calculate the number of rows to drop\n",
    "    num_rows_to_drop_0 = int(vol_init_0 * percentage_to_drop)\n",
    "    # Calculate the number of rows to drop\n",
    "    num_rows_to_drop_1 = int(vol_init_1 * percentage_to_drop)\n",
    "    for i in range(1,1000):\n",
    " \n",
    "        ech=\"ECH_\"+str(i)\n",
    " \n",
    "        # Select rows to drop randomly\n",
    "        rows_to_drop_0 = np.random.choice(group0.index, size=num_rows_to_drop_0, replace=False)\n",
    "        # Drop selected rows\n",
    "        bootstrap_sample_group0 = group0.drop(rows_to_drop_0)\n",
    " \n",
    "        num_rows_to_add_0 = int(vol_init_0 - len(bootstrap_sample_group0))\n",
    "        # Randomly sample 10% of rows from the original DataFrame\n",
    "        random_rows_0 = bootstrap_sample_group0.sample(n=num_rows_to_add_0,random_state=i)\n",
    "        # Concatenate the sampled rows with the original DataFrame\n",
    "        bootstrap_sample_group0 = pd.concat([bootstrap_sample_group0, random_rows_0])\n",
    "        # Select rows to drop randomly\n",
    "        rows_to_drop_1 = np.random.choice(group1.index, size=num_rows_to_drop_1, replace=False) \n",
    "        # Drop selected rows\n",
    "        bootstrap_sample_group1 = group1.drop(rows_to_drop_1)\n",
    "        # Percentage of values to replace (e.g., 10%)\n",
    "        # on ajoute 10% d'individus\n",
    "        num_rows_to_add_1 = int(vol_init_1 - len(bootstrap_sample_group1))\n",
    "        # Randomly sample 10% of rows from the original DataFrame\n",
    "        random_rows_1 = bootstrap_sample_group1.sample(n=num_rows_to_add_1,random_state=i)\n",
    "        # Concatenate the sampled rows with the original DataFrame\n",
    "        bootstrap_sample_group1 = pd.concat([bootstrap_sample_group1, random_rows_1])\n",
    " \n",
    "        # Combine the two groups to create a complete bootstrap sample\n",
    "        bootstrap_sample = pd.concat([bootstrap_sample_group0, bootstrap_sample_group1])\n",
    "        x_bsample=bootstrap_sample.copy()\n",
    " \n",
    "        x_bsample.drop(columns=['Overdue_3_plus_within_12_month'],inplace=True)\n",
    "        y_bsample=bootstrap_sample[['Overdue_3_plus_within_12_month']].copy()\n",
    " \n",
    "        y_pred_xgb_dcs_bs = lr.predict_proba(x_bsample)[::,1]\n",
    "        auc = metrics.roc_auc_score(y_bsample, y_pred_xgb_dcs_bs)\n",
    " \n",
    "        result_sample=pd.DataFrame({\"Echantillon\" : [ech], \"AUC\" : [auc] })\n",
    "        results = pd.concat([results,result_sample]) \n",
    "    return results\n",
    " \n",
    "def calcul_range(results,lr):\n",
    "    model_params = lr.get_params()\n",
    " \n",
    "    numeric_params = {key: value for key, value in model_params.items() if not isinstance(value, bool) and isinstance(value, (int, float))}\n",
    " \n",
    "        #Range\n",
    "    mesure='range'\n",
    "    results_variability = pd.DataFrame()\n",
    "    # train=results.AUC_Train.max()-results.AUC_Train.min()\n",
    "    # test=results.AUC_Test.max()-results.AUC_Test.min()\n",
    "    # overfit=results.Overfitting.max()-results.Overfitting.min\n",
    " \n",
    "    result_1=pd.DataFrame({\"Mesure\" : [mesure], \"Mesure_Train\" : [results.AUC.max()-results.AUC.min()]})\n",
    " \n",
    " \n",
    "    results_variability=pd.concat([results_variability,result_1])\n",
    " \n",
    "    mesure=\"mean\"\n",
    " \n",
    "    result_1=pd.DataFrame({\"Mesure\" : [mesure], \"Mesure_Train\" : [results.AUC.mean()]})\n",
    " \n",
    "    results_variability=pd.concat([results_variability,result_1])\n",
    "    results_variability['param']=[numeric_params]*len(results_variability)\n",
    " \n",
    "    return results_variability"
   ]
  },
  {
   "cell_type": "code",
   "execution_count": 62,
   "id": "0068bac9-33dd-4566-b785-8aaec9c4b0ac",
   "metadata": {},
   "outputs": [
    {
     "data": {
      "text/html": [
       "<style>#sk-container-id-2 {color: black;}#sk-container-id-2 pre{padding: 0;}#sk-container-id-2 div.sk-toggleable {background-color: white;}#sk-container-id-2 label.sk-toggleable__label {cursor: pointer;display: block;width: 100%;margin-bottom: 0;padding: 0.3em;box-sizing: border-box;text-align: center;}#sk-container-id-2 label.sk-toggleable__label-arrow:before {content: \"▸\";float: left;margin-right: 0.25em;color: #696969;}#sk-container-id-2 label.sk-toggleable__label-arrow:hover:before {color: black;}#sk-container-id-2 div.sk-estimator:hover label.sk-toggleable__label-arrow:before {color: black;}#sk-container-id-2 div.sk-toggleable__content {max-height: 0;max-width: 0;overflow: hidden;text-align: left;background-color: #f0f8ff;}#sk-container-id-2 div.sk-toggleable__content pre {margin: 0.2em;color: black;border-radius: 0.25em;background-color: #f0f8ff;}#sk-container-id-2 input.sk-toggleable__control:checked~div.sk-toggleable__content {max-height: 200px;max-width: 100%;overflow: auto;}#sk-container-id-2 input.sk-toggleable__control:checked~label.sk-toggleable__label-arrow:before {content: \"▾\";}#sk-container-id-2 div.sk-estimator input.sk-toggleable__control:checked~label.sk-toggleable__label {background-color: #d4ebff;}#sk-container-id-2 div.sk-label input.sk-toggleable__control:checked~label.sk-toggleable__label {background-color: #d4ebff;}#sk-container-id-2 input.sk-hidden--visually {border: 0;clip: rect(1px 1px 1px 1px);clip: rect(1px, 1px, 1px, 1px);height: 1px;margin: -1px;overflow: hidden;padding: 0;position: absolute;width: 1px;}#sk-container-id-2 div.sk-estimator {font-family: monospace;background-color: #f0f8ff;border: 1px dotted black;border-radius: 0.25em;box-sizing: border-box;margin-bottom: 0.5em;}#sk-container-id-2 div.sk-estimator:hover {background-color: #d4ebff;}#sk-container-id-2 div.sk-parallel-item::after {content: \"\";width: 100%;border-bottom: 1px solid gray;flex-grow: 1;}#sk-container-id-2 div.sk-label:hover label.sk-toggleable__label {background-color: #d4ebff;}#sk-container-id-2 div.sk-serial::before {content: \"\";position: absolute;border-left: 1px solid gray;box-sizing: border-box;top: 0;bottom: 0;left: 50%;z-index: 0;}#sk-container-id-2 div.sk-serial {display: flex;flex-direction: column;align-items: center;background-color: white;padding-right: 0.2em;padding-left: 0.2em;position: relative;}#sk-container-id-2 div.sk-item {position: relative;z-index: 1;}#sk-container-id-2 div.sk-parallel {display: flex;align-items: stretch;justify-content: center;background-color: white;position: relative;}#sk-container-id-2 div.sk-item::before, #sk-container-id-2 div.sk-parallel-item::before {content: \"\";position: absolute;border-left: 1px solid gray;box-sizing: border-box;top: 0;bottom: 0;left: 50%;z-index: -1;}#sk-container-id-2 div.sk-parallel-item {display: flex;flex-direction: column;z-index: 1;position: relative;background-color: white;}#sk-container-id-2 div.sk-parallel-item:first-child::after {align-self: flex-end;width: 50%;}#sk-container-id-2 div.sk-parallel-item:last-child::after {align-self: flex-start;width: 50%;}#sk-container-id-2 div.sk-parallel-item:only-child::after {width: 0;}#sk-container-id-2 div.sk-dashed-wrapped {border: 1px dashed gray;margin: 0 0.4em 0.5em 0.4em;box-sizing: border-box;padding-bottom: 0.4em;background-color: white;}#sk-container-id-2 div.sk-label label {font-family: monospace;font-weight: bold;display: inline-block;line-height: 1.2em;}#sk-container-id-2 div.sk-label-container {text-align: center;}#sk-container-id-2 div.sk-container {/* jupyter's `normalize.less` sets `[hidden] { display: none; }` but bootstrap.min.css set `[hidden] { display: none !important; }` so we also need the `!important` here to be able to override the default hidden behavior on the sphinx rendered scikit-learn.org. See: https://github.com/scikit-learn/scikit-learn/issues/21755 */display: inline-block !important;position: relative;}#sk-container-id-2 div.sk-text-repr-fallback {display: none;}</style><div id=\"sk-container-id-2\" class=\"sk-top-container\"><div class=\"sk-text-repr-fallback\"><pre>LogisticRegression()</pre><b>In a Jupyter environment, please rerun this cell to show the HTML representation or trust the notebook. <br />On GitHub, the HTML representation is unable to render, please try loading this page with nbviewer.org.</b></div><div class=\"sk-container\" hidden><div class=\"sk-item\"><div class=\"sk-estimator sk-toggleable\"><input class=\"sk-toggleable__control sk-hidden--visually\" id=\"sk-estimator-id-2\" type=\"checkbox\" checked><label for=\"sk-estimator-id-2\" class=\"sk-toggleable__label sk-toggleable__label-arrow\">LogisticRegression</label><div class=\"sk-toggleable__content\"><pre>LogisticRegression()</pre></div></div></div></div></div>"
      ],
      "text/plain": [
       "LogisticRegression()"
      ]
     },
     "execution_count": 62,
     "metadata": {},
     "output_type": "execute_result"
    }
   ],
   "source": [
    "lr = LogisticRegression()\n",
    "lr.fit(X, y)"
   ]
  },
  {
   "cell_type": "code",
   "execution_count": 63,
   "id": "bbe7c1ad-69c7-4c94-ba27-c7de5c029227",
   "metadata": {
    "tags": []
   },
   "outputs": [],
   "source": [
    "results=boostrap(lr)"
   ]
  },
  {
   "cell_type": "code",
   "execution_count": 64,
   "id": "28f78755-9a40-430c-8fb4-fe1f19a0fe80",
   "metadata": {
    "tags": []
   },
   "outputs": [],
   "source": [
    "results_perf=calcul_range(results,lr)"
   ]
  },
  {
   "cell_type": "code",
   "execution_count": 65,
   "id": "2db34dcd-91d0-4a6a-9c7f-dc78f6baefbd",
   "metadata": {
    "tags": []
   },
   "outputs": [
    {
     "data": {
      "text/html": [
       "<div>\n",
       "<style scoped>\n",
       "    .dataframe tbody tr th:only-of-type {\n",
       "        vertical-align: middle;\n",
       "    }\n",
       "\n",
       "    .dataframe tbody tr th {\n",
       "        vertical-align: top;\n",
       "    }\n",
       "\n",
       "    .dataframe thead th {\n",
       "        text-align: right;\n",
       "    }\n",
       "</style>\n",
       "<table border=\"1\" class=\"dataframe\">\n",
       "  <thead>\n",
       "    <tr style=\"text-align: right;\">\n",
       "      <th></th>\n",
       "      <th>Mesure</th>\n",
       "      <th>Mesure_Train</th>\n",
       "      <th>param</th>\n",
       "    </tr>\n",
       "  </thead>\n",
       "  <tbody>\n",
       "    <tr>\n",
       "      <th>0</th>\n",
       "      <td>range</td>\n",
       "      <td>0.066041</td>\n",
       "      <td>{'C': 1.0, 'intercept_scaling': 1, 'max_iter':...</td>\n",
       "    </tr>\n",
       "    <tr>\n",
       "      <th>0</th>\n",
       "      <td>mean</td>\n",
       "      <td>0.769516</td>\n",
       "      <td>{'C': 1.0, 'intercept_scaling': 1, 'max_iter':...</td>\n",
       "    </tr>\n",
       "  </tbody>\n",
       "</table>\n",
       "</div>"
      ],
      "text/plain": [
       "  Mesure  Mesure_Train                                              param\n",
       "0  range      0.066041  {'C': 1.0, 'intercept_scaling': 1, 'max_iter':...\n",
       "0   mean      0.769516  {'C': 1.0, 'intercept_scaling': 1, 'max_iter':..."
      ]
     },
     "execution_count": 65,
     "metadata": {},
     "output_type": "execute_result"
    }
   ],
   "source": [
    "results_perf"
   ]
  },
  {
   "cell_type": "markdown",
   "id": "65d02bda-b5d3-44e1-a011-6367f85445b4",
   "metadata": {},
   "source": [
    "## B1 - Modification du seuil de probabilité"
   ]
  },
  {
   "cell_type": "markdown",
   "id": "00ec0056-9fb2-4746-90be-444e2d353272",
   "metadata": {},
   "source": [
    "## Taux de cible par décile"
   ]
  },
  {
   "cell_type": "markdown",
   "id": "c15d1fa1-8451-40aa-aba4-86b65bdc7fca",
   "metadata": {},
   "source": [
    "Le taux de cible par décile est un outil d'évaluation essentiel pour analyser la performance des modèles de classification.   \n",
    "En segmentant les prédictions en dix groupes égaux, ce processus permet de calculer le taux de la variable cible dans chaque décile.   \n",
    "Une tendance croissante des taux de cible en allant des déciles de scores les plus bas vers ceux de scores les plus élevés indique un modèle bien calibré avec une bonne capacité de discrimination entre les classes. "
   ]
  },
  {
   "cell_type": "code",
   "execution_count": 66,
   "id": "300c4ba0-e049-4cfd-a004-a2a8c4b2d26a",
   "metadata": {
    "tags": []
   },
   "outputs": [],
   "source": [
    "aux_stats = pd.DataFrame()\n",
    "\n",
    "aux_stats['real'] = y_test\n",
    "aux_stats['predicted'] = y_pred_tl\n",
    "aux_stats['score'] = probs_tl[:,1]\n",
    "aux_stats.sort_values('score',ascending=False,inplace=True)"
   ]
  },
  {
   "cell_type": "code",
   "execution_count": 67,
   "id": "d1cdd2f2-a544-4152-a329-5ae214169726",
   "metadata": {
    "tags": []
   },
   "outputs": [],
   "source": [
    "aux_stats['Decile'] = pd.qcut(aux_stats['score'].rank(method='first'), 10,\n",
    "                            labels = False,duplicates='raise')\n",
    "# .rank(method='first') : calcule le classement des valeurs 'score'. \n",
    "#  'first' = pour attribuer le même rang aux valeurs égales, \n",
    "# en attribuant le rang en fonction de l'ordre d'apparition dans le DataFrame.\n",
    "# 10, labels=False, duplicates='raise') : divise les rangs calculés \n",
    "# précédemment en déciles(en 10 intervalles de largeur égale), \n",
    "# où chaque intervalle contient environ 10 % des données. \n",
    "# labels=False : Ne pas attribuer de libellés aux intervalles. \n",
    "# Au lieu de cela, il attribue des valeurs numériques aux intervalles.\n",
    "# duplicates='raise' : Si des valeurs en double sont rencontrées \n",
    "# (par exemple, si deux valeurs ont le même rang), une exception est levée."
   ]
  },
  {
   "cell_type": "code",
   "execution_count": 68,
   "id": "924e6d77-7bd8-4f86-b739-382adb1a9444",
   "metadata": {
    "tags": []
   },
   "outputs": [],
   "source": [
    "\n",
    "stats_by_decile = aux_stats.groupby('Decile')['score'].agg(['mean', 'median', 'min', 'max'])\n",
    "counts_by_decile = aux_stats.groupby('Decile')['predicted'].value_counts().unstack(fill_value=0)\n",
    "stats_by_decile = stats_by_decile.rename(columns={'mean': 'Mean Score', 'median': 'Median Score', 'min': 'Min Score', 'max': 'Max Score'})\n"
   ]
  },
  {
   "cell_type": "code",
   "execution_count": 69,
   "id": "a8a420da-2271-4bbb-9e2d-b006c165afeb",
   "metadata": {
    "tags": []
   },
   "outputs": [],
   "source": [
    "# Calculer le nombre de valeurs réelles (y_test) par décile\n",
    "counts_real = aux_stats['Decile'].value_counts().sort_index()\n"
   ]
  },
  {
   "cell_type": "code",
   "execution_count": 70,
   "id": "596d7bbf-5027-4ad0-aa26-7fbb48d3fdee",
   "metadata": {
    "tags": []
   },
   "outputs": [],
   "source": [
    "# Ajouter la colonne de comptage au tableau stats_by_decile\n",
    "stats_by_decile['Count Real'] = counts_real\n"
   ]
  },
  {
   "cell_type": "code",
   "execution_count": 71,
   "id": "d17289f4-14de-49c1-8665-059aabb99404",
   "metadata": {
    "tags": []
   },
   "outputs": [],
   "source": [
    "# Calculer le nombre de valeurs réelles (y_test) égales à 1 et 0 par décile\n",
    "counts_real_1 = aux_stats[aux_stats['real'] == 1]['Decile'].value_counts().sort_index()\n",
    "counts_real_0 = aux_stats[aux_stats['real'] == 0]['Decile'].value_counts().sort_index()\n"
   ]
  },
  {
   "cell_type": "code",
   "execution_count": 72,
   "id": "2fc69134-8a6d-431c-a4c7-c592f231702a",
   "metadata": {
    "tags": []
   },
   "outputs": [],
   "source": [
    "# Ajouter les colonnes de comptage au tableau stats_by_decile\n",
    "stats_by_decile['Count Real=1'] = counts_real_1\n",
    "stats_by_decile['Count Real=0'] = counts_real_0\n",
    "\n",
    "stats_by_decile['Count Real=1'] = stats_by_decile['Count Real=1'].fillna(0)\n",
    "stats_by_decile['Count Real=0'] = stats_by_decile['Count Real=0'].fillna(0)\n"
   ]
  },
  {
   "cell_type": "code",
   "execution_count": 73,
   "id": "8e8fd42f-e809-41a0-b183-acd738bb1e9f",
   "metadata": {
    "tags": []
   },
   "outputs": [],
   "source": [
    "# Calculer le nombre de valeurs prédites (y_pred) égales à 1 et 0 par décile\n",
    "counts_pred_1 = aux_stats[aux_stats['predicted'] == 1]['Decile'].value_counts().sort_index()\n",
    "counts_pred_0 = aux_stats[aux_stats['predicted'] == 0]['Decile'].value_counts().sort_index()\n"
   ]
  },
  {
   "cell_type": "code",
   "execution_count": 74,
   "id": "0f9c95b9-313c-49e8-a2ef-16668f5fac9c",
   "metadata": {
    "tags": []
   },
   "outputs": [],
   "source": [
    "# Ajouter les colonnes de comptage au tableau stats_by_decile\n",
    "stats_by_decile['Count Predicted=1'] = counts_pred_1\n",
    "stats_by_decile['Count Predicted=0'] = counts_pred_0\n",
    "\n",
    "stats_by_decile['Count Predicted=1'] = stats_by_decile['Count Predicted=1'].fillna(0)\n",
    "stats_by_decile['Count Predicted=0'] = stats_by_decile['Count Predicted=0'].fillna(0)\n"
   ]
  },
  {
   "cell_type": "code",
   "execution_count": 75,
   "id": "00f7de22-e8a8-4a3a-a8dd-cab9a084ce4f",
   "metadata": {
    "tags": []
   },
   "outputs": [],
   "source": [
    "# Trier le tableau par décile en ordre décroissant\n",
    "stats_by_decile = stats_by_decile.sort_values(by='Decile', ascending=False)\n"
   ]
  },
  {
   "cell_type": "code",
   "execution_count": 77,
   "id": "3eae2d8f-590f-4c51-940e-b57fbc47cf33",
   "metadata": {
    "tags": []
   },
   "outputs": [
    {
     "data": {
      "text/html": [
       "<div>\n",
       "<style scoped>\n",
       "    .dataframe tbody tr th:only-of-type {\n",
       "        vertical-align: middle;\n",
       "    }\n",
       "\n",
       "    .dataframe tbody tr th {\n",
       "        vertical-align: top;\n",
       "    }\n",
       "\n",
       "    .dataframe thead th {\n",
       "        text-align: right;\n",
       "    }\n",
       "</style>\n",
       "<table border=\"1\" class=\"dataframe\">\n",
       "  <thead>\n",
       "    <tr style=\"text-align: right;\">\n",
       "      <th></th>\n",
       "      <th>Mean Score</th>\n",
       "      <th>Median Score</th>\n",
       "      <th>Min Score</th>\n",
       "      <th>Max Score</th>\n",
       "      <th>Count Real</th>\n",
       "      <th>Count Real=1</th>\n",
       "      <th>Count Real=0</th>\n",
       "      <th>Count Predicted=1</th>\n",
       "      <th>Count Predicted=0</th>\n",
       "      <th>Taux de cible par décile</th>\n",
       "      <th>Somme cumulée du taux de cible par décile</th>\n",
       "    </tr>\n",
       "    <tr>\n",
       "      <th>Decile</th>\n",
       "      <th></th>\n",
       "      <th></th>\n",
       "      <th></th>\n",
       "      <th></th>\n",
       "      <th></th>\n",
       "      <th></th>\n",
       "      <th></th>\n",
       "      <th></th>\n",
       "      <th></th>\n",
       "      <th></th>\n",
       "      <th></th>\n",
       "    </tr>\n",
       "  </thead>\n",
       "  <tbody>\n",
       "    <tr>\n",
       "      <th>9</th>\n",
       "      <td>0.064242</td>\n",
       "      <td>0.013354</td>\n",
       "      <td>0.011218</td>\n",
       "      <td>0.869049</td>\n",
       "      <td>725</td>\n",
       "      <td>67</td>\n",
       "      <td>658</td>\n",
       "      <td>14.0</td>\n",
       "      <td>711</td>\n",
       "      <td>56.78</td>\n",
       "      <td>56.78</td>\n",
       "    </tr>\n",
       "    <tr>\n",
       "      <th>8</th>\n",
       "      <td>0.011065</td>\n",
       "      <td>0.011003</td>\n",
       "      <td>0.011003</td>\n",
       "      <td>0.011218</td>\n",
       "      <td>725</td>\n",
       "      <td>11</td>\n",
       "      <td>714</td>\n",
       "      <td>0.0</td>\n",
       "      <td>725</td>\n",
       "      <td>9.32</td>\n",
       "      <td>66.10</td>\n",
       "    </tr>\n",
       "    <tr>\n",
       "      <th>7</th>\n",
       "      <td>0.010632</td>\n",
       "      <td>0.011003</td>\n",
       "      <td>0.009420</td>\n",
       "      <td>0.011003</td>\n",
       "      <td>725</td>\n",
       "      <td>8</td>\n",
       "      <td>717</td>\n",
       "      <td>0.0</td>\n",
       "      <td>725</td>\n",
       "      <td>6.78</td>\n",
       "      <td>72.88</td>\n",
       "    </tr>\n",
       "    <tr>\n",
       "      <th>6</th>\n",
       "      <td>0.008494</td>\n",
       "      <td>0.007756</td>\n",
       "      <td>0.007756</td>\n",
       "      <td>0.009420</td>\n",
       "      <td>725</td>\n",
       "      <td>4</td>\n",
       "      <td>721</td>\n",
       "      <td>0.0</td>\n",
       "      <td>725</td>\n",
       "      <td>3.39</td>\n",
       "      <td>76.27</td>\n",
       "    </tr>\n",
       "    <tr>\n",
       "      <th>5</th>\n",
       "      <td>0.007756</td>\n",
       "      <td>0.007756</td>\n",
       "      <td>0.007756</td>\n",
       "      <td>0.007756</td>\n",
       "      <td>725</td>\n",
       "      <td>5</td>\n",
       "      <td>720</td>\n",
       "      <td>0.0</td>\n",
       "      <td>725</td>\n",
       "      <td>4.24</td>\n",
       "      <td>80.51</td>\n",
       "    </tr>\n",
       "    <tr>\n",
       "      <th>4</th>\n",
       "      <td>0.007227</td>\n",
       "      <td>0.007607</td>\n",
       "      <td>0.006384</td>\n",
       "      <td>0.007756</td>\n",
       "      <td>725</td>\n",
       "      <td>7</td>\n",
       "      <td>718</td>\n",
       "      <td>0.0</td>\n",
       "      <td>725</td>\n",
       "      <td>5.93</td>\n",
       "      <td>86.44</td>\n",
       "    </tr>\n",
       "    <tr>\n",
       "      <th>3</th>\n",
       "      <td>0.006384</td>\n",
       "      <td>0.006384</td>\n",
       "      <td>0.006384</td>\n",
       "      <td>0.006384</td>\n",
       "      <td>725</td>\n",
       "      <td>5</td>\n",
       "      <td>720</td>\n",
       "      <td>0.0</td>\n",
       "      <td>725</td>\n",
       "      <td>4.24</td>\n",
       "      <td>90.68</td>\n",
       "    </tr>\n",
       "    <tr>\n",
       "      <th>2</th>\n",
       "      <td>0.006384</td>\n",
       "      <td>0.006384</td>\n",
       "      <td>0.006384</td>\n",
       "      <td>0.006384</td>\n",
       "      <td>725</td>\n",
       "      <td>4</td>\n",
       "      <td>721</td>\n",
       "      <td>0.0</td>\n",
       "      <td>725</td>\n",
       "      <td>3.39</td>\n",
       "      <td>94.07</td>\n",
       "    </tr>\n",
       "    <tr>\n",
       "      <th>1</th>\n",
       "      <td>0.006384</td>\n",
       "      <td>0.006384</td>\n",
       "      <td>0.006384</td>\n",
       "      <td>0.006384</td>\n",
       "      <td>725</td>\n",
       "      <td>6</td>\n",
       "      <td>719</td>\n",
       "      <td>0.0</td>\n",
       "      <td>725</td>\n",
       "      <td>5.08</td>\n",
       "      <td>99.15</td>\n",
       "    </tr>\n",
       "    <tr>\n",
       "      <th>0</th>\n",
       "      <td>0.006384</td>\n",
       "      <td>0.006384</td>\n",
       "      <td>0.006384</td>\n",
       "      <td>0.006384</td>\n",
       "      <td>726</td>\n",
       "      <td>1</td>\n",
       "      <td>725</td>\n",
       "      <td>0.0</td>\n",
       "      <td>726</td>\n",
       "      <td>0.85</td>\n",
       "      <td>100.00</td>\n",
       "    </tr>\n",
       "  </tbody>\n",
       "</table>\n",
       "</div>"
      ],
      "text/plain": [
       "        Mean Score  Median Score  Min Score  Max Score  Count Real  \\\n",
       "Decile                                                               \n",
       "9         0.064242      0.013354   0.011218   0.869049         725   \n",
       "8         0.011065      0.011003   0.011003   0.011218         725   \n",
       "7         0.010632      0.011003   0.009420   0.011003         725   \n",
       "6         0.008494      0.007756   0.007756   0.009420         725   \n",
       "5         0.007756      0.007756   0.007756   0.007756         725   \n",
       "4         0.007227      0.007607   0.006384   0.007756         725   \n",
       "3         0.006384      0.006384   0.006384   0.006384         725   \n",
       "2         0.006384      0.006384   0.006384   0.006384         725   \n",
       "1         0.006384      0.006384   0.006384   0.006384         725   \n",
       "0         0.006384      0.006384   0.006384   0.006384         726   \n",
       "\n",
       "        Count Real=1  Count Real=0  Count Predicted=1  Count Predicted=0  \\\n",
       "Decile                                                                     \n",
       "9                 67           658               14.0                711   \n",
       "8                 11           714                0.0                725   \n",
       "7                  8           717                0.0                725   \n",
       "6                  4           721                0.0                725   \n",
       "5                  5           720                0.0                725   \n",
       "4                  7           718                0.0                725   \n",
       "3                  5           720                0.0                725   \n",
       "2                  4           721                0.0                725   \n",
       "1                  6           719                0.0                725   \n",
       "0                  1           725                0.0                726   \n",
       "\n",
       "        Taux de cible par décile  Somme cumulée du taux de cible par décile  \n",
       "Decile                                                                       \n",
       "9                          56.78                                      56.78  \n",
       "8                           9.32                                      66.10  \n",
       "7                           6.78                                      72.88  \n",
       "6                           3.39                                      76.27  \n",
       "5                           4.24                                      80.51  \n",
       "4                           5.93                                      86.44  \n",
       "3                           4.24                                      90.68  \n",
       "2                           3.39                                      94.07  \n",
       "1                           5.08                                      99.15  \n",
       "0                           0.85                                     100.00  "
      ]
     },
     "execution_count": 77,
     "metadata": {},
     "output_type": "execute_result"
    }
   ],
   "source": [
    "stats_by_decile['Taux de cible par décile']=round(stats_by_decile['Count Real=1']/stats_by_decile['Count Real=1'].sum()*100,2)\n",
    "stats_by_decile['Somme cumulée du taux de cible par décile']=np.cumsum(stats_by_decile['Taux de cible par décile'])\n",
    "stats_by_decile"
   ]
  },
  {
   "cell_type": "markdown",
   "id": "3cbfe3ac-c13f-4dbb-820d-6d3a58964f40",
   "metadata": {},
   "source": [
    "Sur les 10% des individus les mieux scorés, on capte 56.78% des défaillants.   \n",
    "Sur les 20% des individus les mieux scorés, on capte 66% % des défaillants.  \n",
    "Sur les 30% des individus les mieux scorés, on capte 72.88 % des défaillants\n"
   ]
  },
  {
   "cell_type": "markdown",
   "id": "4e6b30a9-dee8-4349-a63a-03bb4af88e24",
   "metadata": {},
   "source": [
    "Le tableau ci-dessus nous indique qu'il faut modifier le seuil par défaut de notre classifieur. \n",
    "Je vais faire une boucle pour tester chacun de ces seuils. Pour chaque seuil, on va générer :\n",
    "- la matrice de confusion\n",
    "- le classification report\n",
    "- la somme de la precision, du recall et du f1 score de la target 1  \n",
    "\n",
    "La boucle s'arrêtera d'itérer quand cette somme commencera à redescendre"
   ]
  },
  {
   "cell_type": "code",
   "execution_count": 79,
   "id": "84a79ae9-2d97-44d1-8613-d8c000a2a6c5",
   "metadata": {},
   "outputs": [
    {
     "name": "stdout",
     "output_type": "stream",
     "text": [
      "threshold = 0.007\n",
      "---\n",
      "         \n",
      "Classes prédites     0     1\n",
      "Classes réelles             \n",
      "0                 3152  3981\n",
      "1                   17   101\n",
      "---\n",
      "         \n",
      "              precision    recall  f1-score   support\n",
      "\n",
      "           0       0.99      0.44      0.61      7133\n",
      "           1       0.02      0.86      0.05       118\n",
      "\n",
      "    accuracy                           0.45      7251\n",
      "   macro avg       0.51      0.65      0.33      7251\n",
      "weighted avg       0.98      0.45      0.60      7251\n",
      "\n",
      "---\n",
      "         \n",
      "Sum of Precision, Recall, and F1 Score de la target 1: 0.93\n",
      "-------------------------------------------------------------------\n",
      "threshold = 0.008\n",
      "---\n",
      "         \n",
      "Classes prédites     0     1\n",
      "Classes réelles             \n",
      "0                 4697  2436\n",
      "1                   31    87\n",
      "---\n",
      "         \n",
      "              precision    recall  f1-score   support\n",
      "\n",
      "           0       0.99      0.66      0.79      7133\n",
      "           1       0.03      0.74      0.07       118\n",
      "\n",
      "    accuracy                           0.66      7251\n",
      "   macro avg       0.51      0.70      0.43      7251\n",
      "weighted avg       0.98      0.66      0.78      7251\n",
      "\n",
      "---\n",
      "         \n",
      "Sum of Precision, Recall, and F1 Score de la target 1: 0.84\n",
      "-------------------------------------------------------------------\n",
      "threshold = 0.009\n",
      "---\n",
      "         \n",
      "Classes prédites     0     1\n",
      "Classes réelles             \n",
      "0                 4697  2436\n",
      "1                   31    87\n",
      "---\n",
      "         \n",
      "              precision    recall  f1-score   support\n",
      "\n",
      "           0       0.99      0.66      0.79      7133\n",
      "           1       0.03      0.74      0.07       118\n",
      "\n",
      "    accuracy                           0.66      7251\n",
      "   macro avg       0.51      0.70      0.43      7251\n",
      "weighted avg       0.98      0.66      0.78      7251\n",
      "\n",
      "---\n",
      "         \n",
      "Sum of Precision, Recall, and F1 Score de la target 1: 0.84\n",
      "-------------------------------------------------------------------\n",
      "threshold = 0.01\n",
      "---\n",
      "         \n",
      "Classes prédites     0     1\n",
      "Classes réelles             \n",
      "0                 5214  1919\n",
      "1                   32    86\n",
      "---\n",
      "         \n",
      "              precision    recall  f1-score   support\n",
      "\n",
      "           0       0.99      0.73      0.84      7133\n",
      "           1       0.04      0.73      0.08       118\n",
      "\n",
      "    accuracy                           0.73      7251\n",
      "   macro avg       0.52      0.73      0.46      7251\n",
      "weighted avg       0.98      0.73      0.83      7251\n",
      "\n",
      "---\n",
      "         \n",
      "Sum of Precision, Recall, and F1 Score de la target 1: 0.85\n",
      "-------------------------------------------------------------------\n",
      "threshold = 0.011\n",
      "---\n",
      "         \n",
      "Classes prédites     0     1\n",
      "Classes réelles             \n",
      "0                 5214  1919\n",
      "1                   32    86\n",
      "---\n",
      "         \n",
      "              precision    recall  f1-score   support\n",
      "\n",
      "           0       0.99      0.73      0.84      7133\n",
      "           1       0.04      0.73      0.08       118\n",
      "\n",
      "    accuracy                           0.73      7251\n",
      "   macro avg       0.52      0.73      0.46      7251\n",
      "weighted avg       0.98      0.73      0.83      7251\n",
      "\n",
      "---\n",
      "         \n",
      "Sum of Precision, Recall, and F1 Score de la target 1: 0.85\n",
      "-------------------------------------------------------------------\n",
      "threshold = 0.012\n",
      "---\n",
      "         \n",
      "Classes prédites     0    1\n",
      "Classes réelles            \n",
      "0                 6608  525\n",
      "1                   51   67\n",
      "---\n",
      "         \n",
      "              precision    recall  f1-score   support\n",
      "\n",
      "           0       0.99      0.93      0.96      7133\n",
      "           1       0.11      0.57      0.19       118\n",
      "\n",
      "    accuracy                           0.92      7251\n",
      "   macro avg       0.55      0.75      0.57      7251\n",
      "weighted avg       0.98      0.92      0.95      7251\n",
      "\n",
      "---\n",
      "         \n",
      "Sum of Precision, Recall, and F1 Score de la target 1: 0.87\n",
      "-------------------------------------------------------------------\n"
     ]
    }
   ],
   "source": [
    "from sklearn.metrics import precision_score, recall_score, f1_score\n",
    "\n",
    "threshold = [0.007,0.008,0.009,0.01,0.011,0.012]\n",
    "#previous_sum = 0  # Variable pour suivre la somme précédente\n",
    "for x in threshold:\n",
    "    pred_class = np.where(probs_tl[:, 1] > x, 1, 0)\n",
    "    print(\"threshold =\", x)\n",
    "    print(\"---\\n         \")\n",
    "    print(pd.crosstab(y_test, pred_class, rownames=['Classes réelles'], colnames=['Classes prédites']))\n",
    "    print(\"---\\n         \")\n",
    "    print(classification_report(y_test, pred_class))\n",
    "    precision = round(precision_score(y_test, pred_class, pos_label=1),2)\n",
    "    recall = round(recall_score(y_test, pred_class, pos_label=1),2)\n",
    "    f1 = round(f1_score(y_test, pred_class, pos_label=1),2)\n",
    "    current_sum = round(precision + recall + f1,2)\n",
    "    print(\"---\\n         \")\n",
    "    print(\"Sum of Precision, Recall, and F1 Score de la target 1:\", current_sum)\n",
    "    print(\"-------------------------------------------------------------------\")\n",
    "    \n",
    "    #if current_sum < previous_sum:\n",
    "        #break  # Arrêter l'itération si la somme décroît\n",
    "    #previous_sum = current_sum\n",
    "\n",
    "    "
   ]
  },
  {
   "cell_type": "code",
   "execution_count": null,
   "id": "6c6b7252-f14c-4e59-a47b-515adf240687",
   "metadata": {},
   "outputs": [],
   "source": []
  }
 ],
 "metadata": {
  "availableInstances": [
   {
    "_defaultOrder": 0,
    "_isFastLaunch": true,
    "category": "General purpose",
    "gpuNum": 0,
    "hideHardwareSpecs": false,
    "memoryGiB": 4,
    "name": "ml.t3.medium",
    "vcpuNum": 2
   },
   {
    "_defaultOrder": 1,
    "_isFastLaunch": false,
    "category": "General purpose",
    "gpuNum": 0,
    "hideHardwareSpecs": false,
    "memoryGiB": 8,
    "name": "ml.t3.large",
    "vcpuNum": 2
   },
   {
    "_defaultOrder": 2,
    "_isFastLaunch": false,
    "category": "General purpose",
    "gpuNum": 0,
    "hideHardwareSpecs": false,
    "memoryGiB": 16,
    "name": "ml.t3.xlarge",
    "vcpuNum": 4
   },
   {
    "_defaultOrder": 3,
    "_isFastLaunch": false,
    "category": "General purpose",
    "gpuNum": 0,
    "hideHardwareSpecs": false,
    "memoryGiB": 32,
    "name": "ml.t3.2xlarge",
    "vcpuNum": 8
   },
   {
    "_defaultOrder": 4,
    "_isFastLaunch": true,
    "category": "General purpose",
    "gpuNum": 0,
    "hideHardwareSpecs": false,
    "memoryGiB": 8,
    "name": "ml.m5.large",
    "vcpuNum": 2
   },
   {
    "_defaultOrder": 5,
    "_isFastLaunch": false,
    "category": "General purpose",
    "gpuNum": 0,
    "hideHardwareSpecs": false,
    "memoryGiB": 16,
    "name": "ml.m5.xlarge",
    "vcpuNum": 4
   },
   {
    "_defaultOrder": 6,
    "_isFastLaunch": false,
    "category": "General purpose",
    "gpuNum": 0,
    "hideHardwareSpecs": false,
    "memoryGiB": 32,
    "name": "ml.m5.2xlarge",
    "vcpuNum": 8
   },
   {
    "_defaultOrder": 7,
    "_isFastLaunch": false,
    "category": "General purpose",
    "gpuNum": 0,
    "hideHardwareSpecs": false,
    "memoryGiB": 64,
    "name": "ml.m5.4xlarge",
    "vcpuNum": 16
   },
   {
    "_defaultOrder": 8,
    "_isFastLaunch": false,
    "category": "General purpose",
    "gpuNum": 0,
    "hideHardwareSpecs": false,
    "memoryGiB": 128,
    "name": "ml.m5.8xlarge",
    "vcpuNum": 32
   },
   {
    "_defaultOrder": 9,
    "_isFastLaunch": false,
    "category": "General purpose",
    "gpuNum": 0,
    "hideHardwareSpecs": false,
    "memoryGiB": 192,
    "name": "ml.m5.12xlarge",
    "vcpuNum": 48
   },
   {
    "_defaultOrder": 10,
    "_isFastLaunch": false,
    "category": "General purpose",
    "gpuNum": 0,
    "hideHardwareSpecs": false,
    "memoryGiB": 256,
    "name": "ml.m5.16xlarge",
    "vcpuNum": 64
   },
   {
    "_defaultOrder": 11,
    "_isFastLaunch": false,
    "category": "General purpose",
    "gpuNum": 0,
    "hideHardwareSpecs": false,
    "memoryGiB": 384,
    "name": "ml.m5.24xlarge",
    "vcpuNum": 96
   },
   {
    "_defaultOrder": 12,
    "_isFastLaunch": false,
    "category": "General purpose",
    "gpuNum": 0,
    "hideHardwareSpecs": false,
    "memoryGiB": 8,
    "name": "ml.m5d.large",
    "vcpuNum": 2
   },
   {
    "_defaultOrder": 13,
    "_isFastLaunch": false,
    "category": "General purpose",
    "gpuNum": 0,
    "hideHardwareSpecs": false,
    "memoryGiB": 16,
    "name": "ml.m5d.xlarge",
    "vcpuNum": 4
   },
   {
    "_defaultOrder": 14,
    "_isFastLaunch": false,
    "category": "General purpose",
    "gpuNum": 0,
    "hideHardwareSpecs": false,
    "memoryGiB": 32,
    "name": "ml.m5d.2xlarge",
    "vcpuNum": 8
   },
   {
    "_defaultOrder": 15,
    "_isFastLaunch": false,
    "category": "General purpose",
    "gpuNum": 0,
    "hideHardwareSpecs": false,
    "memoryGiB": 64,
    "name": "ml.m5d.4xlarge",
    "vcpuNum": 16
   },
   {
    "_defaultOrder": 16,
    "_isFastLaunch": false,
    "category": "General purpose",
    "gpuNum": 0,
    "hideHardwareSpecs": false,
    "memoryGiB": 128,
    "name": "ml.m5d.8xlarge",
    "vcpuNum": 32
   },
   {
    "_defaultOrder": 17,
    "_isFastLaunch": false,
    "category": "General purpose",
    "gpuNum": 0,
    "hideHardwareSpecs": false,
    "memoryGiB": 192,
    "name": "ml.m5d.12xlarge",
    "vcpuNum": 48
   },
   {
    "_defaultOrder": 18,
    "_isFastLaunch": false,
    "category": "General purpose",
    "gpuNum": 0,
    "hideHardwareSpecs": false,
    "memoryGiB": 256,
    "name": "ml.m5d.16xlarge",
    "vcpuNum": 64
   },
   {
    "_defaultOrder": 19,
    "_isFastLaunch": false,
    "category": "General purpose",
    "gpuNum": 0,
    "hideHardwareSpecs": false,
    "memoryGiB": 384,
    "name": "ml.m5d.24xlarge",
    "vcpuNum": 96
   },
   {
    "_defaultOrder": 20,
    "_isFastLaunch": false,
    "category": "General purpose",
    "gpuNum": 0,
    "hideHardwareSpecs": true,
    "memoryGiB": 0,
    "name": "ml.geospatial.interactive",
    "supportedImageNames": [
     "sagemaker-geospatial-v1-0"
    ],
    "vcpuNum": 0
   },
   {
    "_defaultOrder": 21,
    "_isFastLaunch": true,
    "category": "Compute optimized",
    "gpuNum": 0,
    "hideHardwareSpecs": false,
    "memoryGiB": 4,
    "name": "ml.c5.large",
    "vcpuNum": 2
   },
   {
    "_defaultOrder": 22,
    "_isFastLaunch": false,
    "category": "Compute optimized",
    "gpuNum": 0,
    "hideHardwareSpecs": false,
    "memoryGiB": 8,
    "name": "ml.c5.xlarge",
    "vcpuNum": 4
   },
   {
    "_defaultOrder": 23,
    "_isFastLaunch": false,
    "category": "Compute optimized",
    "gpuNum": 0,
    "hideHardwareSpecs": false,
    "memoryGiB": 16,
    "name": "ml.c5.2xlarge",
    "vcpuNum": 8
   },
   {
    "_defaultOrder": 24,
    "_isFastLaunch": false,
    "category": "Compute optimized",
    "gpuNum": 0,
    "hideHardwareSpecs": false,
    "memoryGiB": 32,
    "name": "ml.c5.4xlarge",
    "vcpuNum": 16
   },
   {
    "_defaultOrder": 25,
    "_isFastLaunch": false,
    "category": "Compute optimized",
    "gpuNum": 0,
    "hideHardwareSpecs": false,
    "memoryGiB": 72,
    "name": "ml.c5.9xlarge",
    "vcpuNum": 36
   },
   {
    "_defaultOrder": 26,
    "_isFastLaunch": false,
    "category": "Compute optimized",
    "gpuNum": 0,
    "hideHardwareSpecs": false,
    "memoryGiB": 96,
    "name": "ml.c5.12xlarge",
    "vcpuNum": 48
   },
   {
    "_defaultOrder": 27,
    "_isFastLaunch": false,
    "category": "Compute optimized",
    "gpuNum": 0,
    "hideHardwareSpecs": false,
    "memoryGiB": 144,
    "name": "ml.c5.18xlarge",
    "vcpuNum": 72
   },
   {
    "_defaultOrder": 28,
    "_isFastLaunch": false,
    "category": "Compute optimized",
    "gpuNum": 0,
    "hideHardwareSpecs": false,
    "memoryGiB": 192,
    "name": "ml.c5.24xlarge",
    "vcpuNum": 96
   },
   {
    "_defaultOrder": 29,
    "_isFastLaunch": true,
    "category": "Accelerated computing",
    "gpuNum": 1,
    "hideHardwareSpecs": false,
    "memoryGiB": 16,
    "name": "ml.g4dn.xlarge",
    "vcpuNum": 4
   },
   {
    "_defaultOrder": 30,
    "_isFastLaunch": false,
    "category": "Accelerated computing",
    "gpuNum": 1,
    "hideHardwareSpecs": false,
    "memoryGiB": 32,
    "name": "ml.g4dn.2xlarge",
    "vcpuNum": 8
   },
   {
    "_defaultOrder": 31,
    "_isFastLaunch": false,
    "category": "Accelerated computing",
    "gpuNum": 1,
    "hideHardwareSpecs": false,
    "memoryGiB": 64,
    "name": "ml.g4dn.4xlarge",
    "vcpuNum": 16
   },
   {
    "_defaultOrder": 32,
    "_isFastLaunch": false,
    "category": "Accelerated computing",
    "gpuNum": 1,
    "hideHardwareSpecs": false,
    "memoryGiB": 128,
    "name": "ml.g4dn.8xlarge",
    "vcpuNum": 32
   },
   {
    "_defaultOrder": 33,
    "_isFastLaunch": false,
    "category": "Accelerated computing",
    "gpuNum": 4,
    "hideHardwareSpecs": false,
    "memoryGiB": 192,
    "name": "ml.g4dn.12xlarge",
    "vcpuNum": 48
   },
   {
    "_defaultOrder": 34,
    "_isFastLaunch": false,
    "category": "Accelerated computing",
    "gpuNum": 1,
    "hideHardwareSpecs": false,
    "memoryGiB": 256,
    "name": "ml.g4dn.16xlarge",
    "vcpuNum": 64
   },
   {
    "_defaultOrder": 35,
    "_isFastLaunch": false,
    "category": "Accelerated computing",
    "gpuNum": 1,
    "hideHardwareSpecs": false,
    "memoryGiB": 61,
    "name": "ml.p3.2xlarge",
    "vcpuNum": 8
   },
   {
    "_defaultOrder": 36,
    "_isFastLaunch": false,
    "category": "Accelerated computing",
    "gpuNum": 4,
    "hideHardwareSpecs": false,
    "memoryGiB": 244,
    "name": "ml.p3.8xlarge",
    "vcpuNum": 32
   },
   {
    "_defaultOrder": 37,
    "_isFastLaunch": false,
    "category": "Accelerated computing",
    "gpuNum": 8,
    "hideHardwareSpecs": false,
    "memoryGiB": 488,
    "name": "ml.p3.16xlarge",
    "vcpuNum": 64
   },
   {
    "_defaultOrder": 38,
    "_isFastLaunch": false,
    "category": "Accelerated computing",
    "gpuNum": 8,
    "hideHardwareSpecs": false,
    "memoryGiB": 768,
    "name": "ml.p3dn.24xlarge",
    "vcpuNum": 96
   },
   {
    "_defaultOrder": 39,
    "_isFastLaunch": false,
    "category": "Memory Optimized",
    "gpuNum": 0,
    "hideHardwareSpecs": false,
    "memoryGiB": 16,
    "name": "ml.r5.large",
    "vcpuNum": 2
   },
   {
    "_defaultOrder": 40,
    "_isFastLaunch": false,
    "category": "Memory Optimized",
    "gpuNum": 0,
    "hideHardwareSpecs": false,
    "memoryGiB": 32,
    "name": "ml.r5.xlarge",
    "vcpuNum": 4
   },
   {
    "_defaultOrder": 41,
    "_isFastLaunch": false,
    "category": "Memory Optimized",
    "gpuNum": 0,
    "hideHardwareSpecs": false,
    "memoryGiB": 64,
    "name": "ml.r5.2xlarge",
    "vcpuNum": 8
   },
   {
    "_defaultOrder": 42,
    "_isFastLaunch": false,
    "category": "Memory Optimized",
    "gpuNum": 0,
    "hideHardwareSpecs": false,
    "memoryGiB": 128,
    "name": "ml.r5.4xlarge",
    "vcpuNum": 16
   },
   {
    "_defaultOrder": 43,
    "_isFastLaunch": false,
    "category": "Memory Optimized",
    "gpuNum": 0,
    "hideHardwareSpecs": false,
    "memoryGiB": 256,
    "name": "ml.r5.8xlarge",
    "vcpuNum": 32
   },
   {
    "_defaultOrder": 44,
    "_isFastLaunch": false,
    "category": "Memory Optimized",
    "gpuNum": 0,
    "hideHardwareSpecs": false,
    "memoryGiB": 384,
    "name": "ml.r5.12xlarge",
    "vcpuNum": 48
   },
   {
    "_defaultOrder": 45,
    "_isFastLaunch": false,
    "category": "Memory Optimized",
    "gpuNum": 0,
    "hideHardwareSpecs": false,
    "memoryGiB": 512,
    "name": "ml.r5.16xlarge",
    "vcpuNum": 64
   },
   {
    "_defaultOrder": 46,
    "_isFastLaunch": false,
    "category": "Memory Optimized",
    "gpuNum": 0,
    "hideHardwareSpecs": false,
    "memoryGiB": 768,
    "name": "ml.r5.24xlarge",
    "vcpuNum": 96
   },
   {
    "_defaultOrder": 47,
    "_isFastLaunch": false,
    "category": "Accelerated computing",
    "gpuNum": 1,
    "hideHardwareSpecs": false,
    "memoryGiB": 16,
    "name": "ml.g5.xlarge",
    "vcpuNum": 4
   },
   {
    "_defaultOrder": 48,
    "_isFastLaunch": false,
    "category": "Accelerated computing",
    "gpuNum": 1,
    "hideHardwareSpecs": false,
    "memoryGiB": 32,
    "name": "ml.g5.2xlarge",
    "vcpuNum": 8
   },
   {
    "_defaultOrder": 49,
    "_isFastLaunch": false,
    "category": "Accelerated computing",
    "gpuNum": 1,
    "hideHardwareSpecs": false,
    "memoryGiB": 64,
    "name": "ml.g5.4xlarge",
    "vcpuNum": 16
   },
   {
    "_defaultOrder": 50,
    "_isFastLaunch": false,
    "category": "Accelerated computing",
    "gpuNum": 1,
    "hideHardwareSpecs": false,
    "memoryGiB": 128,
    "name": "ml.g5.8xlarge",
    "vcpuNum": 32
   },
   {
    "_defaultOrder": 51,
    "_isFastLaunch": false,
    "category": "Accelerated computing",
    "gpuNum": 1,
    "hideHardwareSpecs": false,
    "memoryGiB": 256,
    "name": "ml.g5.16xlarge",
    "vcpuNum": 64
   },
   {
    "_defaultOrder": 52,
    "_isFastLaunch": false,
    "category": "Accelerated computing",
    "gpuNum": 4,
    "hideHardwareSpecs": false,
    "memoryGiB": 192,
    "name": "ml.g5.12xlarge",
    "vcpuNum": 48
   },
   {
    "_defaultOrder": 53,
    "_isFastLaunch": false,
    "category": "Accelerated computing",
    "gpuNum": 4,
    "hideHardwareSpecs": false,
    "memoryGiB": 384,
    "name": "ml.g5.24xlarge",
    "vcpuNum": 96
   },
   {
    "_defaultOrder": 54,
    "_isFastLaunch": false,
    "category": "Accelerated computing",
    "gpuNum": 8,
    "hideHardwareSpecs": false,
    "memoryGiB": 768,
    "name": "ml.g5.48xlarge",
    "vcpuNum": 192
   },
   {
    "_defaultOrder": 55,
    "_isFastLaunch": false,
    "category": "Accelerated computing",
    "gpuNum": 8,
    "hideHardwareSpecs": false,
    "memoryGiB": 1152,
    "name": "ml.p4d.24xlarge",
    "vcpuNum": 96
   },
   {
    "_defaultOrder": 56,
    "_isFastLaunch": false,
    "category": "Accelerated computing",
    "gpuNum": 8,
    "hideHardwareSpecs": false,
    "memoryGiB": 1152,
    "name": "ml.p4de.24xlarge",
    "vcpuNum": 96
   },
   {
    "_defaultOrder": 57,
    "_isFastLaunch": false,
    "category": "Accelerated computing",
    "gpuNum": 0,
    "hideHardwareSpecs": false,
    "memoryGiB": 32,
    "name": "ml.trn1.2xlarge",
    "vcpuNum": 8
   },
   {
    "_defaultOrder": 58,
    "_isFastLaunch": false,
    "category": "Accelerated computing",
    "gpuNum": 0,
    "hideHardwareSpecs": false,
    "memoryGiB": 512,
    "name": "ml.trn1.32xlarge",
    "vcpuNum": 128
   },
   {
    "_defaultOrder": 59,
    "_isFastLaunch": false,
    "category": "Accelerated computing",
    "gpuNum": 0,
    "hideHardwareSpecs": false,
    "memoryGiB": 512,
    "name": "ml.trn1n.32xlarge",
    "vcpuNum": 128
   }
  ],
  "instance_type": "ml.t3.medium",
  "kernelspec": {
   "display_name": "Python 3 (ipykernel)",
   "language": "python",
   "name": "python3"
  },
  "language_info": {
   "codemirror_mode": {
    "name": "ipython",
    "version": 3
   },
   "file_extension": ".py",
   "mimetype": "text/x-python",
   "name": "python",
   "nbconvert_exporter": "python",
   "pygments_lexer": "ipython3",
   "version": "3.11.7"
  }
 },
 "nbformat": 4,
 "nbformat_minor": 5
}
