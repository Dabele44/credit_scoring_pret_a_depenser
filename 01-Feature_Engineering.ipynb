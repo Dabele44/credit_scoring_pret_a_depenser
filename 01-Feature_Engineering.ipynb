{
 "cells": [
  {
   "cell_type": "code",
   "execution_count": 36,
   "id": "0b8b3490-9164-4207-90fd-5e7c870ac267",
   "metadata": {},
   "outputs": [],
   "source": [
    "import pandas as pd\n",
    "import numpy as np\n",
    "import matplotlib.pyplot as plt\n",
    "import seaborn as sns\n",
    "import warnings\n",
    "import gc\n",
    "import sys"
   ]
  },
  {
   "cell_type": "code",
   "execution_count": 2,
   "id": "93f9a5de-9a32-4119-b6af-87ff34f10faf",
   "metadata": {},
   "outputs": [],
   "source": [
    "warnings.filterwarnings('ignore')\n",
    "plt.style.use('fivethirtyeight')"
   ]
  },
  {
   "cell_type": "code",
   "execution_count": 3,
   "id": "c13acf0d-f539-4898-a7a9-8d979e94c68c",
   "metadata": {},
   "outputs": [],
   "source": [
    "train = pd.read_csv('app_train_domain.csv')\n",
    "test = pd.read_csv('app_test_domain.csv')"
   ]
  },
  {
   "cell_type": "markdown",
   "id": "1785f4e9-f7a0-4247-bfc4-a708a5b82356",
   "metadata": {},
   "source": [
    "# 5 - Feature Engineering\n",
    "----------"
   ]
  },
  {
   "cell_type": "markdown",
   "id": "cc433bfc-0a85-47ac-ba12-e078f02f4894",
   "metadata": {},
   "source": [
    "## 5.1 - Création de Feature métier "
   ]
  },
  {
   "cell_type": "markdown",
   "id": "e46d5484-058f-405f-abd5-5242df7e286f",
   "metadata": {},
   "source": [
    "Je commence par créer des variables métier en m'inspirant de ce script :  https://www.kaggle.com/jsaguiar/updated-0-792-lb-lightgbm-with-simple-features :\n",
    "- CREDIT_INCOME_PERCENT : le pourcentage du montant du crédit par rapport au revenu du client (=Taux d'endettement).\n",
    "- INCOME_CREDIT_PERC : le pourcentage du revenu du client sur le montant du crédit (=coefficient de remboursement)\n",
    "- ANNUITY_INCOME_PERCENT : le pourcentage de l'annuité du prêt par rapport au revenu du client (= taux d'effort)\n",
    "- CREDIT_TERM : mensualité / montant du prêt (=taux de remboursement ou coefficient d'amortissement)\n",
    "- DAYS_EMPLOYED_PERCENT : le pourcentage des jours de travail par rapport à l'âge du client.\n",
    "- INCOME_PER_PERSON : le revenu du client sur le nombre de membres de la famille"
   ]
  },
  {
   "cell_type": "code",
   "execution_count": 4,
   "id": "f6329dfb-7dd5-4d44-bdee-bafcaa462b6c",
   "metadata": {},
   "outputs": [],
   "source": [
    "train['CREDIT_INCOME_PERCENT'] = train['AMT_CREDIT'] / train['AMT_INCOME_TOTAL']\n",
    "train['INCOME_CREDIT_PERC'] = train['AMT_INCOME_TOTAL'] / train['AMT_CREDIT']\n",
    "train['ANNUITY_INCOME_PERCENT'] = train['AMT_ANNUITY'] / train['AMT_INCOME_TOTAL']\n",
    "train['CREDIT_TERM'] = train['AMT_ANNUITY'] / train['AMT_CREDIT']\n",
    "train['DAYS_EMPLOYED_PERCENT'] = train['DAYS_EMPLOYED'] / train['DAYS_BIRTH']\n",
    "train['INCOME_PER_PERSON'] = train['AMT_INCOME_TOTAL'] / train['CNT_FAM_MEMBERS']"
   ]
  },
  {
   "cell_type": "code",
   "execution_count": 5,
   "id": "0d192f82-7566-4041-aeee-1997246d4a6c",
   "metadata": {},
   "outputs": [],
   "source": [
    "test['CREDIT_INCOME_PERCENT'] = test['AMT_CREDIT'] / test['AMT_INCOME_TOTAL']\n",
    "test['INCOME_CREDIT_PERC'] = test['AMT_INCOME_TOTAL'] / test['AMT_CREDIT']\n",
    "test['ANNUITY_INCOME_PERCENT'] = test['AMT_ANNUITY'] / test['AMT_INCOME_TOTAL']\n",
    "test['CREDIT_TERM'] = test['AMT_ANNUITY'] / test['AMT_CREDIT']\n",
    "test['DAYS_EMPLOYED_PERCENT'] = test['DAYS_EMPLOYED'] / test['DAYS_BIRTH']\n",
    "test['INCOME_PER_PERSON'] = test['AMT_INCOME_TOTAL'] / test['CNT_FAM_MEMBERS']"
   ]
  },
  {
   "cell_type": "markdown",
   "id": "aee75f67-b5e5-4829-b5f0-b80c278a29ed",
   "metadata": {},
   "source": [
    "## 5.2 - Création de fonctions pour automatiser le Feature Engineering depuis les autres datasets  "
   ]
  },
  {
   "cell_type": "markdown",
   "id": "2faa6b16-9132-4034-87b9-b1c5d9235d61",
   "metadata": {},
   "source": [
    "Sources :\n",
    "- https://www.kaggle.com/code/willkoehrsen/introduction-to-manual-feature-engineering\n",
    "- https://www.kaggle.com/code/willkoehrsen/introduction-to-manual-feature-engineering-p2"
   ]
  },
  {
   "cell_type": "markdown",
   "id": "482fd719-182f-41a4-a5c5-18591ddcda9c",
   "metadata": {},
   "source": [
    "### 5.2.1 - Fonction pour traiter les variables numériques"
   ]
  },
  {
   "cell_type": "markdown",
   "id": "441d4989-f00f-4d1d-8316-f74986ebab29",
   "metadata": {},
   "source": [
    "La fonction agg_numeric agrège les variables numériques d'un dataframe. Elle calcule des statistiques de base (comme la moyenne, le minimum, le maximum et la somme) pour chaque variable en question."
   ]
  },
  {
   "cell_type": "code",
   "execution_count": 6,
   "id": "35360db9-b712-4391-bc77-47222bb8b978",
   "metadata": {},
   "outputs": [],
   "source": [
    "def agg_numeric(df, group_var, df_name):\n",
    "    \"\"\"Agrège les valeurs numériques dans un dataframe. Cela peut\n",
    "    être utilisé pour créer des caractéristiques pour chaque instance de la variable de groupement.\n",
    "    \n",
    "    Paramètres\n",
    "    --------\n",
    "        df (dataframe): \n",
    "            le dataframe sur lequel calculer les statistiques\n",
    "        group_var (string): \n",
    "            la variable selon laquelle grouper le df\n",
    "        df_name (string): \n",
    "            la variable utilisée pour renommer les colonnes\n",
    "        \n",
    "    Retour\n",
    "    --------\n",
    "        agg (dataframe): \n",
    "            un dataframe avec les statistiques agrégées pour \n",
    "            toutes les colonnes numériques. Chaque instance de la variable de groupement aura \n",
    "            les statistiques (moyenne, min, max, somme; actuellement supportées) calculées. \n",
    "            Les colonnes sont également renommées pour suivre les caractéristiques créées.\n",
    "    \n",
    "    \"\"\"\n",
    "    # Supprimer les variables d'identification autres que la variable de groupement\n",
    "    for col in df:\n",
    "        if col != group_var and 'SK_ID' in col:\n",
    "            df = df.drop(columns=col)\n",
    "            \n",
    "    group_ids = df[group_var]\n",
    "    numeric_df = df.select_dtypes('number')\n",
    "    numeric_df[group_var] = group_ids\n",
    "\n",
    "    # Grouper par la variable spécifiée et calculer les statistiques\n",
    "    agg = numeric_df.groupby(group_var).agg(['count', 'mean', 'max', 'min', 'sum']).reset_index()\n",
    "\n",
    "    # Besoin de créer de nouveaux noms de colonnes\n",
    "    columns = [group_var]\n",
    "\n",
    "    # Itérer à travers les noms des variables\n",
    "    for var in agg.columns.levels[0]:\n",
    "        # Ignorer la variable de groupement\n",
    "        if var != group_var:\n",
    "            # Itérer à travers les noms des statistiques\n",
    "            for stat in agg.columns.levels[1][:-1]:\n",
    "                # Créer un nouveau nom de colonne pour la variable et la statistique\n",
    "                columns.append(f'{df_name}_{var}_{stat}')\n",
    "\n",
    "    agg.columns = columns\n",
    "\n",
    "    # Supprimer les colonnes avec toutes les valeurs redondantes\n",
    "    _, idx = np.unique(agg, axis=1, return_index=True)\n",
    "    agg = agg.iloc[:, idx]\n",
    "    \n",
    "    return agg"
   ]
  },
  {
   "cell_type": "markdown",
   "id": "e5768842-741b-4541-9ec8-f09168d4a81c",
   "metadata": {},
   "source": [
    "### 5.2.2 - Fonction pour traiter les variables catégorielles"
   ]
  },
  {
   "cell_type": "markdown",
   "id": "4b98c46e-1cd9-4dab-b89b-ee43f3a41d5a",
   "metadata": {},
   "source": [
    "Cette fonction va gérer les variables catégorielles. Elle prendra la même forme que la fonction agg_numeric, c'est-à-dire qu'elle acceptera un dataframe et une variable de regroupement. Elle calculera ensuite les effectifs et les effectifs normalisés de chaque catégorie pour toutes les variables catégorielles de la base de données."
   ]
  },
  {
   "cell_type": "code",
   "execution_count": 7,
   "id": "b5d733d1-7320-42b4-bdcc-6a5799e0f002",
   "metadata": {},
   "outputs": [],
   "source": [
    "def agg_categorical(df, parent_var, df_name):\n",
    "    \"\"\"\n",
    "    Agrège les caractéristiques catégorielles dans un dataframe enfant\n",
    "    pour chaque observation de la variable parent.\n",
    "    \n",
    "    Paramètres\n",
    "    --------\n",
    "    df : dataframe \n",
    "        Le dataframe pour lequel calculer les décomptes de valeurs.\n",
    "        \n",
    "    parent_var : string\n",
    "        La variable selon laquelle grouper et agréger le dataframe. Pour chaque\n",
    "        valeur unique de cette variable, le dataframe final aura une ligne.\n",
    "        \n",
    "    df_name : string\n",
    "        Variable ajoutée devant les noms de colonnes pour suivre les colonnes.\n",
    "\n",
    "    Retour\n",
    "    --------\n",
    "    categorical : dataframe\n",
    "        Un dataframe avec des statistiques agrégées pour chaque observation de `parent_var`\n",
    "        Les colonnes sont également renommées et les colonnes avec des valeurs dupliquées sont supprimées.\n",
    "    \"\"\"\n",
    "    \n",
    "    # Sélectionner les colonnes catégorielles\n",
    "    categorical = pd.get_dummies(df.select_dtypes(include=['object', 'category']))\n",
    "    \n",
    "    if categorical.empty:\n",
    "        return pd.DataFrame({parent_var: df[parent_var]}).groupby(parent_var).size().reset_index(name='count')\n",
    "    \n",
    "    # S'assurer de mettre l'identifiant sur la colonne\n",
    "    categorical[parent_var] = df[parent_var]\n",
    "\n",
    "    # Grouper par la variable de groupe et calculer la somme et la moyenne\n",
    "    categorical = categorical.groupby(parent_var).agg(['sum', 'count', 'mean'])\n",
    "    \n",
    "    noms_colonnes = []\n",
    "    \n",
    "    # Itérer à travers les colonnes du niveau 0\n",
    "    for var in categorical.columns.levels[0]:\n",
    "        # Itérer à travers les statistiques du niveau 1\n",
    "        for stat in ['sum', 'count', 'mean']:\n",
    "            # Créer un nouveau nom de colonne\n",
    "            noms_colonnes.append(f'{df_name}_{var}_{stat}')\n",
    "    \n",
    "    categorical.columns = noms_colonnes\n",
    "    \n",
    "    # Supprimer les colonnes dupliquées par valeurs\n",
    "    _, idx = np.unique(categorical, axis=1, return_index=True)\n",
    "    categorical = categorical.iloc[:, idx]\n",
    "    \n",
    "    return categorical"
   ]
  },
  {
   "cell_type": "markdown",
   "id": "d0a1f129-e3b7-473f-a02d-3605cf78be42",
   "metadata": {},
   "source": [
    "## 5.3 - Feature Engineering sur les dataframe 'bureau' et 'bureau_balance'\n",
    "\n",
    "Nous disposons à présent de tous les éléments nécessaires pour intégrer les informations relatives aux prêts antérieurs contractés auprès d'autres institutions et les informations relatives aux paiements mensuels de ces prêts dans le dataframe principal."
   ]
  },
  {
   "cell_type": "markdown",
   "id": "7aa293c8-f5b7-4bed-9b18-dc525c3b4e4c",
   "metadata": {},
   "source": [
    "POUR MEMOIRE :\n",
    "* **bureau**: contient les données concernant les crédits antérieurs du client auprès d'autres institutions financières. Chaque crédit antérieur a sa propre ligne dans le bureau, mais un prêt dans les données de la demande peut avoir plusieurs crédits antérieurs.\n",
    "* **bureau_balance**: données mensuelles sur les crédits antérieurs dans le bureau. Chaque ligne correspond à un mois d'un crédit antérieur, et un seul crédit antérieur peut avoir plusieurs lignes, une pour chaque mois de la durée du crédit. "
   ]
  },
  {
   "cell_type": "code",
   "execution_count": 8,
   "id": "ca8551f9-2d00-457b-8795-5aa5494c9cdd",
   "metadata": {},
   "outputs": [],
   "source": [
    "# Lecture des fichiers\n",
    "\n",
    "bureau = pd.read_csv('bureaux.csv')\n",
    "bureau_balance = pd.read_csv('bureau_balances.csv')"
   ]
  },
  {
   "cell_type": "code",
   "execution_count": 9,
   "id": "d30cb9d9-4f62-4cfc-83f2-b561f64e4938",
   "metadata": {},
   "outputs": [],
   "source": [
    "# Application des fonctions sur 'bureau'\n",
    "bureau_counts = agg_categorical(bureau, parent_var='SK_ID_CURR', df_name='bureau')\n",
    "bureau_agg = agg_numeric(bureau.drop(columns=['SK_ID_BUREAU']), group_var='SK_ID_CURR', df_name='bureau')\n"
   ]
  },
  {
   "cell_type": "code",
   "execution_count": 10,
   "id": "298b7da8-cfe3-46ba-a6b1-3b5c276bb6fc",
   "metadata": {},
   "outputs": [],
   "source": [
    "# Application des fonctions sur 'bureau_balance'\n",
    "bureau_balance_counts = agg_categorical(bureau_balance, parent_var='SK_ID_BUREAU', df_name='bureau_balance')\n",
    "bureau_balance_agg = agg_numeric(bureau_balance, group_var='SK_ID_BUREAU', df_name='bureau_balance')\n"
   ]
  },
  {
   "cell_type": "code",
   "execution_count": 11,
   "id": "e08dab75-387f-4578-b56f-bde50b205e63",
   "metadata": {},
   "outputs": [],
   "source": [
    "# Agrégation des statistiques de 'bureau_balance' par client\n",
    "\n",
    "# Regroupement par prêt\n",
    "bureau_by_loan = bureau_balance_agg.merge(bureau_balance_counts, right_index=True, left_on='SK_ID_BUREAU', how='outer')\n",
    "# Merge pour inclure le SK_ID_CURR\n",
    "bureau_by_loan = bureau[['SK_ID_BUREAU', 'SK_ID_CURR']].merge(bureau_by_loan, on='SK_ID_BUREAU', how='left')\n",
    "# Aggrégation des stats pour chaque  client\n",
    "bureau_balance_by_client = agg_numeric(bureau_by_loan.drop(columns=['SK_ID_BUREAU']), group_var='SK_ID_CURR', df_name='client')\n"
   ]
  },
  {
   "cell_type": "code",
   "execution_count": 12,
   "id": "2ae34536-06c2-44b6-98be-b8200a45b77b",
   "metadata": {},
   "outputs": [],
   "source": [
    "# Fusion des résultats avec les jeux de données d'entraînement et de test\n",
    "def merge_with_main(df_main, df_to_merge):\n",
    "    df_main = df_main.merge(df_to_merge, on='SK_ID_CURR', how='left')\n",
    "    return df_main\n"
   ]
  },
  {
   "cell_type": "code",
   "execution_count": 13,
   "id": "f675c239-159c-4ef6-a707-37e65b0d9073",
   "metadata": {},
   "outputs": [],
   "source": [
    "train = merge_with_main(train, bureau_counts)\n",
    "train = merge_with_main(train, bureau_agg)\n",
    "train = merge_with_main(train, bureau_balance_by_client)"
   ]
  },
  {
   "cell_type": "code",
   "execution_count": 14,
   "id": "5c50baac-5ca2-4b0f-96bb-bd04b039258b",
   "metadata": {},
   "outputs": [],
   "source": [
    "test = merge_with_main(test, bureau_counts)\n",
    "test = merge_with_main(test, bureau_agg)\n",
    "test = merge_with_main(test, bureau_balance_by_client)"
   ]
  },
  {
   "cell_type": "code",
   "execution_count": 15,
   "id": "42184a80-98a5-4dce-9581-15c47dc0df98",
   "metadata": {},
   "outputs": [
    {
     "data": {
      "text/plain": [
       "((307511, 320), (48744, 319))"
      ]
     },
     "execution_count": 15,
     "metadata": {},
     "output_type": "execute_result"
    }
   ],
   "source": [
    "train.shape, test.shape"
   ]
  },
  {
   "cell_type": "markdown",
   "id": "91127c76-c436-4686-b773-56af1e4958f4",
   "metadata": {},
   "source": [
    "## 5.4 - FE sur le dataframe 'previous_application'"
   ]
  },
  {
   "cell_type": "markdown",
   "id": "8ee9fd81-d75b-4812-8c72-89a3489dff8d",
   "metadata": {},
   "source": [
    "Création d'une fonction pour convertir les types de données : Cela permet de réduire l'utilisation de la mémoire en utilisant des types plus efficaces pour les variables. Par exemple, `category` est souvent un meilleur type que `object'."
   ]
  },
  {
   "cell_type": "code",
   "execution_count": 16,
   "id": "8272ac9a-ee9a-41d9-9f5b-eaa27d1c689a",
   "metadata": {},
   "outputs": [],
   "source": [
    "def return_size(df):\n",
    "    \"\"\"Retourne la taille du dataframe en gigaoctets\"\"\"\n",
    "    return round(sys.getsizeof(df) / 1e9, 2)"
   ]
  },
  {
   "cell_type": "code",
   "execution_count": 17,
   "id": "e83161ef-eeff-4f52-991a-f381e2c915d6",
   "metadata": {},
   "outputs": [],
   "source": [
    "def convert_types(df, print_info=False):\n",
    "    \"\"\"Convertit les types de données pour optimiser l'utilisation de la mémoire.\"\"\"\n",
    "    original_memory = df.memory_usage().sum()\n",
    "    \n",
    "    for c in df:\n",
    "        if ('SK_ID' in c):\n",
    "            df[c] = df[c].fillna(0).astype(np.int32)\n",
    "        elif (df[c].dtype == 'object') and (df[c].nunique() < df.shape[0]):\n",
    "            df[c] = df[c].astype('category')\n",
    "        elif list(df[c].unique()) == [1, 0]:\n",
    "            df[c] = df[c].astype(bool)\n",
    "        elif df[c].dtype == float:\n",
    "            df[c] = df[c].astype(np.float32)\n",
    "        elif df[c].dtype == int:\n",
    "            df[c] = df[c].astype(np.int32)\n",
    "        \n",
    "    new_memory = df.memory_usage().sum()\n",
    "    \n",
    "    if print_info:\n",
    "        print(f'Utilisation de la mémoire originale : {round(original_memory / 1e9, 2)} gb.')\n",
    "        print(f'Nouvelle utilisation de la mémoire : {round(new_memory / 1e9, 2)} gb.')\n",
    "        \n",
    "    return df\n"
   ]
  },
  {
   "cell_type": "markdown",
   "id": "e23d309f-e1a2-4f16-bff0-740ad9236f33",
   "metadata": {},
   "source": [
    "On peut maintenant attaquer le dataframe **previous_application**\n",
    "\n",
    "Il s'agit des demandes de crédit antérieures auprès de Home Credit. Chaque prêt en cours dans les données de la demande peut avoir plusieurs prêts antérieurs. Chaque demande antérieure a une ligne et est identifiée par la caractéristique `SK_ID_PREV`. "
   ]
  },
  {
   "cell_type": "code",
   "execution_count": 18,
   "id": "b32a3ac0-ce0d-4d16-8c08-0c37cfd06fb4",
   "metadata": {},
   "outputs": [
    {
     "name": "stdout",
     "output_type": "stream",
     "text": [
      "Utilisation de la mémoire originale : 0.49 gb.\n",
      "Nouvelle utilisation de la mémoire : 0.18 gb.\n"
     ]
    }
   ],
   "source": [
    "# Lecture du fichier 'previous_application' et conversion des types\n",
    "previous = pd.read_csv('previous_applications.csv')\n",
    "previous = convert_types(previous, print_info=True)\n"
   ]
  },
  {
   "cell_type": "code",
   "execution_count": 19,
   "id": "25ab7298-63b0-4f73-b89f-9536b7357537",
   "metadata": {},
   "outputs": [],
   "source": [
    "# Calcul des statistiques pour 'previous_application'\n",
    "previous_agg = agg_numeric(previous, group_var='SK_ID_CURR', df_name='previous')\n",
    "previous_counts = agg_categorical(previous, parent_var='SK_ID_CURR', df_name='previous')\n"
   ]
  },
  {
   "cell_type": "code",
   "execution_count": 20,
   "id": "9adccbc3-e361-442e-a7d6-957d4643a0b9",
   "metadata": {},
   "outputs": [],
   "source": [
    "# Fusion des résultats avec les jeux de données d'entraînement et de test\n",
    "train = merge_with_main(train, previous_counts)\n",
    "train = merge_with_main(train, previous_agg)\n",
    "\n",
    "test = merge_with_main(test, previous_counts)\n",
    "test = merge_with_main(test, previous_agg)"
   ]
  },
  {
   "cell_type": "code",
   "execution_count": 21,
   "id": "5c982fae-d804-4c3d-916a-a8decc3c30fd",
   "metadata": {},
   "outputs": [
    {
     "data": {
      "text/plain": [
       "0"
      ]
     },
     "execution_count": 21,
     "metadata": {},
     "output_type": "execute_result"
    }
   ],
   "source": [
    "# Gestion de la mémoire\n",
    "gc.enable()\n",
    "del previous, previous_agg, previous_counts\n",
    "gc.collect()"
   ]
  },
  {
   "cell_type": "markdown",
   "id": "9173e976-2693-4619-b707-b653430d82bf",
   "metadata": {},
   "source": [
    "## 5.5 - FE sur le dataframe POS_CASH_balance"
   ]
  },
  {
   "cell_type": "code",
   "execution_count": 22,
   "id": "a184ad85-3708-485f-b71a-76da1d5aeaf5",
   "metadata": {},
   "outputs": [],
   "source": [
    "def aggregate_client(df, group_vars, df_names):\n",
    "    \"\"\"Agrège les données au niveau des prêts au niveau des clients.\"\"\"\n",
    "    df_agg = agg_numeric(df, group_var=group_vars[0], df_name=df_names[0])\n",
    "    \n",
    "    if any(df.dtypes == 'object') or any(df.dtypes == 'category'):\n",
    "        df_counts = agg_categorical(df, parent_var=group_vars[0], df_name=df_names[0])\n",
    "        df_by_loan = df_counts.merge(df_agg, on=group_vars[0], how='outer')\n",
    "\n",
    "        del df_agg, df_counts\n",
    "        gc.collect()\n",
    "\n",
    "        df_by_loan = df_by_loan.merge(df[[group_vars[0], group_vars[1]]], on=group_vars[0], how='left')\n",
    "        df_by_loan = df_by_loan.drop(columns=[group_vars[0]])\n",
    "\n",
    "        df_by_client = agg_numeric(df_by_loan, group_var=group_vars[1], df_name=df_names[1])\n",
    "    else:\n",
    "        df_by_loan = df_agg.merge(df[[group_vars[0], group_vars[1]]], on=group_vars[0], how='left')\n",
    "        del df_agg\n",
    "        gc.collect()\n",
    "\n",
    "        df_by_loan = df_by_loan.drop(columns=[group_vars[0]])\n",
    "        df_by_client = agg_numeric(df_by_loan, group_var=group_vars[1], df_name=df_names[1])\n",
    "        \n",
    "    del df, df_by_loan\n",
    "    gc.collect()\n",
    "\n",
    "    return df_by_client"
   ]
  },
  {
   "cell_type": "markdown",
   "id": "543856b0-c6c5-414b-aff5-4f13655acd4e",
   "metadata": {},
   "source": [
    "Pour mémoire :\n",
    "**POS_CASH_BALANCE**: les données mensuelles sur les prêts au point de vente ou au comptant que les clients ont contractés auprès de Home Credit. Chaque ligne correspond à un mois d'un prêt au point de vente ou d'un prêt au comptant antérieur, et un seul prêt antérieur peut avoir plusieurs lignes."
   ]
  },
  {
   "cell_type": "code",
   "execution_count": 23,
   "id": "8dca2354-c3d1-4e1a-95b8-9014850927a7",
   "metadata": {},
   "outputs": [
    {
     "name": "stdout",
     "output_type": "stream",
     "text": [
      "Utilisation de la mémoire originale : 0.64 gb.\n",
      "Nouvelle utilisation de la mémoire : 0.41 gb.\n"
     ]
    }
   ],
   "source": [
    "# Lecture du fichier 'POS_CASH_balance' et conversion des types\n",
    "cash = pd.read_csv('POS_CASH_balances.csv')\n",
    "cash = convert_types(cash, print_info=True)"
   ]
  },
  {
   "cell_type": "code",
   "execution_count": 24,
   "id": "24ff5c17-dc76-4ef8-b150-94706d76afcd",
   "metadata": {},
   "outputs": [],
   "source": [
    "# Agrégation des données 'POS_CASH_balance' au niveau des clients\n",
    "cash_by_client = aggregate_client(cash, group_vars=['SK_ID_PREV', 'SK_ID_CURR'], df_names=['cash', 'client'])"
   ]
  },
  {
   "cell_type": "code",
   "execution_count": 25,
   "id": "25213420-b9d3-4920-a621-46766a194f36",
   "metadata": {},
   "outputs": [],
   "source": [
    "# Fusion des résultats avec les jeux de données d'entraînement et de test\n",
    "train = merge_with_main(train, cash_by_client)\n",
    "test = merge_with_main(test, cash_by_client)"
   ]
  },
  {
   "cell_type": "code",
   "execution_count": 26,
   "id": "3f3070cd-e7c1-4050-a5f7-96cb2c3b4283",
   "metadata": {},
   "outputs": [
    {
     "data": {
      "text/plain": [
       "0"
      ]
     },
     "execution_count": 26,
     "metadata": {},
     "output_type": "execute_result"
    }
   ],
   "source": [
    "# Gestion de la mémoire\n",
    "del cash, cash_by_client\n",
    "gc.collect()"
   ]
  },
  {
   "cell_type": "markdown",
   "id": "4e9e4354-8de7-4b6d-836a-e6d5c16ce4fb",
   "metadata": {},
   "source": [
    "## 5.6 - FE sur le dataframe 'credit_card_balances'"
   ]
  },
  {
   "cell_type": "markdown",
   "id": "e13964d6-0abb-4377-ac18-b935cd661a7f",
   "metadata": {},
   "source": [
    "Pour mémoire :\n",
    "**credit_card_balance**:  données mensuelles sur les cartes de crédit que les clients ont eues précédemment avec Home Credit. Chaque ligne correspond à un mois de solde de carte de crédit, et une seule carte de crédit peut avoir plusieurs lignes."
   ]
  },
  {
   "cell_type": "code",
   "execution_count": 27,
   "id": "bd0069b1-a56e-4325-bf61-5571afaf37e1",
   "metadata": {},
   "outputs": [
    {
     "name": "stdout",
     "output_type": "stream",
     "text": [
      "Utilisation de la mémoire originale : 0.71 gb.\n",
      "Nouvelle utilisation de la mémoire : 0.42 gb.\n"
     ]
    }
   ],
   "source": [
    "# Lecture du fichier 'credit_card_balances' et conversion des types\n",
    "credit = pd.read_csv('credit_card_balances.csv')\n",
    "credit = convert_types(credit, print_info=True)"
   ]
  },
  {
   "cell_type": "code",
   "execution_count": 28,
   "id": "6467e268-f17c-4615-ba32-6a1cd38a28fc",
   "metadata": {},
   "outputs": [],
   "source": [
    "# Agrégation des données 'credit_card_balances' au niveau des clients\n",
    "credit_by_client = aggregate_client(credit, group_vars=['SK_ID_PREV', 'SK_ID_CURR'], df_names=['credit', 'client'])\n"
   ]
  },
  {
   "cell_type": "code",
   "execution_count": 29,
   "id": "e3921aa6-ff75-4ff8-bc73-27307b31ea48",
   "metadata": {},
   "outputs": [],
   "source": [
    "# Fusion des résultats avec les jeux de données d'entraînement et de test\n",
    "train = merge_with_main(train, credit_by_client)\n",
    "test = merge_with_main(test, credit_by_client)\n"
   ]
  },
  {
   "cell_type": "code",
   "execution_count": 30,
   "id": "8bf45b59-afa3-4851-938c-4e303db4f317",
   "metadata": {},
   "outputs": [
    {
     "data": {
      "text/plain": [
       "0"
      ]
     },
     "execution_count": 30,
     "metadata": {},
     "output_type": "execute_result"
    }
   ],
   "source": [
    "# Gestion de la mémoire\n",
    "del credit, credit_by_client\n",
    "gc.collect()"
   ]
  },
  {
   "cell_type": "markdown",
   "id": "54e8aaf4-c686-4322-bd4e-cd7a57611d3b",
   "metadata": {},
   "source": [
    "## 5.7 - FE sur le dataframe 'Installment Payments'\n"
   ]
  },
  {
   "cell_type": "markdown",
   "id": "ddb47e89-f866-4d63-b154-b4302ad4f8d1",
   "metadata": {},
   "source": [
    "Pour mémoire : \n",
    "**installments_payment** l'historique des paiements pour les prêts précédents chez Home Credit. Il y a une ligne pour chaque paiement effectué et une ligne pour chaque paiement manqué."
   ]
  },
  {
   "cell_type": "code",
   "execution_count": 31,
   "id": "22cc1d39-dac5-48ed-a0c4-c2a9c17983c0",
   "metadata": {},
   "outputs": [
    {
     "name": "stdout",
     "output_type": "stream",
     "text": [
      "Utilisation de la mémoire originale : 0.87 gb.\n",
      "Nouvelle utilisation de la mémoire : 0.49 gb.\n"
     ]
    }
   ],
   "source": [
    "# Lecture du fichier 'installments_payment' et conversion des types\n",
    "installments = pd.read_csv('installments_payment.csv')\n",
    "installments = convert_types(installments, print_info=True)\n"
   ]
  },
  {
   "cell_type": "code",
   "execution_count": 32,
   "id": "b63f31b2-00cd-4dc2-b4d8-046aea257409",
   "metadata": {},
   "outputs": [],
   "source": [
    "# Agrégation des données 'installments_payment' au niveau des clients\n",
    "installments_by_client = aggregate_client(installments, group_vars=['SK_ID_PREV', 'SK_ID_CURR'], df_names=['installments', 'client'])\n"
   ]
  },
  {
   "cell_type": "code",
   "execution_count": 33,
   "id": "ad539e7a-bdd5-422c-90d9-f7c01b1f3662",
   "metadata": {},
   "outputs": [],
   "source": [
    "# Fusion des résultats avec les jeux de données d'entraînement et de test\n",
    "train = merge_with_main(train, installments_by_client)\n",
    "test = merge_with_main(test, installments_by_client)\n"
   ]
  },
  {
   "cell_type": "code",
   "execution_count": 34,
   "id": "bce5ac2b-a45f-4c8c-94ed-7b32a15ed01e",
   "metadata": {},
   "outputs": [
    {
     "data": {
      "text/plain": [
       "0"
      ]
     },
     "execution_count": 34,
     "metadata": {},
     "output_type": "execute_result"
    }
   ],
   "source": [
    "# Gestion de la mémoire\n",
    "del installments, installments_by_client\n",
    "gc.collect()\n"
   ]
  },
  {
   "cell_type": "code",
   "execution_count": 37,
   "id": "52a1c69d-3980-439e-a256-b81fa290c81c",
   "metadata": {},
   "outputs": [
    {
     "name": "stdout",
     "output_type": "stream",
     "text": [
      "Final Training Shape:  (307511, 1329)\n",
      "Final Testing Shape:  (48744, 1328)\n",
      "Final training size: 3.02\n",
      "Final testing size: 0.48\n"
     ]
    }
   ],
   "source": [
    "print('Final Training Shape: ', train.shape)\n",
    "print('Final Testing Shape: ', test.shape)\n",
    "\n",
    "print(f'Final training size: {return_size(train)}')\n",
    "print(f'Final testing size: {return_size(test)}')\n"
   ]
  },
  {
   "cell_type": "code",
   "execution_count": 38,
   "id": "55faeabb-c154-4f72-85e7-0ac26b348268",
   "metadata": {},
   "outputs": [],
   "source": [
    "train.to_csv('train_after_fe.csv', index = False, chunksize = 500)\n",
    "test.to_csv('test_after_fe.csv', index = False, chunksize = 500)"
   ]
  },
  {
   "cell_type": "code",
   "execution_count": null,
   "id": "b2adb628-bc81-4927-a24f-a43171250ce2",
   "metadata": {},
   "outputs": [],
   "source": []
  },
  {
   "cell_type": "code",
   "execution_count": null,
   "id": "4abe8bf3-c58d-4294-a25d-b3b6c7e32979",
   "metadata": {},
   "outputs": [],
   "source": []
  }
 ],
 "metadata": {
  "kernelspec": {
   "display_name": "Python 3 (ipykernel)",
   "language": "python",
   "name": "python3"
  },
  "language_info": {
   "codemirror_mode": {
    "name": "ipython",
    "version": 3
   },
   "file_extension": ".py",
   "mimetype": "text/x-python",
   "name": "python",
   "nbconvert_exporter": "python",
   "pygments_lexer": "ipython3",
   "version": "3.11.7"
  }
 },
 "nbformat": 4,
 "nbformat_minor": 5
}
