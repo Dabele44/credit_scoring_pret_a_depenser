{
 "cells": [
  {
   "cell_type": "code",
   "execution_count": 1,
   "id": "4c983af0",
   "metadata": {},
   "outputs": [],
   "source": [
    "# !pip install nbmerge"
   ]
  },
  {
   "cell_type": "code",
   "execution_count": 7,
   "id": "5379ab85",
   "metadata": {},
   "outputs": [],
   "source": [
    "!nbmerge merged_2_first_5.ipynb  05_Nouvelle_modelisation_sans_drift.ipynb -o merged_2_first_6.ipynb"
   ]
  },
  {
   "cell_type": "code",
   "execution_count": null,
   "id": "fb26aa0f",
   "metadata": {},
   "outputs": [],
   "source": []
  }
 ],
 "metadata": {
  "kernelspec": {
   "display_name": "Python 3 (ipykernel)",
   "language": "python",
   "name": "python3"
  },
  "language_info": {
   "codemirror_mode": {
    "name": "ipython",
    "version": 3
   },
   "file_extension": ".py",
   "mimetype": "text/x-python",
   "name": "python",
   "nbconvert_exporter": "python",
   "pygments_lexer": "ipython3",
   "version": "3.11.7"
  }
 },
 "nbformat": 4,
 "nbformat_minor": 5
}
