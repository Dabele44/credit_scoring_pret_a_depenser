{
 "cells": [
  {
   "cell_type": "code",
   "execution_count": 3,
   "id": "4c983af0",
   "metadata": {},
   "outputs": [
    {
     "name": "stdout",
     "output_type": "stream",
     "text": [
      "Requirement already satisfied: nbmerge in c:\\users\\belou\\anaconda3\\lib\\site-packages (0.0.4)\n"
     ]
    }
   ],
   "source": [
    "# !pip install nbmerge"
   ]
  },
  {
   "cell_type": "code",
   "execution_count": 1,
   "id": "5379ab85",
   "metadata": {},
   "outputs": [],
   "source": [
    "!nbmerge 02_Feature-engineering_1.ipynb  03_introduction-to-manual-feature-engineering_2.ipynb -o merged_2_construction.ipynb"
   ]
  },
  {
   "cell_type": "code",
   "execution_count": null,
   "id": "fb26aa0f",
   "metadata": {},
   "outputs": [],
   "source": []
  }
 ],
 "metadata": {
  "kernelspec": {
   "display_name": "Python 3 (ipykernel)",
   "language": "python",
   "name": "python3"
  },
  "language_info": {
   "codemirror_mode": {
    "name": "ipython",
    "version": 3
   },
   "file_extension": ".py",
   "mimetype": "text/x-python",
   "name": "python",
   "nbconvert_exporter": "python",
   "pygments_lexer": "ipython3",
   "version": "3.11.7"
  }
 },
 "nbformat": 4,
 "nbformat_minor": 5
}
